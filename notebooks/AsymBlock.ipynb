{
 "cells": [
  {
   "cell_type": "code",
   "execution_count": 1,
   "id": "81e806c0-85bb-4d0d-8d37-9eb243117aae",
   "metadata": {},
   "outputs": [
    {
     "name": "stderr",
     "output_type": "stream",
     "text": [
      "\u001b[32m\u001b[1m  Activating\u001b[22m\u001b[39m project at `~/Projects/comp441/latentplan.jl`\n"
     ]
    }
   ],
   "source": [
    "import Pkg;\n",
    "Pkg.activate(\"..\")"
   ]
  },
  {
   "cell_type": "code",
   "execution_count": 2,
   "id": "ca81dd58-6086-420f-aaab-6936c4ca009f",
   "metadata": {},
   "outputs": [],
   "source": [
    "using Knet"
   ]
  },
  {
   "cell_type": "code",
   "execution_count": null,
   "id": "c249efc7-ec19-4a7f-a288-114a350a419c",
   "metadata": {},
   "outputs": [],
   "source": [
    "include(\"../latentplan/models/common.jl\")\n",
    "using .Common: Linear"
   ]
  },
  {
   "cell_type": "code",
   "execution_count": 46,
   "id": "e8f8af20-abcb-44af-ac46-c26ec746022c",
   "metadata": {},
   "outputs": [
    {
     "data": {
      "text/plain": [
       "@size (macro with 1 method)"
      ]
     },
     "execution_count": 46,
     "metadata": {},
     "output_type": "execute_result"
    }
   ],
   "source": [
    "macro size(e::Union{Symbol, Expr})\n",
    "    quote\n",
    "        println(\"###########\")\n",
    "        println($(string(e)), \" = \")\n",
    "        display($(esc(e)))\n",
    "        if applicable(size, $(esc(e)))\n",
    "            println(\"size(\",$(string(e)), \") = \", size($(esc(e))))\n",
    "        end\n",
    "    end\n",
    "end"
   ]
  },
  {
   "cell_type": "markdown",
   "id": "a5adbcd3-52de-4628-bf34-35562b3b4e67",
   "metadata": {},
   "source": [
    "# MaxPool1d"
   ]
  },
  {
   "cell_type": "code",
   "execution_count": 32,
   "id": "e01a6bb0-f611-4154-9e7a-5d1b03116a4e",
   "metadata": {},
   "outputs": [],
   "source": [
    "struct MaxPool1d\n",
    "    window;\n",
    "    stride;\n",
    "    \n",
    "    function MaxPool1d(window, stride)\n",
    "        new(window, stride)\n",
    "    end\n",
    "end\n",
    "\n",
    "(m::MaxPool1d)(x) = begin \n",
    "    pool_results = pool(reshape(x, size(x, 1), 1, 1); window=m.window, stride=m.stride)[:,1,1]\n",
    "    reshape(pool_results, size(pool_results, 1), size(x)[2:end]...) \n",
    "end"
   ]
  },
  {
   "cell_type": "code",
   "execution_count": 33,
   "id": "1cb83f9f-5296-4bba-b994-16112e4fa8f3",
   "metadata": {},
   "outputs": [
    {
     "data": {
      "text/plain": [
       "MaxPool1d(4, 2)"
      ]
     },
     "execution_count": 33,
     "metadata": {},
     "output_type": "execute_result"
    }
   ],
   "source": [
    "mp = MaxPool1d(4,2)"
   ]
  },
  {
   "cell_type": "code",
   "execution_count": 35,
   "id": "faa5e54f-5d20-434c-a5a6-0e2c7fcf778a",
   "metadata": {},
   "outputs": [
    {
     "data": {
      "text/plain": [
       "4×1 Matrix{Int64}:\n",
       "  4\n",
       "  6\n",
       "  8\n",
       " 10"
      ]
     },
     "execution_count": 35,
     "metadata": {},
     "output_type": "execute_result"
    }
   ],
   "source": [
    "mp(x)"
   ]
  },
  {
   "cell_type": "code",
   "execution_count": null,
   "id": "58df42b9-494c-4924-a9a3-2e4a3f84e58d",
   "metadata": {},
   "outputs": [],
   "source": []
  },
  {
   "cell_type": "markdown",
   "id": "da9bd9c7-f335-4e0c-bad1-48c92b7f6aef",
   "metadata": {},
   "source": [
    "# MultiHeadAttention"
   ]
  },
  {
   "cell_type": "code",
   "execution_count": 37,
   "id": "3ad02369-9502-4e0a-9d64-03008d9e459c",
   "metadata": {},
   "outputs": [],
   "source": [
    "struct ScaledDotProductAttention; end\n",
    "\n",
    "(s::ScaledDotProductAttention)(q,k,v) = begin\n",
    "    dk = size(k, 1)\n",
    "    scores = bmm(permutedims(k, (2,1,3)), q) .* (1 / sqrt(dk))\n",
    "    att = softmax(scores, dims=1)\n",
    "    return bmm(v, att)\n",
    "end"
   ]
  },
  {
   "cell_type": "code",
   "execution_count": 38,
   "id": "5c76eb78-71a0-4cf2-994a-900fb7d70630",
   "metadata": {},
   "outputs": [
    {
     "data": {
      "text/plain": [
       "_reshape_from_heads (generic function with 1 method)"
      ]
     },
     "execution_count": 38,
     "metadata": {},
     "output_type": "execute_result"
    }
   ],
   "source": [
    "struct MultiHeadAttention\n",
    "    embed_dim; num_head; linear_q; linear_k; linear_v; linear_o;\n",
    "    \n",
    "    function MultiHeadAttention(embed_dim, num_head)\n",
    "        q = Linear(embed_dim, embed_dim)\n",
    "        k = Linear(embed_dim, embed_dim)\n",
    "        v = Linear(embed_dim, embed_dim)\n",
    "        o = Linear(embed_dim, embed_dim)\n",
    "        new(embed_dim, num_head, q,k,v,o)\n",
    "    end \n",
    "end\n",
    "\n",
    "function (m::MultiHeadAttention)(q,k,v)\n",
    "    q = m.linear_q(q); k = m.linear_k(k); v = m.linear_v(v)\n",
    "    q = _reshape_to_heads(m, q)\n",
    "    k = _reshape_to_heads(m, k)\n",
    "    v = _reshape_to_heads(m, v)\n",
    "    y = ScaledDotProductAttention()(q,k,v)\n",
    "    y = _reshape_from_heads(m, y)\n",
    "    return m.linear_o(y)\n",
    "end\n",
    "\n",
    "function _reshape_to_heads(m::MultiHeadAttention, x)\n",
    "    embed_dim, seq_len, batch_size = size(x)\n",
    "    head_dim = embed_dim ÷ m.num_head\n",
    "    x = reshape(x, head_dim, m.num_head, seq_len, batch_size)\n",
    "    x = permutedims(x, (1, 3, 2, 4))\n",
    "    return reshape(x, head_dim, seq_len, m.num_head * batch_size)\n",
    "end\n",
    "\n",
    "function _reshape_from_heads(m::MultiHeadAttention, x)\n",
    "    head_dim, seq_len, batch_size = size(x)\n",
    "    batch_size = batch_size / m.num_head\n",
    "    out_dim = head_dim * m.num_head\n",
    "    x = reshape(x, head_dim, seq_len, m.num_head, batch_size)\n",
    "    x = permute(x, (1, 3, 2, 4))\n",
    "    return reshape(x, out_dim, seq_len, batch_size)\n",
    "end\n",
    "    \n"
   ]
  },
  {
   "cell_type": "markdown",
   "id": "e5846c73-884c-48ca-ba40-15da49441948",
   "metadata": {},
   "source": [
    "# Repeat interleave"
   ]
  },
  {
   "cell_type": "code",
   "execution_count": 48,
   "id": "06c57d9a-8ad5-4cb4-86e9-ae622543cb96",
   "metadata": {},
   "outputs": [
    {
     "name": "stdout",
     "output_type": "stream",
     "text": [
      "###########\n",
      "x = \n"
     ]
    },
    {
     "data": {
      "text/plain": [
       "3×2×1 Array{Int64, 3}:\n",
       "[:, :, 1] =\n",
       " 1  4\n",
       " 2  5\n",
       " 3  6"
      ]
     },
     "metadata": {},
     "output_type": "display_data"
    },
    {
     "name": "stdout",
     "output_type": "stream",
     "text": [
      "size(x) = (3, 2, 1)\n",
      "###########\n",
      "y = \n"
     ]
    },
    {
     "data": {
      "text/plain": [
       "6×2×1 Array{Int64, 3}:\n",
       "[:, :, 1] =\n",
       " 1  4\n",
       " 2  5\n",
       " 3  6\n",
       " 1  4\n",
       " 2  5\n",
       " 3  6"
      ]
     },
     "metadata": {},
     "output_type": "display_data"
    },
    {
     "name": "stdout",
     "output_type": "stream",
     "text": [
      "size(y) = (6, 2, 1)\n"
     ]
    }
   ],
   "source": [
    "x = reshape(Array(1:6), 3,2,1)\n",
    "@size x\n",
    "y = repeat(x, 2,1,1)\n",
    "@size y"
   ]
  },
  {
   "cell_type": "code",
   "execution_count": 53,
   "id": "d8f69998-874c-441d-93ec-082ec12e9153",
   "metadata": {},
   "outputs": [
    {
     "name": "stdout",
     "output_type": "stream",
     "text": [
      "###########\n",
      "x = \n"
     ]
    },
    {
     "data": {
      "text/plain": [
       "3×2×1 Array{Int64, 3}:\n",
       "[:, :, 1] =\n",
       " 1  4\n",
       " 2  5\n",
       " 3  6"
      ]
     },
     "metadata": {},
     "output_type": "display_data"
    },
    {
     "name": "stdout",
     "output_type": "stream",
     "text": [
      "size(x) = (3, 2, 1)\n",
      "###########\n",
      "y = \n"
     ]
    },
    {
     "data": {
      "text/plain": [
       "6×2×1 Array{Int64, 3}:\n",
       "[:, :, 1] =\n",
       " 1  4\n",
       " 1  4\n",
       " 2  5\n",
       " 2  5\n",
       " 3  6\n",
       " 3  6"
      ]
     },
     "metadata": {},
     "output_type": "display_data"
    },
    {
     "name": "stdout",
     "output_type": "stream",
     "text": [
      "size(y) = (6, 2, 1)\n"
     ]
    }
   ],
   "source": [
    "using StatsBase\n",
    "x = reshape(Array(1:6), 3,2,1)\n",
    "@size x\n",
    "y = repeat(x, inner=(2,1,1))\n",
    "@size y"
   ]
  },
  {
   "cell_type": "code",
   "execution_count": null,
   "id": "370d3974-e84e-44ae-adaa-88147ccac98b",
   "metadata": {},
   "outputs": [],
   "source": []
  }
 ],
 "metadata": {
  "kernelspec": {
   "display_name": "Julia 1.8.0",
   "language": "julia",
   "name": "julia-1.8"
  },
  "language_info": {
   "file_extension": ".jl",
   "mimetype": "application/julia",
   "name": "julia",
   "version": "1.8.2"
  }
 },
 "nbformat": 4,
 "nbformat_minor": 5
}
