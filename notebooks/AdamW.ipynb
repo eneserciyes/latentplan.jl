{
 "cells": [
  {
   "cell_type": "code",
   "execution_count": 1,
   "id": "994c8e18-f033-4a68-957d-c64ef468f5e4",
   "metadata": {},
   "outputs": [
    {
     "name": "stderr",
     "output_type": "stream",
     "text": [
      "\u001b[32m\u001b[1m  Activating\u001b[22m\u001b[39m project at `~/Projects/comp441/latentplan.jl`\n"
     ]
    }
   ],
   "source": [
    "import Pkg\n",
    "Pkg.activate(\"..\")"
   ]
  },
  {
   "cell_type": "code",
   "execution_count": 2,
   "id": "4ac8e659-ff7c-4f6c-9a7b-38130c92062e",
   "metadata": {},
   "outputs": [
    {
     "name": "stderr",
     "output_type": "stream",
     "text": [
      "┌ Info: Precompiling Knet [1902f260-5fb4-5aff-8c31-6271790ab950]\n",
      "└ @ Base loading.jl:1664\n",
      "WARNING: method definition for materialize! at /Users/enes/.julia/packages/Knet/YIFWC/src/knetarrays/getindex.jl:61 declares type variable N but does not use it.\n",
      "WARNING: method definition for materialize! at /Users/enes/.julia/packages/Knet/YIFWC/src/knetarrays/getindex.jl:61 declares type variable T but does not use it.\n"
     ]
    }
   ],
   "source": [
    "using Knet\n",
    "using AutoGrad: full"
   ]
  },
  {
   "cell_type": "code",
   "execution_count": 4,
   "id": "29e9803a-c979-4d09-8bcf-d0a9293b39c7",
   "metadata": {},
   "outputs": [
    {
     "data": {
      "text/plain": [
       "10-element Param{Vector{Float64}}:\n",
       " -0.6293\n",
       " -0.366\n",
       "  0.0548\n",
       " -1.1583\n",
       " -0.6298\n",
       "  0.979\n",
       " -0.185\n",
       "  0.3825\n",
       "  0.2715\n",
       " -0.7551"
      ]
     },
     "execution_count": 4,
     "metadata": {},
     "output_type": "execute_result"
    }
   ],
   "source": [
    "params = Param([-0.6293, -0.3660,  0.0548, -1.1583, -0.6298,  0.9790, -0.1850,  0.3825,\n",
    "         0.2715, -0.7551])"
   ]
  },
  {
   "cell_type": "code",
   "execution_count": 6,
   "id": "8a186b9a-14c8-4592-a17f-f3f816800200",
   "metadata": {},
   "outputs": [
    {
     "data": {
      "text/plain": [
       "AdamW(0.001, 0.9, 0.999, 1.0e-8, 0, 0.0, 0.01, nothing, nothing)"
      ]
     },
     "execution_count": 6,
     "metadata": {},
     "output_type": "execute_result"
    }
   ],
   "source": [
    "optimizer = AdamW(;weight_decay=0.01)"
   ]
  },
  {
   "cell_type": "code",
   "execution_count": 7,
   "id": "2aec687b-7f75-4690-be2a-0a2b8b1f6c8b",
   "metadata": {},
   "outputs": [
    {
     "data": {
      "text/plain": [
       "AdamW(0.001, 0.9, 0.999, 1.0e-8, 0, 0.0, 0.01, nothing, nothing)"
      ]
     },
     "execution_count": 7,
     "metadata": {},
     "output_type": "execute_result"
    }
   ],
   "source": [
    "params.opt = optimizer"
   ]
  },
  {
   "cell_type": "code",
   "execution_count": 8,
   "id": "bfab77fe-d1a8-452f-b420-d9eb1ed0a4da",
   "metadata": {},
   "outputs": [
    {
     "data": {
      "text/plain": [
       "#1 (generic function with 1 method)"
      ]
     },
     "execution_count": 8,
     "metadata": {},
     "output_type": "execute_result"
    }
   ],
   "source": [
    "lossfn = x -> x[1] ^ 2 + x[2] * 4 + x[3] ^ 3 + x[4] - x[5] * x[6]"
   ]
  },
  {
   "cell_type": "code",
   "execution_count": 13,
   "id": "1bc9dd95-f3c3-4c8c-9127-bc8830742339",
   "metadata": {},
   "outputs": [
    {
     "data": {
      "text/plain": [
       "T(-1.6174109939053556)"
      ]
     },
     "execution_count": 13,
     "metadata": {},
     "output_type": "execute_result"
    }
   ],
   "source": [
    "loss = @diff lossfn(params)"
   ]
  },
  {
   "cell_type": "code",
   "execution_count": 14,
   "id": "1308652e-ab17-4363-a890-6a7dd12b4569",
   "metadata": {},
   "outputs": [
    {
     "data": {
      "text/plain": [
       "10-element Vector{Float64}:\n",
       " -1.2565874140158906\n",
       "  4.0\n",
       "  0.008683143464800456\n",
       "  1.0\n",
       " -0.977990210015878\n",
       "  0.6287937020102146\n",
       "  0.0\n",
       "  0.0\n",
       "  0.0\n",
       "  0.0"
      ]
     },
     "execution_count": 14,
     "metadata": {},
     "output_type": "execute_result"
    }
   ],
   "source": [
    "full(grad(loss, params))"
   ]
  },
  {
   "cell_type": "code",
   "execution_count": 15,
   "id": "dc7ac9f7-9077-47b7-8b8c-0af2076a6439",
   "metadata": {},
   "outputs": [
    {
     "name": "stdout",
     "output_type": "stream",
     "text": [
      "updating with AdamW..."
     ]
    },
    {
     "data": {
      "text/plain": [
       "10-element Vector{Float64}:\n",
       " -0.6272874661130696\n",
       " -0.36799267003159997\n",
       "  0.05280004629657995\n",
       " -1.1602768240958303\n",
       " -0.6277874411158546\n",
       "  0.9769804721304695\n",
       " -0.1849963000185\n",
       "  0.38249235003825\n",
       "  0.27149457002715005\n",
       " -0.7550848980755099"
      ]
     },
     "execution_count": 15,
     "metadata": {},
     "output_type": "execute_result"
    }
   ],
   "source": [
    "update!(params, grad(loss, params))"
   ]
  },
  {
   "cell_type": "code",
   "execution_count": 16,
   "id": "5ae307aa-bfab-46de-b04e-9a6ef09c6711",
   "metadata": {},
   "outputs": [
    {
     "data": {
      "text/plain": [
       "AdamW(0.001, 0.9, 0.999, 1.0e-8, 2, 0.0, 0.01, [-0.238932741401589, 0.7599999999999998, 0.0016791351464800453, 0.18999999999999995, -0.18590902100158777, 0.11956137020102144, 0.0, 0.0, 0.0, 0.0], [0.0031615018151031457, 0.031984000000000026, 1.5648005936153263e-7, 0.0019990000000000016, 0.001913947409886903, 0.0007916329116477112, 0.0, 0.0, 0.0, 0.0])"
      ]
     },
     "execution_count": 16,
     "metadata": {},
     "output_type": "execute_result"
    }
   ],
   "source": [
    "optimizer"
   ]
  },
  {
   "cell_type": "code",
   "execution_count": 12,
   "id": "41d7cc60-a674-4a70-b03b-30b812f6404e",
   "metadata": {},
   "outputs": [
    {
     "data": {
      "text/plain": [
       "10-element Param{Vector{Float64}}:\n",
       " -0.6282937070079453\n",
       " -0.3669963399975\n",
       "  0.053799453109985095\n",
       " -1.1592884169900002\n",
       " -0.6287937020102146\n",
       "  0.977990210015878\n",
       " -0.18499815\n",
       "  0.382496175\n",
       "  0.27149728500000003\n",
       " -0.7550924489999999"
      ]
     },
     "execution_count": 12,
     "metadata": {},
     "output_type": "execute_result"
    }
   ],
   "source": [
    "params"
   ]
  },
  {
   "cell_type": "code",
   "execution_count": null,
   "id": "db83fc0f-254a-48da-b20e-cd6a223ca964",
   "metadata": {},
   "outputs": [],
   "source": []
  }
 ],
 "metadata": {
  "kernelspec": {
   "display_name": "Julia 1.8.0",
   "language": "julia",
   "name": "julia-1.8"
  },
  "language_info": {
   "file_extension": ".jl",
   "mimetype": "application/julia",
   "name": "julia",
   "version": "1.8.2"
  }
 },
 "nbformat": 4,
 "nbformat_minor": 5
}
