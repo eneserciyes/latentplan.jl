{
 "cells": [
  {
   "cell_type": "code",
   "execution_count": 1,
   "id": "b843a1d5-8a34-4d03-acc4-ae22b36f05ab",
   "metadata": {},
   "outputs": [
    {
     "name": "stderr",
     "output_type": "stream",
     "text": [
      "\u001b[32m\u001b[1m  Activating\u001b[22m\u001b[39m project at `~/Projects/comp441/latentplan.jl`\n"
     ]
    }
   ],
   "source": [
    "import Pkg\n",
    "Pkg.activate(\"..\")"
   ]
  },
  {
   "cell_type": "code",
   "execution_count": 2,
   "id": "125858b5-94d4-42e3-aa75-8fd2412cb6b3",
   "metadata": {},
   "outputs": [],
   "source": [
    "using Knet\n",
    "using Statistics\n",
    "using LinearAlgebra\n",
    "using Distributions"
   ]
  },
  {
   "cell_type": "code",
   "execution_count": 3,
   "id": "ab9f04aa-c271-4582-b2e2-fd6fb21d0efd",
   "metadata": {},
   "outputs": [],
   "source": [
    "include(\"../latentplan/models/common.jl\")\n",
    "using .Common: Linear, LayerNorm, Chain, Dropout, GELU, softmax"
   ]
  },
  {
   "cell_type": "code",
   "execution_count": 4,
   "id": "1d184f6a-795f-420b-a257-825734bc59ca",
   "metadata": {},
   "outputs": [
    {
     "data": {
      "text/plain": [
       "@size (macro with 1 method)"
      ]
     },
     "execution_count": 4,
     "metadata": {},
     "output_type": "execute_result"
    }
   ],
   "source": [
    "macro size(e::Union{Symbol, Expr})\n",
    "    quote\n",
    "        println(\"###########\")\n",
    "        println($(string(e)), \" = \")\n",
    "        display($(esc(e)))\n",
    "        if applicable(size, $(esc(e)))\n",
    "            println(\"size(\",$(string(e)), \") = \", size($(esc(e))))\n",
    "        end\n",
    "    end\n",
    "end"
   ]
  },
  {
   "cell_type": "markdown",
   "id": "a016ed23-ce46-4ece-bb8d-5bc10d8fe16a",
   "metadata": {
    "tags": []
   },
   "source": [
    "# CausalSelfAttention"
   ]
  },
  {
   "cell_type": "code",
   "execution_count": 5,
   "id": "62e9735e-92a9-49b4-b275-63f4078f0373",
   "metadata": {},
   "outputs": [],
   "source": [
    "struct CausalSelfAttention; \n",
    "    key; query; value; proj; mask;\n",
    "    attn_drop; resid_drop;\n",
    "    n_head;\n",
    "    \n",
    "    function CausalSelfAttention(config)\n",
    "        key = Linear(config[\"n_embd\"], config[\"n_embd\"])\n",
    "        query = Linear(config[\"n_embd\"], config[\"n_embd\"])\n",
    "        value = Linear(config[\"n_embd\"], config[\"n_embd\"])\n",
    "        proj = Linear(config[\"n_embd\"], config[\"n_embd\"])\n",
    "        \n",
    "        mask = Matrix(UpperTriangular(ones(config[\"block_size\"],config[\"block_size\"])))\n",
    "        if haskey(config, \"action_dim\")\n",
    "            joined_dim = config[\"observation_dim\"] + config[\"action_dim\"] + 2\n",
    "            mask[joined_dim:joined_dim:end,:, :, :] .= 0\n",
    "        end\n",
    "        new(key,query,value,proj,mask, config[\"attn_pdrop\"], config[\"resid_pdrop\"], config[\"n_head\"])\n",
    "    end\n",
    "end"
   ]
  },
  {
   "cell_type": "code",
   "execution_count": 6,
   "id": "c85c8fd5-eb61-4a17-b977-eda5e1aedc88",
   "metadata": {},
   "outputs": [],
   "source": [
    "function (c::CausalSelfAttention)(x)\n",
    "    C, T, B = size(x)\n",
    "\n",
    "    k = permutedims(reshape(c.key(x), (C ÷ c.n_head, c.n_head, T, B)), (1, 3, 2, 4)) # hs, T, nh, B\n",
    "    q = permutedims(reshape(c.query(x), (C ÷ c.n_head, c.n_head, T, B)), (1, 3, 2, 4)) # hs, T, nh, B\n",
    "    v = permutedims(reshape(c.value(x), (C ÷ c.n_head, c.n_head, T, B)), (1, 3, 2, 4)) # hs, T, nh, B\n",
    "    \n",
    "    # (T, hs, nh, B) x (hs, T, nh, B) -> (T, T, nh, B)\n",
    "    att = bmm(permutedims(k, (2,1,3,4)), q) .* (1 / sqrt(size(k, 1)))\n",
    "    att[c.mask[1:T,1:T] .== 0, :, :] .= -Inf\n",
    "    att = softmax(att, dims=1)\n",
    "    att_drop = dropout(att, c.attn_drop)\n",
    "    # (hs, T, nh, B) x (T, T, nh, B)  -> (hs, T, nh, B)\n",
    "    y = bmm(v, att_drop)\n",
    "    # (C, T, B)\n",
    "    y = reshape(permutedims(y, (1, 3, 2, 4)), (C, T, B)) # re-assemble all head outputs side by side\n",
    "    # output projection\n",
    "    y = dropout(c.proj(y), c.resid_drop)\n",
    "    return y\n",
    "end"
   ]
  },
  {
   "cell_type": "markdown",
   "id": "c0995efc-1ee8-4660-bbd0-9d075febe869",
   "metadata": {
    "tags": []
   },
   "source": [
    "# CSA"
   ]
  },
  {
   "cell_type": "code",
   "execution_count": 7,
   "id": "8d2fe881-c97c-4065-91a3-67653bc7b385",
   "metadata": {},
   "outputs": [
    {
     "data": {
      "text/plain": [
       "Dict{String, Real} with 7 entries:\n",
       "  \"resid_pdrop\"     => 0.1\n",
       "  \"attn_pdrop\"      => 0.1\n",
       "  \"n_head\"          => 2\n",
       "  \"block_size\"      => 12\n",
       "  \"action_dim\"      => 1\n",
       "  \"observation_dim\" => 2\n",
       "  \"n_embd\"          => 8"
      ]
     },
     "execution_count": 7,
     "metadata": {},
     "output_type": "execute_result"
    }
   ],
   "source": [
    "config = Dict(\"n_embd\" => 8, \"block_size\" => 12, \"action_dim\" => 1, \"observation_dim\"=> 2, \"attn_pdrop\"=>0.1, \"resid_pdrop\"=>0.1, \"n_head\"=>2)"
   ]
  },
  {
   "cell_type": "markdown",
   "id": "43d30c72-4f79-41b2-8a40-12f19826bdac",
   "metadata": {},
   "source": [
    "# Block"
   ]
  },
  {
   "cell_type": "code",
   "execution_count": 8,
   "id": "10ab8763-e61d-45df-82f1-467d129c2a3e",
   "metadata": {},
   "outputs": [],
   "source": [
    "struct Block\n",
    "    ln1::LayerNorm;\n",
    "    ln2::LayerNorm;\n",
    "    attn::CausalSelfAttention;\n",
    "    mlp::Chain;\n",
    "\n",
    "    function Block(config)\n",
    "        ln1 = LayerNorm(config[\"n_embd\"])\n",
    "        ln2 = LayerNorm(config[\"n_embd\"])\n",
    "        attn = CausalSelfAttention(config)\n",
    "        mlp = Chain(\n",
    "            Linear(config[\"n_embd\"], 4 * config[\"n_embd\"]), \n",
    "            GELU(),\n",
    "            Linear(4 * config[\"n_embd\"], config[\"n_embd\"]),\n",
    "            Dropout(config[\"resid_pdrop\"])\n",
    "        )\n",
    "        new(ln1,ln2,attn,mlp)\n",
    "    end\n",
    "end\n",
    "\n",
    "function (b::Block)(x)\n",
    "    x = x .+  b.attn(b.ln1(x))\n",
    "    x = x .+ b.mlp(b.ln2(x))\n",
    "    return x\n",
    "end"
   ]
  },
  {
   "cell_type": "code",
   "execution_count": 9,
   "id": "64cbbf03-1966-4e33-af85-511718443132",
   "metadata": {},
   "outputs": [
    {
     "data": {
      "text/plain": [
       "8×2×3 Array{Float64, 3}:\n",
       "[:, :, 1] =\n",
       " -0.252795   0.35683\n",
       " -0.217497  -0.0517943\n",
       "  1.0853     0.232041\n",
       " -1.5641    -1.46864\n",
       " -0.652647  -0.590191\n",
       "  1.70763    1.53705\n",
       "  1.84816    2.09661\n",
       "  0.198716   0.466664\n",
       "\n",
       "[:, :, 2] =\n",
       "  0.922732   0.586288\n",
       "  0.338404   0.419671\n",
       "  0.649373   0.776267\n",
       "  1.17186   -0.0524429\n",
       "  0.830902   1.05332\n",
       "  0.419295   0.400618\n",
       " -0.369936   0.356866\n",
       "  0.109032   0.283863\n",
       "\n",
       "[:, :, 3] =\n",
       "  0.202959  -0.0982616\n",
       " -0.175399   0.269452\n",
       "  0.599338   1.26965\n",
       " -2.35665   -0.942176\n",
       " -0.773963   0.204239\n",
       "  1.07299    0.331395\n",
       "  2.88936    0.929908\n",
       " -1.0094     0.635357"
      ]
     },
     "execution_count": 9,
     "metadata": {},
     "output_type": "execute_result"
    }
   ],
   "source": [
    "block = Block(config)\n",
    "x = rand(8,2,3)\n",
    "block(x)"
   ]
  },
  {
   "cell_type": "code",
   "execution_count": null,
   "id": "bdfbff5f-e8fc-4c6e-9223-dd594ed64bde",
   "metadata": {},
   "outputs": [],
   "source": []
  }
 ],
 "metadata": {
  "kernelspec": {
   "display_name": "Julia 1.8.0",
   "language": "julia",
   "name": "julia-1.8"
  },
  "language_info": {
   "file_extension": ".jl",
   "mimetype": "application/julia",
   "name": "julia",
   "version": "1.8.2"
  }
 },
 "nbformat": 4,
 "nbformat_minor": 5
}
