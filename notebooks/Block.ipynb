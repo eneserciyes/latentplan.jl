{
 "cells": [
  {
   "cell_type": "code",
   "execution_count": 1,
   "id": "b843a1d5-8a34-4d03-acc4-ae22b36f05ab",
   "metadata": {},
   "outputs": [
    {
     "name": "stderr",
     "output_type": "stream",
     "text": [
      "\u001b[32m\u001b[1m  Activating\u001b[22m\u001b[39m project at `~/Projects/comp441/latentplan.jl`\n"
     ]
    }
   ],
   "source": [
    "import Pkg\n",
    "Pkg.activate(\"..\")"
   ]
  },
  {
   "cell_type": "code",
   "execution_count": 2,
   "id": "125858b5-94d4-42e3-aa75-8fd2412cb6b3",
   "metadata": {},
   "outputs": [],
   "source": [
    "using Knet\n",
    "using Statistics\n",
    "using LinearAlgebra"
   ]
  },
  {
   "cell_type": "code",
   "execution_count": 3,
   "id": "ab9f04aa-c271-4582-b2e2-fd6fb21d0efd",
   "metadata": {},
   "outputs": [],
   "source": [
    "include(\"../latentplan/models/common.jl\")\n",
    "using .Common: Linear, LayerNorm"
   ]
  },
  {
   "cell_type": "code",
   "execution_count": 34,
   "id": "1d184f6a-795f-420b-a257-825734bc59ca",
   "metadata": {},
   "outputs": [
    {
     "data": {
      "text/plain": [
       "@size (macro with 1 method)"
      ]
     },
     "execution_count": 34,
     "metadata": {},
     "output_type": "execute_result"
    }
   ],
   "source": [
    "macro size(e::Union{Symbol, Expr})\n",
    "    quote\n",
    "        println(\"###########\")\n",
    "        println($(string(e)), \" = \")\n",
    "        display($(esc(e)))\n",
    "        if applicable(size, $(esc(e)))\n",
    "            println(\"size(\",$(string(e)), \") = \", size($(esc(e))))\n",
    "        end\n",
    "    end\n",
    "end"
   ]
  },
  {
   "cell_type": "code",
   "execution_count": 5,
   "id": "699ba642-e244-4d08-a17e-d3d4231d5465",
   "metadata": {},
   "outputs": [
    {
     "data": {
      "text/plain": [
       "LayerNorm(P(Vector{Float32}(8)), P(Vector{Float32}(8)), 1.0e-5)"
      ]
     },
     "execution_count": 5,
     "metadata": {},
     "output_type": "execute_result"
    }
   ],
   "source": [
    "ln = LayerNorm(8)"
   ]
  },
  {
   "cell_type": "markdown",
   "id": "a016ed23-ce46-4ece-bb8d-5bc10d8fe16a",
   "metadata": {},
   "source": [
    "# CausalSelfAttention"
   ]
  },
  {
   "cell_type": "code",
   "execution_count": 6,
   "id": "62e9735e-92a9-49b4-b275-63f4078f0373",
   "metadata": {},
   "outputs": [],
   "source": [
    "struct CausalSelfAttention; \n",
    "    key; query; value; proj; mask;\n",
    "    attn_drop; resid_drop;\n",
    "    n_head;\n",
    "    \n",
    "    function CausalSelfAttention(config)\n",
    "        key = Linear(config[\"n_embd\"], config[\"n_embd\"])\n",
    "        query = Linear(config[\"n_embd\"], config[\"n_embd\"])\n",
    "        value = Linear(config[\"n_embd\"], config[\"n_embd\"])\n",
    "        proj = Linear(config[\"n_embd\"], config[\"n_embd\"])\n",
    "        \n",
    "        mask = Matrix(UpperTriangular(ones(config[\"block_size\"],config[\"block_size\"])))\n",
    "        if haskey(config, \"action_dim\")\n",
    "            joined_dim = config[\"observation_dim\"] + config[\"action_dim\"] + 2\n",
    "            mask[joined_dim:joined_dim:end,:, :, :] .= 0\n",
    "        end\n",
    "        new(key,query,value,proj,mask, config[\"attn_drop\"], config[\"resid_drop\"], config[\"n_head\"])\n",
    "    end\n",
    "end"
   ]
  },
  {
   "cell_type": "code",
   "execution_count": 35,
   "id": "c85c8fd5-eb61-4a17-b977-eda5e1aedc88",
   "metadata": {},
   "outputs": [],
   "source": [
    "function (c::CausalSelfAttention)(x)\n",
    "    C, T, B = size(x)\n",
    "\n",
    "    k = permutedims(reshape(c.key(x), (C ÷ c.n_head, c.n_head, T, B)), (1, 3, 2, 4)) # hs, T, nh, B\n",
    "    q = permutedims(reshape(c.query(x), (C ÷ c.n_head, c.n_head, T, B)), (1, 3, 2, 4)) # hs, T, nh, B\n",
    "    v = permutedims(reshape(c.value(x), (C ÷ c.n_head, c.n_head, T, B)), (1, 3, 2, 4)) # hs, T, nh, B\n",
    "    \n",
    "    # (T, hs, nh, B) x (hs, T, nh, B) -> (T, T, nh, B)\n",
    "    att = bmm(permutedims(k, (2,1,3,4)), q) .* (1 / sqrt(size(k, 1)))\n",
    "    att[c.mask[1:T,1:T] .== 0, :, :] .= -Inf\n",
    "    att = softmax(att, dims=1)\n",
    "    att_drop = dropout(att, c.attn_drop)\n",
    "    # (hs, T, nh, B) x (T, T, nh, B)  -> (hs, T, nh, B)\n",
    "    y = bmm(v, att_drop)\n",
    "    # (C, T, B)\n",
    "    y = reshape(permutedims(y, (1, 3, 2, 4)), (C, T, B)) # re-assemble all head outputs side by side\n",
    "    # output projection\n",
    "    y = dropout(c.proj(y), c.resid_drop)\n",
    "    return y\n",
    "end"
   ]
  },
  {
   "cell_type": "markdown",
   "id": "172a53e0-bd68-4181-a063-c1909896cc40",
   "metadata": {},
   "source": [
    "# Softmax"
   ]
  },
  {
   "cell_type": "code",
   "execution_count": 8,
   "id": "e0b9388c-c2c2-424a-b581-6a03e147041f",
   "metadata": {},
   "outputs": [
    {
     "data": {
      "text/plain": [
       "softmax (generic function with 1 method)"
      ]
     },
     "execution_count": 8,
     "metadata": {},
     "output_type": "execute_result"
    }
   ],
   "source": [
    "function softmax(w; dims::Int)\n",
    "    probs = exp.(w)\n",
    "    return probs ./ sum(probs, dims=dims)\n",
    "end"
   ]
  },
  {
   "cell_type": "markdown",
   "id": "78fe5029-994c-4d03-a566-4640a8fdea01",
   "metadata": {
    "jp-MarkdownHeadingCollapsed": true,
    "tags": []
   },
   "source": [
    "# BMM Broadcast"
   ]
  },
  {
   "cell_type": "code",
   "execution_count": 32,
   "id": "fa2b9f95-d966-425f-b7c0-738504373d3a",
   "metadata": {},
   "outputs": [
    {
     "data": {
      "text/plain": [
       "2×4 Matrix{Float64}:\n",
       " 0.815119  0.216852  0.0891273  0.480011\n",
       " 0.495547  0.537869  0.281774   0.20078"
      ]
     },
     "execution_count": 32,
     "metadata": {},
     "output_type": "execute_result"
    }
   ],
   "source": [
    "rand(4,4)[1:2, :]"
   ]
  },
  {
   "cell_type": "code",
   "execution_count": 45,
   "id": "a632ed89-3672-4bae-9c77-0111c0107553",
   "metadata": {},
   "outputs": [
    {
     "data": {
      "text/plain": [
       "4×4 Matrix{Float64}:\n",
       " 0.256093   0.604766   0.102011  0.156603\n",
       " 0.0398432  0.948473   0.965657  0.60073\n",
       " 0.420349   0.963705   0.238991  0.472495\n",
       " 0.115347   0.0669753  0.577598  0.818909"
      ]
     },
     "metadata": {},
     "output_type": "display_data"
    },
    {
     "data": {
      "text/plain": [
       "4×3 Matrix{Float64}:\n",
       " 0.762107  0.660366  0.166072\n",
       " 0.449898  0.928151  0.559783\n",
       " 0.404001  0.930401  0.262188\n",
       " 0.888096  0.542342  0.669676"
      ]
     },
     "metadata": {},
     "output_type": "display_data"
    }
   ],
   "source": [
    "w = rand(4, 4)\n",
    "x = rand(4, 3)\n",
    "display(w)\n",
    "display(x)"
   ]
  },
  {
   "cell_type": "code",
   "execution_count": 46,
   "id": "e6e000bc-5b97-4d2c-8b4d-02e5f4eed4e2",
   "metadata": {},
   "outputs": [
    {
     "data": {
      "text/plain": [
       "4×3 Matrix{Float64}:\n",
       " 0.647544  0.910273  0.512687\n",
       " 1.38071   2.13089   1.19303\n",
       " 1.27009   1.65066   0.988353\n",
       " 1.07866   1.11986   0.756491"
      ]
     },
     "execution_count": 46,
     "metadata": {},
     "output_type": "execute_result"
    }
   ],
   "source": [
    "w * x[:,:]"
   ]
  },
  {
   "cell_type": "code",
   "execution_count": 47,
   "id": "5e46b42b-d96e-4cd7-b76e-4e3c10c65a59",
   "metadata": {},
   "outputs": [
    {
     "data": {
      "text/plain": [
       "4×3 Matrix{Float64}:\n",
       " 0.647544  0.910273  0.512687\n",
       " 1.38071   2.13089   1.19303\n",
       " 1.27009   1.65066   0.988353\n",
       " 1.07866   1.11986   0.756491"
      ]
     },
     "execution_count": 47,
     "metadata": {},
     "output_type": "execute_result"
    }
   ],
   "source": [
    "reshape(w * reshape(x, size(x)[1], :), size(w)[1], size(x)[2:end]...)"
   ]
  },
  {
   "cell_type": "markdown",
   "id": "a86a45a8-302c-4741-9b1b-46609ccb4719",
   "metadata": {
    "jp-MarkdownHeadingCollapsed": true,
    "tags": []
   },
   "source": [
    "# Indexing multi-array"
   ]
  },
  {
   "cell_type": "code",
   "execution_count": 20,
   "id": "2cf05904-4054-4fee-963d-f68d17238b38",
   "metadata": {},
   "outputs": [
    {
     "data": {
      "text/plain": [
       "28-element view(::Vector{Float64}, [1, 2, 3, 4, 5, 7, 8, 10, 13, 15  …  33, 35, 37, 41, 42, 43, 45, 46, 47, 48]) with eltype Float64:\n",
       " 0.0\n",
       " 0.0\n",
       " 0.0\n",
       " 0.0\n",
       " 0.0\n",
       " 0.0\n",
       " 0.0\n",
       " 0.0\n",
       " 0.0\n",
       " 0.0\n",
       " 0.0\n",
       " 0.0\n",
       " 0.0\n",
       " ⋮\n",
       " 0.0\n",
       " 0.0\n",
       " 0.0\n",
       " 0.0\n",
       " 0.0\n",
       " 0.0\n",
       " 0.0\n",
       " 0.0\n",
       " 0.0\n",
       " 0.0\n",
       " 0.0\n",
       " 0.0"
      ]
     },
     "execution_count": 20,
     "metadata": {},
     "output_type": "execute_result"
    }
   ],
   "source": [
    "input1 = rand(2,2,4,3)\n",
    "mask = rand(Bool, 2,2,1,1)\n",
    "input1[mask] .= 0"
   ]
  },
  {
   "cell_type": "markdown",
   "id": "c0995efc-1ee8-4660-bbd0-9d075febe869",
   "metadata": {
    "tags": []
   },
   "source": [
    "# CSA"
   ]
  },
  {
   "cell_type": "code",
   "execution_count": 36,
   "id": "8d2fe881-c97c-4065-91a3-67653bc7b385",
   "metadata": {},
   "outputs": [
    {
     "data": {
      "text/plain": [
       "Dict{String, Real} with 7 entries:\n",
       "  \"attn_drop\"       => 0.1\n",
       "  \"n_head\"          => 2\n",
       "  \"resid_drop\"      => 0.1\n",
       "  \"block_size\"      => 12\n",
       "  \"action_dim\"      => 1\n",
       "  \"observation_dim\" => 2\n",
       "  \"n_embd\"          => 8"
      ]
     },
     "execution_count": 36,
     "metadata": {},
     "output_type": "execute_result"
    }
   ],
   "source": [
    "config = Dict(\"n_embd\" => 8, \"block_size\" => 12, \"action_dim\" => 1, \"observation_dim\"=> 2, \"attn_drop\"=>0.1, \"resid_drop\"=>0.1, \"n_head\"=>2)"
   ]
  },
  {
   "cell_type": "code",
   "execution_count": 37,
   "id": "27a5eb86-ede6-44ab-9a82-f4c4e3070827",
   "metadata": {},
   "outputs": [
    {
     "data": {
      "text/plain": [
       "CausalSelfAttention(Linear(P(Matrix{Float32}(8,8)), P(Vector{Float32}(8)), 0), Linear(P(Matrix{Float32}(8,8)), P(Vector{Float32}(8)), 0), Linear(P(Matrix{Float32}(8,8)), P(Vector{Float32}(8)), 0), Linear(P(Matrix{Float32}(8,8)), P(Vector{Float32}(8)), 0), [1.0 1.0 … 1.0 1.0; 0.0 1.0 … 1.0 1.0; … ; 0.0 0.0 … 1.0 1.0; 0.0 0.0 … 0.0 1.0;;;;], 0.1, 0.1, 2)"
      ]
     },
     "execution_count": 37,
     "metadata": {},
     "output_type": "execute_result"
    }
   ],
   "source": [
    "csa = CausalSelfAttention(config)"
   ]
  },
  {
   "cell_type": "code",
   "execution_count": 39,
   "id": "9c45b427-dddd-4789-80f3-da652be6c087",
   "metadata": {},
   "outputs": [
    {
     "data": {
      "text/plain": [
       "12×12×1×1 Array{Float64, 4}:\n",
       "[:, :, 1, 1] =\n",
       " 1.0  1.0  1.0  1.0  1.0  1.0  1.0  1.0  1.0  1.0  1.0  1.0\n",
       " 0.0  1.0  1.0  1.0  1.0  1.0  1.0  1.0  1.0  1.0  1.0  1.0\n",
       " 0.0  0.0  1.0  1.0  1.0  1.0  1.0  1.0  1.0  1.0  1.0  1.0\n",
       " 0.0  0.0  0.0  1.0  1.0  1.0  1.0  1.0  1.0  1.0  1.0  1.0\n",
       " 0.0  0.0  0.0  0.0  0.0  0.0  0.0  0.0  0.0  0.0  0.0  0.0\n",
       " 0.0  0.0  0.0  0.0  0.0  1.0  1.0  1.0  1.0  1.0  1.0  1.0\n",
       " 0.0  0.0  0.0  0.0  0.0  0.0  1.0  1.0  1.0  1.0  1.0  1.0\n",
       " 0.0  0.0  0.0  0.0  0.0  0.0  0.0  1.0  1.0  1.0  1.0  1.0\n",
       " 0.0  0.0  0.0  0.0  0.0  0.0  0.0  0.0  1.0  1.0  1.0  1.0\n",
       " 0.0  0.0  0.0  0.0  0.0  0.0  0.0  0.0  0.0  0.0  0.0  0.0\n",
       " 0.0  0.0  0.0  0.0  0.0  0.0  0.0  0.0  0.0  0.0  1.0  1.0\n",
       " 0.0  0.0  0.0  0.0  0.0  0.0  0.0  0.0  0.0  0.0  0.0  1.0"
      ]
     },
     "execution_count": 39,
     "metadata": {},
     "output_type": "execute_result"
    }
   ],
   "source": [
    "csa.mask"
   ]
  },
  {
   "cell_type": "code",
   "execution_count": 38,
   "id": "918399c2-15ed-437c-b971-2c01f4cce5ab",
   "metadata": {},
   "outputs": [
    {
     "name": "stdout",
     "output_type": "stream",
     "text": [
      "(C, T, B) = (8, 2, 3)\n",
      "###########\n",
      "c.key.w = \n"
     ]
    },
    {
     "data": {
      "text/plain": [
       "8×8 Param{Matrix{Float32}}:\n",
       "  0.502183   -0.500032   -0.595933    0.129906    …  -0.426692   -0.344343\n",
       "  0.242065   -0.0392931   0.0632212   0.330281        0.535651   -0.103906\n",
       "  0.5475     -0.298522    0.324135   -0.100263       -0.24116     0.0266227\n",
       "  0.0197597   0.596061   -0.188364   -0.196794        0.173626    0.173176\n",
       " -0.103439   -0.169256   -0.0271037   0.00676222      0.0225345   0.533635\n",
       "  0.432706   -0.148344    0.251621   -0.142082    …  -0.341953   -0.104039\n",
       " -0.278676   -0.260532    0.522699    0.080805        0.20958     0.000613149\n",
       " -0.454027    0.289852   -0.273026   -0.127625       -0.0446155  -0.231273"
      ]
     },
     "metadata": {},
     "output_type": "display_data"
    },
    {
     "name": "stdout",
     "output_type": "stream",
     "text": [
      "size(c.key.w) = (8, 8)\n",
      "###########\n",
      "x = \n"
     ]
    },
    {
     "data": {
      "text/plain": [
       "8×2×3 Array{Float64, 3}:\n",
       "[:, :, 1] =\n",
       " 0.0189905  0.962656\n",
       " 0.306001   0.370853\n",
       " 0.153435   0.742593\n",
       " 0.056983   0.560434\n",
       " 0.295498   0.107924\n",
       " 0.20769    0.0254402\n",
       " 0.579207   0.209565\n",
       " 0.737062   0.474647\n",
       "\n",
       "[:, :, 2] =\n",
       " 0.247378  0.434695\n",
       " 0.533476  0.366239\n",
       " 0.718791  0.621385\n",
       " 0.592072  0.769893\n",
       " 0.890814  0.881763\n",
       " 0.40257   0.196232\n",
       " 0.672078  0.108103\n",
       " 0.579842  0.918691\n",
       "\n",
       "[:, :, 3] =\n",
       " 0.867609   0.54565\n",
       " 0.0486885  0.117704\n",
       " 0.486755   0.706388\n",
       " 0.0608208  0.050485\n",
       " 0.810148   0.170732\n",
       " 0.610376   0.645981\n",
       " 0.603534   0.548095\n",
       " 0.62576    0.638079"
      ]
     },
     "metadata": {},
     "output_type": "display_data"
    },
    {
     "name": "stdout",
     "output_type": "stream",
     "text": [
      "size(x) = (8, 2, 3)\n",
      "###########\n",
      "k = \n"
     ]
    },
    {
     "data": {
      "text/plain": [
       "4×2×2×3 Array{Float64, 4}:\n",
       "[:, :, 1, 1] =\n",
       " -0.632553  -0.318889\n",
       "  0.354462   0.52161\n",
       " -0.34383    0.498197\n",
       "  0.418085   0.127053\n",
       "\n",
       "[:, :, 2, 1] =\n",
       "  0.199957     0.0395763\n",
       " -0.319975     0.321777\n",
       "  0.0470139    0.0742407\n",
       " -0.00491168  -0.692805\n",
       "\n",
       "[:, :, 1, 2] =\n",
       " -0.821262  -0.557665\n",
       "  0.755005   0.407118\n",
       " -0.544646  -0.277001\n",
       "  0.436264   0.288172\n",
       "\n",
       "[:, :, 2, 2] =\n",
       " -0.190776    0.052688\n",
       " -0.334312   -0.166456\n",
       "  0.081929   -0.123649\n",
       " -0.0359094  -0.33648\n",
       "\n",
       "[:, :, 1, 3] =\n",
       " -0.0570783  -0.29161\n",
       "  0.813516    0.768314\n",
       " -0.0318093   0.228034\n",
       "  0.284063    0.157159\n",
       "\n",
       "[:, :, 2, 3] =\n",
       " -0.183318    0.0190612\n",
       "  0.114448    0.236777\n",
       " -0.0636734   0.380295\n",
       " -0.229011   -0.195464"
      ]
     },
     "metadata": {},
     "output_type": "display_data"
    },
    {
     "name": "stdout",
     "output_type": "stream",
     "text": [
      "size(k) = (4, 2, 2, 3)\n",
      "###########\n",
      "q = \n"
     ]
    },
    {
     "data": {
      "text/plain": [
       "4×2×2×3 Array{Float64, 4}:\n",
       "[:, :, 1, 1] =\n",
       "  0.261256   0.335778\n",
       " -0.431432  -0.73105\n",
       " -0.128323  -0.447127\n",
       " -0.438559  -0.0928266\n",
       "\n",
       "[:, :, 2, 1] =\n",
       "  0.0355718  -0.0878083\n",
       " -0.406727    0.848734\n",
       "  0.622597    0.756347\n",
       " -0.036315   -0.446327\n",
       "\n",
       "[:, :, 1, 2] =\n",
       "  0.204248   0.101607\n",
       " -0.517881  -0.612863\n",
       " -0.392984  -0.123933\n",
       " -0.367919  -0.281589\n",
       "\n",
       "[:, :, 2, 2] =\n",
       "  0.00487568  -0.153825\n",
       " -0.16533      0.220364\n",
       "  0.872089     1.03187\n",
       " -0.701363    -0.659936\n",
       "\n",
       "[:, :, 1, 3] =\n",
       "  0.601092   0.413607\n",
       " -0.52999   -0.695777\n",
       "  0.109218  -0.211396\n",
       " -0.307688   0.115212\n",
       "\n",
       "[:, :, 2, 3] =\n",
       " -0.326472   0.292594\n",
       " -0.296382  -0.0574531\n",
       "  1.19247    0.708477\n",
       " -0.700664  -0.163649"
      ]
     },
     "metadata": {},
     "output_type": "display_data"
    },
    {
     "name": "stdout",
     "output_type": "stream",
     "text": [
      "size(q) = (4, 2, 2, 3)\n",
      "###########\n",
      "v = \n"
     ]
    },
    {
     "data": {
      "text/plain": [
       "4×2×2×3 Array{Float64, 4}:\n",
       "[:, :, 1, 1] =\n",
       "  0.237304    0.747353\n",
       " -0.476313   -0.81039\n",
       " -0.0597774   0.122288\n",
       " -0.491176   -0.726192\n",
       "\n",
       "[:, :, 2, 1] =\n",
       "  0.66521   0.395959\n",
       " -0.125585  0.00468848\n",
       "  1.08621   1.24962\n",
       "  0.27952   0.432295\n",
       "\n",
       "[:, :, 1, 2] =\n",
       "  0.389731   0.811612\n",
       " -0.370353  -0.3498\n",
       "  0.27309    0.331682\n",
       " -0.598401  -0.832704\n",
       "\n",
       "[:, :, 2, 2] =\n",
       "  0.640869   0.562456\n",
       " -0.708061  -0.531824\n",
       "  1.8196     1.74365\n",
       "  0.542511   0.188617\n",
       "\n",
       "[:, :, 1, 3] =\n",
       "  0.438712    0.146307\n",
       " -0.473129   -0.659843\n",
       "  0.0635641  -0.261509\n",
       " -0.894591   -0.437657\n",
       "\n",
       "[:, :, 2, 3] =\n",
       "  0.787341  0.752244\n",
       " -0.105512  0.0356304\n",
       "  1.38208   1.05293\n",
       "  0.835584  0.748904"
      ]
     },
     "metadata": {},
     "output_type": "display_data"
    },
    {
     "name": "stdout",
     "output_type": "stream",
     "text": [
      "size(v) = (4, 2, 2, 3)\n",
      "###########\n",
      "att = \n"
     ]
    },
    {
     "data": {
      "text/plain": [
       "2×2×2×3 Array{Float64, 4}:\n",
       "[:, :, 1, 1] =\n",
       " -0.228709  -0.1783\n",
       " -0.214     -0.361475\n",
       "\n",
       "[:, :, 2, 1] =\n",
       "  0.0833522  -0.12569\n",
       " -0.0290432   0.317499\n",
       "\n",
       "[:, :, 1, 2] =\n",
       " -0.252609  -0.300754\n",
       " -0.160954  -0.176493\n",
       "\n",
       "[:, :, 2, 2] =\n",
       " 0.0754882  0.0319571\n",
       " 0.0779693  0.02484\n",
       "\n",
       "[:, :, 1, 3] =\n",
       " -0.278171  -0.275091\n",
       " -0.302967  -0.342643\n",
       "\n",
       "[:, :, 2, 3] =\n",
       " 0.0552297  -0.0339235\n",
       " 0.257022    0.146696"
      ]
     },
     "metadata": {},
     "output_type": "display_data"
    },
    {
     "name": "stdout",
     "output_type": "stream",
     "text": [
      "size(att) = (2, 2, 2, 3)\n",
      "###########\n",
      "att = \n"
     ]
    },
    {
     "data": {
      "text/plain": [
       "2×2×2×3 Array{Float64, 4}:\n",
       "[:, :, 1, 1] =\n",
       "  -0.228709  -0.1783\n",
       " -Inf        -0.361475\n",
       "\n",
       "[:, :, 2, 1] =\n",
       "   0.0833522  -0.12569\n",
       " -Inf          0.317499\n",
       "\n",
       "[:, :, 1, 2] =\n",
       "  -0.252609  -0.300754\n",
       " -Inf        -0.176493\n",
       "\n",
       "[:, :, 2, 2] =\n",
       "   0.0754882  0.0319571\n",
       " -Inf         0.02484\n",
       "\n",
       "[:, :, 1, 3] =\n",
       "  -0.278171  -0.275091\n",
       " -Inf        -0.342643\n",
       "\n",
       "[:, :, 2, 3] =\n",
       "   0.0552297  -0.0339235\n",
       " -Inf          0.146696"
      ]
     },
     "metadata": {},
     "output_type": "display_data"
    },
    {
     "name": "stdout",
     "output_type": "stream",
     "text": [
      "size(att) = (2, 2, 2, 3)\n",
      "###########\n",
      "att = \n"
     ]
    },
    {
     "data": {
      "text/plain": [
       "2×2×2×3 Array{Float64, 4}:\n",
       "[:, :, 1, 1] =\n",
       " 1.0  0.545666\n",
       " 0.0  0.454334\n",
       "\n",
       "[:, :, 2, 1] =\n",
       " 1.0  0.390981\n",
       " 0.0  0.609019\n",
       "\n",
       "[:, :, 1, 2] =\n",
       " 1.0  0.468975\n",
       " 0.0  0.531025\n",
       "\n",
       "[:, :, 2, 2] =\n",
       " 1.0  0.501779\n",
       " 0.0  0.498221\n",
       "\n",
       "[:, :, 1, 3] =\n",
       " 1.0  0.516881\n",
       " 0.0  0.483119\n",
       "\n",
       "[:, :, 2, 3] =\n",
       " 1.0  0.454968\n",
       " 0.0  0.545032"
      ]
     },
     "metadata": {},
     "output_type": "display_data"
    },
    {
     "name": "stdout",
     "output_type": "stream",
     "text": [
      "size(att) = (2, 2, 2, 3)\n",
      "###########\n",
      "y = \n"
     ]
    },
    {
     "data": {
      "text/plain": [
       "4×2×2×3 Array{Float64, 4}:\n",
       "[:, :, 1, 1] =\n",
       "  0.237304    0.469036\n",
       " -0.476313   -0.628096\n",
       " -0.0597774   0.0229413\n",
       " -0.491176   -0.597952\n",
       "\n",
       "[:, :, 2, 1] =\n",
       "  0.66521    0.501231\n",
       " -0.125585  -0.046246\n",
       "  1.08621    1.18573\n",
       "  0.27952    0.372563\n",
       "\n",
       "[:, :, 1, 2] =\n",
       "  0.389731   0.61376\n",
       " -0.370353  -0.359439\n",
       "  0.27309    0.304204\n",
       " -0.598401  -0.722822\n",
       "\n",
       "[:, :, 2, 2] =\n",
       "  0.640869   0.601802\n",
       " -0.708061  -0.620256\n",
       "  1.8196     1.78176\n",
       "  0.542511   0.366194\n",
       "\n",
       "[:, :, 1, 3] =\n",
       "  0.438712    0.297446\n",
       " -0.473129   -0.563334\n",
       "  0.0635641  -0.0934848\n",
       " -0.894591   -0.673838\n",
       "\n",
       "[:, :, 2, 3] =\n",
       "  0.787341   0.768212\n",
       " -0.105512  -0.0285846\n",
       "  1.38208    1.20268\n",
       "  0.835584   0.78834"
      ]
     },
     "metadata": {},
     "output_type": "display_data"
    },
    {
     "name": "stdout",
     "output_type": "stream",
     "text": [
      "size(y) = (4, 2, 2, 3)\n",
      "###########\n",
      "y = \n"
     ]
    },
    {
     "data": {
      "text/plain": [
       "8×2×3 Array{Float64, 3}:\n",
       "[:, :, 1] =\n",
       "  0.237304    0.469036\n",
       " -0.476313   -0.628096\n",
       " -0.0597774   0.0229413\n",
       " -0.491176   -0.597952\n",
       "  0.66521     0.501231\n",
       " -0.125585   -0.046246\n",
       "  1.08621     1.18573\n",
       "  0.27952     0.372563\n",
       "\n",
       "[:, :, 2] =\n",
       "  0.389731   0.61376\n",
       " -0.370353  -0.359439\n",
       "  0.27309    0.304204\n",
       " -0.598401  -0.722822\n",
       "  0.640869   0.601802\n",
       " -0.708061  -0.620256\n",
       "  1.8196     1.78176\n",
       "  0.542511   0.366194\n",
       "\n",
       "[:, :, 3] =\n",
       "  0.438712    0.297446\n",
       " -0.473129   -0.563334\n",
       "  0.0635641  -0.0934848\n",
       " -0.894591   -0.673838\n",
       "  0.787341    0.768212\n",
       " -0.105512   -0.0285846\n",
       "  1.38208     1.20268\n",
       "  0.835584    0.78834"
      ]
     },
     "metadata": {},
     "output_type": "display_data"
    },
    {
     "name": "stdout",
     "output_type": "stream",
     "text": [
      "size(y) = (8, 2, 3)\n",
      "###########\n",
      "y = \n"
     ]
    },
    {
     "data": {
      "text/plain": [
       "8×2×3 Array{Float64, 3}:\n",
       "[:, :, 1] =\n",
       "  0.029056  -0.155081\n",
       " -0.839923  -0.737924\n",
       "  0.277747   0.200378\n",
       " -0.206205  -0.365214\n",
       " -0.981166  -1.0262\n",
       "  0.948935   1.16492\n",
       " -0.542494  -0.491691\n",
       " -0.616478  -0.639192\n",
       "\n",
       "[:, :, 2] =\n",
       " -0.426091   -0.532622\n",
       " -1.09355    -1.06898\n",
       "  0.0975944   0.103989\n",
       " -0.556545   -0.698734\n",
       " -1.26863    -1.07909\n",
       "  1.31767     1.45332\n",
       " -0.393841   -0.271048\n",
       " -0.816986   -0.71484\n",
       "\n",
       "[:, :, 3] =\n",
       " -0.161317    0.0608505\n",
       " -0.67516    -0.650905\n",
       "  0.0858993   0.149302\n",
       " -0.445579   -0.230135\n",
       " -1.39184    -1.38273\n",
       "  1.67554     1.37706\n",
       " -0.547968   -0.697065\n",
       " -0.804798   -0.841862"
      ]
     },
     "metadata": {},
     "output_type": "display_data"
    },
    {
     "name": "stdout",
     "output_type": "stream",
     "text": [
      "size(y) = (8, 2, 3)\n"
     ]
    },
    {
     "data": {
      "text/plain": [
       "8×2×3 Array{Float64, 3}:\n",
       "[:, :, 1] =\n",
       "  0.029056  -0.155081\n",
       " -0.839923  -0.737924\n",
       "  0.277747   0.200378\n",
       " -0.206205  -0.365214\n",
       " -0.981166  -1.0262\n",
       "  0.948935   1.16492\n",
       " -0.542494  -0.491691\n",
       " -0.616478  -0.639192\n",
       "\n",
       "[:, :, 2] =\n",
       " -0.426091   -0.532622\n",
       " -1.09355    -1.06898\n",
       "  0.0975944   0.103989\n",
       " -0.556545   -0.698734\n",
       " -1.26863    -1.07909\n",
       "  1.31767     1.45332\n",
       " -0.393841   -0.271048\n",
       " -0.816986   -0.71484\n",
       "\n",
       "[:, :, 3] =\n",
       " -0.161317    0.0608505\n",
       " -0.67516    -0.650905\n",
       "  0.0858993   0.149302\n",
       " -0.445579   -0.230135\n",
       " -1.39184    -1.38273\n",
       "  1.67554     1.37706\n",
       " -0.547968   -0.697065\n",
       " -0.804798   -0.841862"
      ]
     },
     "execution_count": 38,
     "metadata": {},
     "output_type": "execute_result"
    }
   ],
   "source": [
    "x = rand(8, 2, 3)\n",
    "csa(x)"
   ]
  },
  {
   "cell_type": "code",
   "execution_count": null,
   "id": "85b46167-79ed-49ae-9b7e-22a077e5a586",
   "metadata": {},
   "outputs": [],
   "source": []
  }
 ],
 "metadata": {
  "kernelspec": {
   "display_name": "Julia 1.8.0",
   "language": "julia",
   "name": "julia-1.8"
  },
  "language_info": {
   "file_extension": ".jl",
   "mimetype": "application/julia",
   "name": "julia",
   "version": "1.8.2"
  }
 },
 "nbformat": 4,
 "nbformat_minor": 5
}
