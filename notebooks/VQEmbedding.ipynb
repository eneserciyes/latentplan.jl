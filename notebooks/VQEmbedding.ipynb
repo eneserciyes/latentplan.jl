{
 "cells": [
  {
   "cell_type": "code",
   "execution_count": 1,
   "id": "f5328b3d-8702-4885-953b-6b3e91bdfba0",
   "metadata": {},
   "outputs": [
    {
     "name": "stderr",
     "output_type": "stream",
     "text": [
      "\u001b[32m\u001b[1m  Activating\u001b[22m\u001b[39m project at `~/Projects/comp441/latentplan.jl`\n"
     ]
    }
   ],
   "source": [
    "using Pkg;\n",
    "Pkg.activate(\"..\")"
   ]
  },
  {
   "cell_type": "code",
   "execution_count": 2,
   "id": "ec19ca29-23ab-409f-9b40-31d1c5f65069",
   "metadata": {},
   "outputs": [],
   "source": [
    "using Knet\n",
    "using AutoGrad\n",
    "using Distributions\n",
    "using Debugger"
   ]
  },
  {
   "cell_type": "code",
   "execution_count": 148,
   "id": "a3830f3b-564f-4e50-a89e-54c77f0c5c4c",
   "metadata": {},
   "outputs": [
    {
     "data": {
      "text/plain": [
       "@size (macro with 2 methods)"
      ]
     },
     "execution_count": 148,
     "metadata": {},
     "output_type": "execute_result"
    }
   ],
   "source": [
    "macro size(e::Symbol)\n",
    "    quote\n",
    "        println($(string(e)), \" = \", $(esc(e)))\n",
    "        if applicable(size, $(esc(e)))\n",
    "            println(\"size(\",$(string(e)), \") = \", size($(esc(e))))\n",
    "        end\n",
    "    end\n",
    "end"
   ]
  },
  {
   "cell_type": "code",
   "execution_count": 149,
   "id": "eac45d2c-f939-438b-af6d-a45c11c38c77",
   "metadata": {},
   "outputs": [
    {
     "name": "stdout",
     "output_type": "stream",
     "text": [
      "e = (1, 1)\n",
      "b = [0.29190395824649285 0.7836548578519952 0.05678593146376054 0.9141141870559594; 0.20564022831226347 0.6465200482467607 0.2370892245807702 0.9062440094849393; 0.628226901133905 0.10375718841262294 0.8565299802624302 0.844868260779564; 0.799184825700346 0.7126346920678022 0.6071012828079465 0.4085747277304722]\n",
      "size(b) = (4, 4)\n"
     ]
    }
   ],
   "source": [
    "e = (1,1)\n",
    "b = rand(4,4)\n",
    "@size e\n",
    "@size b"
   ]
  },
  {
   "cell_type": "code",
   "execution_count": 198,
   "id": "381a339f-9a43-4c05-87a6-d311d9329ed0",
   "metadata": {},
   "outputs": [],
   "source": [
    "function vq(inputs, codebook)\n",
    "    embedding_size = size(codebook,1)\n",
    "    inputs_size = size(inputs)\n",
    "    inputs_flatten = reshape(inputs, (embedding_size, :))\n",
    "    \n",
    "    codebook_sqr = transpose(sum(codebook .^ 2, dims=1))\n",
    "    inputs_sqr = sum(inputs_flatten .^ 2, dims=1)\n",
    "    distances = (codebook_sqr .+ inputs_sqr) + -2 * (transpose(codebook) * inputs_flatten)\n",
    "    indices_cartesian = argmin(distances, dims=1)\n",
    "    indices_flatten = broadcast(x->x[1], indices_cartesian)\n",
    "    indices = reshape(indices_flatten, inputs_size[2:end])\n",
    "    return indices\n",
    "end\n",
    "\n",
    "function vq_st(inputs, codebook)\n",
    "    indices = vq(inputs, codebook)\n",
    "    indices_flatten = reshape(indices, :)\n",
    "    codes_flatten = codebook[:, indices]\n",
    "    codes = reshape(codes_flatten, size(inputs))\n",
    "    return codes, indices_flatten\n",
    "end\n",
    "\n",
    "function vq_st_codebook_backprop(inputs, codebook, output, grad_output)\n",
    "    _, indices = output\n",
    "    embedding_size = size(codebook, 1)\n",
    "    grad_output_flatten = reshape(grad_output, (embedding_size, :))\n",
    "    grad_codebook = zeros(Float32, size(codebook))\n",
    "    grad_codebook[:, indices] += grad_output_flatten[:, indices]\n",
    "    return grad_codebook\n",
    "end\n",
    "\n",
    "@primitive vq_st(inputs, codebook),dy,y dy vq_st_codebook_backprop(inputs,codebook, y, dy)  "
   ]
  },
  {
   "cell_type": "code",
   "execution_count": 190,
   "id": "7284ff2f",
   "metadata": {},
   "outputs": [],
   "source": [
    "mutable struct Embedding\n",
    "    weight::Param\n",
    "\n",
    "    function Embedding(D, K)\n",
    "        weight = Param(rand(Uniform(-1/K, 1/K), (D, K)))\n",
    "        new(weight)\n",
    "    end\n",
    "end\n",
    "\n",
    "function (e::Embedding)(x)\n",
    "    print(\"Embedding forward\")\n",
    "    weight * transpose(x)\n",
    "end"
   ]
  },
  {
   "cell_type": "code",
   "execution_count": 187,
   "id": "3bd31355",
   "metadata": {},
   "outputs": [],
   "source": [
    "mutable struct VQEmbedding\n",
    "    embedding::Embedding\n",
    "\n",
    "    function VQEmbedding(D, K)\n",
    "        println(\"Creating VQEmbedding\")\n",
    "        embedding = Embedding(D, K)\n",
    "        new(embedding)\n",
    "    end\n",
    "end\n",
    "\n",
    "function (v::VQEmbedding)(z_e_x)\n",
    "    println(\"VQEmbedding Forward\")\n",
    "    latents = vq(z_e_x, v.embedding.weight)\n",
    "    return latents\n",
    "end\n",
    "\n",
    "function (v::VQEmbedding)(z_e_x, straight_through::Bool)\n",
    "    z_q_x, indices = vq_st(z_e_x, v.embedding.weight)\n",
    "    z_q_x_bar = v.embedding.weight[:, indices]\n",
    "    return z_q_x, z_q_x_bar\n",
    "end"
   ]
  },
  {
   "cell_type": "code",
   "execution_count": 194,
   "id": "83b342f3-650e-4688-b4b9-b215d806c5dd",
   "metadata": {},
   "outputs": [
    {
     "name": "stdout",
     "output_type": "stream",
     "text": [
      "inputs = P(Array{Float64, 3}(4,2,1))\n",
      "Creating VQEmbedding\n",
      "codebook.embedding.weight = P(Matrix{Float64}(4,8))\n"
     ]
    },
    {
     "data": {
      "text/plain": [
       "4×8 Param{Matrix{Float64}}:\n",
       " -0.112099    0.122443   0.0564891  -0.0733504  …   0.0282702   -0.118773\n",
       "  0.0688482  -0.106894  -0.0309742   0.0269659      0.00436635  -0.0201115\n",
       " -0.0758263  -0.117534   0.112868   -0.0439643     -0.0788019    0.028299\n",
       " -0.119934    0.101106  -0.0955869  -0.017539      -0.089427     0.0368782"
      ]
     },
     "execution_count": 194,
     "metadata": {},
     "output_type": "execute_result"
    }
   ],
   "source": [
    "inputs = Param(zeros(4, 2, 1))\n",
    "fill!(view(inputs, :, 2, :), 1)\n",
    "@show inputs\n",
    "codebook = VQEmbedding(4,8)\n",
    "@show codebook.embedding.weight"
   ]
  },
  {
   "cell_type": "code",
   "execution_count": 195,
   "id": "863491a0-6887-4f16-b47e-525775c82658",
   "metadata": {},
   "outputs": [
    {
     "data": {
      "text/plain": [
       "VQEmbedding"
      ]
     },
     "execution_count": 195,
     "metadata": {},
     "output_type": "execute_result"
    }
   ],
   "source": [
    "typeof(codebook)"
   ]
  },
  {
   "cell_type": "code",
   "execution_count": 196,
   "id": "30b996b5",
   "metadata": {},
   "outputs": [
    {
     "name": "stdout",
     "output_type": "stream",
     "text": [
      "VQEmbedding Forward\n"
     ]
    },
    {
     "data": {
      "text/plain": [
       "2×1 Matrix{Int64}:\n",
       " 4\n",
       " 3"
      ]
     },
     "execution_count": 196,
     "metadata": {},
     "output_type": "execute_result"
    }
   ],
   "source": [
    "codebook(inputs)"
   ]
  },
  {
   "cell_type": "code",
   "execution_count": 203,
   "id": "14f1c5ad-eb9d-4f16-a167-6584747d578a",
   "metadata": {},
   "outputs": [
    {
     "name": "stdout",
     "output_type": "stream",
     "text": [
      "indices = [4; 3;;]\n",
      "size(indices) = (2, 1)\n",
      "indices_flatten = [4, 3]\n",
      "size(indices_flatten) = (2,)\n",
      "codes_flatten = [-0.07335043048776543 0.05648909989422812; 0.02696587974332243 -0.030974164157332063; -0.04396434630864143 0.11286802874038543; -0.017538952213784653 -0.09558689212070395;;;]\n",
      "size(codes_flatten) = (4, 2, 1)\n",
      "codes = [-0.07335043048776543 0.05648909989422812; 0.02696587974332243 -0.030974164157332063; -0.04396434630864143 0.11286802874038543; -0.017538952213784653 -0.09558689212070395;;;]\n",
      "size(codes) = (4, 2, 1)\n"
     ]
    },
    {
     "data": {
      "text/plain": [
       "-0.07335043048776543"
      ]
     },
     "execution_count": 203,
     "metadata": {},
     "output_type": "execute_result"
    }
   ],
   "source": [
    "codebook(inputs, straight_through=true)[1][1]"
   ]
  },
  {
   "cell_type": "code",
   "execution_count": 201,
   "id": "35f7d5b0-b46f-49f8-afa0-21a1ef87da0f",
   "metadata": {},
   "outputs": [
    {
     "data": {
      "text/plain": [
       "4×2×1 Array{Float64, 3}:\n",
       "[:, :, 1] =\n",
       " -0.0733504   0.0564891\n",
       "  0.0269659  -0.0309742\n",
       " -0.0439643   0.112868\n",
       " -0.017539   -0.0955869"
      ]
     },
     "execution_count": 201,
     "metadata": {},
     "output_type": "execute_result"
    }
   ],
   "source": [
    "latents_st"
   ]
  },
  {
   "cell_type": "markdown",
   "id": "30ad4246-b339-470a-9ec0-47a813a0ee24",
   "metadata": {},
   "source": [
    "# Test for primitive usage"
   ]
  },
  {
   "cell_type": "code",
   "execution_count": 3,
   "id": "8cf85bee-5ebe-4ac1-b637-b1c7d0e33add",
   "metadata": {},
   "outputs": [
    {
     "data": {
      "text/plain": [
       "test (generic function with 1 method)"
      ]
     },
     "execution_count": 3,
     "metadata": {},
     "output_type": "execute_result"
    }
   ],
   "source": [
    "function test(x,y)\n",
    "    return sum(x+2*y)\n",
    "end"
   ]
  },
  {
   "cell_type": "code",
   "execution_count": 13,
   "id": "03336092-26f7-4ac6-afec-de4d16e5cdcc",
   "metadata": {},
   "outputs": [
    {
     "data": {
      "text/plain": [
       "T(1296)"
      ]
     },
     "execution_count": 13,
     "metadata": {},
     "output_type": "execute_result"
    }
   ],
   "source": [
    "x1, x2 = Param([1,2,3]), Param([4,5,6])\n",
    "y = @diff test(x1, x2) ^ 2"
   ]
  },
  {
   "cell_type": "code",
   "execution_count": 14,
   "id": "7634b4a9-c78f-4a45-a147-5afb66d0a942",
   "metadata": {},
   "outputs": [
    {
     "data": {
      "text/plain": [
       "72"
      ]
     },
     "execution_count": 14,
     "metadata": {},
     "output_type": "execute_result"
    }
   ],
   "source": [
    "grad(y, x1)"
   ]
  },
  {
   "cell_type": "code",
   "execution_count": 9,
   "id": "62e3a874-8fee-4e8c-96bf-3ed1ba07535a",
   "metadata": {},
   "outputs": [],
   "source": [
    "@primitive test(x1, x2),dy,y dy dy"
   ]
  },
  {
   "cell_type": "code",
   "execution_count": 24,
   "id": "f2200d14-bed4-47f3-9634-a7fc88d96419",
   "metadata": {},
   "outputs": [
    {
     "data": {
      "text/plain": [
       "T(3)"
      ]
     },
     "execution_count": 24,
     "metadata": {},
     "output_type": "execute_result"
    }
   ],
   "source": [
    "y = @diff test(x1, x2)"
   ]
  },
  {
   "cell_type": "code",
   "execution_count": 28,
   "id": "e005de95-132f-4b18-aa1e-9d39d0c31247",
   "metadata": {},
   "outputs": [
    {
     "data": {
      "text/plain": [
       "R(3)"
      ]
     },
     "execution_count": 28,
     "metadata": {},
     "output_type": "execute_result"
    }
   ],
   "source": [
    "grad(y, x2)"
   ]
  },
  {
   "cell_type": "markdown",
   "id": "36f3812d-6c7e-4bbe-a72b-92c19dcd9dec",
   "metadata": {},
   "source": [
    "# Test for Param indexing"
   ]
  },
  {
   "cell_type": "code",
   "execution_count": 65,
   "id": "98e9aedd-cb01-4707-98ac-cf8c196ea2c0",
   "metadata": {},
   "outputs": [
    {
     "data": {
      "text/plain": [
       "select_second (generic function with 2 methods)"
      ]
     },
     "execution_count": 65,
     "metadata": {},
     "output_type": "execute_result"
    }
   ],
   "source": [
    "function select_second(x1, x2)\n",
    "    y = x1[1] ^ 2 * x2[2] * 3 * x1[3]\n",
    "    return y\n",
    "end"
   ]
  },
  {
   "cell_type": "code",
   "execution_count": 66,
   "id": "0f8cff8f-a2fc-491c-8bb8-ae04982839e6",
   "metadata": {},
   "outputs": [
    {
     "data": {
      "text/plain": [
       "T(18)"
      ]
     },
     "execution_count": 66,
     "metadata": {},
     "output_type": "execute_result"
    }
   ],
   "source": [
    "x1 = Param([1, 2, 3])\n",
    "x2 = Param([1, 2, 3])\n",
    "y = @diff select_second(x1, x2)"
   ]
  },
  {
   "cell_type": "code",
   "execution_count": null,
   "id": "c81b54f0-d35a-45f8-b14b-27cc761c6d5d",
   "metadata": {},
   "outputs": [],
   "source": []
  }
 ],
 "metadata": {
  "kernelspec": {
   "display_name": "Julia 1.8.0",
   "language": "julia",
   "name": "julia-1.8"
  },
  "language_info": {
   "file_extension": ".jl",
   "mimetype": "application/julia",
   "name": "julia",
   "version": "1.8.2"
  }
 },
 "nbformat": 4,
 "nbformat_minor": 5
}
