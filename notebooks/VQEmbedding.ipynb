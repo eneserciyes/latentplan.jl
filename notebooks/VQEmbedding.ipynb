{
 "cells": [
  {
   "cell_type": "code",
   "execution_count": 1,
   "id": "f5328b3d-8702-4885-953b-6b3e91bdfba0",
   "metadata": {},
   "outputs": [
    {
     "name": "stderr",
     "output_type": "stream",
     "text": [
      "\u001b[32m\u001b[1m  Activating\u001b[22m\u001b[39m project at `~/Projects/comp441/latentplan.jl`\n"
     ]
    }
   ],
   "source": [
    "using Pkg;\n",
    "Pkg.activate(\"..\")"
   ]
  },
  {
   "cell_type": "code",
   "execution_count": 2,
   "id": "ec19ca29-23ab-409f-9b40-31d1c5f65069",
   "metadata": {},
   "outputs": [
    {
     "name": "stderr",
     "output_type": "stream",
     "text": [
      "WARNING: using Distributions.params in module Main conflicts with an existing identifier.\n"
     ]
    }
   ],
   "source": [
    "using Knet\n",
    "using AutoGrad\n",
    "using AutoGrad: params\n",
    "using Distributions\n",
    "using Debugger"
   ]
  },
  {
   "cell_type": "code",
   "execution_count": 3,
   "id": "a3830f3b-564f-4e50-a89e-54c77f0c5c4c",
   "metadata": {},
   "outputs": [
    {
     "data": {
      "text/plain": [
       "@size (macro with 1 method)"
      ]
     },
     "execution_count": 3,
     "metadata": {},
     "output_type": "execute_result"
    }
   ],
   "source": [
    "macro size(e::Union{Symbol, Expr})\n",
    "    quote\n",
    "        println(\"###########\")\n",
    "        println($(string(e)), \" = \")\n",
    "        display($(esc(e)))\n",
    "        if applicable(size, $(esc(e)))\n",
    "            println(\"size(\",$(string(e)), \") = \", size($(esc(e))))\n",
    "        end\n",
    "    end\n",
    "end"
   ]
  },
  {
   "cell_type": "markdown",
   "id": "98b406f3-2ff5-4c7e-9822-c7520f81e681",
   "metadata": {
    "tags": []
   },
   "source": [
    "# VQEmbedding and VectorQuantization"
   ]
  },
  {
   "cell_type": "code",
   "execution_count": 73,
   "id": "381a339f-9a43-4c05-87a6-d311d9329ed0",
   "metadata": {},
   "outputs": [],
   "source": [
    "function vq(inputs, codebook)\n",
    "    embedding_size = size(codebook,1)\n",
    "    inputs_size = size(inputs)\n",
    "    inputs_flatten = reshape(inputs, (embedding_size, :))\n",
    "    \n",
    "    codebook_sqr = transpose(sum(codebook .^ 2, dims=1))\n",
    "    inputs_sqr = sum(inputs_flatten .^ 2, dims=1)\n",
    "    distances = (codebook_sqr .+ inputs_sqr) + -2 * (transpose(codebook) * inputs_flatten)\n",
    "    indices_cartesian = argmin(distances, dims=1)\n",
    "    indices_flatten = broadcast(x->x[1], indices_cartesian)\n",
    "    indices = reshape(indices_flatten, inputs_size[2:end])\n",
    "    return indices\n",
    "end\n",
    "\n",
    "function vq_st(inputs, codebook)\n",
    "    indices = vq(inputs, codebook)\n",
    "    indices_flatten = reshape(indices, :)\n",
    "    codes_flatten = codebook[:, indices]\n",
    "    codes = reshape(codes_flatten, size(inputs))\n",
    "    return codes, indices_flatten\n",
    "end\n",
    "\n",
    "function vq_st_codebook_backprop(inputs, codebook, output, grad_output)\n",
    "    println(\"Backprop vq_st\")\n",
    "    _, indices = output\n",
    "    embedding_size = size(codebook, 1)\n",
    "    grad_output_flatten = reshape(grad_output[1], (embedding_size, :))\n",
    "    grad_codebook = zeros(Float32, size(codebook))\n",
    "    grad_codebook[:, indices] += grad_output_flatten\n",
    "    return grad_codebook\n",
    "end\n",
    "\n",
    "@primitive vq_st(inputs, codebook),dy,y dy[1] vq_st_codebook_backprop(inputs,codebook, y, dy)  "
   ]
  },
  {
   "cell_type": "code",
   "execution_count": 5,
   "id": "7284ff2f",
   "metadata": {},
   "outputs": [],
   "source": [
    "mutable struct Embedding\n",
    "    weight::Param\n",
    "\n",
    "    function Embedding(D, K)\n",
    "        weight = Param(rand(Uniform(-1/K, 1/K), (D, K)))\n",
    "        new(weight)\n",
    "    end\n",
    "end\n",
    "\n",
    "function (e::Embedding)(x)\n",
    "    print(\"Embedding forward\")\n",
    "    weight * transpose(x)\n",
    "end"
   ]
  },
  {
   "cell_type": "code",
   "execution_count": 36,
   "id": "3bd31355",
   "metadata": {},
   "outputs": [
    {
     "data": {
      "text/plain": [
       "straight_through (generic function with 3 methods)"
      ]
     },
     "execution_count": 36,
     "metadata": {},
     "output_type": "execute_result"
    }
   ],
   "source": [
    "mutable struct VQEmbedding\n",
    "    embedding::Embedding\n",
    "\n",
    "    function VQEmbedding(D, K)\n",
    "        println(\"Creating VQEmbedding\")\n",
    "        embedding = Embedding(D, K)\n",
    "        new(embedding)\n",
    "    end\n",
    "end\n",
    "\n",
    "function (v::VQEmbedding)(z_e_x)\n",
    "    println(\"VQEmbedding Forward\")\n",
    "    latents = vq(z_e_x, v.embedding.weight)\n",
    "    return latents\n",
    "end\n",
    "\n",
    "function straight_through(v::VQEmbedding, z_e_x)\n",
    "    z_q_x, indices = vq_st(z_e_x, v.embedding.weight)\n",
    "    z_q_x_bar = v.embedding.weight[:, indices]\n",
    "    return z_q_x, z_q_x_bar\n",
    "end"
   ]
  },
  {
   "cell_type": "code",
   "execution_count": 37,
   "id": "83b342f3-650e-4688-b4b9-b215d806c5dd",
   "metadata": {},
   "outputs": [
    {
     "name": "stdout",
     "output_type": "stream",
     "text": [
      "inputs = P(Array{Float32, 3}(4,2,1))\n",
      "Creating VQEmbedding\n",
      "codebook.embedding.weight = P(Matrix{Float64}(4,8))\n"
     ]
    },
    {
     "data": {
      "text/plain": [
       "4×8 Param{Matrix{Float64}}:\n",
       " -0.0013834  -0.0537871  -0.0838884  …  -0.00517189  -0.0313119  -0.0834134\n",
       " -0.123116    0.122444   -0.119361      -0.0753161   -0.0719027  -0.0572111\n",
       "  0.0247497  -0.0676382   0.0190005      0.0334828   -0.0264266   0.0787029\n",
       " -0.0171251   0.0138449  -0.0768991     -0.0673715   -0.114724   -0.0218046"
      ]
     },
     "execution_count": 37,
     "metadata": {},
     "output_type": "execute_result"
    }
   ],
   "source": [
    "inputs = Param(zeros(Float32, 4, 2, 1))\n",
    "fill!(view(inputs, :, 2, :), 1)\n",
    "@show inputs\n",
    "codebook = VQEmbedding(4,8)\n",
    "@show codebook.embedding.weight"
   ]
  },
  {
   "cell_type": "code",
   "execution_count": 38,
   "id": "30b996b5",
   "metadata": {},
   "outputs": [
    {
     "name": "stdout",
     "output_type": "stream",
     "text": [
      "VQEmbedding Forward\n"
     ]
    },
    {
     "data": {
      "text/plain": [
       "2×1 Matrix{Int64}:\n",
       " 5\n",
       " 2"
      ]
     },
     "execution_count": 38,
     "metadata": {},
     "output_type": "execute_result"
    }
   ],
   "source": [
    "codebook(inputs)"
   ]
  },
  {
   "cell_type": "code",
   "execution_count": 42,
   "id": "14f1c5ad-eb9d-4f16-a167-6584747d578a",
   "metadata": {},
   "outputs": [
    {
     "data": {
      "text/plain": [
       "4×2×1 Array{Float64, 3}:\n",
       "[:, :, 1] =\n",
       " -0.0609056  -0.0537871\n",
       " -0.0231273   0.122444\n",
       "  0.0203875  -0.0676382\n",
       " -0.0398396   0.0138449"
      ]
     },
     "execution_count": 42,
     "metadata": {},
     "output_type": "execute_result"
    }
   ],
   "source": [
    "straight_through(codebook, inputs)[1]"
   ]
  },
  {
   "cell_type": "code",
   "execution_count": 67,
   "id": "35f7d5b0-b46f-49f8-afa0-21a1ef87da0f",
   "metadata": {},
   "outputs": [
    {
     "data": {
      "text/plain": [
       "get_loss (generic function with 1 method)"
      ]
     },
     "execution_count": 67,
     "metadata": {},
     "output_type": "execute_result"
    }
   ],
   "source": [
    "function get_loss(latents)\n",
    "    return latents[1][3, 2, 1] + 2\n",
    "end"
   ]
  },
  {
   "cell_type": "code",
   "execution_count": 44,
   "id": "082b79a3-afc1-4035-ab15-8a1d8f17b551",
   "metadata": {},
   "outputs": [
    {
     "data": {
      "text/plain": [
       "T(1.939094423267588)"
      ]
     },
     "execution_count": 44,
     "metadata": {},
     "output_type": "execute_result"
    }
   ],
   "source": [
    "loss = @diff get_loss(straight_through(codebook, inputs))"
   ]
  },
  {
   "cell_type": "code",
   "execution_count": 12,
   "id": "d829b963-5d5e-41b6-a260-df986bd1252a",
   "metadata": {},
   "outputs": [
    {
     "data": {
      "text/plain": [
       "4×2×1 Array{Float64, 3}:\n",
       "[:, :, 1] =\n",
       " 1.0  0.0\n",
       " 0.0  0.0\n",
       " 0.0  0.0\n",
       " 0.0  0.0"
      ]
     },
     "execution_count": 12,
     "metadata": {},
     "output_type": "execute_result"
    }
   ],
   "source": [
    "grad(loss, inputs)"
   ]
  },
  {
   "cell_type": "code",
   "execution_count": 13,
   "id": "219bbf26-6074-4574-97ba-b139a47519f3",
   "metadata": {},
   "outputs": [
    {
     "data": {
      "text/plain": [
       "4×8 Matrix{Float32}:\n",
       " 0.0  0.0  0.0  0.0  0.0  0.0  0.0  1.0\n",
       " 0.0  0.0  0.0  0.0  0.0  0.0  0.0  0.0\n",
       " 0.0  0.0  0.0  0.0  0.0  0.0  0.0  0.0\n",
       " 0.0  0.0  0.0  0.0  0.0  0.0  0.0  0.0"
      ]
     },
     "execution_count": 13,
     "metadata": {},
     "output_type": "execute_result"
    }
   ],
   "source": [
    "grad(loss, codebook.embedding.weight)"
   ]
  },
  {
   "cell_type": "markdown",
   "id": "04c10bf1-3877-47ca-88a9-0239ff769de4",
   "metadata": {},
   "source": [
    "# One Hot Encoding"
   ]
  },
  {
   "cell_type": "code",
   "execution_count": 46,
   "id": "3ae775e4-1377-4238-83c7-62a5df517bc9",
   "metadata": {},
   "outputs": [],
   "source": [
    "function one_hot(Type, indices, class_num)\n",
    "    onehot = zeros(Type, class_num, size(indices)...)\n",
    "    for index in CartesianIndices(indices)\n",
    "        onehot[indices[index], index] = convert(Type, 1)\n",
    "    end\n",
    "    onehot\n",
    "end\n",
    "\n",
    "@primitive one_hot(Type, indices, class_num),dy,y nothing nothing nothing"
   ]
  },
  {
   "cell_type": "markdown",
   "id": "cc188197-4863-4e71-ab37-6b9a9951c785",
   "metadata": {},
   "source": [
    "# VQEmbeddingMovingAverage"
   ]
  },
  {
   "cell_type": "code",
   "execution_count": 82,
   "id": "ad1fc808-ab51-42f8-a789-1d0777c586d4",
   "metadata": {},
   "outputs": [
    {
     "data": {
      "text/plain": [
       "straight_through (generic function with 3 methods)"
      ]
     },
     "execution_count": 82,
     "metadata": {},
     "output_type": "execute_result"
    }
   ],
   "source": [
    "mutable struct VQEmbeddingMovingAverage\n",
    "    embedding\n",
    "    decay::Float32\n",
    "    ema_count\n",
    "    ema_w\n",
    "\n",
    "    function VQEmbeddingMovingAverage(D, K; decay=0.99f0)\n",
    "        embedding = rand(Uniform(-1/K, 1/K), (D, K))\n",
    "        ema_count = ones(K)\n",
    "        ema_w = deepcopy(embedding)\n",
    "        new(embedding, decay, ema_count, ema_w)\n",
    "    end\n",
    "end\n",
    "\n",
    "function (v::VQEmbeddingMovingAverage)(z_e_x)\n",
    "    vq(z_e_x, v.embedding.weight)\n",
    "end\n",
    "\n",
    "function straight_through(v::VQEmbeddingMovingAverage, z_e_x, train::Bool=true)\n",
    "    D, K = size(v.embedding)\n",
    "    z_q_x, indices = vq_st(z_e_x, v.embedding)\n",
    "    \n",
    "    if train\n",
    "        encodings = one_hot(Float32, indices, K)\n",
    "        v.ema_count = v.decay .* v.ema_count + (1 - v.decay) .* sum(encodings, dims=2)[:, 1]\n",
    "        dw = reshape(z_e_x, (D, :)) * transpose(encodings) \n",
    "        v.ema_w = v.decay .* v.ema_w + (1 - v.decay) .* dw\n",
    "        v.embedding = v.ema_w ./ reshape(v.ema_count, (1, :))\n",
    "        @size v.embedding\n",
    "    end\n",
    "\n",
    "    z_q_x_bar_flatten = v.embedding[:, indices]\n",
    "    z_q_x_bar = reshape(z_q_x_bar_flatten, size(z_e_x))\n",
    "\n",
    "    return z_q_x, z_q_x_bar\n",
    "end"
   ]
  },
  {
   "cell_type": "code",
   "execution_count": 89,
   "id": "006dddbf-a581-41fc-9014-6a40b0089815",
   "metadata": {},
   "outputs": [
    {
     "name": "stdout",
     "output_type": "stream",
     "text": [
      "###########\n",
      "inputs = \n"
     ]
    },
    {
     "data": {
      "text/plain": [
       "4×2×1 Param{Array{Float64, 3}}:\n",
       "[:, :, 1] =\n",
       " 0.0  1.0\n",
       " 0.0  1.0\n",
       " 0.0  1.0\n",
       " 0.0  1.0"
      ]
     },
     "metadata": {},
     "output_type": "display_data"
    },
    {
     "name": "stdout",
     "output_type": "stream",
     "text": [
      "size(inputs) = (4, 2, 1)\n",
      "###########\n",
      "codebook.embedding = \n"
     ]
    },
    {
     "data": {
      "text/plain": [
       "4×8 Matrix{Float64}:\n",
       "  0.0162179   0.0520691  -0.0154652  …  -0.0657131   0.096129   -0.0960628\n",
       " -0.113334    0.017766    0.097886      -0.0482823  -0.0650824  -0.0513131\n",
       "  0.0347081  -0.0591741   0.0612955      0.0573917  -0.0136534  -0.00142566\n",
       "  0.0292792   0.122822   -0.109728       0.0514431   0.0166219   0.112911"
      ]
     },
     "metadata": {},
     "output_type": "display_data"
    },
    {
     "name": "stdout",
     "output_type": "stream",
     "text": [
      "size(codebook.embedding) = (4, 8)\n"
     ]
    }
   ],
   "source": [
    "inputs = Param(zeros(4, 2, 1))\n",
    "fill!(view(inputs, :, 2, :), 1)\n",
    "@size inputs\n",
    "codebook = VQEmbeddingMovingAverage(4,8)\n",
    "@size codebook.embedding"
   ]
  },
  {
   "cell_type": "code",
   "execution_count": 90,
   "id": "aba31a0f-88db-4839-90fc-a6f7aeefcadd",
   "metadata": {},
   "outputs": [
    {
     "data": {
      "text/plain": [
       "4×8 Matrix{Float64}:\n",
       "  0.0162179   0.0520691  -0.0154652  …  -0.0657131   0.096129   -0.0960628\n",
       " -0.113334    0.017766    0.097886      -0.0482823  -0.0650824  -0.0513131\n",
       "  0.0347081  -0.0591741   0.0612955      0.0573917  -0.0136534  -0.00142566\n",
       "  0.0292792   0.122822   -0.109728       0.0514431   0.0166219   0.112911"
      ]
     },
     "execution_count": 90,
     "metadata": {},
     "output_type": "execute_result"
    }
   ],
   "source": [
    "codebook.embedding"
   ]
  },
  {
   "cell_type": "code",
   "execution_count": 91,
   "id": "093cb9d3-c4dd-4129-b8cb-3616f639dcf6",
   "metadata": {},
   "outputs": [
    {
     "name": "stdout",
     "output_type": "stream",
     "text": [
      "###########\n",
      "v.embedding = \n"
     ]
    },
    {
     "data": {
      "text/plain": [
       "4×8 AutoGrad.Result{Matrix{Float64}}:\n",
       "  0.0162179   0.0615484  -0.0154652  …  -0.065056    0.096129   -0.0960628\n",
       " -0.113334    0.0275883   0.097886      -0.0477994  -0.0650824  -0.0513131\n",
       "  0.0347081  -0.0485824   0.0612955      0.0568178  -0.0136534  -0.00142566\n",
       "  0.0292792   0.131593   -0.109728       0.0509286   0.0166219   0.112911"
      ]
     },
     "metadata": {},
     "output_type": "display_data"
    },
    {
     "name": "stdout",
     "output_type": "stream",
     "text": [
      "size(v.embedding) = (4, 8)\n"
     ]
    },
    {
     "data": {
      "text/plain": [
       "4×2×1 Array{Float64, 3}:\n",
       "[:, :, 1] =\n",
       " 0.0  0.0\n",
       " 0.0  0.0\n",
       " 0.0  1.0\n",
       " 0.0  0.0"
      ]
     },
     "execution_count": 91,
     "metadata": {},
     "output_type": "execute_result"
    }
   ],
   "source": [
    "loss = @diff get_loss(straight_through(codebook, inputs))\n",
    "grad(loss, inputs)"
   ]
  },
  {
   "cell_type": "code",
   "execution_count": 92,
   "id": "14a67cc6-990e-412e-b9ed-c5ba3d83d2c5",
   "metadata": {},
   "outputs": [
    {
     "data": {
      "text/plain": [
       "4×8 AutoGrad.Result{Matrix{Float64}}:\n",
       "  0.0162179   0.0615484  -0.0154652  …  -0.065056    0.096129   -0.0960628\n",
       " -0.113334    0.0275883   0.097886      -0.0477994  -0.0650824  -0.0513131\n",
       "  0.0347081  -0.0485824   0.0612955      0.0568178  -0.0136534  -0.00142566\n",
       "  0.0292792   0.131593   -0.109728       0.0509286   0.0166219   0.112911"
      ]
     },
     "execution_count": 92,
     "metadata": {},
     "output_type": "execute_result"
    }
   ],
   "source": [
    "codebook.embedding"
   ]
  },
  {
   "cell_type": "markdown",
   "id": "10882851-2126-4c57-b397-422e2ed0e5c0",
   "metadata": {},
   "source": [
    "# Grad test"
   ]
  },
  {
   "cell_type": "code",
   "execution_count": null,
   "id": "4f122662-74ae-4b1c-b480-a1b6ed039131",
   "metadata": {},
   "outputs": [],
   "source": []
  }
 ],
 "metadata": {
  "kernelspec": {
   "display_name": "Julia 1.8.0",
   "language": "julia",
   "name": "julia-1.8"
  },
  "language_info": {
   "file_extension": ".jl",
   "mimetype": "application/julia",
   "name": "julia",
   "version": "1.8.2"
  }
 },
 "nbformat": 4,
 "nbformat_minor": 5
}
