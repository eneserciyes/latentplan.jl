{
 "cells": [
  {
   "cell_type": "code",
   "execution_count": 1,
   "id": "f5328b3d-8702-4885-953b-6b3e91bdfba0",
   "metadata": {},
   "outputs": [
    {
     "name": "stderr",
     "output_type": "stream",
     "text": [
      "\u001b[32m\u001b[1m  Activating\u001b[22m\u001b[39m project at `~/Projects/comp441/latentplan.jl`\n"
     ]
    }
   ],
   "source": [
    "using Pkg;\n",
    "Pkg.activate(\"..\")"
   ]
  },
  {
   "cell_type": "code",
   "execution_count": 2,
   "id": "ec19ca29-23ab-409f-9b40-31d1c5f65069",
   "metadata": {},
   "outputs": [
    {
     "name": "stderr",
     "output_type": "stream",
     "text": [
      "WARNING: using Distributions.params in module Main conflicts with an existing identifier.\n"
     ]
    }
   ],
   "source": [
    "using Knet\n",
    "using AutoGrad\n",
    "using AutoGrad: params\n",
    "using Distributions\n",
    "using Debugger"
   ]
  },
  {
   "cell_type": "code",
   "execution_count": 3,
   "id": "a3830f3b-564f-4e50-a89e-54c77f0c5c4c",
   "metadata": {},
   "outputs": [
    {
     "data": {
      "text/plain": [
       "@size (macro with 1 method)"
      ]
     },
     "metadata": {},
     "output_type": "display_data"
    }
   ],
   "source": [
    "macro size(e::Union{Symbol, Expr})\n",
    "    quote\n",
    "        println(\"###########\")\n",
    "        println($(string(e)), \" = \")\n",
    "        display($(esc(e)))\n",
    "        if applicable(size, $(esc(e)))\n",
    "            println(\"size(\",$(string(e)), \") = \", size($(esc(e))))\n",
    "        end\n",
    "    end\n",
    "end"
   ]
  },
  {
   "cell_type": "markdown",
   "id": "98b406f3-2ff5-4c7e-9822-c7520f81e681",
   "metadata": {
    "tags": []
   },
   "source": [
    "# VQEmbedding and VectorQuantization"
   ]
  },
  {
   "cell_type": "code",
   "execution_count": 4,
   "id": "381a339f-9a43-4c05-87a6-d311d9329ed0",
   "metadata": {},
   "outputs": [],
   "source": [
    "# VectorQuantization\n",
    "function vq(inputs::atype, codebook::atype)\n",
    "    embedding_size = size(codebook,1)\n",
    "    inputs_size = size(inputs)\n",
    "    inputs_flatten = reshape(inputs, (embedding_size, :))\n",
    "    \n",
    "    codebook_sqr = dropdims(sum(codebook .^ 2, dims=1), dims=1)\n",
    "    inputs_sqr = sum(inputs_flatten .^ 2, dims=1)\n",
    "    distances = (codebook_sqr .+ inputs_sqr) + -2 * (transpose(codebook) * inputs_flatten)\n",
    "    indices_cartesian = argmin(distances, dims=1)\n",
    "    indices_flatten = broadcast(x->x[1], indices_cartesian)\n",
    "    indices = reshape(indices_flatten, inputs_size[2:end])\n",
    "    return indices\n",
    "end\n",
    "\n",
    "# VectorQuantizationStraightThrough\n",
    "function vq_st(inputs::atype, codebook::atype)\n",
    "    indices = vq(inputs, codebook)\n",
    "    indices_flatten = reshape(indices, :)\n",
    "    codes_flatten = codebook[:, indices]\n",
    "    codes = reshape(codes_flatten, size(inputs))\n",
    "    return codes, indices_flatten\n",
    "end\n",
    "\n",
    "# VectorQuantizationStraightThrough Backwards gradient calculation\n",
    "function vq_st_codebook_backprop(codebook, output, grad_output)\n",
    "    _, indices = output\n",
    "    embedding_size = size(codebook, 1)\n",
    "    grad_output_flatten = reshape(grad_output[1], (embedding_size, :))\n",
    "    grad_codebook = atype(zeros(Float32, size(codebook)))\n",
    "    grad_codebook[:, indices] += grad_output_flatten\n",
    "    return grad_codebook\n",
    "end\n",
    "\n",
    "# gradient definition for straight through estimation\n",
    "@primitive vq_st(inputs, codebook),dy,y dy[1] vq_st_codebook_backprop(codebook, y, dy)  "
   ]
  },
  {
   "cell_type": "markdown",
   "id": "04c10bf1-3877-47ca-88a9-0239ff769de4",
   "metadata": {},
   "source": [
    "# One Hot Encoding"
   ]
  },
  {
   "cell_type": "code",
   "execution_count": 5,
   "id": "35f7d5b0-b46f-49f8-afa0-21a1ef87da0f",
   "metadata": {},
   "outputs": [
    {
     "data": {
      "text/plain": [
       "get_loss (generic function with 1 method)"
      ]
     },
     "metadata": {},
     "output_type": "display_data"
    }
   ],
   "source": [
    "function get_loss(latents)\n",
    "    return latents[1][3, 2, 1] + 2\n",
    "end"
   ]
  },
  {
   "cell_type": "code",
   "execution_count": 6,
   "id": "3ae775e4-1377-4238-83c7-62a5df517bc9",
   "metadata": {},
   "outputs": [],
   "source": [
    "function one_hot(Type, indices, class_num)\n",
    "    onehot = zeros(Type, class_num, size(indices)...)\n",
    "    for index in CartesianIndices(indices)\n",
    "        onehot[indices[index], index] = convert(Type, 1)\n",
    "    end\n",
    "    onehot\n",
    "end\n",
    "\n",
    "@primitive one_hot(Type, indices, class_num),dy,y nothing nothing nothing\n"
   ]
  },
  {
   "cell_type": "markdown",
   "id": "cc188197-4863-4e71-ab37-6b9a9951c785",
   "metadata": {},
   "source": [
    "# VQEmbeddingMovingAverage"
   ]
  },
  {
   "cell_type": "code",
   "execution_count": 7,
   "id": "ad1fc808-ab51-42f8-a789-1d0777c586d4",
   "metadata": {},
   "outputs": [
    {
     "data": {
      "text/plain": [
       "straight_through (generic function with 2 methods)"
      ]
     },
     "metadata": {},
     "output_type": "display_data"
    }
   ],
   "source": [
    "mutable struct VQEmbeddingMovingAverage\n",
    "    embedding\n",
    "    decay\n",
    "    ema_count\n",
    "    ema_w\n",
    "\n",
    "    function VQEmbeddingMovingAverage(D, K; decay=0.99f0)\n",
    "        embedding = atype(Float32.(rand(Uniform(-1/K, 1/K), (D, K))))\n",
    "        ema_count = atype(ones(Float32, K))\n",
    "        ema_w = deepcopy(embedding)\n",
    "        new(embedding, decay, ema_count, ema_w)\n",
    "    end\n",
    "end\n",
    "\n",
    "function (v::VQEmbeddingMovingAverage)(z_e_x)\n",
    "    vq(z_e_x, v.embedding.weight)\n",
    "end\n",
    "\n",
    "function straight_through(v::VQEmbeddingMovingAverage, z_e_x, train::Bool=true)\n",
    "    D, K = size(v.embedding)\n",
    "    z_q_x, indices = vq_st(z_e_x, v.embedding)\n",
    "    \n",
    "    if train\n",
    "        encodings = one_hot(Float32, indices, K)\n",
    "        v.ema_count = v.decay .* v.ema_count + (1 - v.decay) .* sum(encodings, dims=2)[:, 1]\n",
    "        dw = reshape(z_e_x, (D, :)) * transpose(encodings) \n",
    "        v.ema_w = v.decay .* v.ema_w + (1 - v.decay) .* dw\n",
    "        v.embedding = v.ema_w ./ reshape(v.ema_count, (1, :))\n",
    "    end\n",
    "\n",
    "    z_q_x_bar_flatten = v.embedding[:, indices]\n",
    "    z_q_x_bar = reshape(z_q_x_bar_flatten, size(z_e_x))\n",
    "\n",
    "    return z_q_x, z_q_x_bar\n",
    "end"
   ]
  },
  {
   "cell_type": "code",
   "execution_count": 8,
   "id": "006dddbf-a581-41fc-9014-6a40b0089815",
   "metadata": {},
   "outputs": [
    {
     "data": {
      "text/plain": [
       "4×2×1 Param{Array{Float64, 3}}:\n",
       "[:, :, 1] =\n",
       " 0.0  1.0\n",
       " 0.0  1.0\n",
       " 0.0  1.0\n",
       " 0.0  1.0"
      ]
     },
     "metadata": {},
     "output_type": "display_data"
    },
    {
     "name": "stdout",
     "output_type": "stream",
     "text": [
      "###########\n",
      "inputs = \n",
      "size("
     ]
    },
    {
     "name": "stdout",
     "output_type": "stream",
     "text": [
      "inputs) = (4, 2, 1)\n"
     ]
    },
    {
     "data": {
      "text/plain": [
       "4×8 Matrix{Float64}:\n",
       "  0.0885293  -0.116828     0.0383815  …   0.00128087   0.0333134  -0.0529688\n",
       " -0.020553    0.00260281  -0.0304915      0.0481597    0.12287    -0.0887993\n",
       "  0.0827049  -0.108817    -0.117196      -0.091772     0.0761856   0.105826\n",
       "  0.0461754   0.00643331  -0.064942       0.0872004   -0.0710666  -0.0769491"
      ]
     },
     "metadata": {},
     "output_type": "display_data"
    },
    {
     "name": "stdout",
     "output_type": "stream",
     "text": [
      "###########\n",
      "codebook.embedding = \n",
      "size("
     ]
    },
    {
     "name": "stdout",
     "output_type": "stream",
     "text": [
      "codebook.embedding) = (4, 8)\n"
     ]
    }
   ],
   "source": [
    "inputs = Param(zeros(4, 2, 1))\n",
    "fill!(view(inputs, :, 2, :), 1)\n",
    "@size inputs\n",
    "codebook = VQEmbeddingMovingAverage(4,8)\n",
    "@size codebook.embedding"
   ]
  },
  {
   "cell_type": "code",
   "execution_count": 9,
   "id": "093cb9d3-c4dd-4129-b8cb-3616f639dcf6",
   "metadata": {},
   "outputs": [
    {
     "data": {
      "text/plain": [
       "4×8 AutoGrad.Result{Matrix{Float64}}:\n",
       "  0.0966772  -0.116828     0.0383815  …   0.00128087   0.0333134  -0.0529688\n",
       " -0.010245    0.00260281  -0.0304915      0.0481597    0.12287    -0.0887993\n",
       "  0.0909681  -0.108817    -0.117196      -0.091772     0.0761856   0.105826\n",
       "  0.055162    0.00643331  -0.064942       0.0872004   -0.0710666  -0.0769491"
      ]
     },
     "metadata": {},
     "output_type": "display_data"
    },
    {
     "name": "stdout",
     "output_type": "stream",
     "text": [
      "###########\n",
      "v.embedding = \n",
      "size("
     ]
    },
    {
     "name": "stdout",
     "output_type": "stream",
     "text": [
      "v.embedding) = (4, 8)\n"
     ]
    },
    {
     "data": {
      "text/plain": [
       "4×2×1 Array{Float64, 3}:\n",
       "[:, :, 1] =\n",
       " 0.0  0.0\n",
       " 0.0  0.0\n",
       " 0.0  1.0\n",
       " 0.0  0.0"
      ]
     },
     "metadata": {},
     "output_type": "display_data"
    }
   ],
   "source": [
    "loss = @diff get_loss(straight_through(codebook, inputs))\n",
    "grad(loss, inputs)"
   ]
  }
 ],
 "metadata": {
  "kernelspec": {
   "display_name": "Julia 1.8.2",
   "language": "julia",
   "name": "julia-1.8"
  },
  "language_info": {
   "file_extension": ".jl",
   "mimetype": "application/julia",
   "name": "julia",
   "version": "1.8.2"
  }
 },
 "nbformat": 4,
 "nbformat_minor": 5
}
