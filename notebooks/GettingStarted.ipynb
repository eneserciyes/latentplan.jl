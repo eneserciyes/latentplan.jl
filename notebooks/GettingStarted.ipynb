{
 "cells": [
  {
   "cell_type": "code",
   "execution_count": 2,
   "id": "efd333c4-dfa4-4901-827d-8d3dab8b379e",
   "metadata": {},
   "outputs": [
    {
     "name": "stderr",
     "output_type": "stream",
     "text": [
      "\u001b[32m\u001b[1m  Activating\u001b[22m\u001b[39m project at `~/Projects/comp441/latentplan.jl`\n"
     ]
    }
   ],
   "source": [
    "import Pkg\n",
    "Pkg.activate(\"..\")"
   ]
  },
  {
   "cell_type": "code",
   "execution_count": 6,
   "id": "9be018ad-fc0c-4912-be3d-b2a0ae0f008b",
   "metadata": {},
   "outputs": [],
   "source": [
    "# Set display width, load packages\n",
    "ENV[\"COLUMNS\"]=72\n",
    "using Knet, MLDatasets, IterTools"
   ]
  },
  {
   "cell_type": "code",
   "execution_count": 7,
   "id": "538d47eb-a2df-4724-8c41-b9554b0f15c9",
   "metadata": {},
   "outputs": [],
   "source": [
    "# Define convolutional layer:\n",
    "struct Conv; w; b; f; end\n",
    "(c::Conv)(x) = c.f.(pool(conv4(c.w, x) .+ c.b))\n",
    "Conv(w1,w2,cx,cy,f=relu) = Conv(param(w1,w2,cx,cy), param0(1,1,cy,1), f);"
   ]
  },
  {
   "cell_type": "code",
   "execution_count": 8,
   "id": "a2eda09b-15c3-4794-a9d6-183df24ab816",
   "metadata": {},
   "outputs": [],
   "source": [
    "# Define dense layer:\n",
    "struct Dense; w; b; f; end\n",
    "(d::Dense)(x) = d.f.(d.w * mat(x) .+ d.b)\n",
    "Dense(i::Int,o::Int,f=relu) = Dense(param(o,i), param0(o), f);"
   ]
  },
  {
   "cell_type": "code",
   "execution_count": 9,
   "id": "b4fc62c2-3047-4d12-833c-60d5d35cfb3b",
   "metadata": {},
   "outputs": [],
   "source": [
    "# Define a chain of layers:\n",
    "struct Chain; layers; Chain(args...)=new(args); end\n",
    "(c::Chain)(x) = (for l in c.layers; x = l(x); end; x)\n",
    "(c::Chain)(x,y) = nll(c(x),y)"
   ]
  },
  {
   "cell_type": "code",
   "execution_count": 10,
   "id": "3810d63c-fbc7-40fe-93d6-2a41562855a5",
   "metadata": {},
   "outputs": [
    {
     "name": "stdout",
     "output_type": "stream",
     "text": [
      "This program has requested access to the data dependency MNIST.\n",
      "which is not currently installed. It can be installed automatically, and you will not see this message again.\n",
      "\n",
      "Dataset: THE MNIST DATABASE of handwritten digits\n",
      "Authors: Yann LeCun, Corinna Cortes, Christopher J.C. Burges\n",
      "Website: http://yann.lecun.com/exdb/mnist/\n",
      "\n",
      "[LeCun et al., 1998a]\n",
      "    Y. LeCun, L. Bottou, Y. Bengio, and P. Haffner.\n",
      "    \"Gradient-based learning applied to document recognition.\"\n",
      "    Proceedings of the IEEE, 86(11):2278-2324, November 1998\n",
      "\n",
      "The files are available for download at the offical\n",
      "website linked above. Note that using the data\n",
      "responsibly and respecting copyright remains your\n",
      "responsibility. The authors of MNIST aren't really\n",
      "explicit about any terms of use, so please read the\n",
      "website to make sure you want to download the\n",
      "dataset.\n",
      "\n",
      "\n",
      "\n",
      "Do you want to download the dataset from [\"https://ossci-datasets.s3.amazonaws.com/mnist/train-images-idx3-ubyte.gz\", \"https://ossci-datasets.s3.amazonaws.com/mnist/train-labels-idx1-ubyte.gz\", \"https://ossci-datasets.s3.amazonaws.com/mnist/t10k-images-idx3-ubyte.gz\", \"https://ossci-datasets.s3.amazonaws.com/mnist/t10k-labels-idx1-ubyte.gz\"] to \"/Users/enes/.julia/datadeps/MNIST\"?\n",
      "[y/n]\n"
     ]
    },
    {
     "name": "stdin",
     "output_type": "stream",
     "text": [
      "stdin>  y\n"
     ]
    }
   ],
   "source": [
    "# Load MNIST data\n",
    "xtrn,ytrn = MNIST.traindata(Float32); ytrn[ytrn.==0] .= 10\n",
    "xtst,ytst = MNIST.testdata(Float32);  ytst[ytst.==0] .= 10\n",
    "dtrn = minibatch(xtrn, ytrn, 100; xsize=(size(xtrn,1),size(xtrn,2),1,:))\n",
    "dtst = minibatch(xtst, ytst, 100; xsize=(size(xtst,1),size(xtst,2),1,:));"
   ]
  },
  {
   "cell_type": "code",
   "execution_count": 29,
   "id": "0e2ebc49-0ee4-48af-82c2-a543843910e2",
   "metadata": {},
   "outputs": [
    {
     "name": "stdout",
     "output_type": "stream",
     "text": [
      "(28, 28, 1, 100)\n",
      "(12, 12, 20, 100)\n",
      "(4, 4, 50, 100)\n",
      "(500, 100)\n",
      "(10, 100)\n"
     ]
    }
   ],
   "source": [
    "for data in ncycle(dtrn, 10)\n",
    "    x = data[1]\n",
    "    println(size(x))\n",
    "    x = l1(x)\n",
    "    println(size(x))\n",
    "    x = l2(x)\n",
    "    println(size(x))\n",
    "    x = l3(x)\n",
    "    println(size(x))\n",
    "    x = l4(x)\n",
    "    println(size(x))\n",
    "    break\n",
    "end"
   ]
  },
  {
   "cell_type": "code",
   "execution_count": 22,
   "id": "fec3300a-a8f8-4795-aa7a-b55ac6ad14e6",
   "metadata": {},
   "outputs": [
    {
     "data": {
      "text/plain": [
       "Dense(P(Matrix{Float32}(10,500)), P(Vector{Float32}(10)), identity)"
      ]
     },
     "execution_count": 22,
     "metadata": {},
     "output_type": "execute_result"
    }
   ],
   "source": [
    "l1 = Conv(5,5,1,20)\n",
    "l2 = Conv(5,5,20,50)\n",
    "l3 = Dense(800,500)\n",
    "l4 = Dense(500,10,identity)"
   ]
  },
  {
   "cell_type": "code",
   "execution_count": null,
   "id": "47538c77-c2ba-4f56-891a-1a5bff2aef0f",
   "metadata": {},
   "outputs": [],
   "source": [
    "# Train and test LeNet (about 30 secs on a gpu to reach 99% accuracy)\n",
    "\n",
    "progress!(adam(LeNet, ncycle(dtrn,10)))\n",
    "accuracy(LeNet, dtst)"
   ]
  }
 ],
 "metadata": {
  "kernelspec": {
   "display_name": "Julia 1.8.0",
   "language": "julia",
   "name": "julia-1.8"
  },
  "language_info": {
   "file_extension": ".jl",
   "mimetype": "application/julia",
   "name": "julia",
   "version": "1.8.2"
  }
 },
 "nbformat": 4,
 "nbformat_minor": 5
}
