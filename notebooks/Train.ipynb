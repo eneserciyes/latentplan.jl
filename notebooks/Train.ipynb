{
 "cells": [
  {
   "cell_type": "code",
   "execution_count": 1,
   "id": "99505f95-002e-4afd-a53c-4ab599a0af3c",
   "metadata": {},
   "outputs": [
    {
     "name": "stderr",
     "output_type": "stream",
     "text": [
      "Warning: Flow failed to import. Set the environment variable D4RL_SUPPRESS_IMPORT_ERROR=1 to suppress this message.\n",
      "No module named 'flow'\n",
      "Warning: CARLA failed to import. Set the environment variable D4RL_SUPPRESS_IMPORT_ERROR=1 to suppress this message.\n",
      "No module named 'carla'\n",
      "pybullet build time: Nov 12 2022 16:05:06\n"
     ]
    }
   ],
   "source": [
    "include(\"../latentplan/datasets/sequence.jl\")\n",
    "include(\"../latentplan/utils/setup.jl\")\n",
    "include(\"../latentplan/models/vqvae.jl\")\n",
    "\n",
    "using .Sequence: SequenceDataset, normalize_joined_single, get_item, DataLoader\n",
    "using .Setup: parser\n",
    "using ArgParse: ArgParseSettings, @add_arg_table!, parse_args\n",
    "using .VQVAE\n",
    "using Statistics: mean\n",
    "using Knet\n",
    "using Printf"
   ]
  },
  {
   "cell_type": "code",
   "execution_count": 2,
   "id": "3a234020-95ea-4f05-9efb-748d1b1518e7",
   "metadata": {},
   "outputs": [
    {
     "data": {
      "text/plain": [
       "vq_train (generic function with 1 method)"
      ]
     },
     "execution_count": 2,
     "metadata": {},
     "output_type": "execute_result"
    }
   ],
   "source": [
    "losssum(prediction) = mean(prediction[2] + prediction[3] + prediction[4])\n",
    "\n",
    "function vq_train(config, model::VQContinuousVAE, dataset; n_epochs=1, log_freq=100)\n",
    "    # set optimizers\n",
    "    opt_decay = AdamW(lr=config[\"learning_rate\"], beta1=config[\"betas\"][1], beta2=config[\"betas\"][2], weight_decay=config[\"weight_decay\"], gclip=config[\"grad_norm_clip\"])\n",
    "    opt_no_decay = AdamW(lr=config[\"learning_rate\"], beta1=config[\"betas\"][1], beta2=config[\"betas\"][2], weight_decay=0.0, gclip=config[\"grad_norm_clip\"])\n",
    "\n",
    "    for p in paramlist_decay(model)\n",
    "        p.opt = clone(opt_decay)\n",
    "    end\n",
    "    for p in paramlist_no_decay(model)\n",
    "        p.opt = clone(opt_no_decay)\n",
    "    end\n",
    "\n",
    "    n_tokens = 0\n",
    "    loader = DataLoader(dataset; shuffle=true, batch_size=config[\"batch_size\"])\n",
    "\n",
    "    for epoch in 1:n_epochs\n",
    "        losses = []\n",
    "        for (it, batch) in enumerate(loader)\n",
    "            y = batch[end-1]\n",
    "            n_tokens += cumprod(size(y))\n",
    "\n",
    "            if n_tokens < config[\"warmup_tokens\"]\n",
    "                # linear warmup\n",
    "                lr_mult = float(n_tokens) / float(max(1, config[\"warmup_tokens\"]))\n",
    "            else\n",
    "                # cosine learning rate decay\n",
    "                progress = float(n_tokens - config[\"warmup_tokens\"]) / float(\n",
    "                    max(1, config[\"final_tokens\"] - config[\"warmup_tokens\"])\n",
    "                )\n",
    "                lr_mult = max(0.1, 0.5 * (1.0 + cos(pi * progress)))\n",
    "            end\n",
    "\n",
    "            if config[\"lr_decay\"]\n",
    "                lr = config[\"learning_rate\"] * lr_mult\n",
    "                # TODO: param_group learning rate\n",
    "                for p in paramlist(model)\n",
    "                    p.opt.lr = lr\n",
    "                end\n",
    "            else\n",
    "                lr = config[\"learning_rate\"]\n",
    "            end\n",
    "\n",
    "            # forward the model\n",
    "            total_loss = @diff losssum(model(batch...))\n",
    "            push!(losses, value(total_loss))\n",
    "            for p in paramlist(model)\n",
    "                update!(p, grad(total_loss, p))\n",
    "            end\n",
    "        end\n",
    "    end\n",
    "end"
   ]
  },
  {
   "cell_type": "code",
   "execution_count": 3,
   "id": "8c45cc77-53d5-46e6-841c-700f798a2b17",
   "metadata": {},
   "outputs": [
    {
     "name": "stdout",
     "output_type": "stream",
     "text": [
      "[ utils/setup ] Reading config: ../config/vqvae.jl:halfcheetah_medium_expert_v2\n",
      "/Users/enes/logs/halfcheetah-medium-expert-v2/debug/ already exists. Proceeding...\n",
      "Made directory/Users/enes/logs/halfcheetah-medium-expert-v2/debug/\n"
     ]
    },
    {
     "data": {
      "text/plain": [
       "OrderedCollections.OrderedDict{String, Any} with 47 entries:\n",
       "  \"model\"                      => \"VQTransformer\"\n",
       "  \"tag\"                        => \"experiment\"\n",
       "  \"state_conditional\"          => true\n",
       "  \"N\"                          => 100\n",
       "  \"discount\"                   => 0.99\n",
       "  \"n_layer\"                    => 4\n",
       "  \"n_head\"                     => 4\n",
       "  \"n_epochs_ref\"               => 50\n",
       "  \"n_saves\"                    => 3\n",
       "  \"logbase\"                    => \"~/logs/\"\n",
       "  \"device\"                     => \"cuda\"\n",
       "  \"K\"                          => 512\n",
       "  \"latent_step\"                => 3\n",
       "  \"n_embd\"                     => 128\n",
       "  \"trajectory_embd\"            => 512\n",
       "  \"batch_size\"                 => 512\n",
       "  \"learning_rate\"              => 0.0002\n",
       "  \"lr_decay\"                   => false\n",
       "  \"seed\"                       => 42\n",
       "  \"embd_pdrop\"                 => 0.1\n",
       "  \"resid_pdrop\"                => 0.1\n",
       "  \"attn_pdrop\"                 => 0.1\n",
       "  \"step\"                       => 1\n",
       "  \"subsampled_sequence_length\" => 25\n",
       "  \"termination_penalty\"        => -100\n",
       "  ⋮                            => ⋮"
      ]
     },
     "execution_count": 3,
     "metadata": {},
     "output_type": "execute_result"
    }
   ],
   "source": [
    "s = ArgParseSettings()\n",
    "@add_arg_table! s begin\n",
    "    \"--dataset\"\n",
    "        help = \"which environment to use\"\n",
    "        arg_type = String\n",
    "        default = \"halfcheetah-medium-expert-v2\"\n",
    "    \"--exp_name\"\n",
    "        help = \"name of the experiment\"\n",
    "        arg_type = String\n",
    "        default = \"debug\"\n",
    "    \"--seed\"\n",
    "        help = \"seed\"\n",
    "        arg_type = Int\n",
    "        default = 42\n",
    "    \"--config\"\n",
    "        help = \"relative jl file path with configurations\"\n",
    "        arg_type = String\n",
    "        default = \"../config/vqvae.jl\"\n",
    "end\n",
    "\n",
    "#######################\n",
    "######## setup ########\n",
    "#######################\n",
    "\n",
    "super_args = parse_args([], s)\n",
    "args = parser(super_args, experiment=\"train\")"
   ]
  },
  {
   "cell_type": "markdown",
   "id": "29113ae2-6d5f-4736-ba8e-55b5bf781d55",
   "metadata": {},
   "source": [
    "# Dataset"
   ]
  },
  {
   "cell_type": "code",
   "execution_count": 4,
   "id": "6b8e93ff-bd06-49f7-8685-74b32a498d6d",
   "metadata": {},
   "outputs": [
    {
     "name": "stdout",
     "output_type": "stream",
     "text": [
      "[ datasets/sequence ] Sequence length: 25 | Step: 1 | Max path length: 1000\n",
      "[ datasets/sequence ] Loading...\n"
     ]
    },
    {
     "name": "stderr",
     "output_type": "stream",
     "text": [
      "/Users/enes/.julia/conda/3/lib/python3.10/site-packages/gym/logger.py:30: UserWarning: \u001b[33mWARN: Box bound precision lowered by casting to float32\u001b[0m\n",
      "  warnings.warn(colorize('%s: %s'%('WARN', msg % args), 'yellow'))\n",
      "load datafile: 100%|█████████████████████████████| 9/9 [00:05<00:00,  1.67it/s]\n",
      "\u001b[32mGenerating dataset 100%|█████████████████████████████████| Time: 0:00:00\u001b[39m\n"
     ]
    },
    {
     "name": "stdout",
     "output_type": "stream",
     "text": [
      "✓\n",
      "[ datasets/sequence ] Segmenting...\n",
      "✓\n",
      "Dataset size: 48 |\n",
      "    Joined dim: 26\n",
      "    observation: 17, action: 6 | Block size: 650"
     ]
    }
   ],
   "source": [
    "env_name = occursin(\"-v\", args[\"dataset\"]) ? args[\"dataset\"] : args[\"dataset\"] * \"-v0\"\n",
    "\n",
    "# env params\n",
    "sequence_length = args[\"subsampled_sequence_length\"] * args[\"step\"]\n",
    "args[\"logbase\"] = expanduser(args[\"logbase\"])\n",
    "args[\"savepath\"] = expanduser(args[\"savepath\"])\n",
    "if !isdir(args[\"savepath\"])\n",
    "    mkpath(args[\"savepath\"])\n",
    "end\n",
    "\n",
    "dataset = SequenceDataset(\n",
    "    env_name;\n",
    "    penalty=args[\"termination_penalty\"], \n",
    "    sequence_length=sequence_length, \n",
    "    step=args[\"step\"], \n",
    "    discount=args[\"discount\"], \n",
    "    disable_goal=args[\"disable_goal\"], \n",
    "    normalize_raw=args[\"normalize\"], \n",
    "    normalize_reward=args[\"normalize_reward\"],\n",
    "    max_path_length=args[\"max_path_length\"],\n",
    ")\n",
    "\n",
    "obs_dim = dataset.observation_dim\n",
    "act_dim = dataset.action_dim\n",
    "if args[\"task_type\"] == \"locomotion\"\n",
    "    transition_dim = obs_dim+act_dim+3\n",
    "else\n",
    "    transition_dim = 128+act_dim+3\n",
    "end\n",
    "\n",
    "block_size = args[\"subsampled_sequence_length\"] * transition_dim # total number of dimensionalities for a maximum length sequence (T)\n",
    "\n",
    "print(\n",
    "    \"Dataset size: $(length(dataset)) |\n",
    "    Joined dim: $transition_dim\n",
    "    observation: $obs_dim, action: $act_dim | Block size: $block_size\"\n",
    ")"
   ]
  },
  {
   "cell_type": "markdown",
   "id": "cb1b6101-cf07-45dc-89a7-d192d2ea9a62",
   "metadata": {},
   "source": [
    "# Model"
   ]
  },
  {
   "cell_type": "code",
   "execution_count": 5,
   "id": "5fc6349f-b918-401f-903f-cd387c256cf4",
   "metadata": {},
   "outputs": [
    {
     "data": {
      "text/plain": [
       "VQContinuousVAE(VQStepWiseTransformer(512, 512, 17, 624, 512, 26, 650, 17, 6, 26, 3, true, \"uniform\", Main.VQVAE.Common.Chain((Main.VQVAE.Transformers.Block(Main.VQVAE.Transformers.Common.LayerNorm(P(Vector{Float32}(512)), P(Vector{Float32}(512)), 1.0e-5), Main.VQVAE.Transformers.Common.LayerNorm(P(Vector{Float32}(512)), P(Vector{Float32}(512)), 1.0e-5), Main.VQVAE.Transformers.CausalSelfAttention(Main.VQVAE.Transformers.Common.Linear(P(Matrix{Float32}(512,512)), P(Vector{Float32}(512)), 0), Main.VQVAE.Transformers.Common.Linear(P(Matrix{Float32}(512,512)), P(Vector{Float32}(512)), 0), Main.VQVAE.Transformers.Common.Linear(P(Matrix{Float32}(512,512)), P(Vector{Float32}(512)), 0), Main.VQVAE.Transformers.Common.Linear(P(Matrix{Float32}(512,512)), P(Vector{Float32}(512)), 0), [1.0 1.0 … 1.0 1.0; 0.0 1.0 … 1.0 1.0; … ; 0.0 0.0 … 1.0 1.0; 0.0 0.0 … 0.0 0.0], 0.1, 0.1, 4), Main.VQVAE.Transformers.Common.Chain((Main.VQVAE.Transformers.Common.Linear(P(Matrix{Float32}(2048,512)), P(Vector{Float32}(2048)), 0), Main.VQVAE.Transformers.Common.GELU(), Main.VQVAE.Transformers.Common.Linear(P(Matrix{Float32}(512,2048)), P(Vector{Float32}(512)), 0), Main.VQVAE.Transformers.Common.Dropout(0.1)))), Main.VQVAE.Transformers.Block(Main.VQVAE.Transformers.Common.LayerNorm(P(Vector{Float32}(512)), P(Vector{Float32}(512)), 1.0e-5), Main.VQVAE.Transformers.Common.LayerNorm(P(Vector{Float32}(512)), P(Vector{Float32}(512)), 1.0e-5), Main.VQVAE.Transformers.CausalSelfAttention(Main.VQVAE.Transformers.Common.Linear(P(Matrix{Float32}(512,512)), P(Vector{Float32}(512)), 0), Main.VQVAE.Transformers.Common.Linear(P(Matrix{Float32}(512,512)), P(Vector{Float32}(512)), 0), Main.VQVAE.Transformers.Common.Linear(P(Matrix{Float32}(512,512)), P(Vector{Float32}(512)), 0), Main.VQVAE.Transformers.Common.Linear(P(Matrix{Float32}(512,512)), P(Vector{Float32}(512)), 0), [1.0 1.0 … 1.0 1.0; 0.0 1.0 … 1.0 1.0; … ; 0.0 0.0 … 1.0 1.0; 0.0 0.0 … 0.0 0.0], 0.1, 0.1, 4), Main.VQVAE.Transformers.Common.Chain((Main.VQVAE.Transformers.Common.Linear(P(Matrix{Float32}(2048,512)), P(Vector{Float32}(2048)), 0), Main.VQVAE.Transformers.Common.GELU(), Main.VQVAE.Transformers.Common.Linear(P(Matrix{Float32}(512,2048)), P(Vector{Float32}(512)), 0), Main.VQVAE.Transformers.Common.Dropout(0.1)))), Main.VQVAE.Transformers.Block(Main.VQVAE.Transformers.Common.LayerNorm(P(Vector{Float32}(512)), P(Vector{Float32}(512)), 1.0e-5), Main.VQVAE.Transformers.Common.LayerNorm(P(Vector{Float32}(512)), P(Vector{Float32}(512)), 1.0e-5), Main.VQVAE.Transformers.CausalSelfAttention(Main.VQVAE.Transformers.Common.Linear(P(Matrix{Float32}(512,512)), P(Vector{Float32}(512)), 0), Main.VQVAE.Transformers.Common.Linear(P(Matrix{Float32}(512,512)), P(Vector{Float32}(512)), 0), Main.VQVAE.Transformers.Common.Linear(P(Matrix{Float32}(512,512)), P(Vector{Float32}(512)), 0), Main.VQVAE.Transformers.Common.Linear(P(Matrix{Float32}(512,512)), P(Vector{Float32}(512)), 0), [1.0 1.0 … 1.0 1.0; 0.0 1.0 … 1.0 1.0; … ; 0.0 0.0 … 1.0 1.0; 0.0 0.0 … 0.0 0.0], 0.1, 0.1, 4), Main.VQVAE.Transformers.Common.Chain((Main.VQVAE.Transformers.Common.Linear(P(Matrix{Float32}(2048,512)), P(Vector{Float32}(2048)), 0), Main.VQVAE.Transformers.Common.GELU(), Main.VQVAE.Transformers.Common.Linear(P(Matrix{Float32}(512,2048)), P(Vector{Float32}(512)), 0), Main.VQVAE.Transformers.Common.Dropout(0.1)))), Main.VQVAE.Transformers.Block(Main.VQVAE.Transformers.Common.LayerNorm(P(Vector{Float32}(512)), P(Vector{Float32}(512)), 1.0e-5), Main.VQVAE.Transformers.Common.LayerNorm(P(Vector{Float32}(512)), P(Vector{Float32}(512)), 1.0e-5), Main.VQVAE.Transformers.CausalSelfAttention(Main.VQVAE.Transformers.Common.Linear(P(Matrix{Float32}(512,512)), P(Vector{Float32}(512)), 0), Main.VQVAE.Transformers.Common.Linear(P(Matrix{Float32}(512,512)), P(Vector{Float32}(512)), 0), Main.VQVAE.Transformers.Common.Linear(P(Matrix{Float32}(512,512)), P(Vector{Float32}(512)), 0), Main.VQVAE.Transformers.Common.Linear(P(Matrix{Float32}(512,512)), P(Vector{Float32}(512)), 0), [1.0 1.0 … 1.0 1.0; 0.0 1.0 … 1.0 1.0; … ; 0.0 0.0 … 1.0 1.0; 0.0 0.0 … 0.0 0.0], 0.1, 0.1, 4), Main.VQVAE.Transformers.Common.Chain((Main.VQVAE.Transformers.Common.Linear(P(Matrix{Float32}(2048,512)), P(Vector{Float32}(2048)), 0), Main.VQVAE.Transformers.Common.GELU(), Main.VQVAE.Transformers.Common.Linear(P(Matrix{Float32}(512,2048)), P(Vector{Float32}(512)), 0), Main.VQVAE.Transformers.Common.Dropout(0.1)))))), VQEmbeddingMovingAverage([-0.0012240704166728918 -0.000832789671984184 … 0.0016980947023580565 0.0014702053232871957; -0.0009171069485626022 0.0012773329534070304 … -0.0008474068760037259 0.001725674816731151; … ; 0.0011621924213607326 -0.0014426899126285604 … -0.00027536542285076186 -0.0011835399278761682; -0.0018629621309666387 3.0671155396289496e-5 … 0.00093413588672665 0.00040811060609458527], 0.99f0, [1.0, 1.0, 1.0, 1.0, 1.0, 1.0, 1.0, 1.0, 1.0, 1.0  …  1.0, 1.0, 1.0, 1.0, 1.0, 1.0, 1.0, 1.0, 1.0, 1.0], [-0.0012240704166728918 -0.000832789671984184 … 0.0016980947023580565 0.0014702053232871957; -0.0009171069485626022 0.0012773329534070304 … -0.0008474068760037259 0.001725674816731151; … ; 0.0011621924213607326 -0.0014426899126285604 … -0.00027536542285076186 -0.0011835399278761682; -0.0018629621309666387 3.0671155396289496e-5 … 0.00093413588672665 0.00040811060609458527]), true, true, Main.VQVAE.Common.Chain((Main.VQVAE.Transformers.Block(Main.VQVAE.Transformers.Common.LayerNorm(P(Vector{Float32}(512)), P(Vector{Float32}(512)), 1.0e-5), Main.VQVAE.Transformers.Common.LayerNorm(P(Vector{Float32}(512)), P(Vector{Float32}(512)), 1.0e-5), Main.VQVAE.Transformers.CausalSelfAttention(Main.VQVAE.Transformers.Common.Linear(P(Matrix{Float32}(512,512)), P(Vector{Float32}(512)), 0), Main.VQVAE.Transformers.Common.Linear(P(Matrix{Float32}(512,512)), P(Vector{Float32}(512)), 0), Main.VQVAE.Transformers.Common.Linear(P(Matrix{Float32}(512,512)), P(Vector{Float32}(512)), 0), Main.VQVAE.Transformers.Common.Linear(P(Matrix{Float32}(512,512)), P(Vector{Float32}(512)), 0), [1.0 1.0 … 1.0 1.0; 0.0 1.0 … 1.0 1.0; … ; 0.0 0.0 … 1.0 1.0; 0.0 0.0 … 0.0 0.0], 0.1, 0.1, 4), Main.VQVAE.Transformers.Common.Chain((Main.VQVAE.Transformers.Common.Linear(P(Matrix{Float32}(2048,512)), P(Vector{Float32}(2048)), 0), Main.VQVAE.Transformers.Common.GELU(), Main.VQVAE.Transformers.Common.Linear(P(Matrix{Float32}(512,2048)), P(Vector{Float32}(512)), 0), Main.VQVAE.Transformers.Common.Dropout(0.1)))), Main.VQVAE.Transformers.Block(Main.VQVAE.Transformers.Common.LayerNorm(P(Vector{Float32}(512)), P(Vector{Float32}(512)), 1.0e-5), Main.VQVAE.Transformers.Common.LayerNorm(P(Vector{Float32}(512)), P(Vector{Float32}(512)), 1.0e-5), Main.VQVAE.Transformers.CausalSelfAttention(Main.VQVAE.Transformers.Common.Linear(P(Matrix{Float32}(512,512)), P(Vector{Float32}(512)), 0), Main.VQVAE.Transformers.Common.Linear(P(Matrix{Float32}(512,512)), P(Vector{Float32}(512)), 0), Main.VQVAE.Transformers.Common.Linear(P(Matrix{Float32}(512,512)), P(Vector{Float32}(512)), 0), Main.VQVAE.Transformers.Common.Linear(P(Matrix{Float32}(512,512)), P(Vector{Float32}(512)), 0), [1.0 1.0 … 1.0 1.0; 0.0 1.0 … 1.0 1.0; … ; 0.0 0.0 … 1.0 1.0; 0.0 0.0 … 0.0 0.0], 0.1, 0.1, 4), Main.VQVAE.Transformers.Common.Chain((Main.VQVAE.Transformers.Common.Linear(P(Matrix{Float32}(2048,512)), P(Vector{Float32}(2048)), 0), Main.VQVAE.Transformers.Common.GELU(), Main.VQVAE.Transformers.Common.Linear(P(Matrix{Float32}(512,2048)), P(Vector{Float32}(512)), 0), Main.VQVAE.Transformers.Common.Dropout(0.1)))), Main.VQVAE.Transformers.Block(Main.VQVAE.Transformers.Common.LayerNorm(P(Vector{Float32}(512)), P(Vector{Float32}(512)), 1.0e-5), Main.VQVAE.Transformers.Common.LayerNorm(P(Vector{Float32}(512)), P(Vector{Float32}(512)), 1.0e-5), Main.VQVAE.Transformers.CausalSelfAttention(Main.VQVAE.Transformers.Common.Linear(P(Matrix{Float32}(512,512)), P(Vector{Float32}(512)), 0), Main.VQVAE.Transformers.Common.Linear(P(Matrix{Float32}(512,512)), P(Vector{Float32}(512)), 0), Main.VQVAE.Transformers.Common.Linear(P(Matrix{Float32}(512,512)), P(Vector{Float32}(512)), 0), Main.VQVAE.Transformers.Common.Linear(P(Matrix{Float32}(512,512)), P(Vector{Float32}(512)), 0), [1.0 1.0 … 1.0 1.0; 0.0 1.0 … 1.0 1.0; … ; 0.0 0.0 … 1.0 1.0; 0.0 0.0 … 0.0 0.0], 0.1, 0.1, 4), Main.VQVAE.Transformers.Common.Chain((Main.VQVAE.Transformers.Common.Linear(P(Matrix{Float32}(2048,512)), P(Vector{Float32}(2048)), 0), Main.VQVAE.Transformers.Common.GELU(), Main.VQVAE.Transformers.Common.Linear(P(Matrix{Float32}(512,2048)), P(Vector{Float32}(512)), 0), Main.VQVAE.Transformers.Common.Dropout(0.1)))), Main.VQVAE.Transformers.Block(Main.VQVAE.Transformers.Common.LayerNorm(P(Vector{Float32}(512)), P(Vector{Float32}(512)), 1.0e-5), Main.VQVAE.Transformers.Common.LayerNorm(P(Vector{Float32}(512)), P(Vector{Float32}(512)), 1.0e-5), Main.VQVAE.Transformers.CausalSelfAttention(Main.VQVAE.Transformers.Common.Linear(P(Matrix{Float32}(512,512)), P(Vector{Float32}(512)), 0), Main.VQVAE.Transformers.Common.Linear(P(Matrix{Float32}(512,512)), P(Vector{Float32}(512)), 0), Main.VQVAE.Transformers.Common.Linear(P(Matrix{Float32}(512,512)), P(Vector{Float32}(512)), 0), Main.VQVAE.Transformers.Common.Linear(P(Matrix{Float32}(512,512)), P(Vector{Float32}(512)), 0), [1.0 1.0 … 1.0 1.0; 0.0 1.0 … 1.0 1.0; … ; 0.0 0.0 … 1.0 1.0; 0.0 0.0 … 0.0 0.0], 0.1, 0.1, 4), Main.VQVAE.Transformers.Common.Chain((Main.VQVAE.Transformers.Common.Linear(P(Matrix{Float32}(2048,512)), P(Vector{Float32}(2048)), 0), Main.VQVAE.Transformers.Common.GELU(), Main.VQVAE.Transformers.Common.Linear(P(Matrix{Float32}(512,2048)), P(Vector{Float32}(512)), 0), Main.VQVAE.Transformers.Common.Dropout(0.1)))))), P(Array{Float64, 3}(512,26,1)), Main.VQVAE.Common.Linear(P(Matrix{Float32}(512,26)), P(Vector{Float32}(512)), 0), Main.VQVAE.Common.Linear(P(Matrix{Float32}(26,512)), P(Vector{Float32}(26)), 0), Main.VQVAE.Common.Linear(P(Matrix{Float32}(26,512)), P(Vector{Float32}(26)), 0), Main.VQVAE.Common.Linear(P(Matrix{Float32}(512,529)), P(Vector{Float32}(512)), 0), \"pooling\", Main.VQVAE.Common.MaxPool1d(3, 3), nothing, Main.VQVAE.Common.LayerNorm(P(Vector{Float32}(512)), P(Vector{Float32}(512)), 1.0e-5), Main.VQVAE.Common.Dropout(0.1)), 512, 100, 2600, 650, 17, \"uniform\", 6, 26, 26, 5, 1, 1, 1, 0, 0, 0, 3, [0.0, 0.0, 0.0, 0.0, 0.0, 0.0, 0.0, 0.0, 0.0, 0.0  …  0.0, 0.0, 0.0, 0.0, 0.0, 0.0, 0.0, 0.0, 0.0, 0.0])"
      ]
     },
     "execution_count": 5,
     "metadata": {},
     "output_type": "execute_result"
    }
   ],
   "source": [
    "model_config = deepcopy(args)\n",
    "model_config[\"block_size\"] = block_size\n",
    "model_config[\"observation_dim\"] = obs_dim\n",
    "model_config[\"action_dim\"] = act_dim\n",
    "model_config[\"transition_dim\"] = transition_dim\n",
    "model_config[\"n_embd\"] = args[\"n_embd\"] * args[\"n_head\"]\n",
    "model_config[\"vocab_size\"] = args[\"N\"]\n",
    "\n",
    "model = VQContinuousVAE(model_config)"
   ]
  },
  {
   "cell_type": "code",
   "execution_count": 6,
   "id": "b08a30f5-da2f-4416-9ab5-aedfb54a7434",
   "metadata": {},
   "outputs": [
    {
     "ename": "LoadError",
     "evalue": "MethodError: no method matching paramlist(::Main.VQVAE.Common.Chain)\n\u001b[0mClosest candidates are:\n\u001b[0m  paramlist(\u001b[91m::VQEmbedding\u001b[39m) at ~/Projects/comp441/latentplan.jl/latentplan/models/vqvae.jl:62\n\u001b[0m  paramlist(\u001b[91m::VQEmbeddingMovingAverage\u001b[39m) at ~/Projects/comp441/latentplan.jl/latentplan/models/vqvae.jl:90\n\u001b[0m  paramlist(\u001b[91m::VQStepWiseTransformer\u001b[39m) at ~/Projects/comp441/latentplan.jl/latentplan/models/vqvae.jl:215\n\u001b[0m  ...",
     "output_type": "error",
     "traceback": [
      "MethodError: no method matching paramlist(::Main.VQVAE.Common.Chain)\n\u001b[0mClosest candidates are:\n\u001b[0m  paramlist(\u001b[91m::VQEmbedding\u001b[39m) at ~/Projects/comp441/latentplan.jl/latentplan/models/vqvae.jl:62\n\u001b[0m  paramlist(\u001b[91m::VQEmbeddingMovingAverage\u001b[39m) at ~/Projects/comp441/latentplan.jl/latentplan/models/vqvae.jl:90\n\u001b[0m  paramlist(\u001b[91m::VQStepWiseTransformer\u001b[39m) at ~/Projects/comp441/latentplan.jl/latentplan/models/vqvae.jl:215\n\u001b[0m  ...",
      "",
      "Stacktrace:",
      "  [1] _broadcast_getindex_evalf",
      "    @ ./broadcast.jl:670 [inlined]",
      "  [2] _broadcast_getindex",
      "    @ ./broadcast.jl:643 [inlined]",
      "  [3] getindex",
      "    @ ./broadcast.jl:597 [inlined]",
      "  [4] copy(bc::Base.Broadcast.Broadcasted{Base.Broadcast.DefaultArrayStyle{1}, Tuple{Base.OneTo{Int64}}, typeof(paramlist), Tuple{Vector{Any}}})",
      "    @ Base.Broadcast ./broadcast.jl:899",
      "  [5] materialize(bc::Base.Broadcast.Broadcasted{Base.Broadcast.DefaultArrayStyle{1}, Nothing, typeof(paramlist), Tuple{Vector{Any}}})",
      "    @ Base.Broadcast ./broadcast.jl:860",
      "  [6] paramlist(v::VQStepWiseTransformer)",
      "    @ Main.VQVAE ~/Projects/comp441/latentplan.jl/latentplan/models/vqvae.jl:215",
      "  [7] paramlist(v::VQContinuousVAE)",
      "    @ Main.VQVAE ~/Projects/comp441/latentplan.jl/latentplan/models/vqvae.jl:334",
      "  [8] top-level scope",
      "    @ In[6]:1",
      "  [9] eval",
      "    @ ./boot.jl:368 [inlined]",
      " [10] include_string(mapexpr::typeof(REPL.softscope), mod::Module, code::String, filename::String)",
      "    @ Base ./loading.jl:1428"
     ]
    }
   ],
   "source": [
    "paramlist(model)"
   ]
  },
  {
   "cell_type": "code",
   "execution_count": null,
   "id": "9275df9d-3264-4be2-8d9d-f9872c9f6b19",
   "metadata": {},
   "outputs": [],
   "source": []
  }
 ],
 "metadata": {
  "kernelspec": {
   "display_name": "Julia 1.8.0",
   "language": "julia",
   "name": "julia-1.8"
  },
  "language_info": {
   "file_extension": ".jl",
   "mimetype": "application/julia",
   "name": "julia",
   "version": "1.8.2"
  }
 },
 "nbformat": 4,
 "nbformat_minor": 5
}
