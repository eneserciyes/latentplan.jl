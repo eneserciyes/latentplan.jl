{
 "cells": [
  {
   "cell_type": "code",
   "execution_count": 1,
   "metadata": {},
   "outputs": [
    {
     "name": "stderr",
     "output_type": "stream",
     "text": [
      "\u001b[32m\u001b[1m  Activating\u001b[22m\u001b[39m project at `/scratch/users/merciyes18/Projects/latentplan.jl`\n"
     ]
    }
   ],
   "source": [
    "import Pkg; Pkg.activate(\"..\")"
   ]
  },
  {
   "cell_type": "code",
   "execution_count": 2,
   "metadata": {},
   "outputs": [
    {
     "name": "stderr",
     "output_type": "stream",
     "text": [
      "Warning: Flow failed to import. Set the environment variable D4RL_SUPPRESS_IMPORT_ERROR=1 to suppress this message.\n",
      "No module named 'flow'\n",
      "/kuacc/users/merciyes18/.julia/conda/3/lib/python3.9/site-packages/glfw/__init__.py:912: GLFWError: (65544) b'X11: The DISPLAY environment variable is missing'\n",
      "  warnings.warn(message, GLFWError)\n",
      "Warning: CARLA failed to import. Set the environment variable D4RL_SUPPRESS_IMPORT_ERROR=1 to suppress this message.\n",
      "No module named 'carla'\n",
      "pybullet build time: May 20 2022 19:45:31\n"
     ]
    },
    {
     "data": {
      "text/plain": [
       "Main.D4RL"
      ]
     },
     "execution_count": 2,
     "metadata": {},
     "output_type": "execute_result"
    }
   ],
   "source": [
    "include(\"datasets/sequence.jl\")\n",
    "include(\"datasets/d4rl.jl\")"
   ]
  },
  {
   "cell_type": "code",
   "execution_count": 3,
   "metadata": {},
   "outputs": [],
   "source": [
    "using .Sequence: SequenceDataset\n",
    "using .D4RL: load_environment, qlearning_dataset_with_timeouts"
   ]
  },
  {
   "cell_type": "code",
   "execution_count": 4,
   "metadata": {},
   "outputs": [],
   "source": [
    "using Statistics: mean, std\n",
    "using ProgressMeter: @showprogress"
   ]
  },
  {
   "cell_type": "code",
   "execution_count": 5,
   "metadata": {},
   "outputs": [
    {
     "data": {
      "text/plain": [
       "false"
      ]
     },
     "execution_count": 5,
     "metadata": {},
     "output_type": "execute_result"
    }
   ],
   "source": [
    "sequence_length::Int32=Int32(250)\n",
    "step::Int32=Int32(10)\n",
    "discount::Float32=0.99f0\n",
    "max_path_length::Int32=Int32(1000)\n",
    "device::String=\"cuda:0\"\n",
    "normalize_raw::Bool=true\n",
    "normalize_reward::Bool=true\n",
    "train_portion::Float32=1.0f0\n",
    "disable_goal::Bool=false"
   ]
  },
  {
   "cell_type": "code",
   "execution_count": 6,
   "metadata": {},
   "outputs": [
    {
     "name": "stderr",
     "output_type": "stream",
     "text": [
      "/kuacc/users/merciyes18/.julia/conda/3/lib/python3.9/site-packages/gym/spaces/box.py:73: UserWarning: \u001b[33mWARN: Box bound precision lowered by casting to float32\u001b[0m\n",
      "  logger.warn(\n"
     ]
    },
    {
     "data": {
      "text/plain": [
       "PyObject <d4rl.utils.wrappers.NormalizedBoxEnv object at 0x7f21e85acd60>"
      ]
     },
     "execution_count": 6,
     "metadata": {},
     "output_type": "execute_result"
    }
   ],
   "source": [
    "env = load_environment(\"halfcheetah-medium-expert-v2\")"
   ]
  },
  {
   "cell_type": "code",
   "execution_count": 7,
   "metadata": {},
   "outputs": [
    {
     "name": "stderr",
     "output_type": "stream",
     "text": [
      "load datafile: 100%|█████████████████████████████| 9/9 [00:06<00:00,  1.32it/s]\n",
      "\u001b[32mGenerating dataset 100%|█████████████████████████████████| Time: 0:00:01\u001b[39m\n"
     ]
    },
    {
     "data": {
      "text/plain": [
       "Dict{String, Array} with 6 entries:\n",
       "  \"observations\"      => Float32[0.0198319 -0.00384861 … -0.092561 -0.0935423; …\n",
       "  \"actions\"           => Float32[-0.222937 -0.725157 … -0.627818 -0.994951; -0.…\n",
       "  \"terminals\"         => Bool[0, 0, 0, 0, 0, 0, 0, 0, 0, 0  …  0, 0, 0, 0, 0, 0…\n",
       "  \"realterminals\"     => Bool[0, 0, 0, 0, 0, 0, 0, 0, 0, 0  …  0, 0, 0, 0, 0, 0…\n",
       "  \"next_observations\" => Float32[-0.00384861 -0.0552984 … -0.0935423 -0.0902453…\n",
       "  \"rewards\"           => Float32[-0.20008 -1.19815 … 4.39841 4.58797]"
      ]
     },
     "execution_count": 7,
     "metadata": {},
     "output_type": "execute_result"
    }
   ],
   "source": [
    "dataset = qlearning_dataset_with_timeouts(env.unwrapped, terminate_on_end=true, disable_goal=disable_goal, debug=true)"
   ]
  },
  {
   "cell_type": "code",
   "execution_count": 8,
   "metadata": {},
   "outputs": [
    {
     "data": {
      "text/plain": [
       "49-element Vector{Bool}:\n",
       " 0\n",
       " 0\n",
       " 0\n",
       " 0\n",
       " 0\n",
       " 0\n",
       " 0\n",
       " 0\n",
       " 0\n",
       " 0\n",
       " 0\n",
       " 0\n",
       " 0\n",
       " ⋮\n",
       " 0\n",
       " 0\n",
       " 0\n",
       " 0\n",
       " 0\n",
       " 0\n",
       " 0\n",
       " 0\n",
       " 0\n",
       " 0\n",
       " 0\n",
       " 0"
      ]
     },
     "execution_count": 8,
     "metadata": {},
     "output_type": "execute_result"
    }
   ],
   "source": [
    "observations = dataset[\"observations\"]\n",
    "actions = dataset[\"actions\"]\n",
    "rewards = dataset[\"rewards\"]\n",
    "terminals = dataset[\"terminals\"]\n",
    "realterminals = dataset[\"realterminals\"]"
   ]
  },
  {
   "cell_type": "code",
   "execution_count": 9,
   "metadata": {},
   "outputs": [
    {
     "data": {
      "text/plain": [
       "49-element Vector{Bool}:\n",
       " 0\n",
       " 0\n",
       " 0\n",
       " 0\n",
       " 0\n",
       " 0\n",
       " 0\n",
       " 0\n",
       " 0\n",
       " 0\n",
       " 0\n",
       " 0\n",
       " 0\n",
       " ⋮\n",
       " 0\n",
       " 0\n",
       " 0\n",
       " 0\n",
       " 0\n",
       " 0\n",
       " 0\n",
       " 0\n",
       " 0\n",
       " 0\n",
       " 0\n",
       " 0"
      ]
     },
     "execution_count": 9,
     "metadata": {},
     "output_type": "execute_result"
    }
   ],
   "source": [
    "obs_mean, obs_std = mean(observations, dims=2)  , std(observations, dims=2, corrected=false)\n",
    "act_mean, act_std = mean(actions, dims=2), std(actions, dims=2, corrected=false)\n",
    "reward_mean, reward_std = mean(rewards), std(rewards, corrected=false)\n",
    "\n",
    "if normalize_raw\n",
    "    observations = (observations .- obs_mean) ./ obs_std\n",
    "    actions = (actions .- act_mean) ./ act_std\n",
    "end\n",
    "\n",
    "observations_raw = observations\n",
    "actions_raw = actions\n",
    "joined_raw = cat(observations, actions, dims=1) # join at the last dim\n",
    "rewards_raw = rewards\n",
    "terminals_raw = terminals"
   ]
  },
  {
   "cell_type": "code",
   "execution_count": 10,
   "metadata": {},
   "outputs": [
    {
     "data": {
      "text/plain": [
       "compute_values (generic function with 1 method)"
      ]
     },
     "execution_count": 10,
     "metadata": {},
     "output_type": "execute_result"
    }
   ],
   "source": [
    "function segment(observations, terminals, max_path_length)\n",
    "    @assert size(observations, 2) == size(terminals, 1)\n",
    "    observation_dim = size(observations, 1)\n",
    "    trajectories = [[]]\n",
    "\n",
    "    for (obs, term) in zip(eachcol(observations), terminals)\n",
    "        push!(trajectories[end], obs)\n",
    "        if term\n",
    "            push!(trajectories, [])\n",
    "        end \n",
    "    end\n",
    "\n",
    "    if length(trajectories[end]) == 0\n",
    "        trajectories = trajectories[:end-1]\n",
    "    end\n",
    "\n",
    "    trajectories = [reduce(hcat, trajectory) for trajectory in trajectories]\n",
    "    n_trajectories = length(trajectories)\n",
    "    path_lengths = [size(traj, 2) for traj in trajectories]\n",
    "\n",
    "    # pad trajectories to be equal length\n",
    "    trajectories_pad = zeros(eltype(trajectories[1]), (observation_dim, max_path_length, n_trajectories))\n",
    "    early_termination = zeros(Bool, (max_path_length, n_trajectories))\n",
    "    for (i, traj) in enumerate(trajectories)\n",
    "        path_length = path_lengths[i]\n",
    "        trajectories_pad[:, 1:path_length, i] = traj\n",
    "        early_termination[path_length+1:end, i] .= 1\n",
    "    end\n",
    "    return trajectories_pad, early_termination, path_lengths\n",
    "end \n",
    "\n",
    "function compute_values(rewards_segmented::Array{Float32, 3}, discounts::Matrix{Float32}, max_path_length::Int32)\n",
    "    values_segmented = zeros(Float32, size(rewards_segmented)...)\n",
    "    @showprogress \"Calculating values\" for t in 1:max_path_length\n",
    "        V = sum(rewards_segmented[:, t+1:end, :] .* discounts[:, 1:end-t], dims=2)\n",
    "        values_segmented[:, t] = V\n",
    "    end\n",
    "    return values_segmented\n",
    "end"
   ]
  },
  {
   "cell_type": "code",
   "execution_count": 11,
   "metadata": {},
   "outputs": [
    {
     "name": "stdout",
     "output_type": "stream",
     "text": [
      "[ datasets/sequence ] Segmenting...\n"
     ]
    },
    {
     "data": {
      "text/plain": [
       "([-0.20008013 -1.1981525 … 0.0 0.0;;;], Bool[0; 0; … ; 1; 1;;], [49])"
      ]
     },
     "execution_count": 11,
     "metadata": {},
     "output_type": "execute_result"
    }
   ],
   "source": [
    "println(\"[ datasets/sequence ] Segmenting...\")\n",
    "joined_segmented, termination_flags, path_lengths = segment(joined_raw, terminals, max_path_length)\n",
    "rewards_segmented, _, _ = segment(rewards_raw, terminals, max_path_length)"
   ]
  },
  {
   "cell_type": "code",
   "execution_count": 13,
   "metadata": {},
   "outputs": [
    {
     "data": {
      "text/plain": [
       "1×1000 Matrix{Float32}:\n",
       " 1.0  0.99  0.9801  0.970299  0.960596  …  4.44932f-5  4.40482f-5  4.36077f-5"
      ]
     },
     "execution_count": 13,
     "metadata": {},
     "output_type": "execute_result"
    }
   ],
   "source": [
    "discounts = reshape(discount .^ collect(0:max_path_length-1), 1, :)"
   ]
  },
  {
   "cell_type": "code",
   "execution_count": 14,
   "metadata": {},
   "outputs": [
    {
     "name": "stdout",
     "output_type": "stream",
     "text": [
      "  0.008432 seconds (10.01 k allocations: 6.264 MiB)\n"
     ]
    },
    {
     "data": {
      "text/plain": [
       "1×1000×1 Array{Float32, 3}:\n",
       "[:, :, 1] =\n",
       " 90.3673  92.4903  94.1223  94.8021  …  0.0  0.0  0.0  0.0  0.0  0.0  0.0"
      ]
     },
     "execution_count": 14,
     "metadata": {},
     "output_type": "execute_result"
    }
   ],
   "source": [
    "@time values_segmented = compute_values(rewards_segmented, discounts, max_path_length)"
   ]
  },
  {
   "cell_type": "code",
   "execution_count": 17,
   "metadata": {},
   "outputs": [
    {
     "name": "stdout",
     "output_type": "stream",
     "text": [
      "[ datasets/sequence ] Sequence length: 250 | Step: 10 | Max path length: 1000\n",
      "[ datasets/sequence ] Loading...\n",
      "✓\n",
      "[ datasets/sequence ] Segmenting..."
     ]
    },
    {
     "name": "stderr",
     "output_type": "stream",
     "text": [
      "load datafile: 100%|█████████████████████████████| 9/9 [00:06<00:00,  1.37it/s]\n"
     ]
    },
    {
     "name": "stdout",
     "output_type": "stream",
     "text": [
      "\n",
      "✓\n"
     ]
    },
    {
     "data": {
      "text/plain": [
       "SequenceDataset(PyObject <d4rl.utils.wrappers.NormalizedBoxEnv object at 0x7f2433d34220>, 250, 10, 1000, \"cuda:0\", false, true, true, Float32[-0.061123185; -0.033198655; … ; -0.02897517; -0.124439895;;], Float32[0.044988006; 0.14535953; … ; 4.9651423; 7.060827;;], Float32[-0.18401843; -0.5445832; … ; -0.29385233; -0.10082741;;], Float32[0.8482768; 0.55125207; … ; 0.67112625; 0.66300446;;], 2.4618914f0, 1.3244052f0, Float32[1.7994819 1.2731078 … -0.69880384 -0.72061616; -0.3873338 -0.13205646 … -0.025040638 0.9324437; … ; 0.019616777 -1.8649176 … -0.68722326 -0.7199059; -0.0019368734 0.6879222 … -1.4448111 0.25321737], Float32[-0.04588002 -0.63792706 … -0.5231779 -0.95597655; -0.34714535 -0.68787664 … -0.6692711 -0.79210204; … ; -0.8162434 -0.950165 … -0.27807504 1.0273684; 0.8071557 1.6280936 … -1.3067367 1.1480011], Float32[1.7994819 1.2731078 … -0.69880384 -0.72061616; -0.3873338 -0.13205646 … -0.025040638 0.9324437; … ; -2.0099375 -2.763538 … 1.4621775 1.6053095; 0.8907754 0.96255016 … -2.009192 -2.164299], Float32[-2.0099375 -2.763538 … 1.4621775 1.6053095], Bool[0, 0, 0, 0, 0, 0, 0, 0, 0, 0  …  0, 0, 0, 0, 0, 0, 0, 0, 0, 0], [1.7994819 1.2731078 … 0.0 0.0; -0.3873338 -0.13205646 … 0.0 0.0; … ; -2.0099375 -2.763538 … 0.0 0.0; 0.8907754 0.96255016 … 0.0 0.0;;;], Bool[0; 0; … ; 1; 1;;], [49], [-2.0099375 -2.763538 … -1.8588657 -1.8588657;;;], 0.99f0, Float32[1.0 0.99 … 4.404822f-5 4.360774f-5], [0.8907754 0.96255016 … -2.164299 -2.164299;;;], Float32[0.8907754 0.96255016 … -2.009192 -2.164299], 64.018684f0, 29.579409f0, 1.0f0, 0.0, Any[(1, 1, 251), (1, 2, 252), (1, 3, 253), (1, 4, 254), (1, 5, 255), (1, 6, 256), (1, 7, 257), (1, 8, 258), (1, 9, 259), (1, 10, 260)  …  (1, 39, 289), (1, 40, 290), (1, 41, 291), (1, 42, 292), (1, 43, 293), (1, 44, 294), (1, 45, 295), (1, 46, 296), (1, 47, 297), (1, 48, 298)], Any[(1, 49, 299)], 17, 6, 25)"
      ]
     },
     "execution_count": 17,
     "metadata": {},
     "output_type": "execute_result"
    }
   ],
   "source": [
    "dataset = SequenceDataset(\"halfcheetah-medium-expert-v2\", penalty=Int32(-100))"
   ]
  },
  {
   "cell_type": "code",
   "execution_count": null,
   "metadata": {},
   "outputs": [],
   "source": []
  }
 ],
 "metadata": {
  "kernelspec": {
   "display_name": "Julia 1.8.2",
   "language": "julia",
   "name": "julia-1.8"
  },
  "language_info": {
   "file_extension": ".jl",
   "mimetype": "application/julia",
   "name": "julia",
   "version": "1.8.2"
  }
 },
 "nbformat": 4,
 "nbformat_minor": 4
}
