{
 "cells": [
  {
   "cell_type": "code",
   "execution_count": 2,
   "metadata": {},
   "outputs": [
    {
     "name": "stderr",
     "output_type": "stream",
     "text": [
      "\u001b[32m\u001b[1m  Activating\u001b[22m\u001b[39m environment at `~/Projects/comp441/latentplan.jl/Project.toml`\n"
     ]
    }
   ],
   "source": [
    "import Pkg; Pkg.activate(\"..\")"
   ]
  },
  {
   "cell_type": "code",
   "execution_count": 7,
   "metadata": {},
   "outputs": [
    {
     "name": "stderr",
     "output_type": "stream",
     "text": [
      "WARNING: replacing module Sequence.\n"
     ]
    },
    {
     "data": {
      "text/plain": [
       "Main.D4RL"
      ]
     },
     "execution_count": 7,
     "metadata": {},
     "output_type": "execute_result"
    }
   ],
   "source": [
    "include(\"datasets/sequence.jl\")\n",
    "include(\"datasets/d4rl.jl\")"
   ]
  },
  {
   "cell_type": "code",
   "execution_count": 9,
   "metadata": {},
   "outputs": [
    {
     "name": "stderr",
     "output_type": "stream",
     "text": [
      "WARNING: ignoring conflicting import of Sequence.SequenceDataset into Main\n"
     ]
    }
   ],
   "source": [
    "using .Sequence: SequenceDataset\n",
    "using .D4RL: load_environment"
   ]
  },
  {
   "cell_type": "code",
   "execution_count": 10,
   "metadata": {},
   "outputs": [
    {
     "name": "stderr",
     "output_type": "stream",
     "text": [
      "/home/erciyes/miniconda3/envs/conda_jl/lib/python3.10/site-packages/gym/envs/mujoco/mujoco_env.py:237: UserWarning: \u001b[33mWARN: This version of the mujoco environments depends on the mujoco-py bindings, which are no longer maintained and may stop working. Please upgrade to the v4 versions of the environments (which depend on the mujoco python bindings instead), unless you are trying to precisely replicate previous works).\u001b[0m\n",
      "  logger.warn(\n",
      "/home/erciyes/miniconda3/envs/conda_jl/lib/python3.10/site-packages/gym/spaces/box.py:128: UserWarning: \u001b[33mWARN: Box bound precision lowered by casting to float32\u001b[0m\n",
      "  logger.warn(f\"Box bound precision lowered by casting to {self.dtype}\")\n",
      "/home/erciyes/miniconda3/envs/conda_jl/lib/python3.10/site-packages/gym/core.py:317: DeprecationWarning: \u001b[33mWARN: Initializing wrapper in old step API which returns one bool instead of two. It is recommended to set `new_step_api=True` to use new step API. This will be the default behaviour in future.\u001b[0m\n",
      "  deprecation(\n",
      "/home/erciyes/miniconda3/envs/conda_jl/lib/python3.10/site-packages/gym/wrappers/step_api_compatibility.py:39: DeprecationWarning: \u001b[33mWARN: Initializing environment in old step API which returns one bool instead of two. It is recommended to set `new_step_api=True` to use new step API. This will be the default behaviour in future.\u001b[0m\n",
      "  deprecation(\n"
     ]
    },
    {
     "data": {
      "text/plain": [
       "PyObject <d4rl.utils.wrappers.NormalizedBoxEnv object at 0x2b0f6f9e1ba0>"
      ]
     },
     "execution_count": 10,
     "metadata": {},
     "output_type": "execute_result"
    }
   ],
   "source": [
    "env = load_environment(\"halfcheetah-medium-expert-v2\")"
   ]
  },
  {
   "cell_type": "code",
   "execution_count": 11,
   "metadata": {},
   "outputs": [
    {
     "name": "stderr",
     "output_type": "stream",
     "text": [
      "load datafile: 100%|█████████████████████████████| 9/9 [00:04<00:00,  1.90it/s]\n"
     ]
    },
    {
     "data": {
      "text/plain": [
       "Dict{Any, Any} with 9 entries:\n",
       "  \"observations\"           => Float32[0.0198319 -0.0895013 … 0.0684249 -0.13811…\n",
       "  \"infos/qpos\"             => [0.0851197 0.0198319 … 0.0603905 -0.0875389; 0.08…\n",
       "  \"actions\"                => Float32[-0.222937 -0.735948 … -0.841655 0.43432; …\n",
       "  \"terminals\"              => Bool[0, 0, 0, 0, 0, 0, 0, 0, 0, 0  …  0, 0, 0, 0,…\n",
       "  \"timeouts\"               => Bool[0, 0, 0, 0, 0, 0, 0, 0, 0, 0  …  0, 0, 0, 0,…\n",
       "  \"next_observations\"      => Float32[-0.00384861 -0.0523943 … -9.28856 4.73286…\n",
       "  \"rewards\"                => Float32[-0.20008, -1.19815, -0.690752, 0.268202, …\n",
       "  \"infos/qvel\"             => [-0.0187761 -0.167599 … 0.0684249 -0.138116; -0.0…\n",
       "  \"infos/action_log_probs\" => Float32[0.0623677, 10.6938, 9.81105, 6.45672, 5.5…"
      ]
     },
     "execution_count": 11,
     "metadata": {},
     "output_type": "execute_result"
    }
   ],
   "source": [
    "dataset = env.get_dataset()"
   ]
  },
  {
   "cell_type": "code",
   "execution_count": 15,
   "metadata": {},
   "outputs": [
    {
     "data": {
      "text/plain": [
       "false"
      ]
     },
     "execution_count": 15,
     "metadata": {},
     "output_type": "execute_result"
    }
   ],
   "source": [
    "done_bool = dataset[\"terminals\"][1]\n",
    "final_timestep = dataset[\"timeouts\"][1]"
   ]
  },
  {
   "cell_type": "code",
   "execution_count": 17,
   "metadata": {},
   "outputs": [
    {
     "data": {
      "text/plain": [
       "0"
      ]
     },
     "execution_count": 17,
     "metadata": {},
     "output_type": "execute_result"
    }
   ],
   "source": [
    "done_bool += final_timestep"
   ]
  },
  {
   "cell_type": "code",
   "execution_count": 19,
   "metadata": {},
   "outputs": [],
   "source": [
    "using Statistics: mean, std"
   ]
  },
  {
   "cell_type": "code",
   "execution_count": 20,
   "metadata": {},
   "outputs": [
    {
     "data": {
      "text/plain": [
       "2000000×17 Matrix{Float32}:\n",
       "  0.0198319   -0.0895013   …    0.113651    0.0684249   -0.138116\n",
       " -0.00384861  -0.0523943        4.50684    -9.28856      4.73286\n",
       " -0.0552984   -7.78502f-5      -7.08117    -1.40371      7.5524\n",
       " -0.129968     0.00229594      -7.01441     2.69173     -1.6729\n",
       " -0.132119     0.128255        -3.00539     0.178223   -15.0526\n",
       " -0.126367     0.161999    …   10.4278     10.51        -0.291503\n",
       " -0.129755     0.0882672       12.4906     -2.46865      2.44935\n",
       " -0.155284    -0.00775645       5.47621     0.355577    14.5446\n",
       " -0.153599    -0.0901696       -9.18679     1.47699      0.455037\n",
       " -0.0975235   -0.0550852      -16.2344      2.44634     -1.38807\n",
       " -0.0559308    0.018281    …   -6.32778     1.75775    -12.9951\n",
       " -0.0393649   -0.0118448       10.8271     -4.48932      0.83587\n",
       " -0.0377374   -0.00609548       6.15782     2.5811      11.7766\n",
       "  ⋮                        ⋱                ⋮          \n",
       " -0.0957317    0.221304         0.0232196  -6.80618      4.34442\n",
       " -0.0937841    0.24819         23.8729      0.535457    11.306\n",
       " -0.061215     0.256028    …    2.77707    23.9326      -1.53251\n",
       " -0.0510594    0.137034        -0.0856885   2.38606     -2.72644\n",
       " -0.0306528   -0.0502659       -8.83999    -8.90405     -2.42471\n",
       " -0.0109769   -0.0963339      -21.8994     -0.144168     3.3116\n",
       " -0.0554991   -0.0898303        1.58629    -3.7239      -2.62912\n",
       " -0.0252602   -0.0467945   …   19.0405      1.70728      2.77664\n",
       " -0.0209411    0.053315         8.94195    12.4327       3.75455\n",
       " -0.0382767   -0.00596852       9.65636    -9.25106     -2.39563\n",
       " -0.0353506   -0.130521        -3.37419    -4.88455     -5.1082\n",
       " -0.0090781   -0.155473       -22.7516     -3.77377     -3.91626"
      ]
     },
     "execution_count": 20,
     "metadata": {},
     "output_type": "execute_result"
    }
   ],
   "source": [
    "observations = dataset[\"observations\"]"
   ]
  },
  {
   "cell_type": "code",
   "execution_count": 23,
   "metadata": {},
   "outputs": [
    {
     "data": {
      "text/plain": [
       "1×17 Matrix{Float32}:\n",
       " -0.0566751  0.0243704  -0.0616051  …  0.587946  -0.240905  -0.0301841"
      ]
     },
     "execution_count": 23,
     "metadata": {},
     "output_type": "execute_result"
    }
   ],
   "source": [
    "mean(observations, dims=1)"
   ]
  },
  {
   "cell_type": "code",
   "execution_count": null,
   "metadata": {},
   "outputs": [],
   "source": []
  }
 ],
 "metadata": {
  "kernelspec": {
   "display_name": "Julia 1.6.7",
   "language": "julia",
   "name": "julia-1.6"
  },
  "language_info": {
   "file_extension": ".jl",
   "mimetype": "application/julia",
   "name": "julia",
   "version": "1.6.7"
  }
 },
 "nbformat": 4,
 "nbformat_minor": 4
}
