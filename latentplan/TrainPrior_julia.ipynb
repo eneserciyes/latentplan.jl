{
 "cells": [
  {
   "cell_type": "code",
   "execution_count": null,
   "id": "8127f5d4-ca6d-46ac-8d5b-8071b22fc73a",
   "metadata": {
    "tags": []
   },
   "outputs": [],
   "source": [
    "import Pkg\n",
    "Pkg.activate(\"..\")"
   ]
  },
  {
   "cell_type": "code",
   "execution_count": null,
   "id": "4b85f62c-5524-4d46-97d4-ea3f849e4920",
   "metadata": {
    "tags": []
   },
   "outputs": [],
   "source": [
    "using Test\n",
    "using PyCall\n",
    "using Knet\n",
    "using Debugger: @enter, @bp, @run\n",
    "using CUDA\n",
    "\n",
    "if CUDA.functional()\n",
    "\tatype=KnetArray{Float32}\n",
    "else\t\n",
    "\tatype=Array{Float32}\n",
    "end\n",
    "cputype=Array{Float32}"
   ]
  },
  {
   "cell_type": "code",
   "execution_count": null,
   "id": "27baf993-91d7-4a46-a74c-4b4ed3556f30",
   "metadata": {
    "tags": []
   },
   "outputs": [],
   "source": [
    "@pyimport torch\n",
    "@pyimport numpy\n",
    "\n",
    "weights = torch.load(\"test/files/gpt_trained.pt\", map_location=torch.device(\"cpu\"))\n",
    "prior_weights = torch.load(\"test/files/prior_model.pt\")"
   ]
  },
  {
   "cell_type": "code",
   "execution_count": null,
   "id": "4abc9007-a910-450c-be22-1ad5e1e051aa",
   "metadata": {
    "tags": []
   },
   "outputs": [],
   "source": [
    "include(\"datasets/sequence.jl\")\n",
    "include(\"models/common.jl\")\n",
    "include(\"models/transformers.jl\")\n",
    "include(\"models/vqvae.jl\")\n",
    "include(\"setup.jl\")"
   ]
  },
  {
   "cell_type": "code",
   "execution_count": null,
   "id": "1415bbe1-4078-4521-8a92-10d077899177",
   "metadata": {
    "tags": []
   },
   "outputs": [],
   "source": [
    "super_args = Dict{String, Any}(\n",
    "    \"dataset\"=> \"hopper-medium-replay-v2\",\n",
    "    \"exp_name\"=> \"debug\",\n",
    "    \"seed\"=> 42,\n",
    "    \"config\"=> \"../config/vqvae.jl\",\n",
    "    \"representation_path\" => \"\", #TODO\n",
    ")\n",
    "\n",
    "args = parser(super_args, experiment=\"plan\")\n",
    "\n",
    "args[\"logbase\"] = expanduser(args[\"logbase\"])\n",
    "args[\"savepath\"] = expanduser(args[\"savepath\"])\n",
    "\n",
    "env_name = occursin(\"-v\", args[\"dataset\"]) ? args[\"dataset\"] : args[\"dataset\"] * \"-v0\""
   ]
  },
  {
   "cell_type": "code",
   "execution_count": null,
   "id": "08b006fb-dc1e-497b-96bb-fced1597ce22",
   "metadata": {
    "tags": []
   },
   "outputs": [],
   "source": [
    "dataset_config = Knet.load(joinpath(\"/Users/mehmeteneserciyes/logs_julia/hopper-medium-replay-v2/T-1-42\", \"dataset_config.jld2\"), \"config\")\n",
    "\n",
    "dataset = SequenceDataset(\n",
    "    dataset_config[\"env_name\"];\n",
    "    penalty=dataset_config[\"penalty\"],\n",
    "    sequence_length=dataset_config[\"sequence_length\"], \n",
    "    step=dataset_config[\"step\"], \n",
    "    discount=dataset_config[\"discount\"], \n",
    "    disable_goal=dataset_config[\"disable_goal\"], \n",
    "    normalize_raw=dataset_config[\"normalize_raw\"], \n",
    "    normalize_reward=dataset_config[\"normalize_reward\"],\n",
    "    max_path_length=dataset_config[\"max_path_length\"],\n",
    "    atype=dataset_config[\"atype\"]\n",
    ")\n",
    "\n",
    "obs_dim = dataset.observation_dim\n",
    "act_dim = dataset.action_dim\n",
    "transition_dim = dataset.joined_dim+1"
   ]
  },
  {
   "cell_type": "markdown",
   "id": "5726e860-4afe-409f-b4c1-fd7d3dba9a52",
   "metadata": {
    "tags": []
   },
   "source": [
    "# Representation model init and weight loading"
   ]
  },
  {
   "cell_type": "code",
   "execution_count": null,
   "id": "9bc34544-2aaa-46b6-8cb7-e4610f00fb00",
   "metadata": {
    "tags": []
   },
   "outputs": [],
   "source": [
    "model_config = Knet.load(joinpath(\"/Users/mehmeteneserciyes/logs_julia/hopper-medium-replay-v2/T-1-42\", \"model_config.jld2\"), \"config\")"
   ]
  },
  {
   "cell_type": "code",
   "execution_count": null,
   "id": "90cd41f4-6e72-4d6c-aac9-35f667ecd73e",
   "metadata": {
    "tags": []
   },
   "outputs": [],
   "source": [
    "representation = VQContinuousVAE(model_config);"
   ]
  },
  {
   "cell_type": "code",
   "execution_count": null,
   "id": "4b923447-8b04-482b-841c-8a39d3bca278",
   "metadata": {
    "tags": []
   },
   "outputs": [],
   "source": [
    "# encoder\n",
    "representation.model.embed.w = Param(atype(weights[\"model.embed.weight\"][:cpu]()[:numpy]()))\n",
    "representation.model.embed.b = Param(atype(weights[\"model.embed.bias\"][:cpu]()[:numpy]()))\n",
    "\n",
    "representation.model.pos_emb = Param(atype(permutedims(weights[\"model.pos_emb\"][:cpu]()[:numpy](), (3,2,1))))\n",
    "\n",
    "for i in 1:model_config[\"n_layer\"]\n",
    "    representation.model.encoder.layers[i].ln1.a = Param(atype(weights[\"model.encoder.$(i-1).ln1.weight\"][:cpu]()[:numpy]()))\n",
    "    representation.model.encoder.layers[i].ln1.b = Param(atype(weights[\"model.encoder.$(i-1).ln1.bias\"][:cpu]()[:numpy]()))\n",
    "    representation.model.encoder.layers[i].ln2.a = Param(atype(weights[\"model.encoder.$(i-1).ln2.weight\"][:cpu]()[:numpy]()))\n",
    "    representation.model.encoder.layers[i].ln2.b = Param(atype(weights[\"model.encoder.$(i-1).ln2.bias\"][:cpu]()[:numpy]()))\n",
    "\n",
    "    representation.model.encoder.layers[i].attn.key.w = Param(atype(weights[\"model.encoder.$(i-1).attn.key.weight\"][:cpu]()[:numpy]()))\n",
    "    representation.model.encoder.layers[i].attn.key.b = Param(atype(weights[\"model.encoder.$(i-1).attn.key.bias\"][:cpu]()[:numpy]()))\n",
    "    representation.model.encoder.layers[i].attn.query.w = Param(atype(weights[\"model.encoder.$(i-1).attn.query.weight\"][:cpu]()[:numpy]()))\n",
    "    representation.model.encoder.layers[i].attn.query.b = Param(atype(weights[\"model.encoder.$(i-1).attn.query.bias\"][:cpu]()[:numpy]()))\n",
    "    representation.model.encoder.layers[i].attn.value.w = Param(atype(weights[\"model.encoder.$(i-1).attn.value.weight\"][:cpu]()[:numpy]()))\n",
    "    representation.model.encoder.layers[i].attn.value.b = Param(atype(weights[\"model.encoder.$(i-1).attn.value.bias\"][:cpu]()[:numpy]()))\n",
    "    representation.model.encoder.layers[i].attn.proj.w = Param(atype(weights[\"model.encoder.$(i-1).attn.proj.weight\"][:cpu]()[:numpy]()))\n",
    "    representation.model.encoder.layers[i].attn.proj.b = Param(atype(weights[\"model.encoder.$(i-1).attn.proj.bias\"][:cpu]()[:numpy]()))\n",
    "\n",
    "    representation.model.encoder.layers[i].mlp.layers[1].w = Param(atype(weights[\"model.encoder.$(i-1).mlp.0.weight\"][:cpu]()[:numpy]()))\n",
    "    representation.model.encoder.layers[i].mlp.layers[1].b = Param(atype(weights[\"model.encoder.$(i-1).mlp.0.bias\"][:cpu]()[:numpy]()))\n",
    "    representation.model.encoder.layers[i].mlp.layers[3].w = Param(atype(weights[\"model.encoder.$(i-1).mlp.2.weight\"][:cpu]()[:numpy]()))\n",
    "    representation.model.encoder.layers[i].mlp.layers[3].b = Param(atype(weights[\"model.encoder.$(i-1).mlp.2.bias\"][:cpu]()[:numpy]()))\n",
    "end\n",
    "\n",
    "representation.model.cast_embed.w = Param(atype(weights[\"model.cast_embed.weight\"][:cpu]()[:numpy]()))\n",
    "representation.model.cast_embed.b = Param(atype(weights[\"model.cast_embed.bias\"][:cpu]()[:numpy]()))\n",
    "\n",
    "# Decoder\n",
    "representation.model.latent_mixing.w = Param(atype(weights[\"model.latent_mixing.weight\"][:cpu]()[:numpy]()))\n",
    "representation.model.latent_mixing.b = Param(atype(weights[\"model.latent_mixing.bias\"][:cpu]()[:numpy]()))\n",
    "\n",
    "for i in 1:model_config[\"n_layer\"]\n",
    "    representation.model.decoder.layers[i].ln1.a = Param(atype(weights[\"model.decoder.$(i-1).ln1.weight\"][:cpu]()[:numpy]()))\n",
    "    representation.model.decoder.layers[i].ln1.b = Param(atype(weights[\"model.decoder.$(i-1).ln1.bias\"][:cpu]()[:numpy]()))\n",
    "    representation.model.decoder.layers[i].ln2.a = Param(atype(weights[\"model.decoder.$(i-1).ln2.weight\"][:cpu]()[:numpy]()))\n",
    "    representation.model.decoder.layers[i].ln2.b = Param(atype(weights[\"model.decoder.$(i-1).ln2.bias\"][:cpu]()[:numpy]()))\n",
    "\n",
    "    representation.model.decoder.layers[i].attn.key.w = Param(atype(weights[\"model.decoder.$(i-1).attn.key.weight\"][:cpu]()[:numpy]()))\n",
    "    representation.model.decoder.layers[i].attn.key.b = Param(atype(weights[\"model.decoder.$(i-1).attn.key.bias\"][:cpu]()[:numpy]()))\n",
    "    representation.model.decoder.layers[i].attn.query.w = Param(atype(weights[\"model.decoder.$(i-1).attn.query.weight\"][:cpu]()[:numpy]()))\n",
    "    representation.model.decoder.layers[i].attn.query.b = Param(atype(weights[\"model.decoder.$(i-1).attn.query.bias\"][:cpu]()[:numpy]()))\n",
    "    representation.model.decoder.layers[i].attn.value.w = Param(atype(weights[\"model.decoder.$(i-1).attn.value.weight\"][:cpu]()[:numpy]()))\n",
    "    representation.model.decoder.layers[i].attn.value.b = Param(atype(weights[\"model.decoder.$(i-1).attn.value.bias\"][:cpu]()[:numpy]()))\n",
    "    representation.model.decoder.layers[i].attn.proj.w = Param(atype(weights[\"model.decoder.$(i-1).attn.proj.weight\"][:cpu]()[:numpy]()))\n",
    "    representation.model.decoder.layers[i].attn.proj.b = Param(atype(weights[\"model.decoder.$(i-1).attn.proj.bias\"][:cpu]()[:numpy]()))\n",
    "\n",
    "    representation.model.decoder.layers[i].mlp.layers[1].w = Param(atype(weights[\"model.decoder.$(i-1).mlp.0.weight\"][:cpu]()[:numpy]()))\n",
    "    representation.model.decoder.layers[i].mlp.layers[1].b = Param(atype(weights[\"model.decoder.$(i-1).mlp.0.bias\"][:cpu]()[:numpy]()))\n",
    "    representation.model.decoder.layers[i].mlp.layers[3].w = Param(atype(weights[\"model.decoder.$(i-1).mlp.2.weight\"][:cpu]()[:numpy]()))\n",
    "    representation.model.decoder.layers[i].mlp.layers[3].b = Param(atype(weights[\"model.decoder.$(i-1).mlp.2.bias\"][:cpu]()[:numpy]()))\n",
    "end\n",
    "\n",
    "representation.model.ln_f.a = Param(atype(weights[\"model.ln_f.weight\"][:cpu]()[:numpy]()))\n",
    "representation.model.ln_f.b = Param(atype(weights[\"model.ln_f.bias\"][:cpu]()[:numpy]()))\n",
    "\n",
    "representation.model.predict.w = Param(atype(weights[\"model.predict.weight\"][:cpu]()[:numpy]()))\n",
    "representation.model.predict.b = Param(atype(weights[\"model.predict.bias\"][:cpu]()[:numpy]()))\n",
    "\n",
    "# codebook\n",
    "representation.model.codebook.embedding = Param(atype(weights[\"model.codebook.embedding\"][:cpu]()[:numpy]()'))\n",
    "representation.model.codebook.ema_count = Param(atype(weights[\"model.codebook.ema_count\"][:cpu]()[:numpy]()))\n",
    "representation.model.codebook.ema_w = Param(atype(weights[\"model.codebook.ema_w\"][:cpu]()[:numpy]()'))\n",
    "\n",
    "# padding vector\n",
    "representation.padding_vector = atype(normalize_joined_single(dataset, atype(zeros(representation.transition_dim-1))));"
   ]
  },
  {
   "cell_type": "markdown",
   "id": "fa1ec42a-ff2e-42e8-8276-a2da0f6210cd",
   "metadata": {},
   "source": [
    "# TransformerPrior Init and Model Loading"
   ]
  },
  {
   "cell_type": "code",
   "execution_count": null,
   "id": "c32b6440-7790-4df6-8c2c-7e1664e35df5",
   "metadata": {
    "tags": []
   },
   "outputs": [],
   "source": [
    "args = parser(super_args, experiment=\"train\")\n",
    "args[\"logbase\"] = expanduser(args[\"logbase\"])\n",
    "args[\"savepath\"] = expanduser(args[\"savepath\"])\n",
    "args[\"savepath\"] = \"/Users/mehmeteneserciyes/logs_julia/hopper-medium-replay-v2/T-1-42/\"\n",
    "block_size = args[\"subsampled_sequence_length\"] ÷ args[\"latent_step\"]\n",
    "obs_dim = dataset.observation_dim"
   ]
  },
  {
   "cell_type": "code",
   "execution_count": null,
   "id": "d7ef05e8-3e3c-41f5-b1ec-53bbbc2873ee",
   "metadata": {
    "tags": []
   },
   "outputs": [],
   "source": [
    "model_config = deepcopy(args)\n",
    "model_config[\"block_size\"] = block_size\n",
    "model_config[\"observation_dim\"] = obs_dim\n",
    "model_config[\"n_embd\"] = args[\"n_embd\"] * args[\"n_head\"]"
   ]
  },
  {
   "cell_type": "code",
   "execution_count": null,
   "id": "f83ba130-0103-4f76-92cd-158957b32bc3",
   "metadata": {
    "tags": []
   },
   "outputs": [],
   "source": [
    "# turn off dropout\n",
    "model_config[\"embd_pdrop\"] = 0.0f0\n",
    "model_config[\"attn_pdrop\"] = 0.0f0\n",
    "model_config[\"resid_pdrop\"] = 0.0f0"
   ]
  },
  {
   "cell_type": "code",
   "execution_count": null,
   "id": "b3541e2f-0941-4818-bfd8-a226b6061d56",
   "metadata": {
    "tags": []
   },
   "outputs": [],
   "source": [
    "model = TransformerPrior(model_config);"
   ]
  },
  {
   "cell_type": "code",
   "execution_count": null,
   "id": "0350caf7-e7ef-47bb-a946-3d829f64d362",
   "metadata": {},
   "outputs": [],
   "source": [
    "# encoder\n",
    "model.tok_emb = Param(atype(prior_weights[\"tok_emb.weight\"][:cpu]()[:numpy]()'))\n",
    "model.pos_emb = Param(atype(permutedims(prior_weights[\"pos_emb\"][:cpu]()[:numpy](), (3,2,1))))\n",
    "\n",
    "model.state_emb.w = Param(atype(prior_weights[\"state_emb.weight\"][:cpu]()[:numpy]()))\n",
    "model.state_emb.b = Param(atype(prior_weights[\"state_emb.bias\"][:cpu]()[:numpy]()))\n",
    "\n",
    "for i in 1:model_config[\"n_layer\"]\n",
    "    model.blocks.layers[i].ln1.a = Param(atype(prior_weights[\"blocks.$(i-1).ln1.weight\"][:cpu]()[:numpy]()))\n",
    "    model.blocks.layers[i].ln1.b = Param(atype(prior_weights[\"blocks.$(i-1).ln1.bias\"][:cpu]()[:numpy]()))\n",
    "    model.blocks.layers[i].ln2.a = Param(atype(prior_weights[\"blocks.$(i-1).ln2.weight\"][:cpu]()[:numpy]()))\n",
    "    model.blocks.layers[i].ln2.b = Param(atype(prior_weights[\"blocks.$(i-1).ln2.bias\"][:cpu]()[:numpy]()))\n",
    "\n",
    "    model.blocks.layers[i].attn.key.w = Param(atype(prior_weights[\"blocks.$(i-1).attn.key.weight\"][:cpu]()[:numpy]()))\n",
    "    model.blocks.layers[i].attn.key.b = Param(atype(prior_weights[\"blocks.$(i-1).attn.key.bias\"][:cpu]()[:numpy]()))\n",
    "    model.blocks.layers[i].attn.query.w = Param(atype(prior_weights[\"blocks.$(i-1).attn.query.weight\"][:cpu]()[:numpy]()))\n",
    "    model.blocks.layers[i].attn.query.b = Param(atype(prior_weights[\"blocks.$(i-1).attn.query.bias\"][:cpu]()[:numpy]()))\n",
    "    model.blocks.layers[i].attn.value.w = Param(atype(prior_weights[\"blocks.$(i-1).attn.value.weight\"][:cpu]()[:numpy]()))\n",
    "    model.blocks.layers[i].attn.value.b = Param(atype(prior_weights[\"blocks.$(i-1).attn.value.bias\"][:cpu]()[:numpy]()))\n",
    "    model.blocks.layers[i].attn.proj.w = Param(atype(prior_weights[\"blocks.$(i-1).attn.proj.weight\"][:cpu]()[:numpy]()))\n",
    "    model.blocks.layers[i].attn.proj.b = Param(atype(prior_weights[\"blocks.$(i-1).attn.proj.bias\"][:cpu]()[:numpy]()))\n",
    "\n",
    "    model.blocks.layers[i].mlp.layers[1].w = Param(atype(prior_weights[\"blocks.$(i-1).mlp.0.weight\"][:cpu]()[:numpy]()))\n",
    "    model.blocks.layers[i].mlp.layers[1].b = Param(atype(prior_weights[\"blocks.$(i-1).mlp.0.bias\"][:cpu]()[:numpy]()))\n",
    "    model.blocks.layers[i].mlp.layers[3].w = Param(atype(prior_weights[\"blocks.$(i-1).mlp.2.weight\"][:cpu]()[:numpy]()))\n",
    "    model.blocks.layers[i].mlp.layers[3].b = Param(atype(prior_weights[\"blocks.$(i-1).mlp.2.bias\"][:cpu]()[:numpy]()))\n",
    "end\n",
    "\n",
    "model.ln_f.a = Param(atype(prior_weights[\"ln_f.weight\"][:cpu]()[:numpy]()))\n",
    "model.ln_f.b = Param(atype(prior_weights[\"ln_f.bias\"][:cpu]()[:numpy]()))\n",
    "\n",
    "model.head.w = Param(atype(prior_weights[\"head.weight\"][:cpu]()[:numpy]())); # no bias"
   ]
  },
  {
   "cell_type": "markdown",
   "id": "52b5ab0a-b161-458e-8682-e60251fa9a40",
   "metadata": {},
   "source": [
    "# Test same results"
   ]
  },
  {
   "cell_type": "code",
   "execution_count": null,
   "id": "471fc27c-20b8-447b-b7e9-9fc1636cef62",
   "metadata": {
    "tags": []
   },
   "outputs": [],
   "source": [
    "loader = DataLoader(dataset; shuffle=false, batch_size=args[\"batch_size\"]);"
   ]
  },
  {
   "cell_type": "code",
   "execution_count": null,
   "id": "72b298c2-a175-4529-a9cc-696b04c0ff32",
   "metadata": {
    "tags": []
   },
   "outputs": [],
   "source": [
    "batch = nothing\n",
    "for (it, b) in enumerate(loader)\n",
    "    batch = b;\n",
    "    break\n",
    "end"
   ]
  },
  {
   "cell_type": "code",
   "execution_count": null,
   "id": "519c658c-6df1-44fb-80b4-03b4bdb27938",
   "metadata": {
    "tags": []
   },
   "outputs": [],
   "source": [
    "states = batch[1][1:model.observation_dim, 1, :]\n",
    "indices = encode(representation, batch[1], batch[end])"
   ]
  },
  {
   "cell_type": "code",
   "execution_count": null,
   "id": "815e2a5e-ffbb-4d99-b0d5-7d9eae00cfbc",
   "metadata": {
    "tags": []
   },
   "outputs": [],
   "source": [
    "indices_gt = numpy.load(\"test/files/indices.npy\")'\n",
    "all(indices .- 1 .== indices_gt)"
   ]
  },
  {
   "cell_type": "code",
   "execution_count": null,
   "id": "069f2a4e-8ade-4854-8390-9ca9142b42e0",
   "metadata": {
    "tags": []
   },
   "outputs": [],
   "source": [
    "loss = @diff model(indices[1:end-1, :], states, indices)[2]"
   ]
  },
  {
   "cell_type": "code",
   "execution_count": null,
   "id": "57a10937-82e2-4a8d-ba05-f294b5b22585",
   "metadata": {
    "tags": []
   },
   "outputs": [],
   "source": [
    "value(loss)"
   ]
  },
  {
   "cell_type": "markdown",
   "id": "784da4c1-70e4-4e7a-9801-fffb1928f8a8",
   "metadata": {
    "tags": []
   },
   "source": [
    "# Embedding call with indices"
   ]
  },
  {
   "cell_type": "code",
   "execution_count": null,
   "id": "97015e9c-8785-441f-a86f-b19e7563e11b",
   "metadata": {
    "tags": []
   },
   "outputs": [],
   "source": [
    "idx = indices[1:end-1, :];"
   ]
  },
  {
   "cell_type": "code",
   "execution_count": null,
   "id": "ef819adf-b1eb-4b12-99f3-e3a97ac90a1f",
   "metadata": {
    "tags": []
   },
   "outputs": [],
   "source": [
    "t, b = size(idx)"
   ]
  },
  {
   "cell_type": "code",
   "execution_count": null,
   "id": "256c7081-75dc-49b5-bf17-a9121df222ff",
   "metadata": {
    "tags": []
   },
   "outputs": [],
   "source": [
    "token_embeddings = model.tok_emb[:, indices[1:end-1, :]]\n",
    "token_embeddings = cat(atype(zeros(Float32, model.embedding_dim, 1, b)), token_embeddings, dims=2);"
   ]
  },
  {
   "cell_type": "code",
   "execution_count": null,
   "id": "14a74361-f35c-4003-901f-d85c8149c483",
   "metadata": {
    "tags": []
   },
   "outputs": [],
   "source": [
    "token_embeddings_gt = permutedims(numpy.load(\"test/files/token_embeddings_prior.npy\"), (3,2,1))\n",
    "all(token_embeddings .≈ token_embeddings_gt)"
   ]
  },
  {
   "cell_type": "code",
   "execution_count": null,
   "id": "d29fe5d1-f39a-437f-8c28-f9aae52c444b",
   "metadata": {
    "tags": []
   },
   "outputs": [],
   "source": [
    "position_embeddings = model.pos_emb[:, 1:t+1, :];"
   ]
  },
  {
   "cell_type": "code",
   "execution_count": null,
   "id": "c22d0fb7-c291-4f21-9ecd-2d46115bde6e",
   "metadata": {
    "tags": []
   },
   "outputs": [],
   "source": [
    "states_gt = numpy.load(\"test/files/state_prior.npy\")'\n",
    "all(states .≈ states_gt)"
   ]
  },
  {
   "cell_type": "code",
   "execution_count": null,
   "id": "a6378fbf-db55-4cbc-a1ff-133a8f80efd7",
   "metadata": {
    "tags": []
   },
   "outputs": [],
   "source": [
    "state_embeddings = model.state_emb(states)\n",
    "state_embeddings = reshape(state_embeddings, size(state_embeddings)[1], 1, size(state_embeddings)[2:end]...);"
   ]
  },
  {
   "cell_type": "code",
   "execution_count": null,
   "id": "31a676d1-8828-4bd4-b76b-73e1d72c2dec",
   "metadata": {
    "tags": []
   },
   "outputs": [],
   "source": [
    "mean(state_embeddings) ≈ mean(state_embeddings_gt)"
   ]
  },
  {
   "cell_type": "code",
   "execution_count": null,
   "id": "9013491b-bc69-4818-bd89-349c8728e0e0",
   "metadata": {
    "tags": []
   },
   "outputs": [],
   "source": [
    "size(state_embeddings_gt)"
   ]
  },
  {
   "cell_type": "code",
   "execution_count": null,
   "id": "b45cb79a-6847-4965-a3e1-63f20620d31e",
   "metadata": {
    "tags": []
   },
   "outputs": [],
   "source": [
    "state_embeddings_gt = permutedims(numpy.load(\"test/files/state_embeddings_prior.npy\"), (3,2,1))\n",
    "all(abs.(state_embeddings .- state_embeddings_gt) .< 1e-6)"
   ]
  },
  {
   "cell_type": "markdown",
   "id": "a486a8a5-a9e1-4d99-ba2c-53e0464bf8a2",
   "metadata": {},
   "source": [
    "### Embeddings test"
   ]
  },
  {
   "cell_type": "code",
   "execution_count": null,
   "id": "7cbfce90-eb92-4afa-afda-45dd8a195d3c",
   "metadata": {
    "tags": []
   },
   "outputs": [],
   "source": [
    "embeddings_gt = permutedims(numpy.load(\"test/files/embeddings_prior.npy\"), (3,2,1));"
   ]
  },
  {
   "cell_type": "code",
   "execution_count": null,
   "id": "ff3e0b3e-1698-4e4a-88e4-e19b0a48f474",
   "metadata": {},
   "outputs": [],
   "source": [
    "x = model.drop(token_embeddings .+ position_embeddings .+ state_embeddings)\n",
    "all(abs.(x .- embeddings_gt) .< 1e-6)"
   ]
  },
  {
   "cell_type": "code",
   "execution_count": null,
   "id": "61231da7-1dc2-4947-afa6-87373125b9a8",
   "metadata": {
    "tags": []
   },
   "outputs": [],
   "source": [
    "x = model.blocks(x)"
   ]
  },
  {
   "cell_type": "code",
   "execution_count": null,
   "id": "7b136f40-df59-4eca-b02f-1bde86dec471",
   "metadata": {
    "tags": []
   },
   "outputs": [],
   "source": [
    "blocks_output_gt = permutedims(numpy.load(\"test/files/blocks_output_prior.npy\"), (3,2,1))\n",
    "all(abs.(x .- blocks_output_gt) .< 1e-5)"
   ]
  },
  {
   "cell_type": "code",
   "execution_count": null,
   "id": "3d840c24-96fc-42f3-9d10-1944f8400f72",
   "metadata": {
    "tags": []
   },
   "outputs": [],
   "source": [
    "x = model.ln_f(x)"
   ]
  },
  {
   "cell_type": "markdown",
   "id": "48af842e-ca72-426b-82ea-c5f5b498a980",
   "metadata": {},
   "source": [
    "# Test"
   ]
  },
  {
   "cell_type": "code",
   "execution_count": null,
   "id": "b263c72b-55dc-40be-acc9-2ad3e3e03113",
   "metadata": {
    "tags": []
   },
   "outputs": [],
   "source": [
    "representation = Knet.load(joinpath(args[\"savepath\"], \"state_123.jld2\"))"
   ]
  },
  {
   "cell_type": "code",
   "execution_count": null,
   "id": "38742160-293e-4057-a5ce-736587e5c562",
   "metadata": {},
   "outputs": [],
   "source": []
  }
 ],
 "metadata": {
  "kernelspec": {
   "display_name": "Julia 1.8.5",
   "language": "julia",
   "name": "julia-1.8"
  },
  "language_info": {
   "file_extension": ".jl",
   "mimetype": "application/julia",
   "name": "julia",
   "version": "1.8.5"
  }
 },
 "nbformat": 4,
 "nbformat_minor": 5
}
