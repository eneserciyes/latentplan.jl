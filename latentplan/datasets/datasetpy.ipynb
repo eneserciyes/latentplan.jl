{
 "cells": [
  {
   "cell_type": "code",
   "execution_count": 2,
   "metadata": {},
   "outputs": [],
   "source": [
    "%load_ext autoreload\n",
    "%autoreload 2"
   ]
  },
  {
   "cell_type": "code",
   "execution_count": 3,
   "metadata": {},
   "outputs": [
    {
     "name": "stderr",
     "output_type": "stream",
     "text": [
      "/home/erciyes/miniconda3/envs/tap/lib/python3.9/site-packages/tqdm/auto.py:22: TqdmWarning: IProgress not found. Please update jupyter and ipywidgets. See https://ipywidgets.readthedocs.io/en/stable/user_install.html\n",
      "  from .autonotebook import tqdm as notebook_tqdm\n"
     ]
    }
   ],
   "source": [
    "import os\n",
    "import numpy as np\n",
    "import torch"
   ]
  },
  {
   "cell_type": "code",
   "execution_count": 4,
   "metadata": {},
   "outputs": [
    {
     "name": "stderr",
     "output_type": "stream",
     "text": [
      "pybullet build time: May 20 2022 19:45:31\n"
     ]
    },
    {
     "name": "stdout",
     "output_type": "stream",
     "text": [
      "fail to lead iql\n"
     ]
    }
   ],
   "source": [
    "import latentplan.utils as utils\n",
    "import latentplan.datasets as datasets"
   ]
  },
  {
   "cell_type": "code",
   "execution_count": 5,
   "metadata": {},
   "outputs": [],
   "source": [
    "class Parser(utils.Parser):\n",
    "    dataset: str = 'halfcheetah-medium-expert-v2'\n",
    "    config: str = 'config.vqvae'"
   ]
  },
  {
   "cell_type": "code",
   "execution_count": 6,
   "metadata": {},
   "outputs": [
    {
     "name": "stdout",
     "output_type": "stream",
     "text": [
      "[ utils/setup ] Reading config: config.vqvae:halfcheetah_medium_expert_v2\n",
      "[ utils/setup ] Not using overrides | config: config.vqvae | dataset: halfcheetah_medium_expert_v2\n",
      "[ utils/setup ] Saved args to /home/erciyes/logs/halfcheetah-medium-expert-v2/vae/vq/args.json\n"
     ]
    }
   ],
   "source": [
    "args = Parser().parse_args('train')"
   ]
  },
  {
   "cell_type": "code",
   "execution_count": 8,
   "metadata": {},
   "outputs": [],
   "source": [
    "env_name = args.dataset if \"-v\" in args.dataset else args.dataset+\"-v0\"\n",
    "env = datasets.load_environment(env_name)\n",
    "\n",
    "sequence_length = args.subsampled_sequence_length * args.step\n",
    "args.logbase = os.path.expanduser(args.logbase)\n",
    "args.savepath = os.path.expanduser(args.savepath)\n",
    "if not os.path.exists(args.savepath):\n",
    "    os.makedirs(args.savepath)"
   ]
  },
  {
   "cell_type": "code",
   "execution_count": 23,
   "metadata": {},
   "outputs": [
    {
     "name": "stdout",
     "output_type": "stream",
     "text": [
      "\n",
      "Config: <class 'latentplan.datasets.sequence.SequenceDataset'>\n",
      "    disable_goal: False\n",
      "    discount: 0.99\n",
      "    env: halfcheetah-medium-expert-v2\n",
      "    max_path_length: 1000\n",
      "    normalize_raw: True\n",
      "    normalize_reward: True\n",
      "    penalty: -100\n",
      "    sequence_length: 25\n",
      "    step: 1\n",
      "\n",
      "Saved config to: /home/erciyes/logs/halfcheetah-medium-expert-v2/vae/vq/data_config.pkl\n",
      "\n"
     ]
    }
   ],
   "source": [
    "dataset_class = datasets.SequenceDataset\n",
    "\n",
    "dataset_config = utils.Config(\n",
    "    dataset_class,\n",
    "    savepath=(args.savepath, 'data_config.pkl'),\n",
    "    env=args.dataset,\n",
    "    penalty=args.termination_penalty,\n",
    "    sequence_length=sequence_length,\n",
    "    step=args.step,\n",
    "    discount=args.discount,\n",
    "    disable_goal=args.disable_goal,\n",
    "    normalize_raw=args.normalize,\n",
    "    normalize_reward=args.normalize_reward,\n",
    "    max_path_length=int(args.max_path_length)\n",
    ")"
   ]
  },
  {
   "cell_type": "code",
   "execution_count": 24,
   "metadata": {},
   "outputs": [
    {
     "name": "stdout",
     "output_type": "stream",
     "text": [
      "[ datasets/sequence ] Sequence length: 25 | Step: 1 | Max path length: 1000\n",
      "[ datasets/sequence ] Loading... Downloading dataset: http://rail.eecs.berkeley.edu/datasets/offline_rl/gym_mujoco_v2/halfcheetah_medium_expert-v2.hdf5 to /home/erciyes/.d4rl/datasets/halfcheetah_medium_expert-v2.hdf5\n"
     ]
    },
    {
     "name": "stderr",
     "output_type": "stream",
     "text": [
      "load datafile: 100%|██████████| 9/9 [00:04<00:00,  1.82it/s]\n"
     ]
    },
    {
     "name": "stdout",
     "output_type": "stream",
     "text": [
      "✓\n",
      "[ datasets/sequence ] Segmenting... ✓\n"
     ]
    }
   ],
   "source": [
    "# Get dataset\n",
    "dataset = dataset_config()\n",
    "obs_dim = dataset.observation_dim\n",
    "act_dim = dataset.action_dim\n",
    "if args.task_type == \"locomotion\":\n",
    "    transition_dim = obs_dim+act_dim+3\n",
    "else:\n",
    "    transition_dim = 128+act_dim+3"
   ]
  },
  {
   "cell_type": "code",
   "execution_count": 27,
   "metadata": {},
   "outputs": [],
   "source": [
    "loader = torch.utils.data.dataloader.DataLoader(dataset, shuffle=True, pin_memory=True,\n",
    "                    batch_size=args.batch_size,\n",
    "                    num_workers=0)"
   ]
  },
  {
   "cell_type": "code",
   "execution_count": 28,
   "metadata": {},
   "outputs": [],
   "source": [
    "BATCH = next(iter(loader))"
   ]
  },
  {
   "cell_type": "code",
   "execution_count": 1,
   "metadata": {},
   "outputs": [
    {
     "ename": "NameError",
     "evalue": "name 'args' is not defined",
     "output_type": "error",
     "traceback": [
      "\u001b[0;31m---------------------------------------------------------------------------\u001b[0m",
      "\u001b[0;31mNameError\u001b[0m                                 Traceback (most recent call last)",
      "\u001b[1;32m/home/erciyes/Projects/comp441/latentplan.jl/latentplan/datasets/datasetpy.ipynb Cell 11\u001b[0m in \u001b[0;36m<cell line: 1>\u001b[0;34m()\u001b[0m\n\u001b[0;32m----> <a href='vscode-notebook-cell://ssh-remote%2Bizar/home/erciyes/Projects/comp441/latentplan.jl/latentplan/datasets/datasetpy.ipynb#X13sdnNjb2RlLXJlbW90ZQ%3D%3D?line=0'>1</a>\u001b[0m args\u001b[39m.\u001b[39mdataset\n",
      "\u001b[0;31mNameError\u001b[0m: name 'args' is not defined"
     ]
    }
   ],
   "source": [
    "args.dataset"
   ]
  },
  {
   "cell_type": "code",
   "execution_count": null,
   "metadata": {},
   "outputs": [],
   "source": []
  }
 ],
 "metadata": {
  "kernelspec": {
   "display_name": "Python 3.9.12 ('tap')",
   "language": "python",
   "name": "python3"
  },
  "language_info": {
   "codemirror_mode": {
    "name": "ipython",
    "version": 3
   },
   "file_extension": ".py",
   "mimetype": "text/x-python",
   "name": "python",
   "nbconvert_exporter": "python",
   "pygments_lexer": "ipython3",
   "version": "3.9.12"
  },
  "orig_nbformat": 4,
  "vscode": {
   "interpreter": {
    "hash": "231bef6a939cfad78298756ec0817f42b004d1cdd21bd4248973fc5e1660d192"
   }
  }
 },
 "nbformat": 4,
 "nbformat_minor": 2
}
