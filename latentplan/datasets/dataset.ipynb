{
 "cells": [
  {
   "cell_type": "code",
   "execution_count": 2,
   "metadata": {},
   "outputs": [
    {
     "name": "stderr",
     "output_type": "stream",
     "text": [
      "\u001b[32m\u001b[1m  Activating\u001b[22m\u001b[39m environment at `~/Projects/comp441/latentplan.jl/Project.toml`\n"
     ]
    }
   ],
   "source": [
    "import Pkg\n",
    "Pkg.activate(\"/home/erciyes/Projects/comp441/latentplan.jl\")"
   ]
  },
  {
   "cell_type": "code",
   "execution_count": 3,
   "metadata": {},
   "outputs": [
    {
     "name": "stdout",
     "output_type": "stream",
     "text": [
      "Import error. Trying to rebuild mujoco_py.\n",
      "running build_ext\n"
     ]
    },
    {
     "name": "stderr",
     "output_type": "stream",
     "text": [
      "WARNING: replacing module Sequence.\n",
      "<frozen importlib._bootstrap>:283: DeprecationWarning: the load_module() method is deprecated and slated for removal in Python 3.12; use exec_module() instead\n"
     ]
    },
    {
     "ename": "LoadError",
     "evalue": "LoadError: LoadError: PyError (PyImport_ImportModule) <class 'FileNotFoundError'>\nFileNotFoundError(2, 'No such file or directory')\n  File \"/home/erciyes/miniconda3/envs/conda_jl/lib/python3.10/site-packages/d4rl/__init__.py\", line 14, in <module>\n    import d4rl.locomotion\n  File \"/home/erciyes/miniconda3/envs/conda_jl/lib/python3.10/site-packages/d4rl/locomotion/__init__.py\", line 2, in <module>\n    from d4rl.locomotion import ant\n  File \"/home/erciyes/miniconda3/envs/conda_jl/lib/python3.10/site-packages/d4rl/locomotion/ant.py\", line 20, in <module>\n    import mujoco_py\n  File \"/home/erciyes/miniconda3/envs/conda_jl/lib/python3.10/site-packages/mujoco_py/__init__.py\", line 2, in <module>\n    from mujoco_py.builder import cymj, ignore_mujoco_warnings, functions, MujocoException\n  File \"/home/erciyes/miniconda3/envs/conda_jl/lib/python3.10/site-packages/mujoco_py/builder.py\", line 504, in <module>\n    cymj = load_cython_ext(mujoco_path)\n  File \"/home/erciyes/miniconda3/envs/conda_jl/lib/python3.10/site-packages/mujoco_py/builder.py\", line 110, in load_cython_ext\n    cext_so_path = builder.build()\n  File \"/home/erciyes/miniconda3/envs/conda_jl/lib/python3.10/site-packages/mujoco_py/builder.py\", line 226, in build\n    built_so_file_path = self._build_impl()\n  File \"/home/erciyes/miniconda3/envs/conda_jl/lib/python3.10/site-packages/mujoco_py/builder.py\", line 280, in _build_impl\n    fix_shared_library(so_file_path, 'libmujoco210.so', 'libmujoco210.so')\n  File \"/home/erciyes/miniconda3/envs/conda_jl/lib/python3.10/site-packages/mujoco_py/builder.py\", line 154, in fix_shared_library\n    subprocess.check_call(['patchelf', '--remove-rpath', so_file])\n  File \"/home/erciyes/miniconda3/envs/conda_jl/lib/python3.10/subprocess.py\", line 364, in check_call\n    retcode = call(*popenargs, **kwargs)\n  File \"/home/erciyes/miniconda3/envs/conda_jl/lib/python3.10/subprocess.py\", line 345, in call\n    with Popen(*popenargs, **kwargs) as p:\n  File \"/home/erciyes/miniconda3/envs/conda_jl/lib/python3.10/subprocess.py\", line 969, in __init__\n    self._execute_child(args, executable, preexec_fn, close_fds,\n  File \"/home/erciyes/miniconda3/envs/conda_jl/lib/python3.10/subprocess.py\", line 1845, in _execute_child\n    raise child_exception_type(errno_num, err_msg, err_filename)\n\nin expression starting at /home/erciyes/Projects/comp441/latentplan.jl/latentplan/datasets/d4rl.jl:1\nin expression starting at /home/erciyes/Projects/comp441/latentplan.jl/latentplan/datasets/sequence.jl:1",
     "output_type": "error",
     "traceback": [
      "LoadError: LoadError: PyError (PyImport_ImportModule) <class 'FileNotFoundError'>\nFileNotFoundError(2, 'No such file or directory')\n  File \"/home/erciyes/miniconda3/envs/conda_jl/lib/python3.10/site-packages/d4rl/__init__.py\", line 14, in <module>\n    import d4rl.locomotion\n  File \"/home/erciyes/miniconda3/envs/conda_jl/lib/python3.10/site-packages/d4rl/locomotion/__init__.py\", line 2, in <module>\n    from d4rl.locomotion import ant\n  File \"/home/erciyes/miniconda3/envs/conda_jl/lib/python3.10/site-packages/d4rl/locomotion/ant.py\", line 20, in <module>\n    import mujoco_py\n  File \"/home/erciyes/miniconda3/envs/conda_jl/lib/python3.10/site-packages/mujoco_py/__init__.py\", line 2, in <module>\n    from mujoco_py.builder import cymj, ignore_mujoco_warnings, functions, MujocoException\n  File \"/home/erciyes/miniconda3/envs/conda_jl/lib/python3.10/site-packages/mujoco_py/builder.py\", line 504, in <module>\n    cymj = load_cython_ext(mujoco_path)\n  File \"/home/erciyes/miniconda3/envs/conda_jl/lib/python3.10/site-packages/mujoco_py/builder.py\", line 110, in load_cython_ext\n    cext_so_path = builder.build()\n  File \"/home/erciyes/miniconda3/envs/conda_jl/lib/python3.10/site-packages/mujoco_py/builder.py\", line 226, in build\n    built_so_file_path = self._build_impl()\n  File \"/home/erciyes/miniconda3/envs/conda_jl/lib/python3.10/site-packages/mujoco_py/builder.py\", line 280, in _build_impl\n    fix_shared_library(so_file_path, 'libmujoco210.so', 'libmujoco210.so')\n  File \"/home/erciyes/miniconda3/envs/conda_jl/lib/python3.10/site-packages/mujoco_py/builder.py\", line 154, in fix_shared_library\n    subprocess.check_call(['patchelf', '--remove-rpath', so_file])\n  File \"/home/erciyes/miniconda3/envs/conda_jl/lib/python3.10/subprocess.py\", line 364, in check_call\n    retcode = call(*popenargs, **kwargs)\n  File \"/home/erciyes/miniconda3/envs/conda_jl/lib/python3.10/subprocess.py\", line 345, in call\n    with Popen(*popenargs, **kwargs) as p:\n  File \"/home/erciyes/miniconda3/envs/conda_jl/lib/python3.10/subprocess.py\", line 969, in __init__\n    self._execute_child(args, executable, preexec_fn, close_fds,\n  File \"/home/erciyes/miniconda3/envs/conda_jl/lib/python3.10/subprocess.py\", line 1845, in _execute_child\n    raise child_exception_type(errno_num, err_msg, err_filename)\n\nin expression starting at /home/erciyes/Projects/comp441/latentplan.jl/latentplan/datasets/d4rl.jl:1\nin expression starting at /home/erciyes/Projects/comp441/latentplan.jl/latentplan/datasets/sequence.jl:1",
      "",
      "Stacktrace:",
      " [1] pyimport(name::String)",
      "   @ PyCall ~/.julia/packages/PyCall/ygXW2/src/PyCall.jl:558",
      " [2] top-level scope",
      "   @ ~/Projects/comp441/latentplan.jl/latentplan/datasets/d4rl.jl:5",
      " [3] include(mod::Module, _path::String)",
      "   @ Base ./Base.jl:384",
      " [4] include(x::String)",
      "   @ Main.Sequence ~/Projects/comp441/latentplan.jl/latentplan/datasets/sequence.jl:1",
      " [5] top-level scope",
      "   @ ~/Projects/comp441/latentplan.jl/latentplan/datasets/sequence.jl:2",
      " [6] include(fname::String)",
      "   @ Base.MainInclude ./client.jl:444",
      " [7] top-level scope",
      "   @ In[3]:1",
      " [8] eval",
      "   @ ./boot.jl:360 [inlined]",
      " [9] include_string(mapexpr::typeof(REPL.softscope), mod::Module, code::String, filename::String)",
      "   @ Base ./loading.jl:1116"
     ]
    }
   ],
   "source": [
    "include(\"sequence.jl\")"
   ]
  },
  {
   "cell_type": "code",
   "execution_count": 9,
   "metadata": {},
   "outputs": [],
   "source": [
    "using .Sequence: SequenceDataset"
   ]
  },
  {
   "cell_type": "code",
   "execution_count": 11,
   "metadata": {},
   "outputs": [
    {
     "name": "stdout",
     "output_type": "stream",
     "text": [
      "[ datasets/sequence ] Sequence length: 250 | Step: 10 | Max path length: 1000\n"
     ]
    },
    {
     "ename": "LoadError",
     "evalue": "PyError ($(Expr(:escape, :(ccall(#= /home/erciyes/.julia/packages/PyCall/ygXW2/src/pyfncall.jl:43 =# @pysym(:PyObject_Call), PyPtr, (PyPtr, PyPtr, PyPtr), o, pyargsptr, kw))))) <class 'gym.error.UnregisteredEnv'>\nUnregisteredEnv('No registered env with id: halfcheetah-medium-expert-v2')\n  File \"/home/erciyes/miniconda3/envs/tap/lib/python3.9/site-packages/gym/envs/registration.py\", line 145, in make\n    return registry.make(id, **kwargs)\n  File \"/home/erciyes/miniconda3/envs/tap/lib/python3.9/site-packages/gym/envs/registration.py\", line 89, in make\n    spec = self.spec(path)\n  File \"/home/erciyes/miniconda3/envs/tap/lib/python3.9/site-packages/gym/envs/registration.py\", line 131, in spec\n    raise error.UnregisteredEnv('No registered env with id: {}'.format(id))\n",
     "output_type": "error",
     "traceback": [
      "PyError ($(Expr(:escape, :(ccall(#= /home/erciyes/.julia/packages/PyCall/ygXW2/src/pyfncall.jl:43 =# @pysym(:PyObject_Call), PyPtr, (PyPtr, PyPtr, PyPtr), o, pyargsptr, kw))))) <class 'gym.error.UnregisteredEnv'>\nUnregisteredEnv('No registered env with id: halfcheetah-medium-expert-v2')\n  File \"/home/erciyes/miniconda3/envs/tap/lib/python3.9/site-packages/gym/envs/registration.py\", line 145, in make\n    return registry.make(id, **kwargs)\n  File \"/home/erciyes/miniconda3/envs/tap/lib/python3.9/site-packages/gym/envs/registration.py\", line 89, in make\n    spec = self.spec(path)\n  File \"/home/erciyes/miniconda3/envs/tap/lib/python3.9/site-packages/gym/envs/registration.py\", line 131, in spec\n    raise error.UnregisteredEnv('No registered env with id: {}'.format(id))\n",
      "",
      "Stacktrace:",
      "  [1] pyerr_check",
      "    @ ~/.julia/packages/PyCall/ygXW2/src/exception.jl:62 [inlined]",
      "  [2] pyerr_check",
      "    @ ~/.julia/packages/PyCall/ygXW2/src/exception.jl:66 [inlined]",
      "  [3] _handle_error(msg::String)",
      "    @ PyCall ~/.julia/packages/PyCall/ygXW2/src/exception.jl:83",
      "  [4] macro expansion",
      "    @ ~/.julia/packages/PyCall/ygXW2/src/exception.jl:97 [inlined]",
      "  [5] #107",
      "    @ ~/.julia/packages/PyCall/ygXW2/src/pyfncall.jl:43 [inlined]",
      "  [6] disable_sigint",
      "    @ ./c.jl:458 [inlined]",
      "  [7] __pycall!",
      "    @ ~/.julia/packages/PyCall/ygXW2/src/pyfncall.jl:42 [inlined]",
      "  [8] _pycall!(ret::PyCall.PyObject, o::PyCall.PyObject, args::Tuple{String}, nargs::Int64, kw::Ptr{Nothing})",
      "    @ PyCall ~/.julia/packages/PyCall/ygXW2/src/pyfncall.jl:29",
      "  [9] _pycall!",
      "    @ ~/.julia/packages/PyCall/ygXW2/src/pyfncall.jl:11 [inlined]",
      " [10] #_#114",
      "    @ ~/.julia/packages/PyCall/ygXW2/src/pyfncall.jl:86 [inlined]",
      " [11] (::PyCall.PyObject)(args::String)",
      "    @ PyCall ~/.julia/packages/PyCall/ygXW2/src/pyfncall.jl:86",
      " [12] load_environment(name::String)",
      "    @ Main.Sequence.D4RL ~/Projects/comp441/latentplan.jl/latentplan/datasets/d4rl.jl:9",
      " [13] SequenceDataset(env::String, sequence_length::Int64, step::Int64, discount::Float64, max_path_length::Int64, penalty::Nothing, device::String, normalize_raw::Bool, normalize_reward::Bool, train_portion::Float64, disable_goal::Bool)",
      "    @ Main.Sequence ~/Projects/comp441/latentplan.jl/latentplan/datasets/sequence.jl:34",
      " [14] SequenceDataset(env::String)",
      "    @ Main.Sequence ~/Projects/comp441/latentplan.jl/latentplan/datasets/sequence.jl:32",
      " [15] top-level scope",
      "    @ In[11]:1",
      " [16] eval",
      "    @ ./boot.jl:360 [inlined]",
      " [17] include_string(mapexpr::typeof(REPL.softscope), mod::Module, code::String, filename::String)",
      "    @ Base ./loading.jl:1116"
     ]
    }
   ],
   "source": [
    "SequenceDataset(\"halfcheetah-medium-expert-v2\")"
   ]
  },
  {
   "cell_type": "code",
   "execution_count": null,
   "metadata": {},
   "outputs": [],
   "source": []
  }
 ],
 "metadata": {
  "kernelspec": {
   "display_name": "Julia 1.6.7",
   "language": "julia",
   "name": "julia-1.6"
  },
  "language_info": {
   "file_extension": ".jl",
   "mimetype": "application/julia",
   "name": "julia",
   "version": "1.6.7"
  },
  "vscode": {
   "interpreter": {
    "hash": "231bef6a939cfad78298756ec0817f42b004d1cdd21bd4248973fc5e1660d192"
   }
  }
 },
 "nbformat": 4,
 "nbformat_minor": 4
}
