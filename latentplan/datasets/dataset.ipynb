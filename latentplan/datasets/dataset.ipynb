{
 "cells": [
  {
   "cell_type": "code",
   "execution_count": 1,
   "metadata": {},
   "outputs": [],
   "source": [
    "using PyCall"
   ]
  },
  {
   "cell_type": "code",
   "execution_count": 3,
   "metadata": {},
   "outputs": [
    {
     "name": "stdout",
     "output_type": "stream",
     "text": [
      "Import error. Trying to rebuild mujoco_py.\n",
      "running build_ext\n",
      "building 'mujoco_py.cymj' extension\n",
      "/ssoft/spack/arvine/v1/opt/spack/linux-rhel7-haswell/gcc-4.8.5/gcc-8.4.0-4kalgjlpigxspb5sclrqewvbbrr5i5ze/bin/gcc -Wno-unused-result -Wsign-compare -DNDEBUG -O2 -Wall -fPIC -O2 -isystem /home/erciyes/miniconda3/envs/tap/include -I/home/erciyes/miniconda3/envs/tap/include -fPIC -O2 -isystem /home/erciyes/miniconda3/envs/tap/include -fPIC -I/home/erciyes/miniconda3/envs/tap/lib/python3.9/site-packages/mujoco_py -I/home/erciyes/.mujoco/mujoco210/include -I/home/erciyes/miniconda3/envs/tap/lib/python3.9/site-packages/numpy/core/include -I/home/erciyes/miniconda3/envs/tap/include/python3.9 -c /home/erciyes/miniconda3/envs/tap/lib/python3.9/site-packages/mujoco_py/cymj.c -o /home/erciyes/miniconda3/envs/tap/lib/python3.9/site-packages/mujoco_py/generated/_pyxbld_2.1.2.14_39_linuxcpuextensionbuilder/temp.linux-x86_64-cpython-39/home/erciyes/miniconda3/envs/tap/lib/python3.9/site-packages/mujoco_py/cymj.o -fopenmp -w\n",
      "/ssoft/spack/arvine/v1/opt/spack/linux-rhel7-haswell/gcc-4.8.5/gcc-8.4.0-4kalgjlpigxspb5sclrqewvbbrr5i5ze/bin/gcc -Wno-unused-result -Wsign-compare -DNDEBUG -O2 -Wall -fPIC -O2 -isystem /home/erciyes/miniconda3/envs/tap/include -I/home/erciyes/miniconda3/envs/tap/include -fPIC -O2 -isystem /home/erciyes/miniconda3/envs/tap/include -fPIC -I/home/erciyes/miniconda3/envs/tap/lib/python3.9/site-packages/mujoco_py -I/home/erciyes/.mujoco/mujoco210/include -I/home/erciyes/miniconda3/envs/tap/lib/python3.9/site-packages/numpy/core/include -I/home/erciyes/miniconda3/envs/tap/include/python3.9 -c /home/erciyes/miniconda3/envs/tap/lib/python3.9/site-packages/mujoco_py/gl/osmesashim.c -o /home/erciyes/miniconda3/envs/tap/lib/python3.9/site-packages/mujoco_py/generated/_pyxbld_2.1.2.14_39_linuxcpuextensionbuilder/temp.linux-x86_64-cpython-39/home/erciyes/miniconda3/envs/tap/lib/python3.9/site-packages/mujoco_py/gl/osmesashim.o -fopenmp -w\n",
      "/ssoft/spack/arvine/v1/opt/spack/linux-rhel7-haswell/gcc-4.8.5/gcc-8.4.0-4kalgjlpigxspb5sclrqewvbbrr5i5ze/bin/gcc -shared -Wl,-rpath,/home/erciyes/miniconda3/envs/tap/lib -Wl,-rpath-link,/home/erciyes/miniconda3/envs/tap/lib -L/home/erciyes/miniconda3/envs/tap/lib -L/home/erciyes/miniconda3/envs/tap/lib -Wl,-rpath,/home/erciyes/miniconda3/envs/tap/lib -Wl,-rpath-link,/home/erciyes/miniconda3/envs/tap/lib -L/home/erciyes/miniconda3/envs/tap/lib /home/erciyes/miniconda3/envs/tap/lib/python3.9/site-packages/mujoco_py/generated/_pyxbld_2.1.2.14_39_linuxcpuextensionbuilder/temp.linux-x86_64-cpython-39/home/erciyes/miniconda3/envs/tap/lib/python3.9/site-packages/mujoco_py/cymj.o /home/erciyes/miniconda3/envs/tap/lib/python3.9/site-packages/mujoco_py/generated/_pyxbld_2.1.2.14_39_linuxcpuextensionbuilder/temp.linux-x86_64-cpython-39/home/erciyes/miniconda3/envs/tap/lib/python3.9/site-packages/mujoco_py/gl/osmesashim.o -L/home/erciyes/.mujoco/mujoco210/bin -Wl,-R/home/erciyes/.mujoco/mujoco210/bin -lmujoco210 -lglewosmesa -lOSMesa -lGL -o /home/erciyes/miniconda3/envs/tap/lib/python3.9/site-packages/mujoco_py/generated/_pyxbld_2.1.2.14_39_linuxcpuextensionbuilder/lib.linux-x86_64-cpython-39/mujoco_py/cymj.cpython-39-x86_64-linux-gnu.so -fopenmp\n"
     ]
    },
    {
     "ename": "LoadError",
     "evalue": "PyError (PyImport_ImportModule\n\nThe Python package mujoco_py could not be imported by pyimport. Usually this means\nthat you did not install mujoco_py in the Python version being used by PyCall.\n\nPyCall is currently configured to use the Python version at:\n\n/home/erciyes/miniconda3/envs/tap/bin/python3\n\nand you should use whatever mechanism you usually use (apt-get, pip, conda,\netcetera) to install the Python package containing the mujoco_py module.\n\nOne alternative is to re-configure PyCall to use a different Python\nversion on your system: set ENV[\"PYTHON\"] to the path/name of the python\nexecutable you want to use, run Pkg.build(\"PyCall\"), and re-launch Julia.\n\nAnother alternative is to configure PyCall to use a Julia-specific Python\ndistribution via the Conda.jl package (which installs a private Anaconda\nPython distribution), which has the advantage that packages can be installed\nand kept up-to-date via Julia.  As explained in the PyCall documentation,\nset ENV[\"PYTHON\"]=\"\", run Pkg.build(\"PyCall\"), and re-launch Julia. Then,\nTo install the mujoco_py module, you can use `pyimport_conda(\"mujoco_py\", PKG)`,\nwhere PKG is the Anaconda package that contains the module mujoco_py,\nor alternatively you can use the Conda package directly (via\n`using Conda` followed by `Conda.add` etcetera).\n\n) <class 'ImportError'>\nImportError('libOSMesa.so.8: cannot open shared object file: No such file or directory')\n  File \"/home/erciyes/miniconda3/envs/tap/lib/python3.9/site-packages/mujoco_py/__init__.py\", line 2, in <module>\n    from mujoco_py.builder import cymj, ignore_mujoco_warnings, functions, MujocoException\n  File \"/home/erciyes/miniconda3/envs/tap/lib/python3.9/site-packages/mujoco_py/builder.py\", line 504, in <module>\n    cymj = load_cython_ext(mujoco_path)\n  File \"/home/erciyes/miniconda3/envs/tap/lib/python3.9/site-packages/mujoco_py/builder.py\", line 111, in load_cython_ext\n    mod = load_dynamic_ext('cymj', cext_so_path)\n  File \"/home/erciyes/miniconda3/envs/tap/lib/python3.9/site-packages/mujoco_py/builder.py\", line 130, in load_dynamic_ext\n    return loader.load_module()\n",
     "output_type": "error",
     "traceback": [
      "PyError (PyImport_ImportModule\n\nThe Python package mujoco_py could not be imported by pyimport. Usually this means\nthat you did not install mujoco_py in the Python version being used by PyCall.\n\nPyCall is currently configured to use the Python version at:\n\n/home/erciyes/miniconda3/envs/tap/bin/python3\n\nand you should use whatever mechanism you usually use (apt-get, pip, conda,\netcetera) to install the Python package containing the mujoco_py module.\n\nOne alternative is to re-configure PyCall to use a different Python\nversion on your system: set ENV[\"PYTHON\"] to the path/name of the python\nexecutable you want to use, run Pkg.build(\"PyCall\"), and re-launch Julia.\n\nAnother alternative is to configure PyCall to use a Julia-specific Python\ndistribution via the Conda.jl package (which installs a private Anaconda\nPython distribution), which has the advantage that packages can be installed\nand kept up-to-date via Julia.  As explained in the PyCall documentation,\nset ENV[\"PYTHON\"]=\"\", run Pkg.build(\"PyCall\"), and re-launch Julia. Then,\nTo install the mujoco_py module, you can use `pyimport_conda(\"mujoco_py\", PKG)`,\nwhere PKG is the Anaconda package that contains the module mujoco_py,\nor alternatively you can use the Conda package directly (via\n`using Conda` followed by `Conda.add` etcetera).\n\n) <class 'ImportError'>\nImportError('libOSMesa.so.8: cannot open shared object file: No such file or directory')\n  File \"/home/erciyes/miniconda3/envs/tap/lib/python3.9/site-packages/mujoco_py/__init__.py\", line 2, in <module>\n    from mujoco_py.builder import cymj, ignore_mujoco_warnings, functions, MujocoException\n  File \"/home/erciyes/miniconda3/envs/tap/lib/python3.9/site-packages/mujoco_py/builder.py\", line 504, in <module>\n    cymj = load_cython_ext(mujoco_path)\n  File \"/home/erciyes/miniconda3/envs/tap/lib/python3.9/site-packages/mujoco_py/builder.py\", line 111, in load_cython_ext\n    mod = load_dynamic_ext('cymj', cext_so_path)\n  File \"/home/erciyes/miniconda3/envs/tap/lib/python3.9/site-packages/mujoco_py/builder.py\", line 130, in load_dynamic_ext\n    return loader.load_module()\n",
      "",
      "Stacktrace:",
      " [1] pyimport(name::String)",
      "   @ PyCall ~/.julia/packages/PyCall/ygXW2/src/PyCall.jl:558",
      " [2] top-level scope",
      "   @ In[3]:1",
      " [3] eval",
      "   @ ./boot.jl:360 [inlined]",
      " [4] include_string(mapexpr::typeof(REPL.softscope), mod::Module, code::String, filename::String)",
      "   @ Base ./loading.jl:1116"
     ]
    }
   ],
   "source": [
    "mjc = pyimport(\"mujoco_py\")"
   ]
  },
  {
   "cell_type": "code",
   "execution_count": null,
   "metadata": {},
   "outputs": [],
   "source": []
  }
 ],
 "metadata": {
  "kernelspec": {
   "display_name": "Julia 1.6.7",
   "language": "julia",
   "name": "julia-1.6"
  },
  "language_info": {
   "file_extension": ".jl",
   "mimetype": "application/julia",
   "name": "julia",
   "version": "1.6.7"
  },
  "vscode": {
   "interpreter": {
    "hash": "231bef6a939cfad78298756ec0817f42b004d1cdd21bd4248973fc5e1660d192"
   }
  }
 },
 "nbformat": 4,
 "nbformat_minor": 4
}
