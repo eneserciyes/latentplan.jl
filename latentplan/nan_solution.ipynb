{
 "cells": [
  {
   "cell_type": "code",
   "execution_count": null,
   "id": "615b7f33-09de-4434-ac98-5ab4b4bcf077",
   "metadata": {},
   "outputs": [],
   "source": [
    "import Pkg\n",
    "Pkg.activate(\"..\")"
   ]
  },
  {
   "cell_type": "code",
   "execution_count": null,
   "id": "ccd4e52f-fdcd-42e1-9698-37a6c2e825f4",
   "metadata": {},
   "outputs": [],
   "source": [
    "using Test\n",
    "using PyCall\n",
    "using Knet\n",
    "using Debugger: @enter, @bp, @run\n",
    "using CUDA\n",
    "\n",
    "if CUDA.functional()\n",
    "\tatype=KnetArray{Float32}\n",
    "else\t\n",
    "\tatype=Array{Float32}\n",
    "end\n",
    "cputype=Array{Float32}"
   ]
  },
  {
   "cell_type": "code",
   "execution_count": null,
   "id": "d3f1eb0b-44d9-4a9e-b9ac-b031fd2980c1",
   "metadata": {},
   "outputs": [],
   "source": [
    "include(\"datasets/sequence.jl\")\n",
    "include(\"models/common.jl\")\n",
    "include(\"models/transformers.jl\")\n",
    "include(\"models/vqvae.jl\")\n",
    "include(\"setup.jl\")"
   ]
  },
  {
   "cell_type": "code",
   "execution_count": null,
   "id": "8d3d8d23-6d5a-41eb-bd9a-c7e6c31e9c5c",
   "metadata": {},
   "outputs": [],
   "source": [
    "losssum(prediction) = mean(prediction[2] + prediction[3] + prediction[4])"
   ]
  },
  {
   "cell_type": "code",
   "execution_count": null,
   "id": "c826d4d1-ca5c-482d-a90a-cb81ca6dffa5",
   "metadata": {},
   "outputs": [],
   "source": [
    "model = Knet.load(\"/home/mehmeteneserciyes/logs_julia/hopper-medium-replay-v2/T-1-42/before_nan.jld2\", \"model\");"
   ]
  },
  {
   "cell_type": "code",
   "execution_count": null,
   "id": "d8f15a2d-2eb2-4898-9d21-807ef4ff6856",
   "metadata": {},
   "outputs": [],
   "source": [
    "model.model.codebook.embedding"
   ]
  },
  {
   "cell_type": "markdown",
   "id": "99752142-2c7f-4029-99d5-cac29432aae9",
   "metadata": {},
   "source": [
    "# Batch and nanification"
   ]
  },
  {
   "cell_type": "code",
   "execution_count": null,
   "id": "ae5ee410-ebcf-4ad2-8474-06ac20c9e5de",
   "metadata": {},
   "outputs": [],
   "source": [
    "nan_model = Knet.load(\"/home/mehmeteneserciyes/logs_julia/hopper-medium-replay-v2/T-1-42/after_nan.jld2\", \"model\");"
   ]
  },
  {
   "cell_type": "code",
   "execution_count": null,
   "id": "2855296d-ac06-4f8c-8375-5a2e2a325f0c",
   "metadata": {},
   "outputs": [],
   "source": [
    "nan_model.model.codebook.embedding"
   ]
  },
  {
   "cell_type": "code",
   "execution_count": null,
   "id": "1c410580-bf1b-4962-9b11-b4ad32492492",
   "metadata": {},
   "outputs": [],
   "source": [
    "nan_model.model.codebook.ema_w"
   ]
  },
  {
   "cell_type": "markdown",
   "id": "3f11d4c0-162a-4fa5-99d2-e203eb589eba",
   "metadata": {},
   "source": [
    "# batch"
   ]
  },
  {
   "cell_type": "code",
   "execution_count": null,
   "id": "3a836141-fa04-4a39-ae45-3bdaff88a32a",
   "metadata": {},
   "outputs": [],
   "source": [
    "batch = Knet.load(\"/home/mehmeteneserciyes/logs_julia/hopper-medium-replay-v2/T-1-42/batch.jld2\", \"batch\");"
   ]
  },
  {
   "cell_type": "code",
   "execution_count": null,
   "id": "8434455c-0dce-4912-9105-a42432ad43c8",
   "metadata": {},
   "outputs": [],
   "source": [
    "joined_inputs, targets, mask, terminals = atype(batch[1]), atype(batch[2]), atype(batch[3]), atype(batch[4]);"
   ]
  },
  {
   "cell_type": "code",
   "execution_count": null,
   "id": "a6203e41-fe0b-4157-996c-2d303990ff28",
   "metadata": {},
   "outputs": [],
   "source": []
  },
  {
   "cell_type": "code",
   "execution_count": null,
   "id": "9ff2337c-a600-4ba0-b4fb-dbbc181c6aca",
   "metadata": {},
   "outputs": [],
   "source": [
    "# total_loss = @diff losssum(model(X, Y, mask, terminal))"
   ]
  },
  {
   "cell_type": "code",
   "execution_count": null,
   "id": "bc1e77f6-f5fe-44c0-9df2-6dd0da0804f7",
   "metadata": {},
   "outputs": [],
   "source": [
    "check(v) = any(isnan.(cputype(v))) || any(cputype(v).==Inf)"
   ]
  },
  {
   "cell_type": "markdown",
   "id": "a69025c2-2e37-4736-a0b9-86d378645254",
   "metadata": {
    "tags": []
   },
   "source": [
    "# step through"
   ]
  },
  {
   "cell_type": "code",
   "execution_count": null,
   "id": "e99b9c04-accb-4a29-b48b-9d7a4d6cc05f",
   "metadata": {},
   "outputs": [],
   "source": [
    "v = model;"
   ]
  },
  {
   "cell_type": "code",
   "execution_count": null,
   "id": "9f9eb5f8-aa13-40cb-971a-e62f9baa0d9f",
   "metadata": {},
   "outputs": [],
   "source": [
    "joined_dimension, t, b = size(joined_inputs)\n",
    "padded = repeat_broadcast(v.padding_vector, 1, t, b)\n",
    "\n",
    "if !(terminals === nothing)\n",
    "    terminal_mask = repeat_broadcast(deepcopy(1 .- terminals), size(joined_inputs, 1), 1, 1)\n",
    "    joined_inputs = joined_inputs .* terminal_mask .+ padded .* (1 .- terminal_mask)\n",
    "end\n",
    "state = joined_inputs[1:v.observation_dim, 1, :]"
   ]
  },
  {
   "cell_type": "code",
   "execution_count": null,
   "id": "cfc8ea4b-529c-4807-8bd6-c4b0d8662d27",
   "metadata": {},
   "outputs": [],
   "source": [
    "joined_inputs = cat(joined_inputs, terminals, dims=1);\n",
    "state = state;"
   ]
  },
  {
   "cell_type": "code",
   "execution_count": null,
   "id": "6d956b04-131c-4b58-947b-6b0f185cd7a7",
   "metadata": {},
   "outputs": [],
   "source": [
    "v = model.model;"
   ]
  },
  {
   "cell_type": "code",
   "execution_count": null,
   "id": "b82b74f7-9f76-4888-ae45-f5d8a4053330",
   "metadata": {},
   "outputs": [],
   "source": [
    "check(x_emb)"
   ]
  },
  {
   "cell_type": "code",
   "execution_count": null,
   "id": "047ee846-9a84-45cc-bc1b-68d06b626ba7",
   "metadata": {},
   "outputs": [],
   "source": [
    "token_embeddings = v.embed(joined_inputs)\n",
    "position_embeddings = v.pos_emb[:, 1:t, :] \n",
    "x_emb = v.drop(token_embeddings .+ position_embeddings)"
   ]
  },
  {
   "cell_type": "code",
   "execution_count": null,
   "id": "a3072df4-f97d-476e-b58b-bfa66e041389",
   "metadata": {},
   "outputs": [],
   "source": [
    "check(x_emb)"
   ]
  },
  {
   "cell_type": "code",
   "execution_count": null,
   "id": "53875b68-fe25-4692-89b2-3549ab0a78e6",
   "metadata": {},
   "outputs": [],
   "source": [
    "x_enc = v.encoder(x_emb)"
   ]
  },
  {
   "cell_type": "markdown",
   "id": "5b552fa8-bc64-48b2-8dcd-2b63e8fbcd43",
   "metadata": {
    "tags": []
   },
   "source": [
    "# Attention"
   ]
  },
  {
   "cell_type": "code",
   "execution_count": null,
   "id": "de59ef8f-82ff-4df6-b22b-013989e3d1bf",
   "metadata": {},
   "outputs": [],
   "source": [
    "c=v.encoder.layers[1].attn;\n",
    "x=ln1_out;"
   ]
  },
  {
   "cell_type": "code",
   "execution_count": null,
   "id": "611023f8-9f5e-44f8-85fa-b6be71a30e77",
   "metadata": {},
   "outputs": [],
   "source": [
    "C, T, B = size(ln1_out)"
   ]
  },
  {
   "cell_type": "code",
   "execution_count": null,
   "id": "9a9fb720-06ab-491d-ae00-390a66ed25c6",
   "metadata": {},
   "outputs": [],
   "source": [
    "k = permutedims(reshape(c.key(x), (C ÷ c.n_head, c.n_head, T, B)), (1, 3, 2, 4));"
   ]
  },
  {
   "cell_type": "code",
   "execution_count": null,
   "id": "d4267705-8c95-4810-8a11-dbc5a7d86ce1",
   "metadata": {},
   "outputs": [],
   "source": [
    "q = permutedims(reshape(c.query(x), (C ÷ c.n_head, c.n_head, T, B)), (1, 3, 2, 4));"
   ]
  },
  {
   "cell_type": "code",
   "execution_count": null,
   "id": "9bed92cb-fe1a-473b-958e-6529eabfd75a",
   "metadata": {},
   "outputs": [],
   "source": [
    "v = permutedims(reshape(c.value(x), (C ÷ c.n_head, c.n_head, T, B)), (1, 3, 2, 4));"
   ]
  },
  {
   "cell_type": "code",
   "execution_count": null,
   "id": "52ef921b-726e-41f0-aed1-2fa20113ea16",
   "metadata": {},
   "outputs": [],
   "source": [
    "att = bmm(permutedims(k, (2,1,3,4)), q) .* Float32(1 / sqrt(size(k, 1)));"
   ]
  },
  {
   "cell_type": "code",
   "execution_count": null,
   "id": "457e691f-32fa-447d-812b-aabf50f9a0d1",
   "metadata": {},
   "outputs": [],
   "source": [
    "att_masked = att .+ repeat_broadcast(atype((c.mask[1:T,1:T] .== 0) * Float32(-Inf)), 1,1,size(att)[end-1:end]...);"
   ]
  },
  {
   "cell_type": "code",
   "execution_count": null,
   "id": "a6e635d8-b3e8-4b3b-a86f-b1d103f3db31",
   "metadata": {},
   "outputs": [],
   "source": [
    "function softmax(w; dims)\n",
    "    w = w .- maximum(w, dims=dims)\n",
    "    probs = exp.(w)\n",
    "    return probs ./ sum(probs, dims=dims)\n",
    "end"
   ]
  },
  {
   "cell_type": "code",
   "execution_count": null,
   "id": "67f2052a-9bb8-4f59-b682-d4141db3ccf0",
   "metadata": {},
   "outputs": [],
   "source": [
    "att_softmax = softmax(att_masked, dims=1)"
   ]
  },
  {
   "cell_type": "code",
   "execution_count": null,
   "id": "1f719211-aaf9-49cb-9659-f4141f4927de",
   "metadata": {},
   "outputs": [],
   "source": [
    "att_masked[:,8,1,1]"
   ]
  },
  {
   "cell_type": "code",
   "execution_count": null,
   "id": "b67d9fc4-6ec7-4d2f-b2d5-7e85c9db11f4",
   "metadata": {},
   "outputs": [],
   "source": [
    "att_softmax[:,8,1,1]"
   ]
  },
  {
   "cell_type": "markdown",
   "id": "f084d837-9618-4180-8440-033ce2283bf7",
   "metadata": {},
   "source": [
    "# Rest"
   ]
  },
  {
   "cell_type": "code",
   "execution_count": null,
   "id": "77e7869c-ea7f-4afb-91bf-4013ffba542e",
   "metadata": {},
   "outputs": [],
   "source": [
    "x_pool = permutedims(v.latent_pooling(permutedims(x_enc, (2, 1, 3))), (2,1,3))"
   ]
  },
  {
   "cell_type": "code",
   "execution_count": null,
   "id": "81d02476-d1ff-43e5-984e-f3e90f833032",
   "metadata": {},
   "outputs": [],
   "source": [
    "x = v.cast_embed(x_pool)"
   ]
  },
  {
   "cell_type": "code",
   "execution_count": null,
   "id": "9b735008-72c3-4cfa-b888-3758fbb47f03",
   "metadata": {},
   "outputs": [],
   "source": [
    "check(x)"
   ]
  },
  {
   "cell_type": "code",
   "execution_count": null,
   "id": "70de6d80-019c-40fe-b9e8-ac9ca650ef99",
   "metadata": {},
   "outputs": [],
   "source": [
    "findall(x->x==Inf, cputype(x))"
   ]
  },
  {
   "cell_type": "code",
   "execution_count": null,
   "id": "bb5f99a1-c60e-4a58-8896-eb351bae1cd5",
   "metadata": {},
   "outputs": [],
   "source": [
    "findall(x->x==Inf, cputype(x))"
   ]
  },
  {
   "cell_type": "code",
   "execution_count": null,
   "id": "9e3e925e-e9a2-4a40-b65b-46375cde4439",
   "metadata": {},
   "outputs": [],
   "source": []
  }
 ],
 "metadata": {
  "kernelspec": {
   "display_name": "Julia 1.8.2",
   "language": "julia",
   "name": "julia-1.8"
  },
  "language_info": {
   "file_extension": ".jl",
   "mimetype": "application/julia",
   "name": "julia",
   "version": "1.8.3"
  }
 },
 "nbformat": 4,
 "nbformat_minor": 5
}
