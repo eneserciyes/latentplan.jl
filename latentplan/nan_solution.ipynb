{
 "cells": [
  {
   "cell_type": "code",
   "execution_count": 1,
   "id": "615b7f33-09de-4434-ac98-5ab4b4bcf077",
   "metadata": {},
   "outputs": [
    {
     "name": "stderr",
     "output_type": "stream",
     "text": [
      "\u001b[32m\u001b[1m  Activating\u001b[22m\u001b[39m project at `~/Projects/latentplan.jl`\n"
     ]
    }
   ],
   "source": [
    "import Pkg\n",
    "Pkg.activate(\"..\")"
   ]
  },
  {
   "cell_type": "code",
   "execution_count": 2,
   "id": "ccd4e52f-fdcd-42e1-9698-37a6c2e825f4",
   "metadata": {},
   "outputs": [
    {
     "data": {
      "text/plain": [
       "Array{Float32}"
      ]
     },
     "execution_count": 2,
     "metadata": {},
     "output_type": "execute_result"
    }
   ],
   "source": [
    "using Test\n",
    "using PyCall\n",
    "using Knet\n",
    "using Debugger: @enter, @bp, @run\n",
    "using CUDA\n",
    "\n",
    "if CUDA.functional()\n",
    "\tatype=KnetArray{Float32}\n",
    "else\t\n",
    "\tatype=Array{Float32}\n",
    "end\n",
    "cputype=Array{Float32}"
   ]
  },
  {
   "cell_type": "code",
   "execution_count": 3,
   "id": "bc1e77f6-f5fe-44c0-9df2-6dd0da0804f7",
   "metadata": {},
   "outputs": [
    {
     "data": {
      "text/plain": [
       "check (generic function with 1 method)"
      ]
     },
     "execution_count": 3,
     "metadata": {},
     "output_type": "execute_result"
    }
   ],
   "source": [
    "check(v) = any(isnan.(cputype(v))) || any(isinf.(cputype(v)))"
   ]
  },
  {
   "cell_type": "code",
   "execution_count": 4,
   "id": "d3f1eb0b-44d9-4a9e-b9ac-b031fd2980c1",
   "metadata": {},
   "outputs": [
    {
     "name": "stderr",
     "output_type": "stream",
     "text": [
      "Warning: Flow failed to import. Set the environment variable D4RL_SUPPRESS_IMPORT_ERROR=1 to suppress this message.\n",
      "No module named 'flow'\n",
      "/home/mehmeteneserciyes/.julia/conda/3/lib/python3.10/site-packages/glfw/__init__.py:912: GLFWError: (65544) b'X11: The DISPLAY environment variable is missing'\n",
      "  warnings.warn(message, GLFWError)\n",
      "Warning: CARLA failed to import. Set the environment variable D4RL_SUPPRESS_IMPORT_ERROR=1 to suppress this message.\n",
      "No module named 'carla'\n",
      "pybullet build time: Dec 17 2022 18:25:17\n"
     ]
    },
    {
     "data": {
      "text/plain": [
       "read_config (generic function with 1 method)"
      ]
     },
     "execution_count": 4,
     "metadata": {},
     "output_type": "execute_result"
    }
   ],
   "source": [
    "include(\"datasets/sequence.jl\")\n",
    "include(\"models/common.jl\")\n",
    "include(\"models/transformers.jl\")\n",
    "include(\"models/vqvae.jl\")\n",
    "include(\"setup.jl\")"
   ]
  },
  {
   "cell_type": "code",
   "execution_count": 5,
   "id": "8d3d8d23-6d5a-41eb-bd9a-c7e6c31e9c5c",
   "metadata": {},
   "outputs": [
    {
     "data": {
      "text/plain": [
       "losssum (generic function with 1 method)"
      ]
     },
     "execution_count": 5,
     "metadata": {},
     "output_type": "execute_result"
    }
   ],
   "source": [
    "losssum(prediction) = mean(prediction[2] + prediction[3] + prediction[4])"
   ]
  },
  {
   "cell_type": "code",
   "execution_count": 6,
   "id": "5ffb81b8-819e-47c7-92be-2330b25596a2",
   "metadata": {},
   "outputs": [
    {
     "data": {
      "text/plain": [
       "zerograd_embedding (generic function with 1 method)"
      ]
     },
     "execution_count": 6,
     "metadata": {},
     "output_type": "execute_result"
    }
   ],
   "source": [
    "function zerograd_embedding(model::VQContinuousVAE)\n",
    "    model.model.codebook.embedding = value(model.model.codebook.embedding)\n",
    "    model.model.codebook.ema_count = value(model.model.codebook.ema_count)\n",
    "    model.model.codebook.ema_w = value(model.model.codebook.ema_w)\n",
    "end"
   ]
  },
  {
   "cell_type": "code",
   "execution_count": 9,
   "id": "dcc348dc-89f7-416a-bdcb-86d2138dfebf",
   "metadata": {},
   "outputs": [],
   "source": [
    "model_452, batch_452 = Knet.load(\"/home/mehmeteneserciyes/logs_julia/hopper-medium-replay-v2/T-1-42/nan_model_4-452.jld2\", \"model\", \"batch\");"
   ]
  },
  {
   "cell_type": "code",
   "execution_count": 10,
   "id": "7012a883-0a55-4c0f-920b-279d2cd6a27c",
   "metadata": {},
   "outputs": [],
   "source": [
    "model_453, batch_453 = Knet.load(\"/home/mehmeteneserciyes/logs_julia/hopper-medium-replay-v2/T-1-42/nan_model_4-453.jld2\", \"model\", \"batch\");"
   ]
  },
  {
   "cell_type": "code",
   "execution_count": 26,
   "id": "c826d4d1-ca5c-482d-a90a-cb81ca6dffa5",
   "metadata": {},
   "outputs": [],
   "source": [
    "model = Knet.load(\"/home/mehmeteneserciyes/logs_julia/hopper-medium-replay-v2/T-1-42/nan_model_4.jld2\", \"prev_model\");"
   ]
  },
  {
   "cell_type": "code",
   "execution_count": 11,
   "id": "bf5c2886-8f2c-49ea-8421-57420a2ed4db",
   "metadata": {},
   "outputs": [
    {
     "data": {
      "text/plain": [
       "true"
      ]
     },
     "execution_count": 11,
     "metadata": {},
     "output_type": "execute_result"
    }
   ],
   "source": [
    "check(value(model_453.model.codebook.embedding))"
   ]
  },
  {
   "cell_type": "code",
   "execution_count": 14,
   "id": "9351b180-a271-418a-ace2-b82a84732a99",
   "metadata": {},
   "outputs": [
    {
     "data": {
      "text/plain": [
       "1.1817311f-38"
      ]
     },
     "execution_count": 14,
     "metadata": {},
     "output_type": "execute_result"
    }
   ],
   "source": [
    "value(model_452.model.codebook.ema_count)[337]"
   ]
  },
  {
   "cell_type": "markdown",
   "id": "99752142-2c7f-4029-99d5-cac29432aae9",
   "metadata": {
    "tags": []
   },
   "source": [
    "# Batch and nanification"
   ]
  },
  {
   "cell_type": "code",
   "execution_count": 15,
   "id": "e28b7f06-ec99-47f5-8ec1-3e1dfc2bc41b",
   "metadata": {},
   "outputs": [],
   "source": [
    "nan_model = Knet.load(\"/home/mehmeteneserciyes/logs_julia/hopper-medium-replay-v2/T-1-42/nan_model_4.jld2\", \"model\");"
   ]
  },
  {
   "cell_type": "code",
   "execution_count": 25,
   "id": "d54d4f91-36f9-4816-a0e7-cbac920a57a1",
   "metadata": {},
   "outputs": [
    {
     "data": {
      "text/plain": [
       "40.95996f0"
      ]
     },
     "execution_count": 25,
     "metadata": {},
     "output_type": "execute_result"
    }
   ],
   "source": [
    "value(nan_model.model.codebook.ema_count)[337]"
   ]
  },
  {
   "cell_type": "code",
   "execution_count": 16,
   "id": "0b678f29-1212-40a8-a636-e0cc30260b13",
   "metadata": {},
   "outputs": [
    {
     "data": {
      "text/plain": [
       "false"
      ]
     },
     "execution_count": 16,
     "metadata": {},
     "output_type": "execute_result"
    }
   ],
   "source": [
    "check(value(nan_model.model.codebook.embedding))"
   ]
  },
  {
   "cell_type": "code",
   "execution_count": 14,
   "id": "981c4205-d8c7-4cd2-aa2b-ba31c58db804",
   "metadata": {},
   "outputs": [],
   "source": [
    "nan_batch = Knet.load(\"/home/mehmeteneserciyes/logs_julia/hopper-medium-replay-v2/T-1-42/nan_model_3.jld2\", \"batch\");"
   ]
  },
  {
   "cell_type": "code",
   "execution_count": 15,
   "id": "d8cc22a7-71a8-4e04-a453-ef19f0efd339",
   "metadata": {},
   "outputs": [],
   "source": [
    "joined_inputs, targets, mask, terminals = atype(nan_batch[1]), atype(nan_batch[2]), atype(nan_batch[3]), atype(nan_batch[4]);"
   ]
  },
  {
   "cell_type": "code",
   "execution_count": 16,
   "id": "b573efd1-3d52-4bba-a3d4-3f102f6db339",
   "metadata": {},
   "outputs": [
    {
     "data": {
      "text/plain": [
       "(K32(17,24,512)[0.057556853⋯], 0.12717062f0, 0.0f0, 0.09976024f0)"
      ]
     },
     "execution_count": 16,
     "metadata": {},
     "output_type": "execute_result"
    }
   ],
   "source": [
    "nan_model(joined_inputs, targets, mask, terminals)"
   ]
  },
  {
   "cell_type": "code",
   "execution_count": 12,
   "id": "60726a3a-609c-44ab-ba0e-e9c110fc4223",
   "metadata": {},
   "outputs": [
    {
     "data": {
      "text/plain": [
       "0.22693086f0"
      ]
     },
     "execution_count": 12,
     "metadata": {},
     "output_type": "execute_result"
    }
   ],
   "source": [
    "0.12717062f0 + 0.09976024f0"
   ]
  },
  {
   "cell_type": "markdown",
   "id": "bfaf9514-5651-4bc1-9967-c4a8faf96ae3",
   "metadata": {},
   "source": [
    "# Trainer configs"
   ]
  },
  {
   "cell_type": "code",
   "execution_count": 8,
   "id": "a45c9d17-127a-42e3-be25-1ecb4b43423b",
   "metadata": {},
   "outputs": [
    {
     "data": {
      "text/plain": [
       "Dict{String, Any} with 6 entries:\n",
       "  \"betas\"          => (0.9, 0.95)\n",
       "  \"batch_size\"     => 512\n",
       "  \"learning_rate\"  => 0.0002\n",
       "  \"grad_norm_clip\" => 1.0\n",
       "  \"lr_decay\"       => false\n",
       "  \"weight_decay\"   => 0.1"
      ]
     },
     "execution_count": 8,
     "metadata": {},
     "output_type": "execute_result"
    }
   ],
   "source": [
    "trainer_config = Dict(\n",
    "    \"batch_size\" => 512,\n",
    "    \"learning_rate\" => 0.0002,\n",
    "    \"betas\" => (0.9, 0.95),\n",
    "    \"weight_decay\" => 0.1,\n",
    "    \"grad_norm_clip\" => 1.0,\n",
    "    \"lr_decay\" => false,\n",
    ")"
   ]
  },
  {
   "cell_type": "code",
   "execution_count": 9,
   "id": "8553d808-fb23-4881-bdd2-106ef619b8e0",
   "metadata": {},
   "outputs": [],
   "source": [
    "opt_decay = AdamW(lr=trainer_config[\"learning_rate\"], beta1=trainer_config[\"betas\"][1], beta2=trainer_config[\"betas\"][2], gclip=trainer_config[\"grad_norm_clip\"])\n",
    "opt_no_decay = AdamW(lr=trainer_config[\"learning_rate\"], beta1=trainer_config[\"betas\"][1], beta2=trainer_config[\"betas\"][2], gclip=trainer_config[\"grad_norm_clip\"])\n",
    "\n",
    "for p in paramlist_decay(model)\n",
    "    p.opt = clone(opt_decay)\n",
    "end\n",
    "for p in paramlist_no_decay(model)\n",
    "    p.opt = clone(opt_no_decay)\n",
    "end"
   ]
  },
  {
   "cell_type": "markdown",
   "id": "3f11d4c0-162a-4fa5-99d2-e203eb589eba",
   "metadata": {},
   "source": [
    "# batch"
   ]
  },
  {
   "cell_type": "code",
   "execution_count": 15,
   "id": "3a836141-fa04-4a39-ae45-3bdaff88a32a",
   "metadata": {},
   "outputs": [],
   "source": [
    "batch = Knet.load(\"/home/mehmeteneserciyes/logs_julia/hopper-medium-replay-v2/T-1-42/nan_model_4-452.jld2\", \"batch\");"
   ]
  },
  {
   "cell_type": "code",
   "execution_count": 16,
   "id": "8434455c-0dce-4912-9105-a42432ad43c8",
   "metadata": {},
   "outputs": [],
   "source": [
    "joined_inputs, targets, mask, terminals = atype(batch[1]), atype(batch[2]), atype(batch[3]), atype(batch[4]);"
   ]
  },
  {
   "cell_type": "code",
   "execution_count": 20,
   "id": "a6203e41-fe0b-4157-996c-2d303990ff28",
   "metadata": {},
   "outputs": [
    {
     "data": {
      "text/plain": [
       "T(NaN)"
      ]
     },
     "execution_count": 20,
     "metadata": {},
     "output_type": "execute_result"
    }
   ],
   "source": [
    "loss = @diff losssum(model(joined_inputs, targets, mask, terminals))"
   ]
  },
  {
   "cell_type": "code",
   "execution_count": 16,
   "id": "7d16525d-0f7f-49cf-83fb-04c396d9803a",
   "metadata": {},
   "outputs": [],
   "source": [
    "for p in paramlist(model)\n",
    "    update!(p, grad(loss, p))\n",
    "end"
   ]
  },
  {
   "cell_type": "markdown",
   "id": "acc39930-4fa0-4695-8ff5-f37be5eb08bb",
   "metadata": {},
   "source": [
    "-0.000287451   -0.00141486    -0.00448274  …   -0.000528297   -7.38718f-5\n",
    "   0.00109328    -0.00240121    -0.0140845       -0.00250097    -0.000146906\n",
    "   0.000593902    0.000239694    0.00147629       0.000642225   -0.000190077\n",
    "  -0.000477957   -0.00100225    -0.00400919      -0.000567076   -0.000132916\n",
    "   8.31211f-5    -0.00241098    -0.0124349       -0.00294992    -0.000548493\n",
    "  -0.000273197    0.000467646    0.0028253   …    0.00043963    -0.000256153\n",
    "   0.000126335 "
   ]
  },
  {
   "cell_type": "code",
   "execution_count": 11,
   "id": "549b5803-066d-427b-8d38-e7d036299f69",
   "metadata": {},
   "outputs": [
    {
     "data": {
      "text/plain": [
       "17×512 Knet.KnetArrays.KnetMatrix{Float32}:\n",
       " -0.000287451  -0.00141486   -0.00448274   …  -0.000528297  -7.38718f-5\n",
       "  0.00109328   -0.00240121   -0.0140845       -0.00250097   -0.000146906\n",
       "  0.000593902   0.000239694   0.00147629       0.000642225  -0.000190077\n",
       " -0.000477957  -0.00100225   -0.00400919      -0.000567076  -0.000132916\n",
       "  8.31211f-5   -0.00241098   -0.0124349       -0.00294992   -0.000548493\n",
       " -0.000273197   0.000467646   0.0028253    …   0.00043963   -0.000256153\n",
       "  0.000126335  -0.00122064   -0.00625383      -0.000363271   0.000123527\n",
       "  9.15883f-5    0.000568493  -0.00690085       0.000216035   0.00103184\n",
       "  0.000821024   0.00183303    0.00335294       0.00105737    0.000756728\n",
       "  2.69856f-5    0.001194      0.00487685       0.00136439    0.000368385\n",
       "  0.000819271   0.00285926    0.0105155    …   0.00318067    0.000397132\n",
       "  0.000780148   0.0238746     0.096714         0.016012     -0.00271618\n",
       " -0.00267367    0.00777439    0.0239344        0.00506062    0.00494828\n",
       " -0.00345016   -0.0136       -0.0587816       -0.00987144    9.08396f-5\n",
       " -0.00122504   -0.00620284   -0.0247852       -0.00511375   -0.00193425\n",
       " -0.000999778   0.00379538    0.0200444    …   0.00193006   -0.00122489\n",
       " -0.00057072   -2.15059f-5   -0.000799623      0.000101564  -0.000487204"
      ]
     },
     "execution_count": 11,
     "metadata": {},
     "output_type": "execute_result"
    }
   ],
   "source": [
    "grad(loss, model.model.predict.w)"
   ]
  },
  {
   "cell_type": "code",
   "execution_count": 20,
   "id": "17f4f768-2117-4e0a-9ff2-b196ddd5c184",
   "metadata": {},
   "outputs": [],
   "source": [
    "Knet.save(\"/home/mehmeteneserciyes/logs_julia/hopper-medium-replay-v2/T-1-42/nan_model_updated.jld2\", \"model\", model)"
   ]
  },
  {
   "cell_type": "markdown",
   "id": "baf841d2-b45f-443c-9c5f-49cd706d2205",
   "metadata": {
    "jp-MarkdownHeadingCollapsed": true,
    "tags": []
   },
   "source": [
    "# gradient check"
   ]
  },
  {
   "cell_type": "code",
   "execution_count": 12,
   "id": "3c96abf2-6b8a-4a53-bb38-6c139008a06e",
   "metadata": {},
   "outputs": [
    {
     "data": {
      "text/plain": [
       "(R(KnetArray{Float32, 3}(1,24,512)), K32(1,24,512)[0.0⋯])"
      ]
     },
     "execution_count": 12,
     "metadata": {},
     "output_type": "execute_result"
    }
   ],
   "source": [
    "probs, labels = Knet.load(\"/home/mehmeteneserciyes/logs_julia/hopper-medium-replay-v2/T-1-42/bce_inputs.jld2\", \"pred_terminals\", \"terminals\")"
   ]
  },
  {
   "cell_type": "code",
   "execution_count": 21,
   "id": "47348eb0-e3e1-44a7-9f22-179b1166639a",
   "metadata": {},
   "outputs": [
    {
     "data": {
      "text/plain": [
       "P(KnetArray{Float32, 3}(1,24,512))"
      ]
     },
     "execution_count": 21,
     "metadata": {},
     "output_type": "execute_result"
    }
   ],
   "source": [
    "prob_param = Param(value(probs))"
   ]
  },
  {
   "cell_type": "code",
   "execution_count": 60,
   "id": "8164caee-bbf9-4dca-aedd-c2d4f2aadb06",
   "metadata": {},
   "outputs": [
    {
     "data": {
      "text/plain": [
       "P(KnetArray{Float32, 3}(1,24,512))"
      ]
     },
     "execution_count": 60,
     "metadata": {},
     "output_type": "execute_result"
    }
   ],
   "source": [
    "logits = Param((log.(prob_param ./ (1 .- prob_param .+ 1e-8))))"
   ]
  },
  {
   "cell_type": "code",
   "execution_count": null,
   "id": "50995bf8-dbb8-4b9f-b5a3-b07459a0fda2",
   "metadata": {},
   "outputs": [
    {
     "data": {
      "text/plain": [
       "0.0026641327f0"
      ]
     },
     "execution_count": 49,
     "metadata": {},
     "output_type": "execute_result"
    }
   ],
   "source": [
    "binary_cross_entropy(prob_param, labels)"
   ]
  },
  {
   "cell_type": "code",
   "execution_count": 66,
   "id": "4492345a-e836-4bf2-918e-6865d2adb4cc",
   "metadata": {},
   "outputs": [
    {
     "data": {
      "text/plain": [
       "12288-element Vector{Int32}:\n",
       " 0\n",
       " 0\n",
       " 0\n",
       " 0\n",
       " 0\n",
       " 0\n",
       " 0\n",
       " 0\n",
       " 0\n",
       " 0\n",
       " 0\n",
       " 0\n",
       " 0\n",
       " ⋮\n",
       " 0\n",
       " 0\n",
       " 0\n",
       " 0\n",
       " 0\n",
       " 0\n",
       " 0\n",
       " 0\n",
       " 0\n",
       " 0\n",
       " 1\n",
       " 1"
      ]
     },
     "execution_count": 66,
     "metadata": {},
     "output_type": "execute_result"
    }
   ],
   "source": [
    "labels_cpu = Array{Int32}(reshape(labels, :))"
   ]
  },
  {
   "cell_type": "code",
   "execution_count": 67,
   "id": "22b7fca0-9fa6-43bc-95ad-d287cddcbb44",
   "metadata": {},
   "outputs": [
    {
     "data": {
      "text/plain": [
       "0.002664252f0"
      ]
     },
     "execution_count": 67,
     "metadata": {},
     "output_type": "execute_result"
    }
   ],
   "source": [
    "bce(reshape(logits, :), labels_cpu)"
   ]
  },
  {
   "cell_type": "code",
   "execution_count": 26,
   "id": "b3b2860f-6f63-4b2f-bf85-700c4bae8332",
   "metadata": {},
   "outputs": [
    {
     "data": {
      "text/plain": [
       "1.0f0"
      ]
     },
     "execution_count": 26,
     "metadata": {},
     "output_type": "execute_result"
    }
   ],
   "source": [
    "loprob_param[1,7,114]"
   ]
  },
  {
   "cell_type": "code",
   "execution_count": 29,
   "id": "87b6af81-8e1c-4ccc-8530-48f5b7b55df5",
   "metadata": {},
   "outputs": [
    {
     "data": {
      "text/plain": [
       "0.0f0"
      ]
     },
     "execution_count": 29,
     "metadata": {},
     "output_type": "execute_result"
    }
   ],
   "source": [
    "log_pos = clip(log.(prob_param), -100.0f0, Float32(Inf))[1,7,114]"
   ]
  },
  {
   "cell_type": "code",
   "execution_count": 31,
   "id": "aefb0657-6312-451c-a862-c7acf29c4cb9",
   "metadata": {},
   "outputs": [
    {
     "data": {
      "text/plain": [
       "-100.0f0"
      ]
     },
     "execution_count": 31,
     "metadata": {},
     "output_type": "execute_result"
    }
   ],
   "source": [
    "log_neg = clip(log.(1 .- prob_param), -100.0f0, Float32(Inf))[1,7,114]"
   ]
  },
  {
   "cell_type": "code",
   "execution_count": 61,
   "id": "d2a09cf2-9baf-4e91-badc-7aff89762691",
   "metadata": {},
   "outputs": [
    {
     "data": {
      "text/plain": [
       "T(0.0026641327)"
      ]
     },
     "execution_count": 61,
     "metadata": {},
     "output_type": "execute_result"
    }
   ],
   "source": [
    "cross_entropy_loss = @diff binary_cross_entropy(prob_param, labels)"
   ]
  },
  {
   "cell_type": "code",
   "execution_count": 62,
   "id": "08a5aa6f-c2b3-4aa8-92b5-a0437a6223c7",
   "metadata": {},
   "outputs": [
    {
     "data": {
      "text/plain": [
       "1-element Vector{CartesianIndex{3}}:\n",
       " CartesianIndex(1, 7, 114)"
      ]
     },
     "execution_count": 62,
     "metadata": {},
     "output_type": "execute_result"
    }
   ],
   "source": [
    "findall(x->isnan(x), cputype(grad(cross_entropy_loss, prob_param)))"
   ]
  },
  {
   "cell_type": "code",
   "execution_count": 68,
   "id": "099bd7f6-22ae-4ff9-9a7a-a06f26b4076a",
   "metadata": {},
   "outputs": [
    {
     "data": {
      "text/plain": [
       "T(0.002664252)"
      ]
     },
     "execution_count": 68,
     "metadata": {},
     "output_type": "execute_result"
    }
   ],
   "source": [
    "bce_loss = @diff bce(reshape(logits, :), labels_cpu)"
   ]
  },
  {
   "cell_type": "markdown",
   "id": "489fee50-02c2-4705-afcb-fecafdd74004",
   "metadata": {
    "jp-MarkdownHeadingCollapsed": true,
    "tags": []
   },
   "source": [
    "# step through third"
   ]
  },
  {
   "cell_type": "code",
   "execution_count": 42,
   "id": "7df44260-80a2-4f18-8bcc-a204c87ac3b5",
   "metadata": {},
   "outputs": [],
   "source": [
    "new_batch = Knet.load(\"/home/mehmeteneserciyes/logs_julia/hopper-medium-replay-v2/T-1-42/nan_model_3.jld2\", \"batch\");\n",
    "joined_inputs, targets, mask, terminals = atype(new_batch[1]), atype(new_batch[2]), atype(new_batch[3]), atype(new_batch[4]);"
   ]
  },
  {
   "cell_type": "code",
   "execution_count": 43,
   "id": "5ad863a3-deab-4969-880b-83693679ce91",
   "metadata": {},
   "outputs": [],
   "source": [
    "model = Knet.load(\"/home/mehmeteneserciyes/logs_julia/hopper-medium-replay-v2/T-1-42/nan_model_updated.jld2\", \"model\");"
   ]
  },
  {
   "cell_type": "code",
   "execution_count": 44,
   "id": "ee7b2a83-e3f8-47c3-bcdd-a930bb0efc66",
   "metadata": {},
   "outputs": [],
   "source": [
    "v = model;"
   ]
  },
  {
   "cell_type": "code",
   "execution_count": 45,
   "id": "db9c273c-8408-45ba-89da-4295128e8abe",
   "metadata": {},
   "outputs": [
    {
     "data": {
      "text/plain": [
       "11×512 Knet.KnetArrays.KnetMatrix{Float32}:\n",
       "  1.669      0.120672    1.95312    …   0.0218356   0.520214  -0.384414\n",
       " -1.70727    0.641554   -1.43685       -1.10089     1.42574    1.08159\n",
       " -0.637838   1.28378    -0.175449       0.349101    0.27128    0.52238\n",
       "  0.550012   0.494199    0.494093       0.463235    0.684658   0.291366\n",
       " -1.45945   -0.17242     1.3172         0.962533    1.34699    0.405659\n",
       "  0.983976  -1.3038      0.617697   …  -0.415012   -0.682918  -0.846424\n",
       "  1.07545    0.171964   -0.335095      -0.0970336  -0.62242    0.0143702\n",
       " -0.839263   0.0313428  -0.588259      -0.929411   -2.49222   -0.455876\n",
       " -0.395215   0.35426     0.260614      -0.965969   -1.88022   -0.163415\n",
       "  0.704481   0.0849387   0.0846567      0.146934   -0.275631  -0.226125\n",
       "  0.445358   0.0386078  -0.20211    …   0.164299   -0.215335   0.289442"
      ]
     },
     "execution_count": 45,
     "metadata": {},
     "output_type": "execute_result"
    }
   ],
   "source": [
    "joined_dimension, t, b = size(joined_inputs)\n",
    "padded = repeat_broadcast(v.padding_vector, 1, t, b)\n",
    "\n",
    "if !(terminals === nothing)\n",
    "    terminal_mask = repeat_broadcast(deepcopy(1 .- terminals), size(joined_inputs, 1), 1, 1)\n",
    "    joined_inputs = joined_inputs .* terminal_mask .+ padded .* (1 .- terminal_mask)\n",
    "end\n",
    "state = joined_inputs[1:v.observation_dim, 1, :]"
   ]
  },
  {
   "cell_type": "code",
   "execution_count": 46,
   "id": "f2d2b165-45cf-4ddf-bb13-97ec2d90c8d8",
   "metadata": {},
   "outputs": [],
   "source": [
    "joined_inputs = cat(joined_inputs, terminals, dims=1);\n",
    "state = state;"
   ]
  },
  {
   "cell_type": "code",
   "execution_count": 54,
   "id": "3bc3b15f-eca5-4269-8fe9-7462cb495e82",
   "metadata": {},
   "outputs": [
    {
     "data": {
      "text/plain": [
       "512×17 Knet.KnetArrays.KnetMatrix{Float32}:\n",
       " NaN  NaN  NaN  NaN  NaN  NaN  NaN  NaN  …  NaN  NaN  NaN  NaN  NaN  NaN  NaN\n",
       " NaN  NaN  NaN  NaN  NaN  NaN  NaN  NaN     NaN  NaN  NaN  NaN  NaN  NaN  NaN\n",
       " NaN  NaN  NaN  NaN  NaN  NaN  NaN  NaN     NaN  NaN  NaN  NaN  NaN  NaN  NaN\n",
       " NaN  NaN  NaN  NaN  NaN  NaN  NaN  NaN     NaN  NaN  NaN  NaN  NaN  NaN  NaN\n",
       " NaN  NaN  NaN  NaN  NaN  NaN  NaN  NaN     NaN  NaN  NaN  NaN  NaN  NaN  NaN\n",
       " NaN  NaN  NaN  NaN  NaN  NaN  NaN  NaN  …  NaN  NaN  NaN  NaN  NaN  NaN  NaN\n",
       " NaN  NaN  NaN  NaN  NaN  NaN  NaN  NaN     NaN  NaN  NaN  NaN  NaN  NaN  NaN\n",
       " NaN  NaN  NaN  NaN  NaN  NaN  NaN  NaN     NaN  NaN  NaN  NaN  NaN  NaN  NaN\n",
       " NaN  NaN  NaN  NaN  NaN  NaN  NaN  NaN     NaN  NaN  NaN  NaN  NaN  NaN  NaN\n",
       " NaN  NaN  NaN  NaN  NaN  NaN  NaN  NaN     NaN  NaN  NaN  NaN  NaN  NaN  NaN\n",
       " NaN  NaN  NaN  NaN  NaN  NaN  NaN  NaN  …  NaN  NaN  NaN  NaN  NaN  NaN  NaN\n",
       " NaN  NaN  NaN  NaN  NaN  NaN  NaN  NaN     NaN  NaN  NaN  NaN  NaN  NaN  NaN\n",
       " NaN  NaN  NaN  NaN  NaN  NaN  NaN  NaN     NaN  NaN  NaN  NaN  NaN  NaN  NaN\n",
       "   ⋮                        ⋮            ⋱    ⋮                        ⋮  \n",
       " NaN  NaN  NaN  NaN  NaN  NaN  NaN  NaN  …  NaN  NaN  NaN  NaN  NaN  NaN  NaN\n",
       " NaN  NaN  NaN  NaN  NaN  NaN  NaN  NaN     NaN  NaN  NaN  NaN  NaN  NaN  NaN\n",
       " NaN  NaN  NaN  NaN  NaN  NaN  NaN  NaN     NaN  NaN  NaN  NaN  NaN  NaN  NaN\n",
       " NaN  NaN  NaN  NaN  NaN  NaN  NaN  NaN     NaN  NaN  NaN  NaN  NaN  NaN  NaN\n",
       " NaN  NaN  NaN  NaN  NaN  NaN  NaN  NaN     NaN  NaN  NaN  NaN  NaN  NaN  NaN\n",
       " NaN  NaN  NaN  NaN  NaN  NaN  NaN  NaN  …  NaN  NaN  NaN  NaN  NaN  NaN  NaN\n",
       " NaN  NaN  NaN  NaN  NaN  NaN  NaN  NaN     NaN  NaN  NaN  NaN  NaN  NaN  NaN\n",
       " NaN  NaN  NaN  NaN  NaN  NaN  NaN  NaN     NaN  NaN  NaN  NaN  NaN  NaN  NaN\n",
       " NaN  NaN  NaN  NaN  NaN  NaN  NaN  NaN     NaN  NaN  NaN  NaN  NaN  NaN  NaN\n",
       " NaN  NaN  NaN  NaN  NaN  NaN  NaN  NaN     NaN  NaN  NaN  NaN  NaN  NaN  NaN\n",
       " NaN  NaN  NaN  NaN  NaN  NaN  NaN  NaN  …  NaN  NaN  NaN  NaN  NaN  NaN  NaN\n",
       " NaN  NaN  NaN  NaN  NaN  NaN  NaN  NaN     NaN  NaN  NaN  NaN  NaN  NaN  NaN"
      ]
     },
     "execution_count": 54,
     "metadata": {},
     "output_type": "execute_result"
    }
   ],
   "source": [
    "value(v.embed.w)"
   ]
  },
  {
   "cell_type": "code",
   "execution_count": 47,
   "id": "4b766cd5-dbe7-4adc-ad06-a22eed8abacd",
   "metadata": {},
   "outputs": [],
   "source": [
    "v = model.model;"
   ]
  },
  {
   "cell_type": "code",
   "execution_count": 50,
   "id": "b0c32a39-acfa-497e-897a-d1d1d255e078",
   "metadata": {},
   "outputs": [
    {
     "data": {
      "text/plain": [
       "512×24×512 KnetArray{Float32, 3}:\n",
       "[:, :, 1] =\n",
       " NaN  NaN  NaN  NaN  NaN  NaN  NaN  NaN  …  NaN  NaN  NaN  NaN  NaN  NaN  NaN\n",
       " NaN  NaN  NaN  NaN  NaN  NaN  NaN  NaN     NaN  NaN  NaN  NaN  NaN  NaN  NaN\n",
       " NaN  NaN  NaN  NaN  NaN  NaN  NaN  NaN     NaN  NaN  NaN  NaN  NaN  NaN  NaN\n",
       " NaN  NaN  NaN  NaN  NaN  NaN  NaN  NaN     NaN  NaN  NaN  NaN  NaN  NaN  NaN\n",
       " NaN  NaN  NaN  NaN  NaN  NaN  NaN  NaN     NaN  NaN  NaN  NaN  NaN  NaN  NaN\n",
       " NaN  NaN  NaN  NaN  NaN  NaN  NaN  NaN  …  NaN  NaN  NaN  NaN  NaN  NaN  NaN\n",
       " NaN  NaN  NaN  NaN  NaN  NaN  NaN  NaN     NaN  NaN  NaN  NaN  NaN  NaN  NaN\n",
       " NaN  NaN  NaN  NaN  NaN  NaN  NaN  NaN     NaN  NaN  NaN  NaN  NaN  NaN  NaN\n",
       " NaN  NaN  NaN  NaN  NaN  NaN  NaN  NaN     NaN  NaN  NaN  NaN  NaN  NaN  NaN\n",
       " NaN  NaN  NaN  NaN  NaN  NaN  NaN  NaN     NaN  NaN  NaN  NaN  NaN  NaN  NaN\n",
       " NaN  NaN  NaN  NaN  NaN  NaN  NaN  NaN  …  NaN  NaN  NaN  NaN  NaN  NaN  NaN\n",
       " NaN  NaN  NaN  NaN  NaN  NaN  NaN  NaN     NaN  NaN  NaN  NaN  NaN  NaN  NaN\n",
       " NaN  NaN  NaN  NaN  NaN  NaN  NaN  NaN     NaN  NaN  NaN  NaN  NaN  NaN  NaN\n",
       "   ⋮                        ⋮            ⋱                   ⋮            \n",
       " NaN  NaN  NaN  NaN  NaN  NaN  NaN  NaN  …  NaN  NaN  NaN  NaN  NaN  NaN  NaN\n",
       " NaN  NaN  NaN  NaN  NaN  NaN  NaN  NaN     NaN  NaN  NaN  NaN  NaN  NaN  NaN\n",
       " NaN  NaN  NaN  NaN  NaN  NaN  NaN  NaN     NaN  NaN  NaN  NaN  NaN  NaN  NaN\n",
       " NaN  NaN  NaN  NaN  NaN  NaN  NaN  NaN     NaN  NaN  NaN  NaN  NaN  NaN  NaN\n",
       " NaN  NaN  NaN  NaN  NaN  NaN  NaN  NaN     NaN  NaN  NaN  NaN  NaN  NaN  NaN\n",
       " NaN  NaN  NaN  NaN  NaN  NaN  NaN  NaN  …  NaN  NaN  NaN  NaN  NaN  NaN  NaN\n",
       " NaN  NaN  NaN  NaN  NaN  NaN  NaN  NaN     NaN  NaN  NaN  NaN  NaN  NaN  NaN\n",
       " NaN  NaN  NaN  NaN  NaN  NaN  NaN  NaN     NaN  NaN  NaN  NaN  NaN  NaN  NaN\n",
       " NaN  NaN  NaN  NaN  NaN  NaN  NaN  NaN     NaN  NaN  NaN  NaN  NaN  NaN  NaN\n",
       " NaN  NaN  NaN  NaN  NaN  NaN  NaN  NaN     NaN  NaN  NaN  NaN  NaN  NaN  NaN\n",
       " NaN  NaN  NaN  NaN  NaN  NaN  NaN  NaN  …  NaN  NaN  NaN  NaN  NaN  NaN  NaN\n",
       " NaN  NaN  NaN  NaN  NaN  NaN  NaN  NaN     NaN  NaN  NaN  NaN  NaN  NaN  NaN\n",
       "\n",
       "[:, :, 2] =\n",
       " NaN  NaN  NaN  NaN  NaN  NaN  NaN  NaN  …  NaN  NaN  NaN  NaN  NaN  NaN  NaN\n",
       " NaN  NaN  NaN  NaN  NaN  NaN  NaN  NaN     NaN  NaN  NaN  NaN  NaN  NaN  NaN\n",
       " NaN  NaN  NaN  NaN  NaN  NaN  NaN  NaN     NaN  NaN  NaN  NaN  NaN  NaN  NaN\n",
       " NaN  NaN  NaN  NaN  NaN  NaN  NaN  NaN     NaN  NaN  NaN  NaN  NaN  NaN  NaN\n",
       " NaN  NaN  NaN  NaN  NaN  NaN  NaN  NaN     NaN  NaN  NaN  NaN  NaN  NaN  NaN\n",
       " NaN  NaN  NaN  NaN  NaN  NaN  NaN  NaN  …  NaN  NaN  NaN  NaN  NaN  NaN  NaN\n",
       " NaN  NaN  NaN  NaN  NaN  NaN  NaN  NaN     NaN  NaN  NaN  NaN  NaN  NaN  NaN\n",
       " NaN  NaN  NaN  NaN  NaN  NaN  NaN  NaN     NaN  NaN  NaN  NaN  NaN  NaN  NaN\n",
       " NaN  NaN  NaN  NaN  NaN  NaN  NaN  NaN     NaN  NaN  NaN  NaN  NaN  NaN  NaN\n",
       " NaN  NaN  NaN  NaN  NaN  NaN  NaN  NaN     NaN  NaN  NaN  NaN  NaN  NaN  NaN\n",
       " NaN  NaN  NaN  NaN  NaN  NaN  NaN  NaN  …  NaN  NaN  NaN  NaN  NaN  NaN  NaN\n",
       " NaN  NaN  NaN  NaN  NaN  NaN  NaN  NaN     NaN  NaN  NaN  NaN  NaN  NaN  NaN\n",
       " NaN  NaN  NaN  NaN  NaN  NaN  NaN  NaN     NaN  NaN  NaN  NaN  NaN  NaN  NaN\n",
       "   ⋮                        ⋮            ⋱                   ⋮            \n",
       " NaN  NaN  NaN  NaN  NaN  NaN  NaN  NaN  …  NaN  NaN  NaN  NaN  NaN  NaN  NaN\n",
       " NaN  NaN  NaN  NaN  NaN  NaN  NaN  NaN     NaN  NaN  NaN  NaN  NaN  NaN  NaN\n",
       " NaN  NaN  NaN  NaN  NaN  NaN  NaN  NaN     NaN  NaN  NaN  NaN  NaN  NaN  NaN\n",
       " NaN  NaN  NaN  NaN  NaN  NaN  NaN  NaN     NaN  NaN  NaN  NaN  NaN  NaN  NaN\n",
       " NaN  NaN  NaN  NaN  NaN  NaN  NaN  NaN     NaN  NaN  NaN  NaN  NaN  NaN  NaN\n",
       " NaN  NaN  NaN  NaN  NaN  NaN  NaN  NaN  …  NaN  NaN  NaN  NaN  NaN  NaN  NaN\n",
       " NaN  NaN  NaN  NaN  NaN  NaN  NaN  NaN     NaN  NaN  NaN  NaN  NaN  NaN  NaN\n",
       " NaN  NaN  NaN  NaN  NaN  NaN  NaN  NaN     NaN  NaN  NaN  NaN  NaN  NaN  NaN\n",
       " NaN  NaN  NaN  NaN  NaN  NaN  NaN  NaN     NaN  NaN  NaN  NaN  NaN  NaN  NaN\n",
       " NaN  NaN  NaN  NaN  NaN  NaN  NaN  NaN     NaN  NaN  NaN  NaN  NaN  NaN  NaN\n",
       " NaN  NaN  NaN  NaN  NaN  NaN  NaN  NaN  …  NaN  NaN  NaN  NaN  NaN  NaN  NaN\n",
       " NaN  NaN  NaN  NaN  NaN  NaN  NaN  NaN     NaN  NaN  NaN  NaN  NaN  NaN  NaN\n",
       "\n",
       "[:, :, 3] =\n",
       " NaN  NaN  NaN  NaN  NaN  NaN  NaN  NaN  …  NaN  NaN  NaN  NaN  NaN  NaN  NaN\n",
       " NaN  NaN  NaN  NaN  NaN  NaN  NaN  NaN     NaN  NaN  NaN  NaN  NaN  NaN  NaN\n",
       " NaN  NaN  NaN  NaN  NaN  NaN  NaN  NaN     NaN  NaN  NaN  NaN  NaN  NaN  NaN\n",
       " NaN  NaN  NaN  NaN  NaN  NaN  NaN  NaN     NaN  NaN  NaN  NaN  NaN  NaN  NaN\n",
       " NaN  NaN  NaN  NaN  NaN  NaN  NaN  NaN     NaN  NaN  NaN  NaN  NaN  NaN  NaN\n",
       " NaN  NaN  NaN  NaN  NaN  NaN  NaN  NaN  …  NaN  NaN  NaN  NaN  NaN  NaN  NaN\n",
       " NaN  NaN  NaN  NaN  NaN  NaN  NaN  NaN     NaN  NaN  NaN  NaN  NaN  NaN  NaN\n",
       " NaN  NaN  NaN  NaN  NaN  NaN  NaN  NaN     NaN  NaN  NaN  NaN  NaN  NaN  NaN\n",
       " NaN  NaN  NaN  NaN  NaN  NaN  NaN  NaN     NaN  NaN  NaN  NaN  NaN  NaN  NaN\n",
       " NaN  NaN  NaN  NaN  NaN  NaN  NaN  NaN     NaN  NaN  NaN  NaN  NaN  NaN  NaN\n",
       " NaN  NaN  NaN  NaN  NaN  NaN  NaN  NaN  …  NaN  NaN  NaN  NaN  NaN  NaN  NaN\n",
       " NaN  NaN  NaN  NaN  NaN  NaN  NaN  NaN     NaN  NaN  NaN  NaN  NaN  NaN  NaN\n",
       " NaN  NaN  NaN  NaN  NaN  NaN  NaN  NaN     NaN  NaN  NaN  NaN  NaN  NaN  NaN\n",
       "   ⋮                        ⋮            ⋱                   ⋮            \n",
       " NaN  NaN  NaN  NaN  NaN  NaN  NaN  NaN  …  NaN  NaN  NaN  NaN  NaN  NaN  NaN\n",
       " NaN  NaN  NaN  NaN  NaN  NaN  NaN  NaN     NaN  NaN  NaN  NaN  NaN  NaN  NaN\n",
       " NaN  NaN  NaN  NaN  NaN  NaN  NaN  NaN     NaN  NaN  NaN  NaN  NaN  NaN  NaN\n",
       " NaN  NaN  NaN  NaN  NaN  NaN  NaN  NaN     NaN  NaN  NaN  NaN  NaN  NaN  NaN\n",
       " NaN  NaN  NaN  NaN  NaN  NaN  NaN  NaN     NaN  NaN  NaN  NaN  NaN  NaN  NaN\n",
       " NaN  NaN  NaN  NaN  NaN  NaN  NaN  NaN  …  NaN  NaN  NaN  NaN  NaN  NaN  NaN\n",
       " NaN  NaN  NaN  NaN  NaN  NaN  NaN  NaN     NaN  NaN  NaN  NaN  NaN  NaN  NaN\n",
       " NaN  NaN  NaN  NaN  NaN  NaN  NaN  NaN     NaN  NaN  NaN  NaN  NaN  NaN  NaN\n",
       " NaN  NaN  NaN  NaN  NaN  NaN  NaN  NaN     NaN  NaN  NaN  NaN  NaN  NaN  NaN\n",
       " NaN  NaN  NaN  NaN  NaN  NaN  NaN  NaN     NaN  NaN  NaN  NaN  NaN  NaN  NaN\n",
       " NaN  NaN  NaN  NaN  NaN  NaN  NaN  NaN  …  NaN  NaN  NaN  NaN  NaN  NaN  NaN\n",
       " NaN  NaN  NaN  NaN  NaN  NaN  NaN  NaN     NaN  NaN  NaN  NaN  NaN  NaN  NaN\n",
       "\n",
       ";;; … \n",
       "\n",
       "[:, :, 510] =\n",
       " NaN  NaN  NaN  NaN  NaN  NaN  NaN  NaN  …  NaN  NaN  NaN  NaN  NaN  NaN  NaN\n",
       " NaN  NaN  NaN  NaN  NaN  NaN  NaN  NaN     NaN  NaN  NaN  NaN  NaN  NaN  NaN\n",
       " NaN  NaN  NaN  NaN  NaN  NaN  NaN  NaN     NaN  NaN  NaN  NaN  NaN  NaN  NaN\n",
       " NaN  NaN  NaN  NaN  NaN  NaN  NaN  NaN     NaN  NaN  NaN  NaN  NaN  NaN  NaN\n",
       " NaN  NaN  NaN  NaN  NaN  NaN  NaN  NaN     NaN  NaN  NaN  NaN  NaN  NaN  NaN\n",
       " NaN  NaN  NaN  NaN  NaN  NaN  NaN  NaN  …  NaN  NaN  NaN  NaN  NaN  NaN  NaN\n",
       " NaN  NaN  NaN  NaN  NaN  NaN  NaN  NaN     NaN  NaN  NaN  NaN  NaN  NaN  NaN\n",
       " NaN  NaN  NaN  NaN  NaN  NaN  NaN  NaN     NaN  NaN  NaN  NaN  NaN  NaN  NaN\n",
       " NaN  NaN  NaN  NaN  NaN  NaN  NaN  NaN     NaN  NaN  NaN  NaN  NaN  NaN  NaN\n",
       " NaN  NaN  NaN  NaN  NaN  NaN  NaN  NaN     NaN  NaN  NaN  NaN  NaN  NaN  NaN\n",
       " NaN  NaN  NaN  NaN  NaN  NaN  NaN  NaN  …  NaN  NaN  NaN  NaN  NaN  NaN  NaN\n",
       " NaN  NaN  NaN  NaN  NaN  NaN  NaN  NaN     NaN  NaN  NaN  NaN  NaN  NaN  NaN\n",
       " NaN  NaN  NaN  NaN  NaN  NaN  NaN  NaN     NaN  NaN  NaN  NaN  NaN  NaN  NaN\n",
       "   ⋮                        ⋮            ⋱                   ⋮            \n",
       " NaN  NaN  NaN  NaN  NaN  NaN  NaN  NaN  …  NaN  NaN  NaN  NaN  NaN  NaN  NaN\n",
       " NaN  NaN  NaN  NaN  NaN  NaN  NaN  NaN     NaN  NaN  NaN  NaN  NaN  NaN  NaN\n",
       " NaN  NaN  NaN  NaN  NaN  NaN  NaN  NaN     NaN  NaN  NaN  NaN  NaN  NaN  NaN\n",
       " NaN  NaN  NaN  NaN  NaN  NaN  NaN  NaN     NaN  NaN  NaN  NaN  NaN  NaN  NaN\n",
       " NaN  NaN  NaN  NaN  NaN  NaN  NaN  NaN     NaN  NaN  NaN  NaN  NaN  NaN  NaN\n",
       " NaN  NaN  NaN  NaN  NaN  NaN  NaN  NaN  …  NaN  NaN  NaN  NaN  NaN  NaN  NaN\n",
       " NaN  NaN  NaN  NaN  NaN  NaN  NaN  NaN     NaN  NaN  NaN  NaN  NaN  NaN  NaN\n",
       " NaN  NaN  NaN  NaN  NaN  NaN  NaN  NaN     NaN  NaN  NaN  NaN  NaN  NaN  NaN\n",
       " NaN  NaN  NaN  NaN  NaN  NaN  NaN  NaN     NaN  NaN  NaN  NaN  NaN  NaN  NaN\n",
       " NaN  NaN  NaN  NaN  NaN  NaN  NaN  NaN     NaN  NaN  NaN  NaN  NaN  NaN  NaN\n",
       " NaN  NaN  NaN  NaN  NaN  NaN  NaN  NaN  …  NaN  NaN  NaN  NaN  NaN  NaN  NaN\n",
       " NaN  NaN  NaN  NaN  NaN  NaN  NaN  NaN     NaN  NaN  NaN  NaN  NaN  NaN  NaN\n",
       "\n",
       "[:, :, 511] =\n",
       " NaN  NaN  NaN  NaN  NaN  NaN  NaN  NaN  …  NaN  NaN  NaN  NaN  NaN  NaN  NaN\n",
       " NaN  NaN  NaN  NaN  NaN  NaN  NaN  NaN     NaN  NaN  NaN  NaN  NaN  NaN  NaN\n",
       " NaN  NaN  NaN  NaN  NaN  NaN  NaN  NaN     NaN  NaN  NaN  NaN  NaN  NaN  NaN\n",
       " NaN  NaN  NaN  NaN  NaN  NaN  NaN  NaN     NaN  NaN  NaN  NaN  NaN  NaN  NaN\n",
       " NaN  NaN  NaN  NaN  NaN  NaN  NaN  NaN     NaN  NaN  NaN  NaN  NaN  NaN  NaN\n",
       " NaN  NaN  NaN  NaN  NaN  NaN  NaN  NaN  …  NaN  NaN  NaN  NaN  NaN  NaN  NaN\n",
       " NaN  NaN  NaN  NaN  NaN  NaN  NaN  NaN     NaN  NaN  NaN  NaN  NaN  NaN  NaN\n",
       " NaN  NaN  NaN  NaN  NaN  NaN  NaN  NaN     NaN  NaN  NaN  NaN  NaN  NaN  NaN\n",
       " NaN  NaN  NaN  NaN  NaN  NaN  NaN  NaN     NaN  NaN  NaN  NaN  NaN  NaN  NaN\n",
       " NaN  NaN  NaN  NaN  NaN  NaN  NaN  NaN     NaN  NaN  NaN  NaN  NaN  NaN  NaN\n",
       " NaN  NaN  NaN  NaN  NaN  NaN  NaN  NaN  …  NaN  NaN  NaN  NaN  NaN  NaN  NaN\n",
       " NaN  NaN  NaN  NaN  NaN  NaN  NaN  NaN     NaN  NaN  NaN  NaN  NaN  NaN  NaN\n",
       " NaN  NaN  NaN  NaN  NaN  NaN  NaN  NaN     NaN  NaN  NaN  NaN  NaN  NaN  NaN\n",
       "   ⋮                        ⋮            ⋱                   ⋮            \n",
       " NaN  NaN  NaN  NaN  NaN  NaN  NaN  NaN  …  NaN  NaN  NaN  NaN  NaN  NaN  NaN\n",
       " NaN  NaN  NaN  NaN  NaN  NaN  NaN  NaN     NaN  NaN  NaN  NaN  NaN  NaN  NaN\n",
       " NaN  NaN  NaN  NaN  NaN  NaN  NaN  NaN     NaN  NaN  NaN  NaN  NaN  NaN  NaN\n",
       " NaN  NaN  NaN  NaN  NaN  NaN  NaN  NaN     NaN  NaN  NaN  NaN  NaN  NaN  NaN\n",
       " NaN  NaN  NaN  NaN  NaN  NaN  NaN  NaN     NaN  NaN  NaN  NaN  NaN  NaN  NaN\n",
       " NaN  NaN  NaN  NaN  NaN  NaN  NaN  NaN  …  NaN  NaN  NaN  NaN  NaN  NaN  NaN\n",
       " NaN  NaN  NaN  NaN  NaN  NaN  NaN  NaN     NaN  NaN  NaN  NaN  NaN  NaN  NaN\n",
       " NaN  NaN  NaN  NaN  NaN  NaN  NaN  NaN     NaN  NaN  NaN  NaN  NaN  NaN  NaN\n",
       " NaN  NaN  NaN  NaN  NaN  NaN  NaN  NaN     NaN  NaN  NaN  NaN  NaN  NaN  NaN\n",
       " NaN  NaN  NaN  NaN  NaN  NaN  NaN  NaN     NaN  NaN  NaN  NaN  NaN  NaN  NaN\n",
       " NaN  NaN  NaN  NaN  NaN  NaN  NaN  NaN  …  NaN  NaN  NaN  NaN  NaN  NaN  NaN\n",
       " NaN  NaN  NaN  NaN  NaN  NaN  NaN  NaN     NaN  NaN  NaN  NaN  NaN  NaN  NaN\n",
       "\n",
       "[:, :, 512] =\n",
       " NaN  NaN  NaN  NaN  NaN  NaN  NaN  NaN  …  NaN  NaN  NaN  NaN  NaN  NaN  NaN\n",
       " NaN  NaN  NaN  NaN  NaN  NaN  NaN  NaN     NaN  NaN  NaN  NaN  NaN  NaN  NaN\n",
       " NaN  NaN  NaN  NaN  NaN  NaN  NaN  NaN     NaN  NaN  NaN  NaN  NaN  NaN  NaN\n",
       " NaN  NaN  NaN  NaN  NaN  NaN  NaN  NaN     NaN  NaN  NaN  NaN  NaN  NaN  NaN\n",
       " NaN  NaN  NaN  NaN  NaN  NaN  NaN  NaN     NaN  NaN  NaN  NaN  NaN  NaN  NaN\n",
       " NaN  NaN  NaN  NaN  NaN  NaN  NaN  NaN  …  NaN  NaN  NaN  NaN  NaN  NaN  NaN\n",
       " NaN  NaN  NaN  NaN  NaN  NaN  NaN  NaN     NaN  NaN  NaN  NaN  NaN  NaN  NaN\n",
       " NaN  NaN  NaN  NaN  NaN  NaN  NaN  NaN     NaN  NaN  NaN  NaN  NaN  NaN  NaN\n",
       " NaN  NaN  NaN  NaN  NaN  NaN  NaN  NaN     NaN  NaN  NaN  NaN  NaN  NaN  NaN\n",
       " NaN  NaN  NaN  NaN  NaN  NaN  NaN  NaN     NaN  NaN  NaN  NaN  NaN  NaN  NaN\n",
       " NaN  NaN  NaN  NaN  NaN  NaN  NaN  NaN  …  NaN  NaN  NaN  NaN  NaN  NaN  NaN\n",
       " NaN  NaN  NaN  NaN  NaN  NaN  NaN  NaN     NaN  NaN  NaN  NaN  NaN  NaN  NaN\n",
       " NaN  NaN  NaN  NaN  NaN  NaN  NaN  NaN     NaN  NaN  NaN  NaN  NaN  NaN  NaN\n",
       "   ⋮                        ⋮            ⋱                   ⋮            \n",
       " NaN  NaN  NaN  NaN  NaN  NaN  NaN  NaN  …  NaN  NaN  NaN  NaN  NaN  NaN  NaN\n",
       " NaN  NaN  NaN  NaN  NaN  NaN  NaN  NaN     NaN  NaN  NaN  NaN  NaN  NaN  NaN\n",
       " NaN  NaN  NaN  NaN  NaN  NaN  NaN  NaN     NaN  NaN  NaN  NaN  NaN  NaN  NaN\n",
       " NaN  NaN  NaN  NaN  NaN  NaN  NaN  NaN     NaN  NaN  NaN  NaN  NaN  NaN  NaN\n",
       " NaN  NaN  NaN  NaN  NaN  NaN  NaN  NaN     NaN  NaN  NaN  NaN  NaN  NaN  NaN\n",
       " NaN  NaN  NaN  NaN  NaN  NaN  NaN  NaN  …  NaN  NaN  NaN  NaN  NaN  NaN  NaN\n",
       " NaN  NaN  NaN  NaN  NaN  NaN  NaN  NaN     NaN  NaN  NaN  NaN  NaN  NaN  NaN\n",
       " NaN  NaN  NaN  NaN  NaN  NaN  NaN  NaN     NaN  NaN  NaN  NaN  NaN  NaN  NaN\n",
       " NaN  NaN  NaN  NaN  NaN  NaN  NaN  NaN     NaN  NaN  NaN  NaN  NaN  NaN  NaN\n",
       " NaN  NaN  NaN  NaN  NaN  NaN  NaN  NaN     NaN  NaN  NaN  NaN  NaN  NaN  NaN\n",
       " NaN  NaN  NaN  NaN  NaN  NaN  NaN  NaN  …  NaN  NaN  NaN  NaN  NaN  NaN  NaN\n",
       " NaN  NaN  NaN  NaN  NaN  NaN  NaN  NaN     NaN  NaN  NaN  NaN  NaN  NaN  NaN"
      ]
     },
     "execution_count": 50,
     "metadata": {},
     "output_type": "execute_result"
    }
   ],
   "source": [
    "token_embeddings = v.embed(joined_inputs)"
   ]
  },
  {
   "cell_type": "markdown",
   "id": "b958b900-f5a5-43f1-b9c0-25cb743e0ed0",
   "metadata": {
    "jp-MarkdownHeadingCollapsed": true,
    "tags": []
   },
   "source": [
    "# step through second"
   ]
  },
  {
   "cell_type": "code",
   "execution_count": 24,
   "id": "920cc0e6-19f2-41d6-8f11-69bf80e5c6e2",
   "metadata": {},
   "outputs": [],
   "source": [
    "v = model;"
   ]
  },
  {
   "cell_type": "code",
   "execution_count": 25,
   "id": "365e68dc-15b9-458a-8499-d8cfead31168",
   "metadata": {},
   "outputs": [
    {
     "ename": "LoadError",
     "evalue": "UndefVarError: reconstructed not defined",
     "output_type": "error",
     "traceback": [
      "UndefVarError: reconstructed not defined",
      "",
      "Stacktrace:",
      " [1] top-level scope",
      "   @ In[25]:1",
      " [2] eval",
      "   @ ./boot.jl:368 [inlined]",
      " [3] include_string(mapexpr::typeof(REPL.softscope), mod::Module, code::String, filename::String)",
      "   @ Base ./loading.jl:1428"
     ]
    }
   ],
   "source": [
    "pred_trajectory = reshape(reconstructed[1:end-1, :, :], (joined_dimension, t, b))"
   ]
  },
  {
   "cell_type": "code",
   "execution_count": null,
   "id": "bac909ed-cf33-4fc4-a482-a2912cd7fa59",
   "metadata": {},
   "outputs": [],
   "source": [
    "pred_terminals = reshape(reconstructed[end, :, :], 1,size(reconstructed)[2:end]...)"
   ]
  },
  {
   "cell_type": "code",
   "execution_count": null,
   "id": "212b8ea4-a232-4abe-900e-96fe52ac3f92",
   "metadata": {},
   "outputs": [],
   "source": [
    "weights = cat(\n",
    "            atype(ones(2)) .* v.position_weight,\n",
    "            atype(ones(v.observation_dim - 2)),\n",
    "            atype(ones(v.action_dim)) .* v.action_weight,\n",
    "            atype(ones(1)) .* v.reward_weight,\n",
    "            atype(ones(1)) .* v.value_weight,\n",
    "            dims=1\n",
    "        )"
   ]
  },
  {
   "cell_type": "code",
   "execution_count": null,
   "id": "bbd6a38a-ca51-4e80-ae59-bc3568292eb4",
   "metadata": {},
   "outputs": [],
   "source": [
    "mse = mse_loss(pred_trajectory, joined_inputs, reduction=\"none\") .* reshape(weights, (:, 1, 1))"
   ]
  },
  {
   "cell_type": "code",
   "execution_count": null,
   "id": "2a1c57aa-b2b8-4c71-a581-98c191fe4f85",
   "metadata": {},
   "outputs": [],
   "source": [
    "function binary_cross_entropy(probs,labels; reduction=\"mean\")\n",
    "    log_pos = atype(clamp.(cputype(log.(probs)), -100.0f0, Inf))\n",
    "    log_neg = atype(clamp.(cputype(log.(1 .- probs)), -100.0f0, Inf))\n",
    "    loss = -(labels .* log_pos .+ (1 .- labels) .* log_neg)\n",
    "    if reduction == \"mean\"\n",
    "        mean(loss)\n",
    "    elseif reduction == \"sum\"\n",
    "        sum(loss)\n",
    "    elseif reduction == \"none\"\n",
    "        return loss\n",
    "    end\n",
    "end"
   ]
  },
  {
   "cell_type": "code",
   "execution_count": null,
   "id": "556fe380-14be-4cdf-8648-feb672ab8149",
   "metadata": {},
   "outputs": [],
   "source": [
    "check(mse)"
   ]
  },
  {
   "cell_type": "code",
   "execution_count": null,
   "id": "39ee226c-28f7-40cf-84fa-92d2fcbee2bf",
   "metadata": {},
   "outputs": [],
   "source": [
    "cross_entropy = binary_cross_entropy(pred_terminals, atype(clamp.(convert.(Float32, cputype(terminals)),0.0f0, 1.0f0)))"
   ]
  },
  {
   "cell_type": "code",
   "execution_count": null,
   "id": "834e2927-3cba-4710-bb77-9de095b44d8a",
   "metadata": {},
   "outputs": [],
   "source": [
    "labels=atype(clamp.(convert.(Float32, cputype(terminals)),0.0f0, 1.0f0));"
   ]
  },
  {
   "cell_type": "code",
   "execution_count": null,
   "id": "7253b22b-f17a-4fd4-8660-ce53cb9fd6f5",
   "metadata": {},
   "outputs": [],
   "source": [
    "labels .* log.(pred_terminals)"
   ]
  },
  {
   "cell_type": "code",
   "execution_count": null,
   "id": "f9be3cb6-047b-480d-b410-f6c02be09d09",
   "metadata": {},
   "outputs": [],
   "source": [
    "x = (1 .- labels) .* log.(1 .- pred_terminals);"
   ]
  },
  {
   "cell_type": "code",
   "execution_count": null,
   "id": "13c32fc5-e176-4a96-8db0-6517a34cbb0f",
   "metadata": {},
   "outputs": [],
   "source": [
    "pred_terminals[1,7,114]"
   ]
  },
  {
   "cell_type": "code",
   "execution_count": null,
   "id": "425aa61a-c360-4462-9bd4-95c151e9541e",
   "metadata": {},
   "outputs": [],
   "source": [
    "?clamp"
   ]
  },
  {
   "cell_type": "code",
   "execution_count": null,
   "id": "0688d90f-f8a4-4766-affa-c96e710a76ab",
   "metadata": {},
   "outputs": [],
   "source": [
    "log_clamp(x) = log(x) < -100.0f0 ? -100.0f0 : log(x)"
   ]
  },
  {
   "cell_type": "code",
   "execution_count": null,
   "id": "dcfc7f9c-c77f-4f97-9af8-61f81d07ed07",
   "metadata": {},
   "outputs": [],
   "source": [
    "clamp.(pred_terminals, -100.0f0, Inf)"
   ]
  },
  {
   "cell_type": "code",
   "execution_count": null,
   "id": "7143cad0-5843-4540-8a27-497e46261d11",
   "metadata": {},
   "outputs": [],
   "source": [
    "log_clamp.(1 .- pred_terminals)"
   ]
  },
  {
   "cell_type": "code",
   "execution_count": null,
   "id": "492dcc22-c041-410a-b2dc-f43e0e911f3d",
   "metadata": {},
   "outputs": [],
   "source": [
    "findall(x->isnan(x), cputype(x))"
   ]
  },
  {
   "cell_type": "markdown",
   "id": "a69025c2-2e37-4736-a0b9-86d378645254",
   "metadata": {
    "tags": []
   },
   "source": [
    "# step through"
   ]
  },
  {
   "cell_type": "code",
   "execution_count": 18,
   "id": "e99b9c04-accb-4a29-b48b-9d7a4d6cc05f",
   "metadata": {},
   "outputs": [],
   "source": [
    "v = model_452;"
   ]
  },
  {
   "cell_type": "code",
   "execution_count": 19,
   "id": "9f9eb5f8-aa13-40cb-971a-e62f9baa0d9f",
   "metadata": {},
   "outputs": [
    {
     "data": {
      "text/plain": [
       "11×512 Knet.KnetArrays.KnetMatrix{Float32}:\n",
       " -0.572032    -0.902455   -1.53252    …  -0.191195    0.106453  -0.160685\n",
       "  0.0453874   -0.199692    0.352712      -0.0134167   1.51915   -0.726735\n",
       " -0.00753865  -0.637729   -1.16322        1.07508     1.17135    1.27078\n",
       "  0.491716     0.421634    0.507299      -0.378327    0.579733  -0.371834\n",
       "  0.601227     0.660066    1.25671        0.200985    0.829313   0.00663482\n",
       " -0.464948    -0.420828   -0.547654   …  -0.921333   -0.328902  -1.02853\n",
       " -0.297017    -0.0895763  -2.37184        0.0977055   1.00222    0.258226\n",
       " -1.48042     -0.0232123   0.314432      -0.411779    0.374198   0.807069\n",
       " -1.32235     -0.203968   -0.633031       0.0666929  -0.589391   0.00171385\n",
       "  0.0763113   -0.275718    0.0320827     -0.451443   -0.198523   1.12484\n",
       "  0.237462     0.168298    0.0380943  …   0.302337    1.99595    0.0945644"
      ]
     },
     "execution_count": 19,
     "metadata": {},
     "output_type": "execute_result"
    }
   ],
   "source": [
    "joined_dimension, t, b = size(joined_inputs)\n",
    "padded = repeat_broadcast(v.padding_vector, 1, t, b)\n",
    "\n",
    "if !(terminals === nothing)\n",
    "    terminal_mask = repeat_broadcast(deepcopy(1 .- terminals), size(joined_inputs, 1), 1, 1)\n",
    "    joined_inputs = joined_inputs .* terminal_mask .+ padded .* (1 .- terminal_mask)\n",
    "end\n",
    "state = joined_inputs[1:v.observation_dim, 1, :]"
   ]
  },
  {
   "cell_type": "code",
   "execution_count": 20,
   "id": "cfc8ea4b-529c-4807-8bd6-c4b0d8662d27",
   "metadata": {},
   "outputs": [],
   "source": [
    "joined_inputs = cat(joined_inputs, terminals, dims=1);\n",
    "state = state;"
   ]
  },
  {
   "cell_type": "code",
   "execution_count": 21,
   "id": "88e1d450-02d8-49be-8d57-f9caab0395b2",
   "metadata": {},
   "outputs": [
    {
     "data": {
      "text/plain": [
       "false"
      ]
     },
     "execution_count": 21,
     "metadata": {},
     "output_type": "execute_result"
    }
   ],
   "source": [
    "check(state)"
   ]
  },
  {
   "cell_type": "code",
   "execution_count": 23,
   "id": "6d956b04-131c-4b58-947b-6b0f185cd7a7",
   "metadata": {},
   "outputs": [],
   "source": [
    "v = model_452.model;"
   ]
  },
  {
   "cell_type": "code",
   "execution_count": null,
   "id": "047ee846-9a84-45cc-bc1b-68d06b626ba7",
   "metadata": {},
   "outputs": [],
   "source": [
    "token_embeddings = v.embed(joined_inputs)\n",
    "position_embeddings = v.pos_emb[:, 1:t, :] \n",
    "x_emb = v.drop(token_embeddings .+ position_embeddings)"
   ]
  },
  {
   "cell_type": "code",
   "execution_count": null,
   "id": "a3072df4-f97d-476e-b58b-bfa66e041389",
   "metadata": {},
   "outputs": [],
   "source": [
    "check(x_emb)"
   ]
  },
  {
   "cell_type": "code",
   "execution_count": null,
   "id": "53875b68-fe25-4692-89b2-3549ab0a78e6",
   "metadata": {},
   "outputs": [],
   "source": [
    "x_enc = v.encoder(x_emb)"
   ]
  },
  {
   "cell_type": "markdown",
   "id": "5b552fa8-bc64-48b2-8dcd-2b63e8fbcd43",
   "metadata": {
    "jp-MarkdownHeadingCollapsed": true,
    "tags": []
   },
   "source": [
    "## Attention"
   ]
  },
  {
   "cell_type": "code",
   "execution_count": null,
   "id": "de59ef8f-82ff-4df6-b22b-013989e3d1bf",
   "metadata": {},
   "outputs": [],
   "source": [
    "c=v.encoder.layers[1].attn;\n",
    "x=ln1_out;"
   ]
  },
  {
   "cell_type": "code",
   "execution_count": null,
   "id": "611023f8-9f5e-44f8-85fa-b6be71a30e77",
   "metadata": {},
   "outputs": [],
   "source": [
    "C, T, B = size(ln1_out)"
   ]
  },
  {
   "cell_type": "code",
   "execution_count": null,
   "id": "9a9fb720-06ab-491d-ae00-390a66ed25c6",
   "metadata": {},
   "outputs": [],
   "source": [
    "k = permutedims(reshape(c.key(x), (C ÷ c.n_head, c.n_head, T, B)), (1, 3, 2, 4));"
   ]
  },
  {
   "cell_type": "code",
   "execution_count": null,
   "id": "d4267705-8c95-4810-8a11-dbc5a7d86ce1",
   "metadata": {},
   "outputs": [],
   "source": [
    "q = permutedims(reshape(c.query(x), (C ÷ c.n_head, c.n_head, T, B)), (1, 3, 2, 4));"
   ]
  },
  {
   "cell_type": "code",
   "execution_count": null,
   "id": "9bed92cb-fe1a-473b-958e-6529eabfd75a",
   "metadata": {},
   "outputs": [],
   "source": [
    "v = permutedims(reshape(c.value(x), (C ÷ c.n_head, c.n_head, T, B)), (1, 3, 2, 4));"
   ]
  },
  {
   "cell_type": "code",
   "execution_count": null,
   "id": "52ef921b-726e-41f0-aed1-2fa20113ea16",
   "metadata": {},
   "outputs": [],
   "source": [
    "att = bmm(permutedims(k, (2,1,3,4)), q) .* Float32(1 / sqrt(size(k, 1)));"
   ]
  },
  {
   "cell_type": "code",
   "execution_count": null,
   "id": "457e691f-32fa-447d-812b-aabf50f9a0d1",
   "metadata": {},
   "outputs": [],
   "source": [
    "att_masked = att .+ repeat_broadcast(atype((c.mask[1:T,1:T] .== 0) * Float32(-Inf)), 1,1,size(att)[end-1:end]...);"
   ]
  },
  {
   "cell_type": "code",
   "execution_count": null,
   "id": "a6e635d8-b3e8-4b3b-a86f-b1d103f3db31",
   "metadata": {},
   "outputs": [],
   "source": [
    "function softmax(w; dims)\n",
    "    w = w .- maximum(w, dims=dims)\n",
    "    probs = exp.(w)\n",
    "    return probs ./ sum(probs, dims=dims)\n",
    "end"
   ]
  },
  {
   "cell_type": "code",
   "execution_count": null,
   "id": "67f2052a-9bb8-4f59-b682-d4141db3ccf0",
   "metadata": {},
   "outputs": [],
   "source": [
    "att_softmax = softmax(att_masked, dims=1)"
   ]
  },
  {
   "cell_type": "code",
   "execution_count": null,
   "id": "1f719211-aaf9-49cb-9659-f4141f4927de",
   "metadata": {},
   "outputs": [],
   "source": [
    "att_masked[:,8,1,1]"
   ]
  },
  {
   "cell_type": "code",
   "execution_count": null,
   "id": "b67d9fc4-6ec7-4d2f-b2d5-7e85c9db11f4",
   "metadata": {},
   "outputs": [],
   "source": [
    "att_softmax[:,8,1,1]"
   ]
  },
  {
   "cell_type": "markdown",
   "id": "f084d837-9618-4180-8440-033ce2283bf7",
   "metadata": {
    "tags": []
   },
   "source": [
    "## Rest"
   ]
  },
  {
   "cell_type": "code",
   "execution_count": null,
   "id": "77e7869c-ea7f-4afb-91bf-4013ffba542e",
   "metadata": {},
   "outputs": [],
   "source": [
    "x_pool = permutedims(v.latent_pooling(permutedims(x_enc, (2, 1, 3))), (2,1,3))"
   ]
  },
  {
   "cell_type": "code",
   "execution_count": null,
   "id": "81d02476-d1ff-43e5-984e-f3e90f833032",
   "metadata": {},
   "outputs": [],
   "source": [
    "x = v.cast_embed(x_pool)"
   ]
  },
  {
   "cell_type": "code",
   "execution_count": null,
   "id": "9b735008-72c3-4cfa-b888-3758fbb47f03",
   "metadata": {},
   "outputs": [],
   "source": [
    "check(x)"
   ]
  },
  {
   "cell_type": "code",
   "execution_count": null,
   "id": "0b3323eb-b438-4beb-846a-2ac29625785f",
   "metadata": {},
   "outputs": [],
   "source": [
    "x"
   ]
  },
  {
   "cell_type": "code",
   "execution_count": 24,
   "id": "d3d43fa2-378d-4a0c-b514-adb11991c094",
   "metadata": {},
   "outputs": [
    {
     "data": {
      "text/plain": [
       "512×8×512 KnetArray{Float32, 3}:\n",
       "[:, :, 1] =\n",
       " -0.409032   -0.0607605  -0.298661   …   0.181049    0.14072     0.0641807\n",
       " -0.414837   -0.445586   -0.473146       0.141847   -0.101571    0.108923\n",
       "  0.192495   -0.629151   -1.03216       -1.81281     1.45331    -1.73991\n",
       "  0.976192    0.852615    0.285627       1.04563    -0.801759    0.671871\n",
       " -0.0388344   0.938482   -1.13685        0.521679    0.400322   -0.36328\n",
       " -0.488634   -1.24946     0.0560212  …   0.477317   -0.0218062   0.646908\n",
       "  0.848961    0.447386   -0.370324      -0.74715     0.372246   -0.374788\n",
       "  0.879239    0.961831    0.430717      -0.69121     0.169273   -0.519052\n",
       " -0.695879   -0.210912    0.837065       0.322585   -0.671505    0.501643\n",
       "  0.172292    0.373232    0.296625       1.06767    -0.936002    0.759768\n",
       " -0.181216   -0.0810385   0.952475   …   0.839462   -0.935304    0.696749\n",
       " -0.0411872  -0.365618    0.348935       0.303721   -0.967538    0.585275\n",
       " -0.69988    -0.37797     0.370855      -0.262099    0.146547    0.440145\n",
       "  ⋮                                  ⋱   ⋮                      \n",
       " -1.43964    -0.441924    0.166992   …  -0.0937538   0.165549   -0.0421961\n",
       "  0.571485    0.241541    0.887464      -0.53187    -0.935674   -0.35339\n",
       "  0.58632     1.03744     0.0653614     -1.12424     0.495837   -1.66338\n",
       " -0.247598   -0.933966   -0.179031       0.5838     -0.134184    0.853981\n",
       " -1.0026     -0.581001   -0.158611       0.10962     0.466851    0.325621\n",
       " -1.35507    -1.47502    -0.0928933  …   1.05057     0.0448221   0.665709\n",
       "  0.941314    1.39509     0.320208       1.17784    -2.75994    -0.483629\n",
       "  0.17623     0.212605   -0.169389       0.652316   -0.640416    0.926696\n",
       " -0.588266   -0.840664    0.578888       0.515214   -0.339404    0.422821\n",
       " -0.306489   -0.289783   -0.677641      -0.236344    1.17104    -0.911664\n",
       "  1.47065     1.57679     0.81715    …  -0.599404    0.635843    0.435682\n",
       " -1.19167    -1.0643      0.574659       0.0297881   1.1513      0.469698\n",
       "\n",
       "[:, :, 2] =\n",
       "  0.182293    0.0838926  -0.494962   …   0.302947     1.23074    -0.832686\n",
       "  0.118899   -0.927514   -0.652644       0.052882    -0.0237847  -0.468605\n",
       " -1.43018    -0.799806   -0.998231       0.387713     0.531545    0.109457\n",
       "  1.76446     2.27041     0.959248       0.716163     0.206777    0.963586\n",
       " -1.11071     0.448984   -0.854323      -0.0531637   -1.21206    -1.12936\n",
       "  0.228567    0.811259    0.0217257  …  -0.874354    -0.176883    0.425749\n",
       " -0.530778   -0.236891   -0.370711       0.0390681   -0.107213   -1.19645\n",
       "  0.653996    0.29538     0.124289       1.00812     -0.54959    -0.358717\n",
       "  1.0208     -0.893637    0.533202       0.274813     0.674214    0.840745\n",
       "  0.65791     1.00674     0.166102      -0.0501045   -0.806818   -0.0182268\n",
       "  0.0274759   0.213241    0.287421   …   0.88387      0.38835    -0.304813\n",
       "  2.15491     0.582873    0.585585      -0.102292     0.490551    0.676957\n",
       " -0.0339028   0.322837    0.634341      -0.182439     0.285603    0.825254\n",
       "  ⋮                                  ⋱   ⋮                       \n",
       " -0.0816497  -0.873278   -0.273006   …   0.61075      0.499695    0.0798008\n",
       "  0.531191    1.19506     0.484543       0.594333    -0.724455    0.778763\n",
       " -0.728237   -0.320991   -0.247691       0.47564      0.144935    0.49634\n",
       "  0.413761    0.0251586  -0.370271      -1.28005     -0.383851   -0.751849\n",
       "  0.686968    1.43733    -0.143055      -0.107644    -1.43745     0.23156\n",
       " -0.888761    0.0706359   0.0558303  …  -0.312781    -0.22546    -0.137472\n",
       " -0.0788848   1.59612    -0.80753       -0.335872    -2.4322     -0.966414\n",
       "  0.894563   -0.120122    0.129233      -0.00825008  -0.230622   -0.191022\n",
       "  0.990844    0.83409     0.397171      -0.714613    -0.377114    0.99475\n",
       " -1.21544    -0.641027   -0.553518      -0.193289    -0.641677    0.295406\n",
       "  1.77101    -0.511141    1.59088    …   1.35745      1.59019     1.38926\n",
       "  0.211394    1.61719     0.735069       1.05023      0.728265    1.24448\n",
       "\n",
       "[:, :, 3] =\n",
       " -0.246404   -0.738926     1.58822   …   1.9713      1.95984     1.95211\n",
       " -0.482572    0.307261    -0.495659     -0.972175   -0.96531    -0.960701\n",
       "  0.193842    0.896558    -0.477093     -0.163036   -0.170291   -0.166208\n",
       " -1.43892    -0.186124    -0.87513      -1.28393    -1.28137    -1.29697\n",
       "  0.627478    0.590482    -0.274751     -1.30482    -1.31973    -1.33281\n",
       " -0.315078   -0.757617    -0.522515  …  -0.777708   -0.760722   -0.76597\n",
       "  0.771755    0.941155    -0.475771     -1.85333    -1.85332    -1.88043\n",
       " -0.459581    0.737604    -0.70193      -0.312188   -0.317014   -0.309678\n",
       "  0.623892   -0.777442     1.38832       0.872684    0.894704    0.913254\n",
       " -0.747932    0.00235398   0.452834      1.20688     1.16766     1.14448\n",
       " -0.944562   -0.971912     0.641243  …   1.23932     1.25419     1.2517\n",
       " -1.35911    -0.157712    -0.427739      0.449721    0.422073    0.423012\n",
       "  0.361673    0.196696    -0.787018     -2.02824    -2.01517    -2.013\n",
       "  ⋮                                  ⋱   ⋮                      \n",
       "  0.0922618  -0.493903     0.496474  …   0.640142    0.647954    0.654068\n",
       " -1.00186    -0.563167    -0.184627      1.18604     1.20365     1.20646\n",
       "  0.434611   -0.526254     0.695178      0.605654    0.614461    0.573983\n",
       " -0.088647    0.137357     0.757614      1.72249     1.72877     1.73523\n",
       "  0.0803544   1.08287     -0.773262     -0.171424   -0.179936   -0.186993\n",
       "  0.289995   -0.308397     0.919307  …   2.05153     2.04238     2.03424\n",
       " -1.83342    -1.94859      0.969045      0.117851    0.155384    0.161734\n",
       " -0.17234     0.315153    -0.316003     -0.0998453  -0.104407   -0.117298\n",
       " -0.0763499  -0.270365    -0.602673      0.0416354   0.0232304   0.0356781\n",
       "  1.62676     1.08248      0.577181      1.13479     1.1192      1.12237\n",
       "  0.104382    1.47908     -0.521234  …   0.862798    0.875834    0.880785\n",
       "  0.718656    0.276968     0.440576      0.922915    0.92419     0.947201\n",
       "\n",
       ";;; … \n",
       "\n",
       "[:, :, 510] =\n",
       "  1.04162     0.798041   -0.512069   …   0.549857    1.64356     1.23381\n",
       " -0.0845728   0.0806241  -0.262256      -0.162454   -0.825708    0.0273165\n",
       " -1.20696    -0.708916   -0.894878      -1.01016    -0.0646791   0.46986\n",
       "  0.894416   -0.405881    1.96814        0.188448    0.994738    0.643339\n",
       " -0.787159   -1.66378    -0.0603956     -1.19834     0.396383   -1.33799\n",
       "  0.893002    0.0958799   0.378579   …  -0.0088112   1.58121     1.04867\n",
       "  0.799148   -0.0770372  -1.12315       -0.502612    0.059819   -0.667369\n",
       "  0.0523493  -0.271542   -0.0495635      0.41426    -0.85334    -0.468233\n",
       "  0.268315    0.741871   -0.346702       0.786704   -0.570905    1.02856\n",
       "  0.389687   -0.483278    0.956027       0.0252947  -0.545711   -0.393981\n",
       "  1.10708     0.697712   -0.0323263  …   0.53463     0.667925    1.03465\n",
       "  0.817596    1.13063     0.597885       0.791176   -0.477683    0.374651\n",
       " -0.459237    0.49442     0.348925       0.14412    -0.291578    0.226893\n",
       "  ⋮                                  ⋱   ⋮                      \n",
       "  0.106626    0.807659   -0.26594    …   0.745205    0.261039    1.19204\n",
       " -0.0613689  -0.175743    1.04814       -0.237977   -0.901911   -0.602277\n",
       " -0.332332   -0.158246   -0.471744      -0.18198     0.597157    0.0488423\n",
       "  0.791736    0.872404   -0.0302096      0.516498    0.0108502   0.0124812\n",
       " -0.217327   -0.0324429   0.924503      -0.259169   -1.04164    -1.34917\n",
       " -1.16059    -1.9394     -0.167843   …  -1.25932     0.694354    0.25991\n",
       "  3.13826     1.10436     1.16848        0.754874   -1.16723    -1.4195\n",
       "  0.563648    0.54263    -0.0426077      0.60449    -0.365582   -0.32394\n",
       " -0.438932    0.616517    1.06848        0.487079   -0.467317   -0.00973552\n",
       " -1.35823    -1.27995    -0.173755      -1.01659    -0.130917   -0.0316269\n",
       " -0.615288    1.4823      0.497796   …   1.28463    -1.10065     0.741143\n",
       " -0.533072   -0.298347    1.00768       -0.0146579   1.07104     1.29324\n",
       "\n",
       "[:, :, 511] =\n",
       "  0.629388  -0.0510157  -0.10295    …   0.721428   0.663641    0.116515\n",
       "  0.385302   0.449623    0.214539      -0.426153  -0.329048   -0.207514\n",
       "  1.35075    0.586688   -1.28109        0.362957  -0.685403   -2.03483\n",
       " -0.768726  -1.20395     1.8895         1.27119    1.06604     0.543331\n",
       "  0.234911   1.01141     1.47145       -0.47114   -0.182384   -1.00126\n",
       "  0.55488   -0.964836   -0.401839   …   1.2648     0.432308   -0.538542\n",
       "  1.29717    0.592794    0.44488       -0.681063  -0.478032    0.133226\n",
       " -1.15276    0.316144    0.301542      -0.720743   0.0119556   0.224658\n",
       "  0.153784  -0.114451   -1.13831        0.390527   0.521864    0.794467\n",
       " -0.988372  -1.16985     0.286534      -0.235917   0.272078    0.268529\n",
       " -0.37629   -1.01721    -1.03186    …   0.563122   1.19442     0.0170925\n",
       " -0.536765  -1.48783     0.531331       0.522668   0.128903    1.08974\n",
       " -0.325465  -0.467644   -0.530366       0.792062  -0.112371    0.388602\n",
       "  ⋮                                 ⋱   ⋮                     \n",
       " -0.333874   0.291458   -1.27747    …   0.68329    0.789982   -0.314336\n",
       " -1.59659   -0.372409   -0.712198       0.540041   0.461503    0.0923928\n",
       " -0.909072   0.738048   -0.0265834      0.122371   0.213054   -0.669336\n",
       "  0.115582  -0.347497    0.0788938     -0.193818  -0.605451    0.140667\n",
       " -0.593667   0.276396   -0.486584      -0.081627  -0.30089    -0.323199\n",
       "  1.64448   -0.42539    -1.27546    …   1.20178    0.841255   -1.14135\n",
       " -3.80567   -0.498735    1.76243       -1.45941    0.272942    0.741069\n",
       " -0.790924  -0.0935829   0.448355      -0.934265  -0.218285    0.594519\n",
       " -0.467257  -0.437455    0.509173       0.281662  -0.0146361   0.542199\n",
       "  1.19502    1.51029     0.52197       -0.594894  -0.609105   -1.21995\n",
       " -0.418958   0.500126    0.93998    …  -0.283357  -0.100314    1.08867\n",
       "  0.956543   0.276768   -1.47931        1.90459    1.13461    -0.644537\n",
       "\n",
       "[:, :, 512] =\n",
       "  2.43358      1.51526    0.836411  …   0.469287     1.84008     1.00582\n",
       "  0.051959    -0.758646  -0.739106     -0.844604    -0.283816   -0.737863\n",
       " -0.298068    -0.681274  -1.9078       -0.613594    -1.69875    -1.85621\n",
       "  1.39789      0.723178   1.09008       1.70259      1.67963    -0.0639949\n",
       " -0.568872    -2.23444   -0.34343       1.04341     -1.15922    -0.521319\n",
       "  1.48545      1.53382    0.661635  …   0.203766     0.845487   -0.540578\n",
       " -0.795389    -0.945544  -0.152505     -0.0386777   -0.109411    0.293144\n",
       " -0.984236    -0.909254  -0.14932       0.707458    -0.154078    0.180381\n",
       "  0.73046      1.34336    0.133264     -1.18712      0.854898    0.382423\n",
       " -0.0669557   -0.459661  -0.28001       0.250492     0.477292   -0.269706\n",
       "  1.22458      1.11884   -0.249918  …   0.223777     1.26346    -0.466249\n",
       "  0.267776     1.37528    1.01523      -0.598282     0.875418    0.468113\n",
       " -0.50735      1.06103    0.102607     -0.0468912    0.565605   -0.318299\n",
       "  ⋮                                 ⋱   ⋮                       \n",
       "  1.17406      1.74132   -0.236646  …  -0.146928     0.208081    0.135828\n",
       " -0.47944     -0.592634  -0.73553       0.41483      0.749181   -1.14625\n",
       "  0.00835151   0.213652  -0.150089      1.05579     -0.308146    0.131175\n",
       " -0.254487     1.09743    0.518695     -0.446431     0.351573    0.41536\n",
       " -0.892946    -0.73241   -1.20426      -0.829787    -0.791586   -1.00031\n",
       "  1.62777     -0.821114  -1.27115   …  -0.555128     0.134033   -2.25357\n",
       " -0.871338     1.05218    0.444738      1.20087      3.1051      1.27145\n",
       "  0.342929     0.677674   1.18238      -0.436883     0.014894    0.933501\n",
       " -0.266706     0.6904     0.346523     -0.0344553    0.0927565  -0.0809258\n",
       "  0.154245    -1.19164   -0.469237      0.00101508  -1.10006    -0.855437\n",
       " -0.429562     0.263131   0.512842  …   0.613811    -1.10871     0.736308\n",
       "  1.58096      0.584777  -0.955926      0.360971     0.407282   -1.27494"
      ]
     },
     "execution_count": 24,
     "metadata": {},
     "output_type": "execute_result"
    }
   ],
   "source": [
    "trajectory_feature = encode(v, joined_inputs)"
   ]
  },
  {
   "cell_type": "code",
   "execution_count": 25,
   "id": "e7a543b7-7b89-4773-a1ba-001843ff6e41",
   "metadata": {},
   "outputs": [
    {
     "data": {
      "text/plain": [
       "false"
      ]
     },
     "execution_count": 25,
     "metadata": {},
     "output_type": "execute_result"
    }
   ],
   "source": [
    "check(trajectory_feature)"
   ]
  },
  {
   "cell_type": "markdown",
   "id": "a2755f2f-999a-4f10-95a8-e6f578b0afeb",
   "metadata": {},
   "source": [
    "# Straight through step through"
   ]
  },
  {
   "cell_type": "code",
   "execution_count": 90,
   "id": "b0f624ef-c58c-4380-9442-fbd3b9f8373c",
   "metadata": {},
   "outputs": [
    {
     "data": {
      "text/plain": [
       "(K32(512,8,512)[NaN⋯], K32(512,8,512)[0.20129874⋯])"
      ]
     },
     "execution_count": 90,
     "metadata": {},
     "output_type": "execute_result"
    }
   ],
   "source": [
    "latents_st, latents = straight_through(v.codebook, trajectory_feature)"
   ]
  },
  {
   "cell_type": "code",
   "execution_count": 26,
   "id": "10fc708d-0e63-4712-9472-a2756ea2e1c1",
   "metadata": {},
   "outputs": [],
   "source": [
    "v = v.codebook;"
   ]
  },
  {
   "cell_type": "code",
   "execution_count": 27,
   "id": "53343505-b751-45aa-b221-e5564079c749",
   "metadata": {},
   "outputs": [],
   "source": [
    "z_e_x = trajectory_feature;"
   ]
  },
  {
   "cell_type": "code",
   "execution_count": 28,
   "id": "634615a2-e924-46c6-b418-dfe8a18d7eff",
   "metadata": {},
   "outputs": [
    {
     "data": {
      "text/plain": [
       "(512, 512)"
      ]
     },
     "execution_count": 28,
     "metadata": {},
     "output_type": "execute_result"
    }
   ],
   "source": [
    "D, K = size(v.embedding)"
   ]
  },
  {
   "cell_type": "code",
   "execution_count": 32,
   "id": "1b89e4cd-fb64-435c-8ffc-4d0dd57928e9",
   "metadata": {},
   "outputs": [
    {
     "data": {
      "text/plain": [
       "(K32(512,8,512)[-0.8334601⋯], [369, 487, 149, 62, 342, 39, 218, 105, 394, 99  …  402, 494, 340, 59, 298, 262, 503, 381, 2, 389])"
      ]
     },
     "execution_count": 32,
     "metadata": {},
     "output_type": "execute_result"
    }
   ],
   "source": [
    "z_q_x, indices = vq_st(z_e_x, v.embedding)"
   ]
  },
  {
   "cell_type": "code",
   "execution_count": 35,
   "id": "944414bd-f187-4965-a006-62d0a6f9e4c1",
   "metadata": {},
   "outputs": [
    {
     "data": {
      "text/plain": [
       "512×4096 Knet.KnetArrays.KnetMatrix{Float32}:\n",
       " 0.0  0.0  0.0  0.0  0.0  0.0  0.0  0.0  …  0.0  0.0  0.0  0.0  0.0  0.0  0.0\n",
       " 0.0  0.0  0.0  0.0  0.0  0.0  0.0  0.0     0.0  0.0  0.0  0.0  0.0  1.0  0.0\n",
       " 0.0  0.0  0.0  0.0  0.0  0.0  0.0  0.0     0.0  0.0  0.0  0.0  0.0  0.0  0.0\n",
       " 0.0  0.0  0.0  0.0  0.0  0.0  0.0  0.0     0.0  0.0  0.0  0.0  0.0  0.0  0.0\n",
       " 0.0  0.0  0.0  0.0  0.0  0.0  0.0  0.0     0.0  0.0  0.0  0.0  0.0  0.0  0.0\n",
       " 0.0  0.0  0.0  0.0  0.0  0.0  0.0  0.0  …  0.0  0.0  0.0  0.0  0.0  0.0  0.0\n",
       " 0.0  0.0  0.0  0.0  0.0  0.0  0.0  0.0     0.0  0.0  0.0  0.0  0.0  0.0  0.0\n",
       " 0.0  0.0  0.0  0.0  0.0  0.0  0.0  0.0     0.0  0.0  0.0  0.0  0.0  0.0  0.0\n",
       " 0.0  0.0  0.0  0.0  0.0  0.0  0.0  0.0     0.0  0.0  0.0  0.0  0.0  0.0  0.0\n",
       " 0.0  0.0  0.0  0.0  0.0  0.0  0.0  0.0     0.0  0.0  0.0  0.0  0.0  0.0  0.0\n",
       " 0.0  0.0  0.0  0.0  0.0  0.0  0.0  0.0  …  0.0  0.0  0.0  0.0  0.0  0.0  0.0\n",
       " 0.0  0.0  0.0  0.0  0.0  0.0  0.0  0.0     0.0  0.0  0.0  0.0  0.0  0.0  0.0\n",
       " 0.0  0.0  0.0  0.0  0.0  0.0  0.0  0.0     0.0  0.0  0.0  0.0  0.0  0.0  0.0\n",
       " ⋮                        ⋮              ⋱       ⋮                        ⋮\n",
       " 0.0  0.0  0.0  0.0  0.0  0.0  0.0  0.0  …  0.0  0.0  0.0  0.0  0.0  0.0  0.0\n",
       " 0.0  0.0  0.0  0.0  0.0  0.0  0.0  0.0     0.0  0.0  0.0  0.0  0.0  0.0  0.0\n",
       " 0.0  0.0  0.0  0.0  0.0  0.0  0.0  0.0     0.0  0.0  0.0  1.0  0.0  0.0  0.0\n",
       " 0.0  0.0  0.0  0.0  0.0  0.0  0.0  0.0     0.0  0.0  0.0  0.0  0.0  0.0  0.0\n",
       " 0.0  0.0  0.0  0.0  0.0  0.0  0.0  0.0     0.0  0.0  0.0  0.0  0.0  0.0  0.0\n",
       " 0.0  0.0  0.0  0.0  0.0  0.0  0.0  0.0  …  0.0  0.0  0.0  0.0  0.0  0.0  0.0\n",
       " 0.0  0.0  0.0  0.0  0.0  0.0  0.0  0.0     0.0  0.0  0.0  0.0  0.0  0.0  0.0\n",
       " 0.0  0.0  0.0  0.0  0.0  0.0  0.0  0.0     0.0  0.0  0.0  0.0  0.0  0.0  0.0\n",
       " 0.0  0.0  0.0  0.0  0.0  0.0  0.0  0.0     0.0  0.0  0.0  0.0  0.0  0.0  0.0\n",
       " 0.0  0.0  0.0  0.0  0.0  0.0  0.0  0.0     0.0  0.0  0.0  0.0  0.0  0.0  0.0\n",
       " 0.0  0.0  0.0  0.0  0.0  0.0  0.0  0.0  …  0.0  0.0  0.0  0.0  0.0  0.0  0.0\n",
       " 0.0  0.0  0.0  0.0  0.0  0.0  0.0  0.0     0.0  0.0  0.0  0.0  0.0  0.0  0.0"
      ]
     },
     "execution_count": 35,
     "metadata": {},
     "output_type": "execute_result"
    }
   ],
   "source": [
    "encodings = one_hot(Float32, indices, K)"
   ]
  },
  {
   "cell_type": "code",
   "execution_count": 39,
   "id": "c31079a5-661e-4fc0-82c5-566744761431",
   "metadata": {},
   "outputs": [
    {
     "data": {
      "text/plain": [
       "512-element Knet.KnetArrays.KnetVector{Float32}:\n",
       "  1.3448786\n",
       " 12.607567\n",
       "  7.4335527\n",
       "  5.5295704f-34\n",
       " 10.61032\n",
       "  3.277021\n",
       "  1.5632615\n",
       "  5.944417\n",
       " 16.347204\n",
       " 13.033485\n",
       " 10.617094\n",
       " 24.896467\n",
       "  7.0121994\n",
       "  ⋮\n",
       "  7.9339375\n",
       " 16.102657\n",
       "  8.55746\n",
       "  1.0580114\n",
       "  6.8372784\n",
       "  6.1116986\n",
       "  6.3389735\n",
       "  7.461581\n",
       "  3.252566f-33\n",
       "  6.913274\n",
       " 15.359002\n",
       "  4.0352488"
      ]
     },
     "execution_count": 39,
     "metadata": {},
     "output_type": "execute_result"
    }
   ],
   "source": [
    "v.ema_count = v.decay .* v.ema_count + (1 - v.decay) .* sum(encodings, dims=2)[:, 1]"
   ]
  },
  {
   "cell_type": "code",
   "execution_count": 40,
   "id": "9ecdf375-e303-4683-b919-702c573b30eb",
   "metadata": {},
   "outputs": [
    {
     "data": {
      "text/plain": [
       "0.0f0"
      ]
     },
     "execution_count": 40,
     "metadata": {},
     "output_type": "execute_result"
    }
   ],
   "source": [
    "v.ema_count[337]"
   ]
  },
  {
   "cell_type": "code",
   "execution_count": 66,
   "id": "ec0d8d81-4f23-421f-ac97-63b6c7457858",
   "metadata": {},
   "outputs": [
    {
     "data": {
      "text/plain": [
       "512×512 Knet.KnetArrays.KnetMatrix{Float32}:\n",
       " -0.798747    15.1661      18.0581    …  0.0  -2.5575     0.0   0.438663\n",
       "  0.778253    -5.13471      1.38842      0.0  -0.076626   0.0  -0.866793\n",
       "  1.04684    -12.1316       4.99511      0.0   0.625841   0.0  -0.343532\n",
       " -0.189358    23.5642      11.2769       0.0   8.80539    0.0  -0.155933\n",
       " -2.54666     -3.15862     -3.65597      0.0   0.925781   0.0  -1.50489\n",
       " -0.636052    10.8191      16.386     …  0.0  -2.56522    0.0  -2.63706\n",
       " -0.749141    -6.34624     -5.47774      0.0  -9.5828     0.0  -0.300571\n",
       "  0.868636    -3.38916      1.28582      0.0   3.43453    0.0   2.81703\n",
       "  0.257742     0.575942    -1.37473      0.0   0.345258   0.0   1.06822\n",
       "  0.993109     5.5062       2.4387       0.0   2.78647    0.0   0.323353\n",
       "  0.10774      5.64611     15.9018    …  0.0  -4.20387    0.0  -0.895342\n",
       "  0.660078     7.25682     -5.01947      0.0   1.32413    0.0  -2.10008\n",
       " -0.536643     0.018028    -3.50547      0.0   2.08433    0.0  -0.435229\n",
       "  ⋮                                   ⋱                   ⋮    \n",
       " -1.08583      2.736       16.7274    …  0.0   5.19688    0.0   0.676404\n",
       "  1.51993      6.64138      3.15331      0.0   5.90123    0.0   2.06947\n",
       " -0.673636     4.1469       4.45744      0.0   6.5202     0.0   3.61814\n",
       "  0.849576     0.0791726   -1.53914      0.0  -8.13225    0.0  -2.44381\n",
       "  0.654989    -8.14822      2.76223      0.0   8.78743    0.0  -0.120298\n",
       "  0.0234385   -0.352023     4.0963    …  0.0  -6.21205    0.0  -5.25076\n",
       "  0.727781    27.9784       9.68894      0.0   2.29081    0.0   5.98059\n",
       " -0.344675    -0.775822    -4.88035      0.0   0.0492648  0.0   0.0294924\n",
       "  0.67869      1.83534     -0.893855     0.0   7.55943    0.0   0.149871\n",
       " -0.629107    -4.93272     -1.13744      0.0   4.69335    0.0   1.44916\n",
       "  0.799133   -12.8475     -14.1006    …  0.0   8.22511    0.0   2.8349\n",
       "  0.0299401    0.63043     24.3794       0.0   7.72274    0.0   0.00032427"
      ]
     },
     "execution_count": 66,
     "metadata": {},
     "output_type": "execute_result"
    }
   ],
   "source": [
    "dw = reshape(z_e_x, (D, :)) * transpose(encodings)"
   ]
  },
  {
   "cell_type": "code",
   "execution_count": 67,
   "id": "9bb6def8-745d-4d19-ae59-3f8542c7b2ec",
   "metadata": {},
   "outputs": [
    {
     "data": {
      "text/plain": [
       "false"
      ]
     },
     "execution_count": 67,
     "metadata": {},
     "output_type": "execute_result"
    }
   ],
   "source": [
    "check(dw)"
   ]
  },
  {
   "cell_type": "code",
   "execution_count": 68,
   "id": "d643aaea-bfd6-4419-9bb4-f507b17a7c6f",
   "metadata": {},
   "outputs": [
    {
     "data": {
      "text/plain": [
       "512×512 Knet.KnetArrays.KnetMatrix{Float32}:\n",
       " -1.47407     15.8256     10.1086     …  -3.1881      0.390634   0.24742\n",
       " -0.11819     -4.62023    -0.0614944      1.08722    -5.42988   -0.575093\n",
       "  1.31979    -15.007       2.61534       -0.205996    4.6602    -0.233619\n",
       "  0.705494    25.0576      7.80568        7.33916    22.8024    -0.385443\n",
       " -2.28658     -2.33539    -2.83756       -1.13106     1.16046   -2.7644\n",
       " -0.777735    12.5495     10.4369     …  -1.55828   -20.6816    -3.76899\n",
       " -0.713945    -6.52543    -2.68049       -9.08471   -10.013     -1.22054\n",
       "  0.782982    -3.06619     0.0189295      2.17009     4.393      3.00436\n",
       " -0.165137     0.486736   -1.33807        0.733834    6.42684    2.73043\n",
       "  0.854485     6.49578     0.927457       3.06678    22.9498     0.645002\n",
       " -0.103137     5.3422      8.82978    …  -2.55801    12.6048    -0.399583\n",
       "  0.256878     7.53802    -2.191          1.59068     2.75494   -2.27956\n",
       "  0.0607766   -0.0461263  -0.803024       1.3232    -24.3765    -1.01542\n",
       "  ⋮                                   ⋱               ⋮         \n",
       " -2.0382       3.05522     9.14883    …   3.49938     5.45735    1.6018\n",
       "  2.20858      5.21368     1.72637        6.90885     8.90001    3.27971\n",
       " -0.470848     0.792549    2.33699        3.68572    -2.01105    4.9488\n",
       " -0.0193913    1.16026    -0.0365146     -5.76427     8.72394   -4.44983\n",
       " -0.30812     -8.74062     1.75838        8.45018     0.919486   0.801988\n",
       "  0.254288    -0.857558    1.42284    …  -4.34718    23.829     -6.94737\n",
       " -0.394589    31.6086      4.0865         1.22085   -18.3011     8.63803\n",
       " -0.859921     0.232754   -3.17461       -1.20787    12.2968    -0.622981\n",
       "  0.489795     4.16086     0.581359       7.84171   -17.5531     0.941457\n",
       " -0.545459    -3.99374    -0.634932       4.12197    20.6084     2.53987\n",
       "  0.687589   -15.9288     -7.57608    …   8.11638     8.27811    2.55747\n",
       "  0.146769    -1.00424    14.8558         6.63083    10.5106     0.00688927"
      ]
     },
     "execution_count": 68,
     "metadata": {},
     "output_type": "execute_result"
    }
   ],
   "source": [
    "v.ema_w = v.decay .* v.ema_w + (1 - v.decay) .* dw"
   ]
  },
  {
   "cell_type": "code",
   "execution_count": 69,
   "id": "d7817e4d-3deb-4247-b1b4-6e61dca92f75",
   "metadata": {},
   "outputs": [
    {
     "data": {
      "text/plain": [
       "false"
      ]
     },
     "execution_count": 69,
     "metadata": {},
     "output_type": "execute_result"
    }
   ],
   "source": [
    "check(v.ema_w)"
   ]
  },
  {
   "cell_type": "code",
   "execution_count": 72,
   "id": "51827152-8fb2-4552-af9b-5cfe727c21ba",
   "metadata": {},
   "outputs": [
    {
     "data": {
      "text/plain": [
       "512×512 Knet.KnetArrays.KnetMatrix{Float32}:\n",
       " -1.12652     1.27043      1.35602     …  -0.465042    0.0259499   0.0623956\n",
       " -0.0903241  -0.370898    -0.00824916      0.15859    -0.360709   -0.14503\n",
       "  1.00862    -1.20471      0.350834       -0.0300483   0.309579   -0.0589151\n",
       "  0.539157    2.01155      1.04709         1.07055     1.51477    -0.0972028\n",
       " -1.74746    -0.187478    -0.380643       -0.164986    0.0770895  -0.69714\n",
       " -0.594365    1.00744      1.40006     …  -0.227303   -1.37388    -0.950483\n",
       " -0.545615   -0.523842    -0.359573       -1.32517    -0.665167   -0.307802\n",
       "  0.598375   -0.246144     0.00253929      0.316548    0.291828    0.757654\n",
       " -0.126202    0.0390737   -0.179495        0.107043    0.426937    0.688574\n",
       "  0.65302     0.521461     0.124414        0.447346    1.52456     0.16266\n",
       " -0.0788196   0.428855     1.18447     …  -0.373132    0.837339   -0.100769\n",
       "  0.196313    0.605129    -0.293911        0.23203     0.183012   -0.57487\n",
       "  0.046447   -0.00370288  -0.107721        0.193013   -1.61934    -0.256073\n",
       "  ⋮                                    ⋱               ⋮          \n",
       " -1.55765     0.245264     1.22727     …   0.510449    0.362534    0.403949\n",
       "  1.68785     0.418539     0.231584        1.00778     0.591231    0.827093\n",
       " -0.359834    0.0636234    0.313496        0.53763    -0.133595    1.24801\n",
       " -0.0148194   0.0931419   -0.00489824     -0.840824    0.579535   -1.12218\n",
       " -0.235474   -0.701671     0.235878        1.23261     0.0610818   0.202249\n",
       "  0.194334   -0.0688422    0.190866    …  -0.634115    1.58297    -1.75202\n",
       " -0.301555    2.53745      0.548183        0.178084   -1.21575     2.17838\n",
       " -0.657174    0.0186848   -0.425857       -0.17619     0.816882   -0.157106\n",
       "  0.374314    0.334021     0.0779862       1.14386    -1.16606     0.237421\n",
       " -0.416854   -0.320605    -0.0851728       0.601265    1.36902     0.640517\n",
       "  0.525473   -1.27872     -1.01629     …   1.18392     0.549918    0.644956\n",
       "  0.112164   -0.0806175    1.99283         0.967228    0.69822     0.00173737"
      ]
     },
     "execution_count": 72,
     "metadata": {},
     "output_type": "execute_result"
    }
   ],
   "source": [
    "v.embedding = v.ema_w ./ reshape(v.ema_count, (1, :))"
   ]
  },
  {
   "cell_type": "code",
   "execution_count": 73,
   "id": "d2a6172a-6197-4b64-bdb4-5467bb33f4e5",
   "metadata": {},
   "outputs": [
    {
     "data": {
      "text/plain": [
       "false"
      ]
     },
     "execution_count": 73,
     "metadata": {},
     "output_type": "execute_result"
    }
   ],
   "source": [
    "check(v.embedding)"
   ]
  },
  {
   "cell_type": "code",
   "execution_count": 74,
   "id": "1ab72903-cd51-4e88-9c25-1384513d3a7e",
   "metadata": {},
   "outputs": [
    {
     "data": {
      "text/plain": [
       "512×8×512 KnetArray{Float32, 3}:\n",
       "[:, :, 1] =\n",
       " -0.457951    0.239132   -0.204369   …  -0.30512    -0.123156    0.44504\n",
       " -0.352019   -0.68077    -0.390198      -0.216223   -0.766081   -0.627818\n",
       " -1.20884    -1.42021    -1.08851       -0.38463    -0.333794    0.744214\n",
       "  0.999057    0.452675    0.91135        0.882649    1.06058     0.886452\n",
       "  0.197041   -0.506171   -0.444217      -0.244133   -0.741016   -0.420892\n",
       " -0.265307   -0.363584   -0.552367   …  -1.22309     0.731109    0.785565\n",
       "  0.393205   -0.38334    -0.267159      -0.0624272  -0.610513   -0.26626\n",
       "  0.390033    0.0786816   0.5734         0.872762    0.113167   -0.246663\n",
       "  0.0628653   1.26152     0.517243       0.327403   -0.41426    -0.403565\n",
       "  0.708179    0.0349848   0.392282       0.398417   -0.138435   -0.627524\n",
       "  0.670886    0.287661    0.4408     …   0.323531   -0.401626   -0.136025\n",
       "  0.451922    0.355511    0.371607       0.058394    0.297751    0.00469918\n",
       "  0.522959    0.33462     0.144795      -0.0823849   0.424721    0.339991\n",
       "  ⋮                                  ⋱   ⋮                      \n",
       " -0.828001    0.334968    0.0806413  …  -0.0649536   0.0603392   0.369911\n",
       "  0.966732    0.826934    0.861929       0.971466   -0.0308999  -0.534675\n",
       " -0.878375    0.571077    0.272637       0.681813    0.368228    0.571992\n",
       "  0.0896457  -0.99937    -0.742219      -1.04009     0.116363   -0.15033\n",
       "  0.395642   -0.336261   -0.179545      -0.0737544   0.393414   -0.159222\n",
       " -0.223174   -0.216223   -0.5355     …  -1.22083    -0.89123    -0.202692\n",
       "  1.23178     1.2232      0.875491       0.973606   -0.630156   -2.15327\n",
       "  0.077946    0.261952    0.101459       0.168597   -0.0200918  -0.394086\n",
       "  0.289194    0.361714    0.301573      -0.0778498   0.820961    0.0762966\n",
       " -1.05897    -0.377157   -0.55838       -0.300808    0.109939    0.225137\n",
       "  0.218734    0.172657    1.13653    …   1.81439     0.679925    0.804617\n",
       "  0.500571    0.0733013   0.267952      -0.1275      0.801388    1.27571\n",
       "\n",
       "[:, :, 2] =\n",
       "  1.75009    -0.0971276    1.33788    …  -1.03935     -0.213169    -0.948008\n",
       "  0.288348    0.295233    -0.224746       0.365728    -1.14935     -0.230052\n",
       " -0.28323    -1.13851      0.669528       0.192727    -1.14385     -0.462731\n",
       "  2.03039     1.94717      0.741531      -0.382688    -0.140968     1.00878\n",
       " -0.0592065   0.472162    -0.755736       0.328556     0.247115    -0.350459\n",
       "  0.888193   -0.244842     2.18249    …  -0.827594    -0.805787    -1.10669\n",
       " -0.396572   -0.463674    -0.377612       0.899845     0.179719     0.263984\n",
       " -0.094347    0.32303     -0.695525       0.645547    -0.0851747    0.902784\n",
       " -0.369675   -0.362611     0.206484      -0.578502     0.698325     0.249616\n",
       "  0.401702    0.568089    -0.280026      -0.00135044  -0.261154     0.458232\n",
       "  0.84207    -0.635637     0.843887   …  -1.33116     -0.726448    -0.162853\n",
       "  0.0731323   0.471379     0.0901459     -0.285091    -0.447592     0.559014\n",
       " -0.573982   -0.321011     0.533379       0.13455      0.372703     0.44203\n",
       "  ⋮                                   ⋱   ⋮                        \n",
       "  0.851543   -0.358391     0.878366   …  -1.2468      -0.634966    -1.20209\n",
       " -0.470861    0.00968667  -0.0669276      0.0114947    0.10102      1.25329\n",
       "  0.126198    0.109187    -0.228176      -0.665589     0.986625    -0.236655\n",
       " -0.160458   -0.338472     0.580518       0.0471661   -0.78539     -0.451865\n",
       " -0.89876    -0.190628     0.226446       1.02062     -0.467836     0.390019\n",
       "  0.20244    -1.35478      0.907277   …  -1.24043     -0.615775    -1.44181\n",
       "  1.24028     1.55963     -1.26281       -0.457207    -0.00814927   0.540098\n",
       "  0.0941864   0.406472    -0.666534      -0.020112     0.101574     0.171326\n",
       " -0.402802    0.717165     0.312234       0.257161    -0.0290584    0.283626\n",
       " -0.0622008   0.480491    -0.180853       0.945377     0.00770104  -0.469818\n",
       " -0.830001    1.22098     -1.40019    …   1.11201      0.474236     1.92423\n",
       "  0.562526   -0.649932     2.40025       -0.33444     -0.775064    -0.236618\n",
       "\n",
       "[:, :, 3] =\n",
       "  0.373255     0.760934    0.343216    …   1.96608     1.96608     1.96608\n",
       "  0.00372063  -0.121715   -0.190792       -1.01664    -1.01664    -1.01664\n",
       "  0.526298     0.812386   -0.0625505      -0.251042   -0.251042   -0.251042\n",
       "  2.12115      0.789101    1.73223        -1.29742    -1.29742    -1.29742\n",
       " -1.58602     -1.28096    -0.288259       -1.23219    -1.23219    -1.23219\n",
       "  0.817933     1.19792    -0.328162    …  -0.715616   -0.715616   -0.715616\n",
       " -1.33906     -0.547964   -0.669212       -1.88882    -1.88882    -1.88882\n",
       "  0.443496    -0.20394     0.715322       -0.319007   -0.319007   -0.319007\n",
       " -0.361638     0.260544   -0.072497        0.881888    0.881888    0.881888\n",
       "  0.497193    -0.500638    0.218603        1.17514     1.17514     1.17514\n",
       " -0.0888284    0.533909    0.490867    …   1.26747     1.26747     1.26747\n",
       "  0.509116     0.336836    0.304119        0.440082    0.440082    0.440082\n",
       " -0.297626     0.519778    0.00222959     -1.97443    -1.97443    -1.97443\n",
       "  ⋮                                    ⋱   ⋮                      \n",
       " -0.182022     1.0153      0.795307    …   0.63989     0.63989     0.63989\n",
       "  1.05547      0.0205318   0.866021        1.1985      1.1985      1.1985\n",
       " -0.0815204    0.301001    0.929541        0.582949    0.582949    0.582949\n",
       "  0.0649507    0.0502161  -1.18612         1.79569     1.79569     1.79569\n",
       " -0.936897    -0.0825908  -0.151442       -0.165992   -0.165992   -0.165992\n",
       "  0.035458    -0.17035    -0.675207    …   2.0552      2.0552      2.0552\n",
       "  1.02359     -1.47121     0.552635        0.165224    0.165224    0.165224\n",
       " -0.312573    -0.501586   -0.214461       -0.0805262  -0.0805262  -0.0805262\n",
       "  0.661229     0.351424    0.10956         0.0466881   0.0466881   0.0466881\n",
       " -0.154396    -0.0274995  -0.278868        1.1151      1.1151      1.1151\n",
       " -0.74665      0.648376    1.41884     …   0.902111    0.902111    0.902111\n",
       "  0.247378     1.84905     0.961847        0.890167    0.890167    0.890167\n",
       "\n",
       ";;; … \n",
       "\n",
       "[:, :, 510] =\n",
       " -0.552851     0.213807    0.000942537  …   0.789346    0.746516    0.200821\n",
       " -0.350927    -0.1004     -0.278926        -0.0541435  -0.0942621  -0.936577\n",
       " -0.802238    -1.05215    -0.15683         -0.99349    -1.68872    -1.71705\n",
       "  0.911456     0.101601   -0.65082          2.08166     0.533798    0.69976\n",
       "  0.802298    -1.13933    -0.971257        -0.617927   -0.998115    0.687511\n",
       " -0.388869     0.198998   -0.35058      …   0.183018    1.03874     0.384341\n",
       " -0.790488    -0.400918   -0.101551        -0.667319   -0.0216091   0.312808\n",
       " -0.229531     0.088883    0.063857         0.497199   -0.333641   -0.344425\n",
       " -0.216544     0.745419    1.13416          0.148571    0.621933   -0.0793787\n",
       "  0.305961     0.109715   -0.365596         0.209613    0.338968    0.278901\n",
       " -0.688116     0.242796    0.0511703    …  -0.303779    0.837712    0.245026\n",
       " -0.00766042   0.403518   -0.31012          0.877563    0.602611   -0.0899086\n",
       "  0.0657235    0.135017    0.364104        -0.0395044   0.179449    0.299426\n",
       "  ⋮                                     ⋱   ⋮                      \n",
       " -0.436843     0.406392    0.360458     …   0.47282     0.366061   -0.649995\n",
       "  0.116779     0.138757    0.601206         0.477705   -0.468568   -0.235169\n",
       "  0.536516     0.116994    1.00086          0.545693   -0.852681   -0.296513\n",
       " -0.310932     0.239561   -0.4368          -0.709813    1.0998      0.213328\n",
       "  0.511315     0.222506    0.160712        -0.648627   -0.0907314  -0.209322\n",
       " -0.21997     -0.887916   -1.02655      …  -1.52514    -0.333517    0.479361\n",
       "  0.0114479    0.769069    0.695633         1.85882     1.43636     0.503816\n",
       "  0.208961     0.55147    -0.126125         0.161563    0.695842    0.27024\n",
       "  0.770863     0.684862    0.42373          0.606061    0.469651   -0.014567\n",
       "  0.585987    -0.18484     0.0956345       -0.0818978  -0.759017   -0.594977\n",
       "  0.909588     0.41781     0.263581     …   0.638631   -0.729521   -0.685291\n",
       " -0.415882     0.0625229   0.16286         -0.0671417   0.0218109  -0.0619335\n",
       "\n",
       "[:, :, 511] =\n",
       "  0.457246    -0.171919   -0.414265     0.263334  …  -0.562764    -0.208086\n",
       " -0.00484925  -0.175948    0.756811     1.18659       0.042946     0.248543\n",
       "  0.42119      0.380548   -0.00516775   0.864123      0.638394     0.333314\n",
       " -1.07804     -0.0530589   0.115566     0.184332     -0.897779     0.158886\n",
       "  0.211054     0.693998   -0.0015486    0.241119      0.154417    -0.133142\n",
       "  0.182042    -0.558987   -1.04753     -1.09128   …  -0.320322    -0.544563\n",
       "  0.33469      0.37748     0.0804633    0.179152      0.475768    -0.112128\n",
       " -0.392894    -0.758669    1.08499      0.900462     -0.239158    -0.390135\n",
       "  0.430246    -0.0181931  -0.0186287   -0.30036      -0.0400641    0.467932\n",
       " -0.663609    -0.459315    0.664195     0.403696     -0.613522     0.00642704\n",
       "  0.278308    -0.499658   -0.302371     0.31455   …  -1.01718      0.132158\n",
       " -0.756077    -0.520403   -0.431115    -0.669575     -0.551962    -0.174711\n",
       " -0.257528     0.0174248  -0.612905    -0.972015      0.394486     0.00830187\n",
       "  ⋮                                               ⋱               \n",
       "  0.215001    -0.55732    -0.0157293    0.763561  …  -0.423472     0.0554918\n",
       " -0.445325    -0.884897    0.704671     0.114582     -0.776341    -0.0626528\n",
       "  0.284776     0.167313    0.203354     0.311142     -0.296918    -0.0889292\n",
       " -0.305476    -0.27744    -0.604913    -0.882818      0.119969    -0.539491\n",
       " -0.917821    -0.537078    0.735531     0.424546      0.503267    -0.112737\n",
       "  0.622256     0.503624   -1.60388     -1.08865   …  -0.0709159    0.188161\n",
       " -1.05784     -2.5674      1.85919      0.921726     -2.29748     -1.95392\n",
       " -0.368167    -0.222962    0.135897     0.247438     -0.164561    -0.080041\n",
       " -0.822905    -0.42389     0.296073    -0.454725     -0.00808983  -0.054819\n",
       "  0.326359     0.668232    0.74752      0.875613      1.02423      0.393769\n",
       " -0.402993     1.36821     1.28364      1.40029   …   0.896653     1.72287\n",
       "  0.218833    -0.0754939   0.0143902    0.378574      0.32968      0.616701\n",
       "\n",
       "[:, :, 512] =\n",
       " -0.0971276    0.239132   -0.0911332  …  -0.26047     0.760934    0.311972\n",
       "  0.295233    -0.68077    -1.00506       -0.859921   -0.121715   -0.772186\n",
       " -1.13851     -1.42021    -0.541071      -1.30129     0.812386   -1.34203\n",
       "  1.94717      0.452675    0.93358        0.130312    0.789101   -0.0887643\n",
       "  0.472162    -0.506171   -0.115504      -0.295914   -1.28096     0.178664\n",
       " -0.244842    -0.363584   -0.0219171  …   1.2474      1.19792     0.802766\n",
       " -0.463674    -0.38334    -0.727764       0.288133   -0.547964    0.403922\n",
       "  0.32303      0.0786816   0.107791      -0.638433   -0.20394    -0.310588\n",
       " -0.362611     1.26152    -0.149146       0.0779172   0.260544    0.176127\n",
       "  0.568089     0.0349848  -0.104549       0.0658542  -0.500638    0.0265422\n",
       " -0.635637     0.287661   -0.63476    …   0.0808746   0.533909    0.226909\n",
       "  0.471379     0.355511    0.0833679      0.329348    0.336836   -0.382082\n",
       " -0.321011     0.33462     0.348692       1.01785     0.519778    0.269216\n",
       "  ⋮                                   ⋱   ⋮                      \n",
       " -0.358391     0.334968   -0.131351   …  -0.82265     1.0153     -0.225499\n",
       "  0.00968667   0.826934    0.328132      -0.396936    0.0205318  -0.498758\n",
       "  0.109187     0.571077    1.02743       -1.51064     0.301001   -0.35469\n",
       " -0.338472    -0.99937    -0.696393       1.11683     0.0502161   0.704526\n",
       " -0.190628    -0.336261    0.250243       0.493816   -0.0825908   0.213991\n",
       " -1.35478     -0.216223   -0.756913   …   0.58841    -0.17035     0.211472\n",
       "  1.55963      1.2232     -0.348992      -0.977355   -1.47121     0.378084\n",
       "  0.406472     0.261952    0.0448358      0.0725207  -0.501586    0.27377\n",
       "  0.717165     0.361714    0.682884       0.619987    0.351424    0.139879\n",
       "  0.480491    -0.377157    0.183588      -0.50107    -0.0274995  -0.19389\n",
       "  1.22098      0.172657    0.717301   …  -0.946899    0.648376   -1.30579\n",
       " -0.649932     0.0733013   0.207686       0.967537    1.84905     0.400986"
      ]
     },
     "execution_count": 74,
     "metadata": {},
     "output_type": "execute_result"
    }
   ],
   "source": [
    "z_q_x_bar_flatten = v.embedding[:, indices]\n",
    "z_q_x_bar = reshape(z_q_x_bar_flatten, size(z_e_x))"
   ]
  },
  {
   "cell_type": "code",
   "execution_count": null,
   "id": "88abe62b-df9a-4cb0-8bbd-088751f64a8a",
   "metadata": {},
   "outputs": [],
   "source": []
  }
 ],
 "metadata": {
  "kernelspec": {
   "display_name": "Julia 1.8.2",
   "language": "julia",
   "name": "julia-1.8"
  },
  "language_info": {
   "file_extension": ".jl",
   "mimetype": "application/julia",
   "name": "julia",
   "version": "1.8.3"
  }
 },
 "nbformat": 4,
 "nbformat_minor": 5
}
