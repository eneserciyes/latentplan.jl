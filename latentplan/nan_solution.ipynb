{
 "cells": [
  {
   "cell_type": "code",
   "execution_count": 1,
   "id": "615b7f33-09de-4434-ac98-5ab4b4bcf077",
   "metadata": {},
   "outputs": [
    {
     "name": "stderr",
     "output_type": "stream",
     "text": [
      "\u001b[32m\u001b[1m  Activating\u001b[22m\u001b[39m project at `~/Projects/latentplan.jl`\n"
     ]
    }
   ],
   "source": [
    "import Pkg\n",
    "Pkg.activate(\"..\")"
   ]
  },
  {
   "cell_type": "code",
   "execution_count": 2,
   "id": "ccd4e52f-fdcd-42e1-9698-37a6c2e825f4",
   "metadata": {},
   "outputs": [
    {
     "data": {
      "text/plain": [
       "Array{Float32}"
      ]
     },
     "execution_count": 2,
     "metadata": {},
     "output_type": "execute_result"
    }
   ],
   "source": [
    "using Test\n",
    "using PyCall\n",
    "using Knet\n",
    "using Debugger: @enter, @bp, @run\n",
    "using CUDA\n",
    "\n",
    "if CUDA.functional()\n",
    "\tatype=KnetArray{Float32}\n",
    "else\t\n",
    "\tatype=Array{Float32}\n",
    "end\n",
    "cputype=Array{Float32}"
   ]
  },
  {
   "cell_type": "code",
   "execution_count": 3,
   "id": "bc1e77f6-f5fe-44c0-9df2-6dd0da0804f7",
   "metadata": {},
   "outputs": [
    {
     "data": {
      "text/plain": [
       "check (generic function with 1 method)"
      ]
     },
     "execution_count": 3,
     "metadata": {},
     "output_type": "execute_result"
    }
   ],
   "source": [
    "check(v) = any(isnan.(cputype(v))) || any(isinf.(cputype(v)))"
   ]
  },
  {
   "cell_type": "code",
   "execution_count": 4,
   "id": "d3f1eb0b-44d9-4a9e-b9ac-b031fd2980c1",
   "metadata": {},
   "outputs": [
    {
     "name": "stderr",
     "output_type": "stream",
     "text": [
      "Warning: Flow failed to import. Set the environment variable D4RL_SUPPRESS_IMPORT_ERROR=1 to suppress this message.\n",
      "No module named 'flow'\n",
      "/home/mehmeteneserciyes/.julia/conda/3/lib/python3.10/site-packages/glfw/__init__.py:912: GLFWError: (65544) b'X11: The DISPLAY environment variable is missing'\n",
      "  warnings.warn(message, GLFWError)\n",
      "Warning: CARLA failed to import. Set the environment variable D4RL_SUPPRESS_IMPORT_ERROR=1 to suppress this message.\n",
      "No module named 'carla'\n",
      "pybullet build time: Dec 17 2022 18:25:17\n"
     ]
    },
    {
     "data": {
      "text/plain": [
       "read_config (generic function with 1 method)"
      ]
     },
     "execution_count": 4,
     "metadata": {},
     "output_type": "execute_result"
    }
   ],
   "source": [
    "include(\"datasets/sequence.jl\")\n",
    "include(\"models/common.jl\")\n",
    "include(\"models/transformers.jl\")\n",
    "include(\"models/vqvae.jl\")\n",
    "include(\"setup.jl\")"
   ]
  },
  {
   "cell_type": "code",
   "execution_count": 5,
   "id": "8d3d8d23-6d5a-41eb-bd9a-c7e6c31e9c5c",
   "metadata": {},
   "outputs": [
    {
     "data": {
      "text/plain": [
       "losssum (generic function with 1 method)"
      ]
     },
     "execution_count": 5,
     "metadata": {},
     "output_type": "execute_result"
    }
   ],
   "source": [
    "losssum(prediction) = mean(prediction[2] + prediction[3] + prediction[4])"
   ]
  },
  {
   "cell_type": "code",
   "execution_count": 6,
   "id": "5ffb81b8-819e-47c7-92be-2330b25596a2",
   "metadata": {},
   "outputs": [
    {
     "data": {
      "text/plain": [
       "zerograd_embedding (generic function with 1 method)"
      ]
     },
     "execution_count": 6,
     "metadata": {},
     "output_type": "execute_result"
    }
   ],
   "source": [
    "function zerograd_embedding(model::VQContinuousVAE)\n",
    "    model.model.codebook.embedding = value(model.model.codebook.embedding)\n",
    "    model.model.codebook.ema_count = value(model.model.codebook.ema_count)\n",
    "    model.model.codebook.ema_w = value(model.model.codebook.ema_w)\n",
    "end"
   ]
  },
  {
   "cell_type": "code",
   "execution_count": 7,
   "id": "c826d4d1-ca5c-482d-a90a-cb81ca6dffa5",
   "metadata": {},
   "outputs": [],
   "source": [
    "model = Knet.load(\"/home/mehmeteneserciyes/logs_julia/hopper-medium-replay-v2/T-1-42/nan_model_3.jld2\", \"prev_model\");"
   ]
  },
  {
   "cell_type": "markdown",
   "id": "99752142-2c7f-4029-99d5-cac29432aae9",
   "metadata": {
    "tags": []
   },
   "source": [
    "# Batch and nanification"
   ]
  },
  {
   "cell_type": "code",
   "execution_count": 8,
   "id": "a45c9d17-127a-42e3-be25-1ecb4b43423b",
   "metadata": {},
   "outputs": [
    {
     "data": {
      "text/plain": [
       "Dict{String, Any} with 6 entries:\n",
       "  \"betas\"          => (0.9, 0.95)\n",
       "  \"batch_size\"     => 512\n",
       "  \"learning_rate\"  => 0.0002\n",
       "  \"grad_norm_clip\" => 1.0\n",
       "  \"lr_decay\"       => false\n",
       "  \"weight_decay\"   => 0.1"
      ]
     },
     "execution_count": 8,
     "metadata": {},
     "output_type": "execute_result"
    }
   ],
   "source": [
    "trainer_config = Dict(\n",
    "    \"batch_size\" => 512,\n",
    "    \"learning_rate\" => 0.0002,\n",
    "    \"betas\" => (0.9, 0.95),\n",
    "    \"weight_decay\" => 0.1,\n",
    "    \"grad_norm_clip\" => 1.0,\n",
    "    \"lr_decay\" => false,\n",
    ")"
   ]
  },
  {
   "cell_type": "code",
   "execution_count": 9,
   "id": "8553d808-fb23-4881-bdd2-106ef619b8e0",
   "metadata": {},
   "outputs": [],
   "source": [
    "opt_decay = AdamW(lr=trainer_config[\"learning_rate\"], beta1=trainer_config[\"betas\"][1], beta2=trainer_config[\"betas\"][2], gclip=trainer_config[\"grad_norm_clip\"])\n",
    "opt_no_decay = AdamW(lr=trainer_config[\"learning_rate\"], beta1=trainer_config[\"betas\"][1], beta2=trainer_config[\"betas\"][2], gclip=trainer_config[\"grad_norm_clip\"])\n",
    "\n",
    "for p in paramlist_decay(model)\n",
    "    p.opt = clone(opt_decay)\n",
    "end\n",
    "for p in paramlist_no_decay(model)\n",
    "    p.opt = clone(opt_no_decay)\n",
    "end"
   ]
  },
  {
   "cell_type": "markdown",
   "id": "3f11d4c0-162a-4fa5-99d2-e203eb589eba",
   "metadata": {},
   "source": [
    "# batch"
   ]
  },
  {
   "cell_type": "code",
   "execution_count": 8,
   "id": "3a836141-fa04-4a39-ae45-3bdaff88a32a",
   "metadata": {},
   "outputs": [],
   "source": [
    "batch = Knet.load(\"/home/mehmeteneserciyes/logs_julia/hopper-medium-replay-v2/T-1-42/nan_model_3.jld2\", \"prev_batch\");"
   ]
  },
  {
   "cell_type": "code",
   "execution_count": 9,
   "id": "8434455c-0dce-4912-9105-a42432ad43c8",
   "metadata": {},
   "outputs": [],
   "source": [
    "joined_inputs, targets, mask, terminals = atype(batch[1]), atype(batch[2]), atype(batch[3]), atype(batch[4]);"
   ]
  },
  {
   "cell_type": "code",
   "execution_count": 10,
   "id": "a6203e41-fe0b-4157-996c-2d303990ff28",
   "metadata": {},
   "outputs": [
    {
     "data": {
      "text/plain": [
       "T(0.48638025)"
      ]
     },
     "execution_count": 10,
     "metadata": {},
     "output_type": "execute_result"
    }
   ],
   "source": [
    "loss = @diff losssum(model(joined_inputs, targets, mask, terminals))"
   ]
  },
  {
   "cell_type": "code",
   "execution_count": 16,
   "id": "7d16525d-0f7f-49cf-83fb-04c396d9803a",
   "metadata": {},
   "outputs": [],
   "source": [
    "for p in paramlist(model)\n",
    "    update!(p, grad(loss, p))\n",
    "end"
   ]
  },
  {
   "cell_type": "markdown",
   "id": "acc39930-4fa0-4695-8ff5-f37be5eb08bb",
   "metadata": {},
   "source": [
    "-0.000287451   -0.00141486    -0.00448274  …   -0.000528297   -7.38718f-5\n",
    "   0.00109328    -0.00240121    -0.0140845       -0.00250097    -0.000146906\n",
    "   0.000593902    0.000239694    0.00147629       0.000642225   -0.000190077\n",
    "  -0.000477957   -0.00100225    -0.00400919      -0.000567076   -0.000132916\n",
    "   8.31211f-5    -0.00241098    -0.0124349       -0.00294992    -0.000548493\n",
    "  -0.000273197    0.000467646    0.0028253   …    0.00043963    -0.000256153\n",
    "   0.000126335 "
   ]
  },
  {
   "cell_type": "code",
   "execution_count": 11,
   "id": "549b5803-066d-427b-8d38-e7d036299f69",
   "metadata": {},
   "outputs": [
    {
     "data": {
      "text/plain": [
       "17×512 Knet.KnetArrays.KnetMatrix{Float32}:\n",
       " -0.000287451  -0.00141486   -0.00448274   …  -0.000528297  -7.38718f-5\n",
       "  0.00109328   -0.00240121   -0.0140845       -0.00250097   -0.000146906\n",
       "  0.000593902   0.000239694   0.00147629       0.000642225  -0.000190077\n",
       " -0.000477957  -0.00100225   -0.00400919      -0.000567076  -0.000132916\n",
       "  8.31211f-5   -0.00241098   -0.0124349       -0.00294992   -0.000548493\n",
       " -0.000273197   0.000467646   0.0028253    …   0.00043963   -0.000256153\n",
       "  0.000126335  -0.00122064   -0.00625383      -0.000363271   0.000123527\n",
       "  9.15883f-5    0.000568493  -0.00690085       0.000216035   0.00103184\n",
       "  0.000821024   0.00183303    0.00335294       0.00105737    0.000756728\n",
       "  2.69856f-5    0.001194      0.00487685       0.00136439    0.000368385\n",
       "  0.000819271   0.00285926    0.0105155    …   0.00318067    0.000397132\n",
       "  0.000780148   0.0238746     0.096714         0.016012     -0.00271618\n",
       " -0.00267367    0.00777439    0.0239344        0.00506062    0.00494828\n",
       " -0.00345016   -0.0136       -0.0587816       -0.00987144    9.08396f-5\n",
       " -0.00122504   -0.00620284   -0.0247852       -0.00511375   -0.00193425\n",
       " -0.000999778   0.00379538    0.0200444    …   0.00193006   -0.00122489\n",
       " -0.00057072   -2.15059f-5   -0.000799623      0.000101564  -0.000487204"
      ]
     },
     "execution_count": 11,
     "metadata": {},
     "output_type": "execute_result"
    }
   ],
   "source": [
    "grad(loss, model.model.predict.w)"
   ]
  },
  {
   "cell_type": "code",
   "execution_count": 20,
   "id": "17f4f768-2117-4e0a-9ff2-b196ddd5c184",
   "metadata": {},
   "outputs": [],
   "source": [
    "Knet.save(\"/home/mehmeteneserciyes/logs_julia/hopper-medium-replay-v2/T-1-42/nan_model_updated.jld2\", \"model\", model)"
   ]
  },
  {
   "cell_type": "markdown",
   "id": "baf841d2-b45f-443c-9c5f-49cd706d2205",
   "metadata": {},
   "source": [
    "# gradient check"
   ]
  },
  {
   "cell_type": "code",
   "execution_count": 12,
   "id": "3c96abf2-6b8a-4a53-bb38-6c139008a06e",
   "metadata": {},
   "outputs": [
    {
     "data": {
      "text/plain": [
       "(R(KnetArray{Float32, 3}(1,24,512)), K32(1,24,512)[0.0⋯])"
      ]
     },
     "execution_count": 12,
     "metadata": {},
     "output_type": "execute_result"
    }
   ],
   "source": [
    "probs, labels = Knet.load(\"/home/mehmeteneserciyes/logs_julia/hopper-medium-replay-v2/T-1-42/bce_inputs.jld2\", \"pred_terminals\", \"terminals\")"
   ]
  },
  {
   "cell_type": "code",
   "execution_count": 21,
   "id": "47348eb0-e3e1-44a7-9f22-179b1166639a",
   "metadata": {},
   "outputs": [
    {
     "data": {
      "text/plain": [
       "P(KnetArray{Float32, 3}(1,24,512))"
      ]
     },
     "execution_count": 21,
     "metadata": {},
     "output_type": "execute_result"
    }
   ],
   "source": [
    "prob_param = Param(value(probs))"
   ]
  },
  {
   "cell_type": "code",
   "execution_count": 60,
   "id": "8164caee-bbf9-4dca-aedd-c2d4f2aadb06",
   "metadata": {},
   "outputs": [
    {
     "data": {
      "text/plain": [
       "P(KnetArray{Float32, 3}(1,24,512))"
      ]
     },
     "execution_count": 60,
     "metadata": {},
     "output_type": "execute_result"
    }
   ],
   "source": [
    "logits = Param((log.(prob_param ./ (1 .- prob_param .+ 1e-8))))"
   ]
  },
  {
   "cell_type": "code",
   "execution_count": null,
   "id": "50995bf8-dbb8-4b9f-b5a3-b07459a0fda2",
   "metadata": {},
   "outputs": [
    {
     "data": {
      "text/plain": [
       "0.0026641327f0"
      ]
     },
     "execution_count": 49,
     "metadata": {},
     "output_type": "execute_result"
    }
   ],
   "source": [
    "binary_cross_entropy(prob_param, labels)"
   ]
  },
  {
   "cell_type": "code",
   "execution_count": 66,
   "id": "4492345a-e836-4bf2-918e-6865d2adb4cc",
   "metadata": {},
   "outputs": [
    {
     "data": {
      "text/plain": [
       "12288-element Vector{Int32}:\n",
       " 0\n",
       " 0\n",
       " 0\n",
       " 0\n",
       " 0\n",
       " 0\n",
       " 0\n",
       " 0\n",
       " 0\n",
       " 0\n",
       " 0\n",
       " 0\n",
       " 0\n",
       " ⋮\n",
       " 0\n",
       " 0\n",
       " 0\n",
       " 0\n",
       " 0\n",
       " 0\n",
       " 0\n",
       " 0\n",
       " 0\n",
       " 0\n",
       " 1\n",
       " 1"
      ]
     },
     "execution_count": 66,
     "metadata": {},
     "output_type": "execute_result"
    }
   ],
   "source": [
    "labels_cpu = Array{Int32}(reshape(labels, :))"
   ]
  },
  {
   "cell_type": "code",
   "execution_count": 67,
   "id": "22b7fca0-9fa6-43bc-95ad-d287cddcbb44",
   "metadata": {},
   "outputs": [
    {
     "data": {
      "text/plain": [
       "0.002664252f0"
      ]
     },
     "execution_count": 67,
     "metadata": {},
     "output_type": "execute_result"
    }
   ],
   "source": [
    "bce(reshape(logits, :), labels_cpu)"
   ]
  },
  {
   "cell_type": "code",
   "execution_count": 26,
   "id": "b3b2860f-6f63-4b2f-bf85-700c4bae8332",
   "metadata": {},
   "outputs": [
    {
     "data": {
      "text/plain": [
       "1.0f0"
      ]
     },
     "execution_count": 26,
     "metadata": {},
     "output_type": "execute_result"
    }
   ],
   "source": [
    "loprob_param[1,7,114]"
   ]
  },
  {
   "cell_type": "code",
   "execution_count": 29,
   "id": "87b6af81-8e1c-4ccc-8530-48f5b7b55df5",
   "metadata": {},
   "outputs": [
    {
     "data": {
      "text/plain": [
       "0.0f0"
      ]
     },
     "execution_count": 29,
     "metadata": {},
     "output_type": "execute_result"
    }
   ],
   "source": [
    "log_pos = clip(log.(prob_param), -100.0f0, Float32(Inf))[1,7,114]"
   ]
  },
  {
   "cell_type": "code",
   "execution_count": 31,
   "id": "aefb0657-6312-451c-a862-c7acf29c4cb9",
   "metadata": {},
   "outputs": [
    {
     "data": {
      "text/plain": [
       "-100.0f0"
      ]
     },
     "execution_count": 31,
     "metadata": {},
     "output_type": "execute_result"
    }
   ],
   "source": [
    "log_neg = clip(log.(1 .- prob_param), -100.0f0, Float32(Inf))[1,7,114]"
   ]
  },
  {
   "cell_type": "code",
   "execution_count": 61,
   "id": "d2a09cf2-9baf-4e91-badc-7aff89762691",
   "metadata": {},
   "outputs": [
    {
     "data": {
      "text/plain": [
       "T(0.0026641327)"
      ]
     },
     "execution_count": 61,
     "metadata": {},
     "output_type": "execute_result"
    }
   ],
   "source": [
    "cross_entropy_loss = @diff binary_cross_entropy(prob_param, labels)"
   ]
  },
  {
   "cell_type": "code",
   "execution_count": 62,
   "id": "08a5aa6f-c2b3-4aa8-92b5-a0437a6223c7",
   "metadata": {},
   "outputs": [
    {
     "data": {
      "text/plain": [
       "1-element Vector{CartesianIndex{3}}:\n",
       " CartesianIndex(1, 7, 114)"
      ]
     },
     "execution_count": 62,
     "metadata": {},
     "output_type": "execute_result"
    }
   ],
   "source": [
    "findall(x->isnan(x), cputype(grad(cross_entropy_loss, prob_param)))"
   ]
  },
  {
   "cell_type": "code",
   "execution_count": 68,
   "id": "099bd7f6-22ae-4ff9-9a7a-a06f26b4076a",
   "metadata": {},
   "outputs": [
    {
     "data": {
      "text/plain": [
       "T(0.002664252)"
      ]
     },
     "execution_count": 68,
     "metadata": {},
     "output_type": "execute_result"
    }
   ],
   "source": [
    "bce_loss = @diff bce(reshape(logits, :), labels_cpu)"
   ]
  },
  {
   "cell_type": "markdown",
   "id": "489fee50-02c2-4705-afcb-fecafdd74004",
   "metadata": {
    "jp-MarkdownHeadingCollapsed": true,
    "tags": []
   },
   "source": [
    "# step through third"
   ]
  },
  {
   "cell_type": "code",
   "execution_count": 42,
   "id": "7df44260-80a2-4f18-8bcc-a204c87ac3b5",
   "metadata": {},
   "outputs": [],
   "source": [
    "new_batch = Knet.load(\"/home/mehmeteneserciyes/logs_julia/hopper-medium-replay-v2/T-1-42/nan_model_3.jld2\", \"batch\");\n",
    "joined_inputs, targets, mask, terminals = atype(new_batch[1]), atype(new_batch[2]), atype(new_batch[3]), atype(new_batch[4]);"
   ]
  },
  {
   "cell_type": "code",
   "execution_count": 43,
   "id": "5ad863a3-deab-4969-880b-83693679ce91",
   "metadata": {},
   "outputs": [],
   "source": [
    "model = Knet.load(\"/home/mehmeteneserciyes/logs_julia/hopper-medium-replay-v2/T-1-42/nan_model_updated.jld2\", \"model\");"
   ]
  },
  {
   "cell_type": "code",
   "execution_count": 44,
   "id": "ee7b2a83-e3f8-47c3-bcdd-a930bb0efc66",
   "metadata": {},
   "outputs": [],
   "source": [
    "v = model;"
   ]
  },
  {
   "cell_type": "code",
   "execution_count": 45,
   "id": "db9c273c-8408-45ba-89da-4295128e8abe",
   "metadata": {},
   "outputs": [
    {
     "data": {
      "text/plain": [
       "11×512 Knet.KnetArrays.KnetMatrix{Float32}:\n",
       "  1.669      0.120672    1.95312    …   0.0218356   0.520214  -0.384414\n",
       " -1.70727    0.641554   -1.43685       -1.10089     1.42574    1.08159\n",
       " -0.637838   1.28378    -0.175449       0.349101    0.27128    0.52238\n",
       "  0.550012   0.494199    0.494093       0.463235    0.684658   0.291366\n",
       " -1.45945   -0.17242     1.3172         0.962533    1.34699    0.405659\n",
       "  0.983976  -1.3038      0.617697   …  -0.415012   -0.682918  -0.846424\n",
       "  1.07545    0.171964   -0.335095      -0.0970336  -0.62242    0.0143702\n",
       " -0.839263   0.0313428  -0.588259      -0.929411   -2.49222   -0.455876\n",
       " -0.395215   0.35426     0.260614      -0.965969   -1.88022   -0.163415\n",
       "  0.704481   0.0849387   0.0846567      0.146934   -0.275631  -0.226125\n",
       "  0.445358   0.0386078  -0.20211    …   0.164299   -0.215335   0.289442"
      ]
     },
     "execution_count": 45,
     "metadata": {},
     "output_type": "execute_result"
    }
   ],
   "source": [
    "joined_dimension, t, b = size(joined_inputs)\n",
    "padded = repeat_broadcast(v.padding_vector, 1, t, b)\n",
    "\n",
    "if !(terminals === nothing)\n",
    "    terminal_mask = repeat_broadcast(deepcopy(1 .- terminals), size(joined_inputs, 1), 1, 1)\n",
    "    joined_inputs = joined_inputs .* terminal_mask .+ padded .* (1 .- terminal_mask)\n",
    "end\n",
    "state = joined_inputs[1:v.observation_dim, 1, :]"
   ]
  },
  {
   "cell_type": "code",
   "execution_count": 46,
   "id": "f2d2b165-45cf-4ddf-bb13-97ec2d90c8d8",
   "metadata": {},
   "outputs": [],
   "source": [
    "joined_inputs = cat(joined_inputs, terminals, dims=1);\n",
    "state = state;"
   ]
  },
  {
   "cell_type": "code",
   "execution_count": 54,
   "id": "3bc3b15f-eca5-4269-8fe9-7462cb495e82",
   "metadata": {},
   "outputs": [
    {
     "data": {
      "text/plain": [
       "512×17 Knet.KnetArrays.KnetMatrix{Float32}:\n",
       " NaN  NaN  NaN  NaN  NaN  NaN  NaN  NaN  …  NaN  NaN  NaN  NaN  NaN  NaN  NaN\n",
       " NaN  NaN  NaN  NaN  NaN  NaN  NaN  NaN     NaN  NaN  NaN  NaN  NaN  NaN  NaN\n",
       " NaN  NaN  NaN  NaN  NaN  NaN  NaN  NaN     NaN  NaN  NaN  NaN  NaN  NaN  NaN\n",
       " NaN  NaN  NaN  NaN  NaN  NaN  NaN  NaN     NaN  NaN  NaN  NaN  NaN  NaN  NaN\n",
       " NaN  NaN  NaN  NaN  NaN  NaN  NaN  NaN     NaN  NaN  NaN  NaN  NaN  NaN  NaN\n",
       " NaN  NaN  NaN  NaN  NaN  NaN  NaN  NaN  …  NaN  NaN  NaN  NaN  NaN  NaN  NaN\n",
       " NaN  NaN  NaN  NaN  NaN  NaN  NaN  NaN     NaN  NaN  NaN  NaN  NaN  NaN  NaN\n",
       " NaN  NaN  NaN  NaN  NaN  NaN  NaN  NaN     NaN  NaN  NaN  NaN  NaN  NaN  NaN\n",
       " NaN  NaN  NaN  NaN  NaN  NaN  NaN  NaN     NaN  NaN  NaN  NaN  NaN  NaN  NaN\n",
       " NaN  NaN  NaN  NaN  NaN  NaN  NaN  NaN     NaN  NaN  NaN  NaN  NaN  NaN  NaN\n",
       " NaN  NaN  NaN  NaN  NaN  NaN  NaN  NaN  …  NaN  NaN  NaN  NaN  NaN  NaN  NaN\n",
       " NaN  NaN  NaN  NaN  NaN  NaN  NaN  NaN     NaN  NaN  NaN  NaN  NaN  NaN  NaN\n",
       " NaN  NaN  NaN  NaN  NaN  NaN  NaN  NaN     NaN  NaN  NaN  NaN  NaN  NaN  NaN\n",
       "   ⋮                        ⋮            ⋱    ⋮                        ⋮  \n",
       " NaN  NaN  NaN  NaN  NaN  NaN  NaN  NaN  …  NaN  NaN  NaN  NaN  NaN  NaN  NaN\n",
       " NaN  NaN  NaN  NaN  NaN  NaN  NaN  NaN     NaN  NaN  NaN  NaN  NaN  NaN  NaN\n",
       " NaN  NaN  NaN  NaN  NaN  NaN  NaN  NaN     NaN  NaN  NaN  NaN  NaN  NaN  NaN\n",
       " NaN  NaN  NaN  NaN  NaN  NaN  NaN  NaN     NaN  NaN  NaN  NaN  NaN  NaN  NaN\n",
       " NaN  NaN  NaN  NaN  NaN  NaN  NaN  NaN     NaN  NaN  NaN  NaN  NaN  NaN  NaN\n",
       " NaN  NaN  NaN  NaN  NaN  NaN  NaN  NaN  …  NaN  NaN  NaN  NaN  NaN  NaN  NaN\n",
       " NaN  NaN  NaN  NaN  NaN  NaN  NaN  NaN     NaN  NaN  NaN  NaN  NaN  NaN  NaN\n",
       " NaN  NaN  NaN  NaN  NaN  NaN  NaN  NaN     NaN  NaN  NaN  NaN  NaN  NaN  NaN\n",
       " NaN  NaN  NaN  NaN  NaN  NaN  NaN  NaN     NaN  NaN  NaN  NaN  NaN  NaN  NaN\n",
       " NaN  NaN  NaN  NaN  NaN  NaN  NaN  NaN     NaN  NaN  NaN  NaN  NaN  NaN  NaN\n",
       " NaN  NaN  NaN  NaN  NaN  NaN  NaN  NaN  …  NaN  NaN  NaN  NaN  NaN  NaN  NaN\n",
       " NaN  NaN  NaN  NaN  NaN  NaN  NaN  NaN     NaN  NaN  NaN  NaN  NaN  NaN  NaN"
      ]
     },
     "execution_count": 54,
     "metadata": {},
     "output_type": "execute_result"
    }
   ],
   "source": [
    "value(v.embed.w)"
   ]
  },
  {
   "cell_type": "code",
   "execution_count": 47,
   "id": "4b766cd5-dbe7-4adc-ad06-a22eed8abacd",
   "metadata": {},
   "outputs": [],
   "source": [
    "v = model.model;"
   ]
  },
  {
   "cell_type": "code",
   "execution_count": 50,
   "id": "b0c32a39-acfa-497e-897a-d1d1d255e078",
   "metadata": {},
   "outputs": [
    {
     "data": {
      "text/plain": [
       "512×24×512 KnetArray{Float32, 3}:\n",
       "[:, :, 1] =\n",
       " NaN  NaN  NaN  NaN  NaN  NaN  NaN  NaN  …  NaN  NaN  NaN  NaN  NaN  NaN  NaN\n",
       " NaN  NaN  NaN  NaN  NaN  NaN  NaN  NaN     NaN  NaN  NaN  NaN  NaN  NaN  NaN\n",
       " NaN  NaN  NaN  NaN  NaN  NaN  NaN  NaN     NaN  NaN  NaN  NaN  NaN  NaN  NaN\n",
       " NaN  NaN  NaN  NaN  NaN  NaN  NaN  NaN     NaN  NaN  NaN  NaN  NaN  NaN  NaN\n",
       " NaN  NaN  NaN  NaN  NaN  NaN  NaN  NaN     NaN  NaN  NaN  NaN  NaN  NaN  NaN\n",
       " NaN  NaN  NaN  NaN  NaN  NaN  NaN  NaN  …  NaN  NaN  NaN  NaN  NaN  NaN  NaN\n",
       " NaN  NaN  NaN  NaN  NaN  NaN  NaN  NaN     NaN  NaN  NaN  NaN  NaN  NaN  NaN\n",
       " NaN  NaN  NaN  NaN  NaN  NaN  NaN  NaN     NaN  NaN  NaN  NaN  NaN  NaN  NaN\n",
       " NaN  NaN  NaN  NaN  NaN  NaN  NaN  NaN     NaN  NaN  NaN  NaN  NaN  NaN  NaN\n",
       " NaN  NaN  NaN  NaN  NaN  NaN  NaN  NaN     NaN  NaN  NaN  NaN  NaN  NaN  NaN\n",
       " NaN  NaN  NaN  NaN  NaN  NaN  NaN  NaN  …  NaN  NaN  NaN  NaN  NaN  NaN  NaN\n",
       " NaN  NaN  NaN  NaN  NaN  NaN  NaN  NaN     NaN  NaN  NaN  NaN  NaN  NaN  NaN\n",
       " NaN  NaN  NaN  NaN  NaN  NaN  NaN  NaN     NaN  NaN  NaN  NaN  NaN  NaN  NaN\n",
       "   ⋮                        ⋮            ⋱                   ⋮            \n",
       " NaN  NaN  NaN  NaN  NaN  NaN  NaN  NaN  …  NaN  NaN  NaN  NaN  NaN  NaN  NaN\n",
       " NaN  NaN  NaN  NaN  NaN  NaN  NaN  NaN     NaN  NaN  NaN  NaN  NaN  NaN  NaN\n",
       " NaN  NaN  NaN  NaN  NaN  NaN  NaN  NaN     NaN  NaN  NaN  NaN  NaN  NaN  NaN\n",
       " NaN  NaN  NaN  NaN  NaN  NaN  NaN  NaN     NaN  NaN  NaN  NaN  NaN  NaN  NaN\n",
       " NaN  NaN  NaN  NaN  NaN  NaN  NaN  NaN     NaN  NaN  NaN  NaN  NaN  NaN  NaN\n",
       " NaN  NaN  NaN  NaN  NaN  NaN  NaN  NaN  …  NaN  NaN  NaN  NaN  NaN  NaN  NaN\n",
       " NaN  NaN  NaN  NaN  NaN  NaN  NaN  NaN     NaN  NaN  NaN  NaN  NaN  NaN  NaN\n",
       " NaN  NaN  NaN  NaN  NaN  NaN  NaN  NaN     NaN  NaN  NaN  NaN  NaN  NaN  NaN\n",
       " NaN  NaN  NaN  NaN  NaN  NaN  NaN  NaN     NaN  NaN  NaN  NaN  NaN  NaN  NaN\n",
       " NaN  NaN  NaN  NaN  NaN  NaN  NaN  NaN     NaN  NaN  NaN  NaN  NaN  NaN  NaN\n",
       " NaN  NaN  NaN  NaN  NaN  NaN  NaN  NaN  …  NaN  NaN  NaN  NaN  NaN  NaN  NaN\n",
       " NaN  NaN  NaN  NaN  NaN  NaN  NaN  NaN     NaN  NaN  NaN  NaN  NaN  NaN  NaN\n",
       "\n",
       "[:, :, 2] =\n",
       " NaN  NaN  NaN  NaN  NaN  NaN  NaN  NaN  …  NaN  NaN  NaN  NaN  NaN  NaN  NaN\n",
       " NaN  NaN  NaN  NaN  NaN  NaN  NaN  NaN     NaN  NaN  NaN  NaN  NaN  NaN  NaN\n",
       " NaN  NaN  NaN  NaN  NaN  NaN  NaN  NaN     NaN  NaN  NaN  NaN  NaN  NaN  NaN\n",
       " NaN  NaN  NaN  NaN  NaN  NaN  NaN  NaN     NaN  NaN  NaN  NaN  NaN  NaN  NaN\n",
       " NaN  NaN  NaN  NaN  NaN  NaN  NaN  NaN     NaN  NaN  NaN  NaN  NaN  NaN  NaN\n",
       " NaN  NaN  NaN  NaN  NaN  NaN  NaN  NaN  …  NaN  NaN  NaN  NaN  NaN  NaN  NaN\n",
       " NaN  NaN  NaN  NaN  NaN  NaN  NaN  NaN     NaN  NaN  NaN  NaN  NaN  NaN  NaN\n",
       " NaN  NaN  NaN  NaN  NaN  NaN  NaN  NaN     NaN  NaN  NaN  NaN  NaN  NaN  NaN\n",
       " NaN  NaN  NaN  NaN  NaN  NaN  NaN  NaN     NaN  NaN  NaN  NaN  NaN  NaN  NaN\n",
       " NaN  NaN  NaN  NaN  NaN  NaN  NaN  NaN     NaN  NaN  NaN  NaN  NaN  NaN  NaN\n",
       " NaN  NaN  NaN  NaN  NaN  NaN  NaN  NaN  …  NaN  NaN  NaN  NaN  NaN  NaN  NaN\n",
       " NaN  NaN  NaN  NaN  NaN  NaN  NaN  NaN     NaN  NaN  NaN  NaN  NaN  NaN  NaN\n",
       " NaN  NaN  NaN  NaN  NaN  NaN  NaN  NaN     NaN  NaN  NaN  NaN  NaN  NaN  NaN\n",
       "   ⋮                        ⋮            ⋱                   ⋮            \n",
       " NaN  NaN  NaN  NaN  NaN  NaN  NaN  NaN  …  NaN  NaN  NaN  NaN  NaN  NaN  NaN\n",
       " NaN  NaN  NaN  NaN  NaN  NaN  NaN  NaN     NaN  NaN  NaN  NaN  NaN  NaN  NaN\n",
       " NaN  NaN  NaN  NaN  NaN  NaN  NaN  NaN     NaN  NaN  NaN  NaN  NaN  NaN  NaN\n",
       " NaN  NaN  NaN  NaN  NaN  NaN  NaN  NaN     NaN  NaN  NaN  NaN  NaN  NaN  NaN\n",
       " NaN  NaN  NaN  NaN  NaN  NaN  NaN  NaN     NaN  NaN  NaN  NaN  NaN  NaN  NaN\n",
       " NaN  NaN  NaN  NaN  NaN  NaN  NaN  NaN  …  NaN  NaN  NaN  NaN  NaN  NaN  NaN\n",
       " NaN  NaN  NaN  NaN  NaN  NaN  NaN  NaN     NaN  NaN  NaN  NaN  NaN  NaN  NaN\n",
       " NaN  NaN  NaN  NaN  NaN  NaN  NaN  NaN     NaN  NaN  NaN  NaN  NaN  NaN  NaN\n",
       " NaN  NaN  NaN  NaN  NaN  NaN  NaN  NaN     NaN  NaN  NaN  NaN  NaN  NaN  NaN\n",
       " NaN  NaN  NaN  NaN  NaN  NaN  NaN  NaN     NaN  NaN  NaN  NaN  NaN  NaN  NaN\n",
       " NaN  NaN  NaN  NaN  NaN  NaN  NaN  NaN  …  NaN  NaN  NaN  NaN  NaN  NaN  NaN\n",
       " NaN  NaN  NaN  NaN  NaN  NaN  NaN  NaN     NaN  NaN  NaN  NaN  NaN  NaN  NaN\n",
       "\n",
       "[:, :, 3] =\n",
       " NaN  NaN  NaN  NaN  NaN  NaN  NaN  NaN  …  NaN  NaN  NaN  NaN  NaN  NaN  NaN\n",
       " NaN  NaN  NaN  NaN  NaN  NaN  NaN  NaN     NaN  NaN  NaN  NaN  NaN  NaN  NaN\n",
       " NaN  NaN  NaN  NaN  NaN  NaN  NaN  NaN     NaN  NaN  NaN  NaN  NaN  NaN  NaN\n",
       " NaN  NaN  NaN  NaN  NaN  NaN  NaN  NaN     NaN  NaN  NaN  NaN  NaN  NaN  NaN\n",
       " NaN  NaN  NaN  NaN  NaN  NaN  NaN  NaN     NaN  NaN  NaN  NaN  NaN  NaN  NaN\n",
       " NaN  NaN  NaN  NaN  NaN  NaN  NaN  NaN  …  NaN  NaN  NaN  NaN  NaN  NaN  NaN\n",
       " NaN  NaN  NaN  NaN  NaN  NaN  NaN  NaN     NaN  NaN  NaN  NaN  NaN  NaN  NaN\n",
       " NaN  NaN  NaN  NaN  NaN  NaN  NaN  NaN     NaN  NaN  NaN  NaN  NaN  NaN  NaN\n",
       " NaN  NaN  NaN  NaN  NaN  NaN  NaN  NaN     NaN  NaN  NaN  NaN  NaN  NaN  NaN\n",
       " NaN  NaN  NaN  NaN  NaN  NaN  NaN  NaN     NaN  NaN  NaN  NaN  NaN  NaN  NaN\n",
       " NaN  NaN  NaN  NaN  NaN  NaN  NaN  NaN  …  NaN  NaN  NaN  NaN  NaN  NaN  NaN\n",
       " NaN  NaN  NaN  NaN  NaN  NaN  NaN  NaN     NaN  NaN  NaN  NaN  NaN  NaN  NaN\n",
       " NaN  NaN  NaN  NaN  NaN  NaN  NaN  NaN     NaN  NaN  NaN  NaN  NaN  NaN  NaN\n",
       "   ⋮                        ⋮            ⋱                   ⋮            \n",
       " NaN  NaN  NaN  NaN  NaN  NaN  NaN  NaN  …  NaN  NaN  NaN  NaN  NaN  NaN  NaN\n",
       " NaN  NaN  NaN  NaN  NaN  NaN  NaN  NaN     NaN  NaN  NaN  NaN  NaN  NaN  NaN\n",
       " NaN  NaN  NaN  NaN  NaN  NaN  NaN  NaN     NaN  NaN  NaN  NaN  NaN  NaN  NaN\n",
       " NaN  NaN  NaN  NaN  NaN  NaN  NaN  NaN     NaN  NaN  NaN  NaN  NaN  NaN  NaN\n",
       " NaN  NaN  NaN  NaN  NaN  NaN  NaN  NaN     NaN  NaN  NaN  NaN  NaN  NaN  NaN\n",
       " NaN  NaN  NaN  NaN  NaN  NaN  NaN  NaN  …  NaN  NaN  NaN  NaN  NaN  NaN  NaN\n",
       " NaN  NaN  NaN  NaN  NaN  NaN  NaN  NaN     NaN  NaN  NaN  NaN  NaN  NaN  NaN\n",
       " NaN  NaN  NaN  NaN  NaN  NaN  NaN  NaN     NaN  NaN  NaN  NaN  NaN  NaN  NaN\n",
       " NaN  NaN  NaN  NaN  NaN  NaN  NaN  NaN     NaN  NaN  NaN  NaN  NaN  NaN  NaN\n",
       " NaN  NaN  NaN  NaN  NaN  NaN  NaN  NaN     NaN  NaN  NaN  NaN  NaN  NaN  NaN\n",
       " NaN  NaN  NaN  NaN  NaN  NaN  NaN  NaN  …  NaN  NaN  NaN  NaN  NaN  NaN  NaN\n",
       " NaN  NaN  NaN  NaN  NaN  NaN  NaN  NaN     NaN  NaN  NaN  NaN  NaN  NaN  NaN\n",
       "\n",
       ";;; … \n",
       "\n",
       "[:, :, 510] =\n",
       " NaN  NaN  NaN  NaN  NaN  NaN  NaN  NaN  …  NaN  NaN  NaN  NaN  NaN  NaN  NaN\n",
       " NaN  NaN  NaN  NaN  NaN  NaN  NaN  NaN     NaN  NaN  NaN  NaN  NaN  NaN  NaN\n",
       " NaN  NaN  NaN  NaN  NaN  NaN  NaN  NaN     NaN  NaN  NaN  NaN  NaN  NaN  NaN\n",
       " NaN  NaN  NaN  NaN  NaN  NaN  NaN  NaN     NaN  NaN  NaN  NaN  NaN  NaN  NaN\n",
       " NaN  NaN  NaN  NaN  NaN  NaN  NaN  NaN     NaN  NaN  NaN  NaN  NaN  NaN  NaN\n",
       " NaN  NaN  NaN  NaN  NaN  NaN  NaN  NaN  …  NaN  NaN  NaN  NaN  NaN  NaN  NaN\n",
       " NaN  NaN  NaN  NaN  NaN  NaN  NaN  NaN     NaN  NaN  NaN  NaN  NaN  NaN  NaN\n",
       " NaN  NaN  NaN  NaN  NaN  NaN  NaN  NaN     NaN  NaN  NaN  NaN  NaN  NaN  NaN\n",
       " NaN  NaN  NaN  NaN  NaN  NaN  NaN  NaN     NaN  NaN  NaN  NaN  NaN  NaN  NaN\n",
       " NaN  NaN  NaN  NaN  NaN  NaN  NaN  NaN     NaN  NaN  NaN  NaN  NaN  NaN  NaN\n",
       " NaN  NaN  NaN  NaN  NaN  NaN  NaN  NaN  …  NaN  NaN  NaN  NaN  NaN  NaN  NaN\n",
       " NaN  NaN  NaN  NaN  NaN  NaN  NaN  NaN     NaN  NaN  NaN  NaN  NaN  NaN  NaN\n",
       " NaN  NaN  NaN  NaN  NaN  NaN  NaN  NaN     NaN  NaN  NaN  NaN  NaN  NaN  NaN\n",
       "   ⋮                        ⋮            ⋱                   ⋮            \n",
       " NaN  NaN  NaN  NaN  NaN  NaN  NaN  NaN  …  NaN  NaN  NaN  NaN  NaN  NaN  NaN\n",
       " NaN  NaN  NaN  NaN  NaN  NaN  NaN  NaN     NaN  NaN  NaN  NaN  NaN  NaN  NaN\n",
       " NaN  NaN  NaN  NaN  NaN  NaN  NaN  NaN     NaN  NaN  NaN  NaN  NaN  NaN  NaN\n",
       " NaN  NaN  NaN  NaN  NaN  NaN  NaN  NaN     NaN  NaN  NaN  NaN  NaN  NaN  NaN\n",
       " NaN  NaN  NaN  NaN  NaN  NaN  NaN  NaN     NaN  NaN  NaN  NaN  NaN  NaN  NaN\n",
       " NaN  NaN  NaN  NaN  NaN  NaN  NaN  NaN  …  NaN  NaN  NaN  NaN  NaN  NaN  NaN\n",
       " NaN  NaN  NaN  NaN  NaN  NaN  NaN  NaN     NaN  NaN  NaN  NaN  NaN  NaN  NaN\n",
       " NaN  NaN  NaN  NaN  NaN  NaN  NaN  NaN     NaN  NaN  NaN  NaN  NaN  NaN  NaN\n",
       " NaN  NaN  NaN  NaN  NaN  NaN  NaN  NaN     NaN  NaN  NaN  NaN  NaN  NaN  NaN\n",
       " NaN  NaN  NaN  NaN  NaN  NaN  NaN  NaN     NaN  NaN  NaN  NaN  NaN  NaN  NaN\n",
       " NaN  NaN  NaN  NaN  NaN  NaN  NaN  NaN  …  NaN  NaN  NaN  NaN  NaN  NaN  NaN\n",
       " NaN  NaN  NaN  NaN  NaN  NaN  NaN  NaN     NaN  NaN  NaN  NaN  NaN  NaN  NaN\n",
       "\n",
       "[:, :, 511] =\n",
       " NaN  NaN  NaN  NaN  NaN  NaN  NaN  NaN  …  NaN  NaN  NaN  NaN  NaN  NaN  NaN\n",
       " NaN  NaN  NaN  NaN  NaN  NaN  NaN  NaN     NaN  NaN  NaN  NaN  NaN  NaN  NaN\n",
       " NaN  NaN  NaN  NaN  NaN  NaN  NaN  NaN     NaN  NaN  NaN  NaN  NaN  NaN  NaN\n",
       " NaN  NaN  NaN  NaN  NaN  NaN  NaN  NaN     NaN  NaN  NaN  NaN  NaN  NaN  NaN\n",
       " NaN  NaN  NaN  NaN  NaN  NaN  NaN  NaN     NaN  NaN  NaN  NaN  NaN  NaN  NaN\n",
       " NaN  NaN  NaN  NaN  NaN  NaN  NaN  NaN  …  NaN  NaN  NaN  NaN  NaN  NaN  NaN\n",
       " NaN  NaN  NaN  NaN  NaN  NaN  NaN  NaN     NaN  NaN  NaN  NaN  NaN  NaN  NaN\n",
       " NaN  NaN  NaN  NaN  NaN  NaN  NaN  NaN     NaN  NaN  NaN  NaN  NaN  NaN  NaN\n",
       " NaN  NaN  NaN  NaN  NaN  NaN  NaN  NaN     NaN  NaN  NaN  NaN  NaN  NaN  NaN\n",
       " NaN  NaN  NaN  NaN  NaN  NaN  NaN  NaN     NaN  NaN  NaN  NaN  NaN  NaN  NaN\n",
       " NaN  NaN  NaN  NaN  NaN  NaN  NaN  NaN  …  NaN  NaN  NaN  NaN  NaN  NaN  NaN\n",
       " NaN  NaN  NaN  NaN  NaN  NaN  NaN  NaN     NaN  NaN  NaN  NaN  NaN  NaN  NaN\n",
       " NaN  NaN  NaN  NaN  NaN  NaN  NaN  NaN     NaN  NaN  NaN  NaN  NaN  NaN  NaN\n",
       "   ⋮                        ⋮            ⋱                   ⋮            \n",
       " NaN  NaN  NaN  NaN  NaN  NaN  NaN  NaN  …  NaN  NaN  NaN  NaN  NaN  NaN  NaN\n",
       " NaN  NaN  NaN  NaN  NaN  NaN  NaN  NaN     NaN  NaN  NaN  NaN  NaN  NaN  NaN\n",
       " NaN  NaN  NaN  NaN  NaN  NaN  NaN  NaN     NaN  NaN  NaN  NaN  NaN  NaN  NaN\n",
       " NaN  NaN  NaN  NaN  NaN  NaN  NaN  NaN     NaN  NaN  NaN  NaN  NaN  NaN  NaN\n",
       " NaN  NaN  NaN  NaN  NaN  NaN  NaN  NaN     NaN  NaN  NaN  NaN  NaN  NaN  NaN\n",
       " NaN  NaN  NaN  NaN  NaN  NaN  NaN  NaN  …  NaN  NaN  NaN  NaN  NaN  NaN  NaN\n",
       " NaN  NaN  NaN  NaN  NaN  NaN  NaN  NaN     NaN  NaN  NaN  NaN  NaN  NaN  NaN\n",
       " NaN  NaN  NaN  NaN  NaN  NaN  NaN  NaN     NaN  NaN  NaN  NaN  NaN  NaN  NaN\n",
       " NaN  NaN  NaN  NaN  NaN  NaN  NaN  NaN     NaN  NaN  NaN  NaN  NaN  NaN  NaN\n",
       " NaN  NaN  NaN  NaN  NaN  NaN  NaN  NaN     NaN  NaN  NaN  NaN  NaN  NaN  NaN\n",
       " NaN  NaN  NaN  NaN  NaN  NaN  NaN  NaN  …  NaN  NaN  NaN  NaN  NaN  NaN  NaN\n",
       " NaN  NaN  NaN  NaN  NaN  NaN  NaN  NaN     NaN  NaN  NaN  NaN  NaN  NaN  NaN\n",
       "\n",
       "[:, :, 512] =\n",
       " NaN  NaN  NaN  NaN  NaN  NaN  NaN  NaN  …  NaN  NaN  NaN  NaN  NaN  NaN  NaN\n",
       " NaN  NaN  NaN  NaN  NaN  NaN  NaN  NaN     NaN  NaN  NaN  NaN  NaN  NaN  NaN\n",
       " NaN  NaN  NaN  NaN  NaN  NaN  NaN  NaN     NaN  NaN  NaN  NaN  NaN  NaN  NaN\n",
       " NaN  NaN  NaN  NaN  NaN  NaN  NaN  NaN     NaN  NaN  NaN  NaN  NaN  NaN  NaN\n",
       " NaN  NaN  NaN  NaN  NaN  NaN  NaN  NaN     NaN  NaN  NaN  NaN  NaN  NaN  NaN\n",
       " NaN  NaN  NaN  NaN  NaN  NaN  NaN  NaN  …  NaN  NaN  NaN  NaN  NaN  NaN  NaN\n",
       " NaN  NaN  NaN  NaN  NaN  NaN  NaN  NaN     NaN  NaN  NaN  NaN  NaN  NaN  NaN\n",
       " NaN  NaN  NaN  NaN  NaN  NaN  NaN  NaN     NaN  NaN  NaN  NaN  NaN  NaN  NaN\n",
       " NaN  NaN  NaN  NaN  NaN  NaN  NaN  NaN     NaN  NaN  NaN  NaN  NaN  NaN  NaN\n",
       " NaN  NaN  NaN  NaN  NaN  NaN  NaN  NaN     NaN  NaN  NaN  NaN  NaN  NaN  NaN\n",
       " NaN  NaN  NaN  NaN  NaN  NaN  NaN  NaN  …  NaN  NaN  NaN  NaN  NaN  NaN  NaN\n",
       " NaN  NaN  NaN  NaN  NaN  NaN  NaN  NaN     NaN  NaN  NaN  NaN  NaN  NaN  NaN\n",
       " NaN  NaN  NaN  NaN  NaN  NaN  NaN  NaN     NaN  NaN  NaN  NaN  NaN  NaN  NaN\n",
       "   ⋮                        ⋮            ⋱                   ⋮            \n",
       " NaN  NaN  NaN  NaN  NaN  NaN  NaN  NaN  …  NaN  NaN  NaN  NaN  NaN  NaN  NaN\n",
       " NaN  NaN  NaN  NaN  NaN  NaN  NaN  NaN     NaN  NaN  NaN  NaN  NaN  NaN  NaN\n",
       " NaN  NaN  NaN  NaN  NaN  NaN  NaN  NaN     NaN  NaN  NaN  NaN  NaN  NaN  NaN\n",
       " NaN  NaN  NaN  NaN  NaN  NaN  NaN  NaN     NaN  NaN  NaN  NaN  NaN  NaN  NaN\n",
       " NaN  NaN  NaN  NaN  NaN  NaN  NaN  NaN     NaN  NaN  NaN  NaN  NaN  NaN  NaN\n",
       " NaN  NaN  NaN  NaN  NaN  NaN  NaN  NaN  …  NaN  NaN  NaN  NaN  NaN  NaN  NaN\n",
       " NaN  NaN  NaN  NaN  NaN  NaN  NaN  NaN     NaN  NaN  NaN  NaN  NaN  NaN  NaN\n",
       " NaN  NaN  NaN  NaN  NaN  NaN  NaN  NaN     NaN  NaN  NaN  NaN  NaN  NaN  NaN\n",
       " NaN  NaN  NaN  NaN  NaN  NaN  NaN  NaN     NaN  NaN  NaN  NaN  NaN  NaN  NaN\n",
       " NaN  NaN  NaN  NaN  NaN  NaN  NaN  NaN     NaN  NaN  NaN  NaN  NaN  NaN  NaN\n",
       " NaN  NaN  NaN  NaN  NaN  NaN  NaN  NaN  …  NaN  NaN  NaN  NaN  NaN  NaN  NaN\n",
       " NaN  NaN  NaN  NaN  NaN  NaN  NaN  NaN     NaN  NaN  NaN  NaN  NaN  NaN  NaN"
      ]
     },
     "execution_count": 50,
     "metadata": {},
     "output_type": "execute_result"
    }
   ],
   "source": [
    "token_embeddings = v.embed(joined_inputs)"
   ]
  },
  {
   "cell_type": "markdown",
   "id": "b958b900-f5a5-43f1-b9c0-25cb743e0ed0",
   "metadata": {
    "jp-MarkdownHeadingCollapsed": true,
    "tags": []
   },
   "source": [
    "# step through second"
   ]
  },
  {
   "cell_type": "code",
   "execution_count": null,
   "id": "920cc0e6-19f2-41d6-8f11-69bf80e5c6e2",
   "metadata": {},
   "outputs": [],
   "source": [
    "v = model;"
   ]
  },
  {
   "cell_type": "code",
   "execution_count": null,
   "id": "365e68dc-15b9-458a-8499-d8cfead31168",
   "metadata": {},
   "outputs": [],
   "source": [
    "pred_trajectory = reshape(reconstructed[1:end-1, :, :], (joined_dimension, t, b))"
   ]
  },
  {
   "cell_type": "code",
   "execution_count": null,
   "id": "bac909ed-cf33-4fc4-a482-a2912cd7fa59",
   "metadata": {},
   "outputs": [],
   "source": [
    "pred_terminals = reshape(reconstructed[end, :, :], 1,size(reconstructed)[2:end]...)"
   ]
  },
  {
   "cell_type": "code",
   "execution_count": null,
   "id": "212b8ea4-a232-4abe-900e-96fe52ac3f92",
   "metadata": {},
   "outputs": [],
   "source": [
    "weights = cat(\n",
    "            atype(ones(2)) .* v.position_weight,\n",
    "            atype(ones(v.observation_dim - 2)),\n",
    "            atype(ones(v.action_dim)) .* v.action_weight,\n",
    "            atype(ones(1)) .* v.reward_weight,\n",
    "            atype(ones(1)) .* v.value_weight,\n",
    "            dims=1\n",
    "        )"
   ]
  },
  {
   "cell_type": "code",
   "execution_count": null,
   "id": "bbd6a38a-ca51-4e80-ae59-bc3568292eb4",
   "metadata": {},
   "outputs": [],
   "source": [
    "mse = mse_loss(pred_trajectory, joined_inputs, reduction=\"none\") .* reshape(weights, (:, 1, 1))"
   ]
  },
  {
   "cell_type": "code",
   "execution_count": null,
   "id": "2a1c57aa-b2b8-4c71-a581-98c191fe4f85",
   "metadata": {},
   "outputs": [],
   "source": [
    "function binary_cross_entropy(probs,labels; reduction=\"mean\")\n",
    "    log_pos = atype(clamp.(cputype(log.(probs)), -100.0f0, Inf))\n",
    "    log_neg = atype(clamp.(cputype(log.(1 .- probs)), -100.0f0, Inf))\n",
    "    loss = -(labels .* log_pos .+ (1 .- labels) .* log_neg)\n",
    "    if reduction == \"mean\"\n",
    "        mean(loss)\n",
    "    elseif reduction == \"sum\"\n",
    "        sum(loss)\n",
    "    elseif reduction == \"none\"\n",
    "        return loss\n",
    "    end\n",
    "end"
   ]
  },
  {
   "cell_type": "code",
   "execution_count": null,
   "id": "556fe380-14be-4cdf-8648-feb672ab8149",
   "metadata": {},
   "outputs": [],
   "source": [
    "check(mse)"
   ]
  },
  {
   "cell_type": "code",
   "execution_count": null,
   "id": "39ee226c-28f7-40cf-84fa-92d2fcbee2bf",
   "metadata": {},
   "outputs": [],
   "source": [
    "cross_entropy = binary_cross_entropy(pred_terminals, atype(clamp.(convert.(Float32, cputype(terminals)),0.0f0, 1.0f0)))"
   ]
  },
  {
   "cell_type": "code",
   "execution_count": null,
   "id": "834e2927-3cba-4710-bb77-9de095b44d8a",
   "metadata": {},
   "outputs": [],
   "source": [
    "labels=atype(clamp.(convert.(Float32, cputype(terminals)),0.0f0, 1.0f0));"
   ]
  },
  {
   "cell_type": "code",
   "execution_count": null,
   "id": "7253b22b-f17a-4fd4-8660-ce53cb9fd6f5",
   "metadata": {},
   "outputs": [],
   "source": [
    "labels .* log.(pred_terminals)"
   ]
  },
  {
   "cell_type": "code",
   "execution_count": null,
   "id": "f9be3cb6-047b-480d-b410-f6c02be09d09",
   "metadata": {},
   "outputs": [],
   "source": [
    "x = (1 .- labels) .* log.(1 .- pred_terminals);"
   ]
  },
  {
   "cell_type": "code",
   "execution_count": null,
   "id": "13c32fc5-e176-4a96-8db0-6517a34cbb0f",
   "metadata": {},
   "outputs": [],
   "source": [
    "pred_terminals[1,7,114]"
   ]
  },
  {
   "cell_type": "code",
   "execution_count": null,
   "id": "425aa61a-c360-4462-9bd4-95c151e9541e",
   "metadata": {},
   "outputs": [],
   "source": [
    "?clamp"
   ]
  },
  {
   "cell_type": "code",
   "execution_count": null,
   "id": "0688d90f-f8a4-4766-affa-c96e710a76ab",
   "metadata": {},
   "outputs": [],
   "source": [
    "log_clamp(x) = log(x) < -100.0f0 ? -100.0f0 : log(x)"
   ]
  },
  {
   "cell_type": "code",
   "execution_count": null,
   "id": "dcfc7f9c-c77f-4f97-9af8-61f81d07ed07",
   "metadata": {},
   "outputs": [],
   "source": [
    "clamp.(pred_terminals, -100.0f0, Inf)"
   ]
  },
  {
   "cell_type": "code",
   "execution_count": null,
   "id": "7143cad0-5843-4540-8a27-497e46261d11",
   "metadata": {},
   "outputs": [],
   "source": [
    "log_clamp.(1 .- pred_terminals)"
   ]
  },
  {
   "cell_type": "code",
   "execution_count": null,
   "id": "492dcc22-c041-410a-b2dc-f43e0e911f3d",
   "metadata": {},
   "outputs": [],
   "source": [
    "findall(x->isnan(x), cputype(x))"
   ]
  },
  {
   "cell_type": "markdown",
   "id": "a69025c2-2e37-4736-a0b9-86d378645254",
   "metadata": {
    "jp-MarkdownHeadingCollapsed": true,
    "tags": []
   },
   "source": [
    "# step through"
   ]
  },
  {
   "cell_type": "code",
   "execution_count": null,
   "id": "e99b9c04-accb-4a29-b48b-9d7a4d6cc05f",
   "metadata": {},
   "outputs": [],
   "source": [
    "v = model;"
   ]
  },
  {
   "cell_type": "code",
   "execution_count": null,
   "id": "9f9eb5f8-aa13-40cb-971a-e62f9baa0d9f",
   "metadata": {},
   "outputs": [],
   "source": [
    "joined_dimension, t, b = size(joined_inputs)\n",
    "padded = repeat_broadcast(v.padding_vector, 1, t, b)\n",
    "\n",
    "if !(terminals === nothing)\n",
    "    terminal_mask = repeat_broadcast(deepcopy(1 .- terminals), size(joined_inputs, 1), 1, 1)\n",
    "    joined_inputs = joined_inputs .* terminal_mask .+ padded .* (1 .- terminal_mask)\n",
    "end\n",
    "state = joined_inputs[1:v.observation_dim, 1, :]"
   ]
  },
  {
   "cell_type": "code",
   "execution_count": null,
   "id": "cfc8ea4b-529c-4807-8bd6-c4b0d8662d27",
   "metadata": {},
   "outputs": [],
   "source": [
    "joined_inputs = cat(joined_inputs, terminals, dims=1);\n",
    "state = state;"
   ]
  },
  {
   "cell_type": "code",
   "execution_count": null,
   "id": "88e1d450-02d8-49be-8d57-f9caab0395b2",
   "metadata": {},
   "outputs": [],
   "source": [
    "check(joined_inputs)"
   ]
  },
  {
   "cell_type": "code",
   "execution_count": null,
   "id": "6d956b04-131c-4b58-947b-6b0f185cd7a7",
   "metadata": {},
   "outputs": [],
   "source": [
    "v = model.model;"
   ]
  },
  {
   "cell_type": "code",
   "execution_count": null,
   "id": "047ee846-9a84-45cc-bc1b-68d06b626ba7",
   "metadata": {},
   "outputs": [],
   "source": [
    "token_embeddings = v.embed(joined_inputs)\n",
    "position_embeddings = v.pos_emb[:, 1:t, :] \n",
    "x_emb = v.drop(token_embeddings .+ position_embeddings)"
   ]
  },
  {
   "cell_type": "code",
   "execution_count": null,
   "id": "a3072df4-f97d-476e-b58b-bfa66e041389",
   "metadata": {},
   "outputs": [],
   "source": [
    "check(x_emb)"
   ]
  },
  {
   "cell_type": "code",
   "execution_count": null,
   "id": "53875b68-fe25-4692-89b2-3549ab0a78e6",
   "metadata": {},
   "outputs": [],
   "source": [
    "x_enc = v.encoder(x_emb)"
   ]
  },
  {
   "cell_type": "markdown",
   "id": "5b552fa8-bc64-48b2-8dcd-2b63e8fbcd43",
   "metadata": {
    "tags": []
   },
   "source": [
    "## Attention"
   ]
  },
  {
   "cell_type": "code",
   "execution_count": null,
   "id": "de59ef8f-82ff-4df6-b22b-013989e3d1bf",
   "metadata": {},
   "outputs": [],
   "source": [
    "c=v.encoder.layers[1].attn;\n",
    "x=ln1_out;"
   ]
  },
  {
   "cell_type": "code",
   "execution_count": null,
   "id": "611023f8-9f5e-44f8-85fa-b6be71a30e77",
   "metadata": {},
   "outputs": [],
   "source": [
    "C, T, B = size(ln1_out)"
   ]
  },
  {
   "cell_type": "code",
   "execution_count": null,
   "id": "9a9fb720-06ab-491d-ae00-390a66ed25c6",
   "metadata": {},
   "outputs": [],
   "source": [
    "k = permutedims(reshape(c.key(x), (C ÷ c.n_head, c.n_head, T, B)), (1, 3, 2, 4));"
   ]
  },
  {
   "cell_type": "code",
   "execution_count": null,
   "id": "d4267705-8c95-4810-8a11-dbc5a7d86ce1",
   "metadata": {},
   "outputs": [],
   "source": [
    "q = permutedims(reshape(c.query(x), (C ÷ c.n_head, c.n_head, T, B)), (1, 3, 2, 4));"
   ]
  },
  {
   "cell_type": "code",
   "execution_count": null,
   "id": "9bed92cb-fe1a-473b-958e-6529eabfd75a",
   "metadata": {},
   "outputs": [],
   "source": [
    "v = permutedims(reshape(c.value(x), (C ÷ c.n_head, c.n_head, T, B)), (1, 3, 2, 4));"
   ]
  },
  {
   "cell_type": "code",
   "execution_count": null,
   "id": "52ef921b-726e-41f0-aed1-2fa20113ea16",
   "metadata": {},
   "outputs": [],
   "source": [
    "att = bmm(permutedims(k, (2,1,3,4)), q) .* Float32(1 / sqrt(size(k, 1)));"
   ]
  },
  {
   "cell_type": "code",
   "execution_count": null,
   "id": "457e691f-32fa-447d-812b-aabf50f9a0d1",
   "metadata": {},
   "outputs": [],
   "source": [
    "att_masked = att .+ repeat_broadcast(atype((c.mask[1:T,1:T] .== 0) * Float32(-Inf)), 1,1,size(att)[end-1:end]...);"
   ]
  },
  {
   "cell_type": "code",
   "execution_count": null,
   "id": "a6e635d8-b3e8-4b3b-a86f-b1d103f3db31",
   "metadata": {},
   "outputs": [],
   "source": [
    "function softmax(w; dims)\n",
    "    w = w .- maximum(w, dims=dims)\n",
    "    probs = exp.(w)\n",
    "    return probs ./ sum(probs, dims=dims)\n",
    "end"
   ]
  },
  {
   "cell_type": "code",
   "execution_count": null,
   "id": "67f2052a-9bb8-4f59-b682-d4141db3ccf0",
   "metadata": {},
   "outputs": [],
   "source": [
    "att_softmax = softmax(att_masked, dims=1)"
   ]
  },
  {
   "cell_type": "code",
   "execution_count": null,
   "id": "1f719211-aaf9-49cb-9659-f4141f4927de",
   "metadata": {},
   "outputs": [],
   "source": [
    "att_masked[:,8,1,1]"
   ]
  },
  {
   "cell_type": "code",
   "execution_count": null,
   "id": "b67d9fc4-6ec7-4d2f-b2d5-7e85c9db11f4",
   "metadata": {},
   "outputs": [],
   "source": [
    "att_softmax[:,8,1,1]"
   ]
  },
  {
   "cell_type": "markdown",
   "id": "f084d837-9618-4180-8440-033ce2283bf7",
   "metadata": {
    "tags": []
   },
   "source": [
    "## Rest"
   ]
  },
  {
   "cell_type": "code",
   "execution_count": null,
   "id": "77e7869c-ea7f-4afb-91bf-4013ffba542e",
   "metadata": {},
   "outputs": [],
   "source": [
    "x_pool = permutedims(v.latent_pooling(permutedims(x_enc, (2, 1, 3))), (2,1,3))"
   ]
  },
  {
   "cell_type": "code",
   "execution_count": null,
   "id": "81d02476-d1ff-43e5-984e-f3e90f833032",
   "metadata": {},
   "outputs": [],
   "source": [
    "x = v.cast_embed(x_pool)"
   ]
  },
  {
   "cell_type": "code",
   "execution_count": null,
   "id": "9b735008-72c3-4cfa-b888-3758fbb47f03",
   "metadata": {},
   "outputs": [],
   "source": [
    "check(x)"
   ]
  },
  {
   "cell_type": "code",
   "execution_count": null,
   "id": "0b3323eb-b438-4beb-846a-2ac29625785f",
   "metadata": {},
   "outputs": [],
   "source": []
  }
 ],
 "metadata": {
  "kernelspec": {
   "display_name": "Julia 1.8.2",
   "language": "julia",
   "name": "julia-1.8"
  },
  "language_info": {
   "file_extension": ".jl",
   "mimetype": "application/julia",
   "name": "julia",
   "version": "1.8.3"
  }
 },
 "nbformat": 4,
 "nbformat_minor": 5
}
