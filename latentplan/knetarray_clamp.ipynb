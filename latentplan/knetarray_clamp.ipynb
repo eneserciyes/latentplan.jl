{
 "cells": [
  {
   "cell_type": "code",
   "execution_count": 1,
   "id": "8dc8db30-51bb-4409-bfb7-a753f28bb3e7",
   "metadata": {},
   "outputs": [
    {
     "name": "stderr",
     "output_type": "stream",
     "text": [
      "\u001b[32m\u001b[1m  Activating\u001b[22m\u001b[39m project at `~/Projects/latentplan.jl`\n"
     ]
    }
   ],
   "source": [
    "import Pkg\n",
    "Pkg.activate(\"..\")\n"
   ]
  },
  {
   "cell_type": "code",
   "execution_count": 3,
   "id": "10bd91ce-7f5b-4302-8dcb-53aa40876a12",
   "metadata": {},
   "outputs": [],
   "source": [
    "using Knet\n",
    "using CUDA"
   ]
  },
  {
   "cell_type": "code",
   "execution_count": 48,
   "id": "cdb65758-6e6e-4446-b133-a2524b7cedac",
   "metadata": {},
   "outputs": [],
   "source": [
    "import Knet.Ops20.relu\n",
    "import Base.Math.clamp"
   ]
  },
  {
   "cell_type": "code",
   "execution_count": 16,
   "id": "38075029-884b-4d85-82b4-ced3135ca8af",
   "metadata": {},
   "outputs": [
    {
     "data": {
      "text/plain": [
       "KnetArray"
      ]
     },
     "execution_count": 16,
     "metadata": {},
     "output_type": "execute_result"
    }
   ],
   "source": [
    "function KnetArray(x::CuArray{T,N}) where {T,N}\n",
    "    p = Base.bitcast(Knet.Cptr, pointer(x))\n",
    "    k = Knet.KnetPtr(p, sizeof(x), Int(device().handle), x) \n",
    "    KnetArray{T,N}(k, size(x))\n",
    "end"
   ]
  },
  {
   "cell_type": "code",
   "execution_count": 26,
   "id": "87c5c78c-5022-469d-b816-cb1a5d16dc8d",
   "metadata": {},
   "outputs": [
    {
     "data": {
      "text/plain": [
       "10×10 Knet.KnetArrays.KnetMatrix{Float32}:\n",
       " 0.683049   0.766974   0.619906  0.796985  …  0.968252  0.498452  0.915062\n",
       " 0.527889   0.446841   0.683464  0.201916     0.344828  0.390409  0.866548\n",
       " 0.561447   0.116531   0.327135  0.367339     0.173769  0.576912  0.390739\n",
       " 0.613648   0.0259174  0.488162  0.709622     0.18652   0.704081  0.591589\n",
       " 0.0525429  0.131312   0.946495  0.70731      0.523747  0.908029  0.0214718\n",
       " 0.736442   0.0560524  0.47045   0.538126  …  0.855571  0.304281  0.394135\n",
       " 0.456228   0.969837   0.753539  0.595684     0.164759  0.705968  0.18111\n",
       " 0.55199    0.822626   0.81882   0.603223     0.195996  0.72688   0.210995\n",
       " 0.630951   0.328847   0.752974  0.269828     0.982766  0.377089  0.127255\n",
       " 0.925757   0.341735   0.966223  0.775777     0.5398    0.481439  0.718391"
      ]
     },
     "execution_count": 26,
     "metadata": {},
     "output_type": "execute_result"
    }
   ],
   "source": [
    "x = KnetArray{Float32}(rand(10,10))"
   ]
  },
  {
   "cell_type": "code",
   "execution_count": 18,
   "id": "877505ba-770c-4ca6-93bb-94eebf8a253c",
   "metadata": {},
   "outputs": [
    {
     "data": {
      "text/plain": [
       "10×10 Knet.KnetArrays.KnetMatrix{Float32}:\n",
       " 0.5       0.525387  0.5       0.5       …  0.5       0.538931  0.5\n",
       " 0.786091  0.5       0.5       0.5          0.888713  0.5       0.5\n",
       " 0.5       0.5       0.612352  0.858553     0.5       0.5       0.813512\n",
       " 0.508942  0.5       0.846685  0.5          0.596829  0.767569  0.5\n",
       " 0.5       0.523146  0.606859  0.651397     0.789887  0.5       0.5\n",
       " 0.5       0.647527  0.917921  0.517445  …  0.5       0.5       0.5\n",
       " 0.974556  0.5       0.921046  0.5          0.5       0.738392  0.834936\n",
       " 0.616743  0.5       0.5       0.619019     0.5       0.5       0.668229\n",
       " 0.5       0.5       0.5       0.5          0.5       0.777226  0.5\n",
       " 0.5       0.5       0.5       0.774463     0.939926  0.919856  0.720092"
      ]
     },
     "execution_count": 18,
     "metadata": {},
     "output_type": "execute_result"
    }
   ],
   "source": [
    "KnetArray(clamp.(CuArray(x), 0.5f0, 1.0f0))"
   ]
  },
  {
   "cell_type": "code",
   "execution_count": 23,
   "id": "738ce888-497d-49fe-a09e-ac0ba9f9b924",
   "metadata": {},
   "outputs": [
    {
     "data": {
      "text/plain": [
       "10×10 Matrix{Float32}:\n",
       " 0.819375   0.579572   0.00104445  …  0.600373  0.00758874  0.642988\n",
       " 0.907414   0.0938323  0.20678        0.262016  0.90714     0.777946\n",
       " 0.469722   0.591381   0.97541        0.708113  0.0651411   0.894889\n",
       " 0.709947   0.267686   0.68665        0.744418  0.674308    0.00481975\n",
       " 0.808484   0.526133   0.042076       0.233976  0.171335    0.922951\n",
       " 0.0931091  0.380405   0.972814    …  0.37886   0.837018    0.972179\n",
       " 0.9631     0.952596   0.489312       0.123626  0.818212    0.334196\n",
       " 0.874123   0.158154   0.0999919      0.552401  0.228191    0.907283\n",
       " 0.710274   0.319345   0.691571       0.195759  0.0946238   0.435144\n",
       " 0.219605   0.425619   0.105131       0.487798  0.962756    0.0262671"
      ]
     },
     "execution_count": 23,
     "metadata": {},
     "output_type": "execute_result"
    }
   ],
   "source": [
    "y = rand(Float32,10,10)"
   ]
  },
  {
   "cell_type": "code",
   "execution_count": 24,
   "id": "2437abc1-49d8-4ca9-9045-32f62bd9eaf1",
   "metadata": {},
   "outputs": [
    {
     "data": {
      "text/plain": [
       "10×10 Matrix{Float32}:\n",
       " 0.819375  0.579572  0.5       0.5       …  0.600373  0.5       0.642988\n",
       " 0.907414  0.5       0.5       0.5          0.5       0.90714   0.777946\n",
       " 0.5       0.591381  0.97541   0.5          0.708113  0.5       0.894889\n",
       " 0.709947  0.5       0.68665   0.592469     0.744418  0.674308  0.5\n",
       " 0.808484  0.526133  0.5       0.5          0.5       0.5       0.922951\n",
       " 0.5       0.5       0.972814  0.981097  …  0.5       0.837018  0.972179\n",
       " 0.9631    0.952596  0.5       0.5          0.5       0.818212  0.5\n",
       " 0.874123  0.5       0.5       0.531506     0.552401  0.5       0.907283\n",
       " 0.710274  0.5       0.691571  0.5          0.5       0.5       0.5\n",
       " 0.5       0.5       0.5       0.5          0.5       0.962756  0.5"
      ]
     },
     "execution_count": 24,
     "metadata": {},
     "output_type": "execute_result"
    }
   ],
   "source": [
    "clamp.(y, 0.5f0, 1.0f0)"
   ]
  },
  {
   "cell_type": "code",
   "execution_count": 35,
   "id": "4adf3059-a03f-4612-8358-ea2405a2d70f",
   "metadata": {},
   "outputs": [
    {
     "data": {
      "text/plain": [
       "clip (generic function with 2 methods)"
      ]
     },
     "execution_count": 35,
     "metadata": {},
     "output_type": "execute_result"
    }
   ],
   "source": [
    "function clip(x::T, lo, hi) where {T<:Real}\n",
    "    x >= hi ? hi : x <= lo ? lo : x \n",
    "end"
   ]
  },
  {
   "cell_type": "code",
   "execution_count": 36,
   "id": "ca517332-ed47-4b9c-93d8-2109156aa658",
   "metadata": {},
   "outputs": [
    {
     "ename": "LoadError",
     "evalue": "TypeError: non-boolean (Knet.KnetArrays.Bcasted{Knet.KnetArrays.KnetMatrix{Float32}}) used in boolean context",
     "output_type": "error",
     "traceback": [
      "TypeError: non-boolean (Knet.KnetArrays.Bcasted{Knet.KnetArrays.KnetMatrix{Float32}}) used in boolean context",
      "",
      "Stacktrace:",
      " [1] clip(x::Knet.KnetArrays.Bcasted{Knet.KnetArrays.KnetMatrix{Float32}}, lo::Knet.KnetArrays.Bcasted{Float32}, hi::Knet.KnetArrays.Bcasted{Float32})",
      "   @ Main ./In[19]:2",
      " [2] broadcasted(::Base.Broadcast.Style{KnetArray}, ::Function, ::Knet.KnetArrays.KnetMatrix{Float32}, ::Float32, ::Float32)",
      "   @ Knet.KnetArrays ~/.julia/packages/Knet/YIFWC/src/knetarrays/broadcast.jl:10",
      " [3] broadcasted(f::Function, arg1::Knet.KnetArrays.KnetMatrix{Float32}, arg2::Float32, args::Float32)",
      "   @ Base.Broadcast ./broadcast.jl:1304",
      " [4] top-level scope",
      "   @ In[36]:1",
      " [5] eval",
      "   @ ./boot.jl:368 [inlined]",
      " [6] include_string(mapexpr::typeof(REPL.softscope), mod::Module, code::String, filename::String)",
      "   @ Base ./loading.jl:1428"
     ]
    }
   ],
   "source": [
    "clip.(x, 0.5f0, 1.0f0)"
   ]
  },
  {
   "cell_type": "code",
   "execution_count": 33,
   "id": "db82f3d6-347e-4d6c-93b8-d402bfc7df11",
   "metadata": {},
   "outputs": [
    {
     "data": {
      "text/plain": [
       "relu (generic function with 7 methods)"
      ]
     },
     "execution_count": 33,
     "metadata": {},
     "output_type": "execute_result"
    }
   ],
   "source": [
    "function relu(x::T; max_value=Inf, negative_slope=0, threshold=0) where {T<:Real}\n",
    "    (x >= max_value ? oftype(x, max_value) :\n",
    "     x >= threshold ? x :\n",
    "     negative_slope == 0 ? zero(T) :\n",
    "     negative_slope * (x - oftype(x, threshold)))\n",
    "end"
   ]
  },
  {
   "cell_type": "code",
   "execution_count": 34,
   "id": "2a32a48c-790c-44fb-9c1f-cbbf5c3f24a6",
   "metadata": {},
   "outputs": [
    {
     "data": {
      "text/plain": [
       "10×10 Knet.KnetArrays.KnetMatrix{Float32}:\n",
       " 0.683049   0.766974   0.619906  0.796985  …  0.968252  0.498452  0.915062\n",
       " 0.527889   0.446841   0.683464  0.201916     0.344828  0.390409  0.866548\n",
       " 0.561447   0.116531   0.327135  0.367339     0.173769  0.576912  0.390739\n",
       " 0.613648   0.0259174  0.488162  0.709622     0.18652   0.704081  0.591589\n",
       " 0.0525429  0.131312   0.946495  0.70731      0.523747  0.908029  0.0214718\n",
       " 0.736442   0.0560524  0.47045   0.538126  …  0.855571  0.304281  0.394135\n",
       " 0.456228   0.969837   0.753539  0.595684     0.164759  0.705968  0.18111\n",
       " 0.55199    0.822626   0.81882   0.603223     0.195996  0.72688   0.210995\n",
       " 0.630951   0.328847   0.752974  0.269828     0.982766  0.377089  0.127255\n",
       " 0.925757   0.341735   0.966223  0.775777     0.5398    0.481439  0.718391"
      ]
     },
     "execution_count": 34,
     "metadata": {},
     "output_type": "execute_result"
    }
   ],
   "source": [
    "relu.(x)"
   ]
  },
  {
   "cell_type": "code",
   "execution_count": 39,
   "id": "be1f459a-cc7f-4615-ba04-022644d332ce",
   "metadata": {},
   "outputs": [
    {
     "data": {
      "text/plain": [
       "10×10 Knet.KnetArrays.KnetMatrix{Float32}:\n",
       " 0.683049  0.7  0.619906  0.7       0.5       …  0.7       0.5       0.7\n",
       " 0.527889  0.5  0.683464  0.5       0.7          0.5       0.5       0.7\n",
       " 0.561447  0.5  0.5       0.5       0.5          0.5       0.576912  0.5\n",
       " 0.613648  0.5  0.5       0.7       0.7          0.5       0.7       0.591589\n",
       " 0.5       0.5  0.7       0.7       0.5          0.523747  0.7       0.5\n",
       " 0.7       0.5  0.5       0.538126  0.5       …  0.7       0.5       0.5\n",
       " 0.5       0.7  0.7       0.595684  0.683364     0.5       0.7       0.5\n",
       " 0.55199   0.7  0.7       0.603223  0.7          0.5       0.7       0.5\n",
       " 0.630951  0.5  0.7       0.5       0.529006     0.7       0.5       0.5\n",
       " 0.7       0.5  0.7       0.7       0.7          0.5398    0.5       0.7"
      ]
     },
     "execution_count": 39,
     "metadata": {},
     "output_type": "execute_result"
    }
   ],
   "source": [
    "max.(min.(0.7f0, x), 0.5)"
   ]
  },
  {
   "cell_type": "code",
   "execution_count": 49,
   "id": "2cf63118-d4c7-487f-ab47-25d1bc025396",
   "metadata": {},
   "outputs": [
    {
     "data": {
      "text/plain": [
       "clamp (generic function with 12 methods)"
      ]
     },
     "execution_count": 49,
     "metadata": {},
     "output_type": "execute_result"
    }
   ],
   "source": [
    "function clamp(x::KnetArray{T}, lo::T, hi::T) where T\n",
    "    return max.(min.(hi,x),lo)\n",
    "end"
   ]
  },
  {
   "cell_type": "code",
   "execution_count": 50,
   "id": "f5529268-1b3b-4087-8c04-d9d3469f101e",
   "metadata": {},
   "outputs": [
    {
     "data": {
      "text/plain": [
       "10×10 Knet.KnetArrays.KnetMatrix{Float32}:\n",
       " 0.683049  0.7  0.619906  0.7       0.5       …  0.7       0.5       0.7\n",
       " 0.527889  0.5  0.683464  0.5       0.7          0.5       0.5       0.7\n",
       " 0.561447  0.5  0.5       0.5       0.5          0.5       0.576912  0.5\n",
       " 0.613648  0.5  0.5       0.7       0.7          0.5       0.7       0.591589\n",
       " 0.5       0.5  0.7       0.7       0.5          0.523747  0.7       0.5\n",
       " 0.7       0.5  0.5       0.538126  0.5       …  0.7       0.5       0.5\n",
       " 0.5       0.7  0.7       0.595684  0.683364     0.5       0.7       0.5\n",
       " 0.55199   0.7  0.7       0.603223  0.7          0.5       0.7       0.5\n",
       " 0.630951  0.5  0.7       0.5       0.529006     0.7       0.5       0.5\n",
       " 0.7       0.5  0.7       0.7       0.7          0.5398    0.5       0.7"
      ]
     },
     "execution_count": 50,
     "metadata": {},
     "output_type": "execute_result"
    }
   ],
   "source": [
    "clamp(x, 0.5f0, 0.7f0)"
   ]
  },
  {
   "cell_type": "code",
   "execution_count": null,
   "id": "e01a6f2e-67d0-4c24-b0d0-e8ed6d62af4d",
   "metadata": {},
   "outputs": [],
   "source": []
  }
 ],
 "metadata": {
  "kernelspec": {
   "display_name": "Julia 1.8.2",
   "language": "julia",
   "name": "julia-1.8"
  },
  "language_info": {
   "file_extension": ".jl",
   "mimetype": "application/julia",
   "name": "julia",
   "version": "1.8.3"
  }
 },
 "nbformat": 4,
 "nbformat_minor": 5
}
